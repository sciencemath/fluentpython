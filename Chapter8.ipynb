{
 "cells": [
  {
   "cell_type": "code",
   "execution_count": 1,
   "id": "8b5f0ddf-0447-496e-8157-5c4e6588e710",
   "metadata": {},
   "outputs": [],
   "source": [
    "# type annotation (review)\n",
    "from typing import Optional\n",
    "# better to use `None` than an empty string '' because of '' mutability\n",
    "\"\"\"\n",
    "Optional is not a great name, because that annotation does not\n",
    "make the parameter optional. What makes it optional is assigning a\n",
    "default value to the parameter. Optional[str] just means: the type\n",
    "of this parameter may be str or NoneType.\n",
    "\"\"\"\n",
    "def show_count(count: int, singular: str, plural: Optional[str] = None) -> str:\n",
    "    if count == 1:\n",
    "        return f'1 {singular}'\n",
    "    count_str = str(count) if count else 'no'\n",
    "    if not plural:\n",
    "        plural = singular + 's'\n",
    "    return f'{count_str} {plural}'"
   ]
  },
  {
   "cell_type": "code",
   "execution_count": 2,
   "id": "460d8edf-5931-4c91-8a37-f7e38eedce94",
   "metadata": {},
   "outputs": [],
   "source": [
    "# duck/nominal typing\n",
    "class Bird:\n",
    "    pass\n",
    "\n",
    "class Duck(Bird):\n",
    "    def quack(self):\n",
    "        print('Quak!')\n",
    "\n",
    "def alert(birdie):\n",
    "    birdie.quack()\n",
    "\n",
    "def alert_duck(birdie: Duck) -> None:\n",
    "    birdie.quack()\n",
    "\n",
    "def alert_bird(birdie: Bird) -> None:\n",
    "    birdie.quack()"
   ]
  },
  {
   "cell_type": "code",
   "execution_count": 3,
   "id": "cbb60cda-5d1f-4365-9ce0-d586de7c4efa",
   "metadata": {},
   "outputs": [
    {
     "name": "stdout",
     "output_type": "stream",
     "text": [
      "Quak!\n",
      "Quak!\n",
      "Quak!\n"
     ]
    }
   ],
   "source": [
    "daffy = Duck()\n",
    "alert(daffy)\n",
    "alert_duck(daffy)\n",
    "alert_bird(daffy)"
   ]
  },
  {
   "cell_type": "code",
   "execution_count": 4,
   "id": "25dbe7df-cbf5-4c7d-b314-10db4b9ac6d2",
   "metadata": {},
   "outputs": [
    {
     "ename": "AttributeError",
     "evalue": "'Bird' object has no attribute 'quack'",
     "output_type": "error",
     "traceback": [
      "\u001b[0;31m---------------------------------------------------------------------------\u001b[0m",
      "\u001b[0;31mAttributeError\u001b[0m                            Traceback (most recent call last)",
      "Cell \u001b[0;32mIn[4], line 2\u001b[0m\n\u001b[1;32m      1\u001b[0m woody \u001b[38;5;241m=\u001b[39m Bird()\n\u001b[0;32m----> 2\u001b[0m \u001b[43malert\u001b[49m\u001b[43m(\u001b[49m\u001b[43mwoody\u001b[49m\u001b[43m)\u001b[49m\n\u001b[1;32m      3\u001b[0m alert_duck(woody)\n\u001b[1;32m      4\u001b[0m alert_bird(woody)\n",
      "Cell \u001b[0;32mIn[2], line 10\u001b[0m, in \u001b[0;36malert\u001b[0;34m(birdie)\u001b[0m\n\u001b[1;32m      9\u001b[0m \u001b[38;5;28;01mdef\u001b[39;00m \u001b[38;5;21malert\u001b[39m(birdie):\n\u001b[0;32m---> 10\u001b[0m     \u001b[43mbirdie\u001b[49m\u001b[38;5;241;43m.\u001b[39;49m\u001b[43mquack\u001b[49m()\n",
      "\u001b[0;31mAttributeError\u001b[0m: 'Bird' object has no attribute 'quack'"
     ]
    }
   ],
   "source": [
    "# Mypy would help here to catch errors (if we were to use types)\n",
    "# nominal typing detects errors before runtime\n",
    "woody = Bird()\n",
    "alert(woody) # throws, every duck is a bird but not vise versa\n",
    "alert_duck(woody)\n",
    "alert_bird(woody)"
   ]
  },
  {
   "cell_type": "code",
   "execution_count": 5,
   "id": "0d8bcb92-9acc-48a3-ab2f-0ff748a2c291",
   "metadata": {},
   "outputs": [],
   "source": [
    "# above we used plural: Optional[str] = None, which is shortcut for Union[str, None]\n",
    "# also can be written (as of 3.10) as plural: str | None = None\n",
    "\n",
    "# if possible avoid function that return Union types\n",
    "from typing import Union\n",
    "def parse_token(token: str) -> Union[str, float]:\n",
    "    try:\n",
    "        return float(token)\n",
    "    except ValueError:\n",
    "        return token"
   ]
  },
  {
   "cell_type": "code",
   "execution_count": 6,
   "id": "4db646a6-0ed4-4bba-acd1-8e7ef6f4b336",
   "metadata": {},
   "outputs": [],
   "source": [
    "# Union[int, float] is redundant because int is consistent with float\n",
    "# `tokenize` python >= 3.9\n",
    "def tokenize(text: str) -> list[str]:\n",
    "    return text.upper().split()"
   ]
  },
  {
   "cell_type": "code",
   "execution_count": 16,
   "id": "a3737d49-7dee-4103-ab09-9b1f8e20d802",
   "metadata": {},
   "outputs": [],
   "source": [
    "# tuples as records: tuple[str, float, str]\n",
    "# tuples as named fields:\n",
    "# class Coordinate(NamedTuple):\n",
    "#     lat: float\n",
    "#     lon: float\n",
    "\n",
    "# tuples as immuntable sequences: tuple[str, ...] (unspecified lengths)\n",
    "from collections.abc import Sequence\n",
    "\n",
    "def columnize(sequence: Sequence[str], num_columns: int = 0) -> list[tuple[str, ...]]:\n",
    "    if num_columns == 0:\n",
    "        num_columns = round(len(sequence) ** 0.5)\n",
    "    num_rows, remainder = divmod(len(sequence), num_columns)\n",
    "    num_rows += bool(remainder)\n",
    "    return [tuple(sequence[i::num_rows]) for i in range(num_rows)]"
   ]
  },
  {
   "cell_type": "code",
   "execution_count": 17,
   "id": "e3aff0f5-fab9-48f9-b093-0a45ba88ea38",
   "metadata": {},
   "outputs": [
    {
     "data": {
      "text/plain": [
       "[('drake', 'koala', 'yak'),\n",
       " ('fawn', 'lynx', 'zapus'),\n",
       " ('heron', 'tahr'),\n",
       " ('ibex', 'xerus')]"
      ]
     },
     "execution_count": 17,
     "metadata": {},
     "output_type": "execute_result"
    }
   ],
   "source": [
    "animals = 'drake fawn heron ibex koala lynx tahr xerus yak zapus'.split()\n",
    "table = columnize(animals)\n",
    "table"
   ]
  },
  {
   "cell_type": "code",
   "execution_count": 18,
   "id": "32e0e2ad-d039-461b-9c55-276d2c97651a",
   "metadata": {},
   "outputs": [],
   "source": [
    "import sys\n",
    "import re\n",
    "import unicodedata\n",
    "from collections.abc import Iterator\n",
    "\n",
    "RE_WORD = re.compile(r'\\w+')\n",
    "STOP_CODE = sys.maxunicode + 1\n",
    "\n",
    "def tokenize(text: str) -> Iterator[str]:\n",
    "    \"\"\"return iterable of uppercased words\"\"\"\n",
    "    for match in RE_WORD.finditer(text):\n",
    "        yield match.group().upper()\n",
    "\n",
    "def name_index(start: int = 32, end: int = STOP_CODE) -> dict[str, set[str]]:\n",
    "    index: dict[str, set[str]] = {}\n",
    "    for char in (chr(i) for i in range(start, end)):\n",
    "        if name := unicodedata.name(char, ''):\n",
    "            for word in tokenize(name):\n",
    "                index.setdefault(word, set()).add(char)\n",
    "    return index"
   ]
  },
  {
   "cell_type": "code",
   "execution_count": 22,
   "id": "18c7085d-f115-4802-9a79-617885f363c7",
   "metadata": {},
   "outputs": [
    {
     "data": {
      "text/plain": [
       "{'#', '$', '%', '+', '<', '=', '>'}"
      ]
     },
     "execution_count": 22,
     "metadata": {},
     "output_type": "execute_result"
    }
   ],
   "source": [
    "index = name_index(32,65)\n",
    "index['SIGN']"
   ]
  },
  {
   "cell_type": "code",
   "execution_count": 23,
   "id": "060874c1-fdf5-4cde-9a86-d258aa3d6a87",
   "metadata": {},
   "outputs": [
    {
     "data": {
      "text/plain": [
       "{'0', '1', '2', '3', '4', '5', '6', '7', '8', '9'}"
      ]
     },
     "execution_count": 23,
     "metadata": {},
     "output_type": "execute_result"
    }
   ],
   "source": [
    "index['DIGIT']"
   ]
  },
  {
   "cell_type": "code",
   "execution_count": 24,
   "id": "f0ef492c-fb0e-47ba-88ce-e39cd13856a5",
   "metadata": {},
   "outputs": [
    {
     "data": {
      "text/plain": [
       "{'8'}"
      ]
     },
     "execution_count": 24,
     "metadata": {},
     "output_type": "execute_result"
    }
   ],
   "source": [
    "index['DIGIT'] & index['EIGHT']"
   ]
  },
  {
   "cell_type": "code",
   "execution_count": 25,
   "id": "a7546e4b-936a-4eb0-b0d9-9cee22387df7",
   "metadata": {},
   "outputs": [
    {
     "data": {
      "text/plain": [
       "{'SPACE': {' '},\n",
       " 'EXCLAMATION': {'!'},\n",
       " 'MARK': {'!', '\"', '?'},\n",
       " 'QUOTATION': {'\"'},\n",
       " 'NUMBER': {'#'},\n",
       " 'SIGN': {'#', '$', '%', '+', '<', '=', '>'},\n",
       " 'DOLLAR': {'$'},\n",
       " 'PERCENT': {'%'},\n",
       " 'AMPERSAND': {'&'},\n",
       " 'APOSTROPHE': {\"'\"},\n",
       " 'LEFT': {'('},\n",
       " 'PARENTHESIS': {'(', ')'},\n",
       " 'RIGHT': {')'},\n",
       " 'ASTERISK': {'*'},\n",
       " 'PLUS': {'+'},\n",
       " 'COMMA': {','},\n",
       " 'HYPHEN': {'-'},\n",
       " 'MINUS': {'-'},\n",
       " 'FULL': {'.'},\n",
       " 'STOP': {'.'},\n",
       " 'SOLIDUS': {'/'},\n",
       " 'DIGIT': {'0', '1', '2', '3', '4', '5', '6', '7', '8', '9'},\n",
       " 'ZERO': {'0'},\n",
       " 'ONE': {'1'},\n",
       " 'TWO': {'2'},\n",
       " 'THREE': {'3'},\n",
       " 'FOUR': {'4'},\n",
       " 'FIVE': {'5'},\n",
       " 'SIX': {'6'},\n",
       " 'SEVEN': {'7'},\n",
       " 'EIGHT': {'8'},\n",
       " 'NINE': {'9'},\n",
       " 'COLON': {':'},\n",
       " 'SEMICOLON': {';'},\n",
       " 'LESS': {'<'},\n",
       " 'THAN': {'<', '>'},\n",
       " 'EQUALS': {'='},\n",
       " 'GREATER': {'>'},\n",
       " 'QUESTION': {'?'},\n",
       " 'COMMERCIAL': {'@'},\n",
       " 'AT': {'@'}}"
      ]
     },
     "execution_count": 25,
     "metadata": {},
     "output_type": "execute_result"
    }
   ],
   "source": [
    "index"
   ]
  },
  {
   "cell_type": "code",
   "execution_count": 26,
   "id": "1d76f218-2151-41e0-976e-15873312d882",
   "metadata": {},
   "outputs": [
    {
     "data": {
      "text/plain": [
       "'\\nuse abc.Mapping to provide an instance of dict, defaultdict, ChainMap, and UserDict\\nfrom collections.abc import Mapping\\nexample: Mapping[str, int], where as dict[str, int] will work but not for UserDict.\\nits perferred to use an abstact collection type\\n'"
      ]
     },
     "execution_count": 26,
     "metadata": {},
     "output_type": "execute_result"
    }
   ],
   "source": [
    "\"\"\"\n",
    "use abc.Mapping to provide an instance of dict, defaultdict, ChainMap, and UserDict\n",
    "from collections.abc import Mapping\n",
    "example: Mapping[str, int], where as dict[str, int] will work but not for UserDict.\n",
    "its perferred to use an abstact collection type\n",
    "\"\"\""
   ]
  },
  {
   "cell_type": "code",
   "execution_count": 29,
   "id": "fc48d5b4-8fb0-42bd-a69b-83113893dae7",
   "metadata": {},
   "outputs": [
    {
     "data": {
      "text/plain": [
       "'m4d sk1ll3d n00b p0wn3d l33t'"
      ]
     },
     "execution_count": 29,
     "metadata": {},
     "output_type": "execute_result"
    }
   ],
   "source": [
    "\"\"\"\n",
    "Like Sequence, Iterable is best used as a parameter type. It’s too vague as a return\n",
    "type. A function should be more precise about the concrete type it returns.\n",
    "\"\"\"\n",
    "from collections.abc import Iterable\n",
    "from typing import TypeAlias\n",
    "\n",
    "FromTo: TypeAlias = tuple[str, str]\n",
    "def zip_replace(text: str, changes: Iterable[FromTo]) -> str:\n",
    "    for from_, to in changes:\n",
    "        text = text.replace(from_, to)\n",
    "    return text\n",
    "\n",
    "l33t = [('a', '4'), ('e', '3'), ('i', '1'), ('o', '0')]\n",
    "text = 'mad skilled noob powned leet'\n",
    "zip_replace(text, l33t)"
   ]
  },
  {
   "cell_type": "code",
   "execution_count": 30,
   "id": "aba3b275-3fc7-4636-ad81-e0833a59063e",
   "metadata": {},
   "outputs": [],
   "source": [
    "# just like typescript convention we can also use [T] for generics\n",
    "from collections.abc import Sequence\n",
    "from random import shuffle\n",
    "from typing import TypeVar\n",
    "\n",
    "T = TypeVar('T') # this is required here as opposed to Typescript unless a lot of changes to python to accept T\n",
    "\n",
    "def sample(population: Sequence[T], size: int) -> list[T]:\n",
    "    if size < 1:\n",
    "        raise ValueError('size must be >= 1')\n",
    "    result = list(population)\n",
    "    shuffle(result)\n",
    "    return result[:size]"
   ]
  },
  {
   "cell_type": "code",
   "execution_count": 37,
   "id": "f65b9b96-6c36-407f-95ea-0feca86efe2a",
   "metadata": {},
   "outputs": [
    {
     "data": {
      "text/plain": [
       "'red'"
      ]
     },
     "execution_count": 37,
     "metadata": {},
     "output_type": "execute_result"
    }
   ],
   "source": [
    "from collections import Counter\n",
    "from collections.abc import Iterable, Hashable\n",
    "from decimal import Decimal\n",
    "from fractions import Fraction\n",
    "from typing import TypeVar\n",
    "\n",
    "NumberT = TypeVar('NumberT', float, Decimal, Fraction, str)\n",
    "\n",
    "# this is simpler than the one in Python standard library statistics module\n",
    "def mode(data: Iterable[float]) -> float:\n",
    "    pairs = Counter(data).most_common(1)\n",
    "    if len(pairs) == 0:\n",
    "        raise ValueError('no mode for empty data')\n",
    "    return pairs[0][0]\n",
    "\n",
    "mode([1, 1, 2, 3, 3, 3, 3, 4])\n",
    "\n",
    "# we should use generics for different types of iterables (not just floats\n",
    "def mode_improved(data: Iterable[NumberT]) -> NumberT:\n",
    "    pairs = Counter(data).most_common(1)\n",
    "    if len(pairs) == 0:\n",
    "        raise ValueError('no mode for empty data')\n",
    "    return pairs[0][0]\n",
    "\n",
    "mode_improved([\"red\", \"blue\", \"blue\", \"red\", \"green\", \"red\", \"red\"])\n",
    "\n",
    "HashableT = TypeVar('HashableT', bound=Hashable)\n",
    "\n",
    "def mode_hasable(data: Iterable[HashableT]) -> HashableT:\n",
    "    pairs = Counter(data).most_common(1)\n",
    "    if len(pairs) == 0:\n",
    "        raise ValueError('no mode for empty data')\n",
    "    return pairs[0][0]\n",
    "\n",
    "# we can improve the type "
   ]
  },
  {
   "cell_type": "code",
   "execution_count": 38,
   "id": "1d8adf8e-a358-44e2-9f4b-ce96b2a93a45",
   "metadata": {},
   "outputs": [
    {
     "data": {
      "text/plain": [
       "['pear', 'mango', 'kiwi']"
      ]
     },
     "execution_count": 38,
     "metadata": {},
     "output_type": "execute_result"
    }
   ],
   "source": [
    "def top(series: Iterable[T], length: int) -> list[T]:\n",
    "    ordered = sorted(series, reverse=True)\n",
    "    return ordered[:length]\n",
    "\n",
    "top([4,1,5,2,6,7,3], 3)\n",
    "l = 'mango pear apple kiwi banana'.split()\n",
    "top(l, 3)"
   ]
  },
  {
   "cell_type": "code",
   "execution_count": 39,
   "id": "c128f113-1847-43ce-89b5-135ada6ef732",
   "metadata": {},
   "outputs": [
    {
     "data": {
      "text/plain": [
       "[(5, 'mango'), (4, 'pear'), (5, 'apple'), (4, 'kiwi'), (6, 'banana')]"
      ]
     },
     "execution_count": 39,
     "metadata": {},
     "output_type": "execute_result"
    }
   ],
   "source": [
    "l2 = [(len(s), s) for s in l]\n",
    "l2"
   ]
  },
  {
   "cell_type": "code",
   "execution_count": 40,
   "id": "eaacdb28-ee57-4c37-9db5-2be5c951459f",
   "metadata": {},
   "outputs": [
    {
     "data": {
      "text/plain": [
       "[(6, 'banana'), (5, 'mango'), (5, 'apple')]"
      ]
     },
     "execution_count": 40,
     "metadata": {},
     "output_type": "execute_result"
    }
   ],
   "source": [
    "top(l2, 3)"
   ]
  },
  {
   "cell_type": "code",
   "execution_count": 41,
   "id": "2d7fc33d-a497-4583-88d6-d0f72b3853bf",
   "metadata": {},
   "outputs": [],
   "source": [
    "from typing import Protocol, Any\n",
    "class SupportsLessThan(Protocol):\n",
    "    def __lt__(self, other: Any) -> bool:\n",
    "        ..."
   ]
  },
  {
   "cell_type": "code",
   "execution_count": 42,
   "id": "689209c2-df10-49d6-a8ce-9a037c489716",
   "metadata": {},
   "outputs": [],
   "source": [
    "LT = TypeVar('LT', bound=SupportsLessThan)\n",
    "def top_new(series: Iterable[LT], length: int) -> list[LT]:\n",
    "    ordered = sorted(series, reverse=True)\n",
    "    return ordered[:length]"
   ]
  },
  {
   "cell_type": "code",
   "execution_count": 44,
   "id": "d8271eb6-3de1-468c-82b3-d20a05e52ccb",
   "metadata": {},
   "outputs": [
    {
     "name": "stdout",
     "output_type": "stream",
     "text": [
      "0x2a\n",
      "42\n"
     ]
    }
   ],
   "source": [
    "# Callables:\n",
    "from collections.abc import Callable\n",
    "\n",
    "def update(probe: Callable[[], float], display: Callable[[float], None]) -> None:\n",
    "    tempature = probe()\n",
    "    display(tempature)\n",
    "\n",
    "def probe_ok() -> int:\n",
    "    return 42 # int does not break float\n",
    "\n",
    "def display_wrong(tempature: int) -> None:\n",
    "    print(hex(tempature)) # hex accepts an int but rejects a float\n",
    "\n",
    "update(probe_ok, display_wrong) # type error\n",
    "\n",
    "def display_ok(tempature: complex) -> None:\n",
    "    print(tempature)\n",
    "\n",
    "update(probe_ok, display_ok) # type works!"
   ]
  },
  {
   "cell_type": "code",
   "execution_count": 45,
   "id": "25ccf9b4-727b-4203-bfc7-c8f63eb74b44",
   "metadata": {},
   "outputs": [
    {
     "data": {
      "text/plain": [
       "'\\nFalse positives:\\nTools report type errors on code that is correct.\\n\\nFalse negatives:\\nTools don’t report type errors on code that is incorrect.\\n'"
      ]
     },
     "execution_count": 45,
     "metadata": {},
     "output_type": "execute_result"
    }
   ],
   "source": [
    "\"\"\"\n",
    "False positives:\n",
    "Tools report type errors on code that is correct.\n",
    "\n",
    "False negatives:\n",
    "Tools don’t report type errors on code that is incorrect.\n",
    "\"\"\""
   ]
  },
  {
   "cell_type": "code",
   "execution_count": 46,
   "id": "bf28b2b5-f1be-40d5-acf9-846bf1c5ae98",
   "metadata": {},
   "outputs": [
    {
     "data": {
      "text/plain": [
       "'\\nSome important libraries skip adding types due to time, and having to support it forever\\nits hard to typecheck (**args) unless we type everything out. I felt kinda the same\\nabout Typescript and just using JSDoc, focusing more on just the code, I am sure there will be\\nautomatic processes that will analyze the code and adds types for us. Always favor tests over types\\n'"
      ]
     },
     "execution_count": 46,
     "metadata": {},
     "output_type": "execute_result"
    }
   ],
   "source": [
    "\"\"\"\n",
    "Some important libraries skip adding types due to time, and having to support it forever\n",
    "its hard to typecheck (**args) unless we type everything out. I felt kinda the same\n",
    "about Typescript and just using JSDoc, focusing more on just the code, I am sure there will be\n",
    "automatic processes that will analyze the code and adds types for us. Always favor tests over types\n",
    "\"\"\""
   ]
  }
 ],
 "metadata": {
  "kernelspec": {
   "display_name": "Python 3 (ipykernel)",
   "language": "python",
   "name": "python3"
  },
  "language_info": {
   "codemirror_mode": {
    "name": "ipython",
    "version": 3
   },
   "file_extension": ".py",
   "mimetype": "text/x-python",
   "name": "python",
   "nbconvert_exporter": "python",
   "pygments_lexer": "ipython3",
   "version": "3.10.15"
  }
 },
 "nbformat": 4,
 "nbformat_minor": 5
}
