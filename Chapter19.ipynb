{
 "cells": [
  {
   "cell_type": "code",
   "execution_count": 26,
   "id": "a6771fa4-12a5-4162-a329-4e6deac94d77",
   "metadata": {},
   "outputs": [],
   "source": [
    "import itertools\n",
    "import time\n",
    "from threading import Thread, Event\n",
    "\n",
    "def spin(msg: str, done: Event) -> None:\n",
    "    for char in itertools.cycle(r'\\|/-'):\n",
    "        status = f'\\r{char} {msg}'\n",
    "        print(status, end='', flush=True)\n",
    "        if done.wait(.1):\n",
    "            break\n",
    "    blanks = ' ' * len(status)\n",
    "    print(f'\\r{blanks}\\r', end='')\n",
    "\n",
    "def slow() -> int:\n",
    "    time.sleep(3) # blocks the calling thread, releases the GIL allowing other python threads to run\n",
    "    return 42"
   ]
  },
  {
   "cell_type": "code",
   "execution_count": 27,
   "id": "5202e7a9-bfe2-49fb-8b61-818e7903bae2",
   "metadata": {},
   "outputs": [
    {
     "name": "stdout",
     "output_type": "stream",
     "text": [
      "spinner object: <Thread(Thread-7 (spin), initial)>\n",
      "Answer: 42  \n"
     ]
    }
   ],
   "source": [
    "def supervisor() -> int:\n",
    "    done = Event()\n",
    "    spinner = Thread(target=spin, args=('thinking!', done))\n",
    "    print(f'spinner object: {spinner}')\n",
    "    spinner.start()\n",
    "    result = slow()\n",
    "    done.set()\n",
    "    spinner.join()\n",
    "    return result\n",
    "\n",
    "def main() -> None:\n",
    "    result = supervisor()\n",
    "    print(f'Answer: {result}')\n",
    "\n",
    "if __name__ == '__main__':\n",
    "    main()"
   ]
  },
  {
   "cell_type": "code",
   "execution_count": 23,
   "id": "78224650-9bef-4383-8820-48c4132838df",
   "metadata": {},
   "outputs": [
    {
     "name": "stdout",
     "output_type": "stream",
     "text": [
      "spinner object: <Process name='Process-4' parent=13497 initial>\n",
      "Answer: 42  \n"
     ]
    }
   ],
   "source": [
    "# from threads to processes (note the synchronize, and Process)\n",
    "# NOTE on the cell below this had to change builtin multiprocessing -> multiprocess\n",
    "# multiprocess was pip installed for Jupyter notebook\n",
    "from multiprocess import Process, Event\n",
    "from multiprocess import synchronize\n",
    "\n",
    "def spin(msg: str, done: synchronize.Event) -> None:\n",
    "    for char in itertools.cycle(r'\\|/-'):\n",
    "        status = f'\\r{char} {msg}'\n",
    "        print(status, end='', flush=True)\n",
    "        if done.wait(.1):\n",
    "            break\n",
    "    blanks = ' ' * len(status)\n",
    "    print(f'\\r{blanks}\\r', end='')\n",
    "\n",
    "def slow() -> int:\n",
    "    time.sleep(3)\n",
    "    return 42\n",
    "\n",
    "def supervisor() -> int:\n",
    "    done = Event()\n",
    "    spinner = Process(target=spin, args=('thinking!', done))\n",
    "    print(f'spinner object: {spinner}')\n",
    "    spinner.start()\n",
    "    result = slow()\n",
    "    done.set()\n",
    "    spinner.join()\n",
    "    return result\n",
    "    \n",
    "def main() -> None:\n",
    "    result = supervisor()\n",
    "    print(f'Answer: {result}')\n",
    "\n",
    "if __name__ == '__main__':\n",
    "    main()"
   ]
  },
  {
   "cell_type": "code",
   "execution_count": 8,
   "id": "62014e4e-a48c-47e8-8fae-6b75e151e68c",
   "metadata": {},
   "outputs": [
    {
     "data": {
      "text/plain": [
       "\"\\nJupyter notebooks don't work with multiprocessing because the module \\npickles (serialises) data to send to processes. multiprocess is a fork \\nof multiprocessing that uses dill instead of pickle to serialise data which \\nallows it to work from within Jupyter notebooks, the API is identical\\n\""
      ]
     },
     "execution_count": 8,
     "metadata": {},
     "output_type": "execute_result"
    }
   ],
   "source": [
    "\"\"\"\n",
    "Jupyter notebooks don't work with multiprocessing because the module \n",
    "pickles (serialises) data to send to processes. multiprocess is a fork \n",
    "of multiprocessing that uses dill instead of pickle to serialise data which \n",
    "allows it to work from within Jupyter notebooks, the API is identical\n",
    "\"\"\""
   ]
  },
  {
   "cell_type": "code",
   "execution_count": 29,
   "id": "8c63d07f-5427-483b-99d6-23e09d99d2f7",
   "metadata": {},
   "outputs": [
    {
     "name": "stdout",
     "output_type": "stream",
     "text": [
      "spinner object: <Task pending name='Task-10' coro=<spin() running at /var/folders/dt/x2hsbqvj7bsd0klwc9f8ff8m0000gn/T/ipykernel_13497/1935890947.py:16>>\n",
      "| thinking! Answer: 42\n"
     ]
    }
   ],
   "source": [
    "import asyncio\n",
    "import itertools\n",
    "# allows us to nest event loops (along with nest_asyncio.apply())\n",
    "# this makes it so I can run examples in Ju\n",
    "import nest_asyncio\n",
    "\n",
    "nest_asyncio.apply()\n",
    "\n",
    "async def supervisor() -> int:\n",
    "    spinner = asyncio.create_task(spin('thinking!'))\n",
    "    print(f'spinner object: {spinner}')\n",
    "    result = await slow()\n",
    "    spinner.cancel()\n",
    "    return result\n",
    "\n",
    "async def spin(msg: str) -> None:\n",
    "    for char in itertools.cycle(r'\\|/-'):\n",
    "        status = f'\\r{char} {msg}'\n",
    "        print(status, flush=True, end='')\n",
    "        try:\n",
    "            await asyncio.sleep(.1)\n",
    "        except asyncio.CancelledError:\n",
    "            break\n",
    "        blanks = ' ' * len(status)\n",
    "        print(f'\\r{blanks}\\r', end='')\n",
    "\n",
    "async def slow() -> int:\n",
    "    await asyncio.sleep(3)\n",
    "    return 42\n",
    "\n",
    "def main() -> None:\n",
    "    #loop = asyncio.get_event_loop()\n",
    "    #print(loop)\n",
    "    result = asyncio.run(supervisor())\n",
    "    print(f'Answer: {result}')\n",
    "\n",
    "if __name__ == '__main__':\n",
    "    main()"
   ]
  },
  {
   "cell_type": "code",
   "execution_count": 34,
   "id": "317d993d-5c64-462d-be5a-39e9370a5e87",
   "metadata": {},
   "outputs": [],
   "source": [
    "import math\n",
    "\n",
    "PRIME_FIXTURE = [\n",
    "    (2, True),\n",
    "    (142702110479723, True),\n",
    "    (299593572317531, True),\n",
    "    (3333333333333301, True),\n",
    "    (3333333333333333, False),\n",
    "    (3333335652092209, False),\n",
    "    (4444444444444423, True),\n",
    "    (4444444444444444, False),\n",
    "    (4444444488888889, False),\n",
    "    (5555553133149889, False),\n",
    "    (5555555555555503, True),\n",
    "    (5555555555555555, False),\n",
    "    (6666666666666666, False),\n",
    "    (6666666666666719, True),\n",
    "    (6666667141414921, False),\n",
    "    (7777777536340681, False),\n",
    "    (7777777777777753, True),\n",
    "    (7777777777777777, False),\n",
    "    (9999999999999917, True),\n",
    "    (9999999999999999, False),\n",
    "]\n",
    "\n",
    "NUMBERS = [n for n, _ in PRIME_FIXTURE]\n",
    "\n",
    "def is_prime(n: int) -> bool:\n",
    "    if n < 2:\n",
    "        return False\n",
    "    if n == 2:\n",
    "        return True\n",
    "    if n % 2 == 0:\n",
    "        return False\n",
    "\n",
    "    root = math.isqrt(n)\n",
    "    for i in range(3, root + 1, 2):\n",
    "        if n % i == 0:\n",
    "            return False\n",
    "    return True"
   ]
  },
  {
   "cell_type": "code",
   "execution_count": 33,
   "id": "11cf69ea-585b-45da-b6de-bee5c8ed18f9",
   "metadata": {},
   "outputs": [
    {
     "data": {
      "text/plain": [
       "True"
      ]
     },
     "execution_count": 33,
     "metadata": {},
     "output_type": "execute_result"
    }
   ],
   "source": [
    "is_prime(5_000_111_000_222_021)"
   ]
  },
  {
   "cell_type": "code",
   "execution_count": 35,
   "id": "f3e09ea4-c64d-4e1f-9544-13efab2cbdd2",
   "metadata": {},
   "outputs": [
    {
     "name": "stdout",
     "output_type": "stream",
     "text": [
      "Checking 20 numbers sequentially:\n",
      "               2 P  0.000001s\n",
      " 142702110479723 P  0.282552s\n",
      " 299593572317531 P  0.363555s\n",
      "3333333333333301 P  1.167125s\n",
      "3333333333333333    0.000006s\n",
      "3333335652092209    1.164935s\n",
      "4444444444444423 P  1.484296s\n",
      "4444444444444444    0.000002s\n",
      "4444444488888889    1.388999s\n",
      "5555553133149889    1.494647s\n",
      "5555555555555503 P  1.559277s\n",
      "5555555555555555    0.000007s\n",
      "6666666666666666    0.000000s\n",
      "6666666666666719 P  1.703077s\n",
      "6666667141414921    1.635806s\n",
      "7777777536340681    1.762944s\n",
      "7777777777777753 P  1.935968s\n",
      "7777777777777777    0.000006s\n",
      "9999999999999917 P  2.091291s\n",
      "9999999999999999    0.000005s\n",
      "Total time: 18.04s\n"
     ]
    }
   ],
   "source": [
    "from time import perf_counter\n",
    "from typing import NamedTuple\n",
    "\n",
    "class Result(NamedTuple):\n",
    "    prime: bool\n",
    "    elapsed: float\n",
    "\n",
    "def check(n: int) -> Result:\n",
    "    t0 = perf_counter()\n",
    "    prime = is_prime(n)\n",
    "    return Result(prime, perf_counter() - t0)\n",
    "\n",
    "def main() -> None:\n",
    "    print(f'Checking {len(NUMBERS)} numbers sequentially:')\n",
    "    t0 = perf_counter()\n",
    "    for n in NUMBERS:\n",
    "        prime, elapsed = check(n)\n",
    "        label = 'P' if prime else ' '\n",
    "        print(f'{n:16} {label} {elapsed:9.6f}s')\n",
    "    elapsed = perf_counter() - t0\n",
    "    print(f'Total time: {elapsed:.2f}s')\n",
    "\n",
    "if __name__ == '__main__':\n",
    "    main()"
   ]
  },
  {
   "cell_type": "code",
   "execution_count": 36,
   "id": "ccc19b84-5660-49b9-a7e6-0c3cd7d428ca",
   "metadata": {},
   "outputs": [],
   "source": [
    "import sys\n",
    "from time import perf_counter\n",
    "from typing import NamedTuple\n",
    "# AS MENTIONED ABOVE!\n",
    "# from multiprocessing import Process, SimpleQueue, cpu_count\n",
    "# from multiprocessing import queues\n",
    "from multiprocess import Process, SimpleQueue, cpu_count\n",
    "from multiprocess import queues\n",
    "\n",
    "class PrimeResult(NamedTuple):\n",
    "    n: int\n",
    "    prime: bool\n",
    "    elapsed: float\n",
    "\n",
    "JobQueue = queues.SimpleQueue[int]\n",
    "ResultQueue = queues.SimpleQueue[PrimeResult]\n",
    "\n",
    "def check(n: int) -> PrimeResult:\n",
    "    t0 = perf_counter()\n",
    "    res = is_prime(n)\n",
    "    return PrimeResult(n, res, perf_counter() - t0)\n",
    "\n",
    "def worker(jobs: JobQueue, results: ResultQueue) -> None:\n",
    "    while n := jobs.get():\n",
    "        results.put(check(n))\n",
    "    results.put(PrimeResult(0, False, 0.0))\n",
    "\n",
    "def start_jobs(procs: int, jobs: JobQueue, results: ResultQueue) -> None:\n",
    "    for n in NUMBERS:\n",
    "        jobs.put(n)\n",
    "    for _ in range(procs):\n",
    "        proc = Process(target=worker, args=(jobs, results))\n",
    "        proc.start()\n",
    "        jobs.put(0)"
   ]
  },
  {
   "cell_type": "code",
   "execution_count": 45,
   "id": "2333f5c0-1b6f-4fc3-a691-864bce5d2575",
   "metadata": {},
   "outputs": [
    {
     "name": "stdout",
     "output_type": "stream",
     "text": [
      "Checking 20 number with 10 processes:\n",
      "               2 P  0.000006s\n",
      "3333333333333333    0.000029s\n",
      "4444444444444444    0.000006s\n",
      "5555555555555555    0.000030s\n",
      "6666666666666666    0.000002s\n",
      " 142702110479723 P  0.375869s\n",
      " 299593572317531 P  0.525074s\n",
      "3333335652092209    1.608493s\n",
      "7777777777777777    0.000010s\n",
      "3333333333333301 P  1.736931s\n",
      "9999999999999999    0.000008s\n",
      "4444444488888889    1.877297s\n",
      "4444444444444423 P  1.928638s\n",
      "5555555555555503 P  2.044051s\n",
      "5555553133149889    2.060110s\n",
      "6666666666666719 P  2.198597s\n",
      "6666667141414921    2.237659s\n",
      "7777777536340681    2.273445s\n",
      "7777777777777753 P  2.199313s\n",
      "9999999999999917 P  2.203441s\n",
      "20 checks in 3.85s\n"
     ]
    }
   ],
   "source": [
    "def main() -> None:\n",
    "   # if len(sys.argv) < 2:\n",
    "    procs = cpu_count()\n",
    "    #else:\n",
    "    #    procs = int(sys.argv[1])\n",
    "    print(f'Checking {len(NUMBERS)} number with {procs} processes:')\n",
    "    t0 = perf_counter()\n",
    "    jobs: JobQueue = SimpleQueue()\n",
    "    results: ResultQueue = SimpleQueue()\n",
    "    start_jobs(procs, jobs, results)\n",
    "    checked = report(procs, results)\n",
    "    elapsed = perf_counter() - t0\n",
    "    print(f'{checked} checks in {elapsed:.2f}s')\n",
    "\n",
    "def report(procs: int, results: ResultQueue) -> int:\n",
    "    checked = 0\n",
    "    procs_done = 0\n",
    "    while procs_done < procs: # having this loop True and breaking when jobs.empty() causes a race condition\n",
    "        n, prime, elapsed = results.get()\n",
    "        if n == 0:\n",
    "            procs_done += 1\n",
    "        else:\n",
    "            checked += 1\n",
    "            label = 'P' if prime else ' '\n",
    "            print(f'{n:16} {label} {elapsed:9.6f}s')\n",
    "    return checked\n",
    "\n",
    "if __name__ == '__main__':\n",
    "    main()"
   ]
  },
  {
   "cell_type": "code",
   "execution_count": null,
   "id": "f7163a13-7960-4f0d-a44b-bd65d32f3431",
   "metadata": {},
   "outputs": [],
   "source": []
  }
 ],
 "metadata": {
  "kernelspec": {
   "display_name": "Python 3 (ipykernel)",
   "language": "python",
   "name": "python3"
  },
  "language_info": {
   "codemirror_mode": {
    "name": "ipython",
    "version": 3
   },
   "file_extension": ".py",
   "mimetype": "text/x-python",
   "name": "python",
   "nbconvert_exporter": "python",
   "pygments_lexer": "ipython3",
   "version": "3.10.15"
  }
 },
 "nbformat": 4,
 "nbformat_minor": 5
}
