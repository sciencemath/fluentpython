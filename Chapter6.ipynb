{
 "cells": [
  {
   "cell_type": "code",
   "execution_count": 2,
   "id": "b29aeb4c-ee1d-46c1-96a4-8df9a1f3006e",
   "metadata": {},
   "outputs": [
    {
     "name": "stdout",
     "output_type": "stream",
     "text": [
      "Gizmo id: 4448559712\n"
     ]
    }
   ],
   "source": [
    "class Gizmo:\n",
    "    def __init__(self):\n",
    "        print(f'Gizmo id: {id(self)}')\n",
    "\n",
    "x = Gizmo()"
   ]
  },
  {
   "cell_type": "code",
   "execution_count": 3,
   "id": "3bd1bbe4-8814-492d-8f3b-424f204368a5",
   "metadata": {},
   "outputs": [
    {
     "name": "stdout",
     "output_type": "stream",
     "text": [
      "Gizmo id: 4448562112\n"
     ]
    },
    {
     "ename": "TypeError",
     "evalue": "unsupported operand type(s) for *: 'Gizmo' and 'int'",
     "output_type": "error",
     "traceback": [
      "\u001b[0;31m---------------------------------------------------------------------------\u001b[0m",
      "\u001b[0;31mTypeError\u001b[0m                                 Traceback (most recent call last)",
      "Cell \u001b[0;32mIn[3], line 1\u001b[0m\n\u001b[0;32m----> 1\u001b[0m y \u001b[38;5;241m=\u001b[39m \u001b[43mGizmo\u001b[49m\u001b[43m(\u001b[49m\u001b[43m)\u001b[49m\u001b[43m \u001b[49m\u001b[38;5;241;43m*\u001b[39;49m\u001b[43m \u001b[49m\u001b[38;5;241;43m10\u001b[39;49m\n",
      "\u001b[0;31mTypeError\u001b[0m: unsupported operand type(s) for *: 'Gizmo' and 'int'"
     ]
    }
   ],
   "source": [
    "y = Gizmo() * 10"
   ]
  },
  {
   "cell_type": "code",
   "execution_count": 4,
   "id": "e7608927-0e62-4b91-a0fb-21df12f0c9e8",
   "metadata": {},
   "outputs": [
    {
     "data": {
      "text/plain": [
       "['Gizmo',\n",
       " 'In',\n",
       " 'Out',\n",
       " '_',\n",
       " '_1',\n",
       " '__',\n",
       " '___',\n",
       " '__builtin__',\n",
       " '__builtins__',\n",
       " '__doc__',\n",
       " '__loader__',\n",
       " '__name__',\n",
       " '__package__',\n",
       " '__session__',\n",
       " '__spec__',\n",
       " '_dh',\n",
       " '_i',\n",
       " '_i1',\n",
       " '_i2',\n",
       " '_i3',\n",
       " '_i4',\n",
       " '_ih',\n",
       " '_ii',\n",
       " '_iii',\n",
       " '_oh',\n",
       " 'a',\n",
       " 'b',\n",
       " 'exit',\n",
       " 'get_ipython',\n",
       " 'open',\n",
       " 'quit',\n",
       " 'x']"
      ]
     },
     "execution_count": 4,
     "metadata": {},
     "output_type": "execute_result"
    }
   ],
   "source": [
    "dir()"
   ]
  },
  {
   "cell_type": "code",
   "execution_count": 15,
   "id": "fba46d64-cce5-4c72-ae76-889eb77962f8",
   "metadata": {},
   "outputs": [
    {
     "data": {
      "text/plain": [
       "True"
      ]
     },
     "execution_count": 15,
     "metadata": {},
     "output_type": "execute_result"
    }
   ],
   "source": [
    "charles = {'name': 'Charles L. Dodgson', 'born': 1832}\n",
    "lewis = charles\n",
    "lewis is charles"
   ]
  },
  {
   "cell_type": "code",
   "execution_count": 16,
   "id": "2c0cca45-eca4-4b48-9d5e-15f3ae1bb364",
   "metadata": {},
   "outputs": [
    {
     "data": {
      "text/plain": [
       "(4463442304, 4463442304)"
      ]
     },
     "execution_count": 16,
     "metadata": {},
     "output_type": "execute_result"
    }
   ],
   "source": [
    "id(charles), id(lewis)"
   ]
  },
  {
   "cell_type": "code",
   "execution_count": 17,
   "id": "c92ff6c5-4653-4e19-8039-10b21cfc24e6",
   "metadata": {},
   "outputs": [
    {
     "data": {
      "text/plain": [
       "{'name': 'Charles L. Dodgson', 'born': 1832, 'balance': 950}"
      ]
     },
     "execution_count": 17,
     "metadata": {},
     "output_type": "execute_result"
    }
   ],
   "source": [
    "lewis['balance'] = 950\n",
    "charles"
   ]
  },
  {
   "cell_type": "code",
   "execution_count": 18,
   "id": "aa3b15fb-4f72-4852-8918-02c5ba6c42f5",
   "metadata": {},
   "outputs": [
    {
     "data": {
      "text/plain": [
       "True"
      ]
     },
     "execution_count": 18,
     "metadata": {},
     "output_type": "execute_result"
    }
   ],
   "source": [
    "alex = {'name': 'Charles L. Dodgson', 'born': 1832, 'balance': 950}\n",
    "alex == charles"
   ]
  },
  {
   "cell_type": "code",
   "execution_count": 19,
   "id": "207554d0-c39c-4b50-9ffd-9a3cd3af2f53",
   "metadata": {},
   "outputs": [
    {
     "data": {
      "text/plain": [
       "True"
      ]
     },
     "execution_count": 19,
     "metadata": {},
     "output_type": "execute_result"
    }
   ],
   "source": [
    "alex is not charles"
   ]
  },
  {
   "cell_type": "code",
   "execution_count": 20,
   "id": "3461df47-7bb9-4b86-a312-709a59ab62de",
   "metadata": {},
   "outputs": [
    {
     "data": {
      "text/plain": [
       "True"
      ]
     },
     "execution_count": 20,
     "metadata": {},
     "output_type": "execute_result"
    }
   ],
   "source": [
    "t1 = (1,2,[30,40])\n",
    "t2 = (1,2,[30,40])\n",
    "t1 == t2"
   ]
  },
  {
   "cell_type": "code",
   "execution_count": 21,
   "id": "c562544a-eacd-4b17-8469-fa8df8a7a63e",
   "metadata": {},
   "outputs": [
    {
     "data": {
      "text/plain": [
       "4463375552"
      ]
     },
     "execution_count": 21,
     "metadata": {},
     "output_type": "execute_result"
    }
   ],
   "source": [
    "id(t1[-1])"
   ]
  },
  {
   "cell_type": "code",
   "execution_count": 22,
   "id": "beaaa03b-a8de-46d1-808f-6cad90bb817b",
   "metadata": {},
   "outputs": [
    {
     "data": {
      "text/plain": [
       "(1, 2, [30, 40, 99])"
      ]
     },
     "execution_count": 22,
     "metadata": {},
     "output_type": "execute_result"
    }
   ],
   "source": [
    "t1[-1].append(99)\n",
    "t1"
   ]
  },
  {
   "cell_type": "code",
   "execution_count": 23,
   "id": "79be7d2b-4d40-4890-ba76-99f951276adb",
   "metadata": {},
   "outputs": [
    {
     "data": {
      "text/plain": [
       "4463375552"
      ]
     },
     "execution_count": 23,
     "metadata": {},
     "output_type": "execute_result"
    }
   ],
   "source": [
    "id(t1[-1])"
   ]
  },
  {
   "cell_type": "code",
   "execution_count": 24,
   "id": "4362e036-f062-44b0-bfe7-2f9243aa14d1",
   "metadata": {},
   "outputs": [
    {
     "data": {
      "text/plain": [
       "False"
      ]
     },
     "execution_count": 24,
     "metadata": {},
     "output_type": "execute_result"
    }
   ],
   "source": [
    "t1 == t2"
   ]
  },
  {
   "cell_type": "code",
   "execution_count": 25,
   "id": "f20efbe2-f185-49c4-bf6d-a43da467605e",
   "metadata": {},
   "outputs": [
    {
     "data": {
      "text/plain": [
       "[3, [55, 44], (7, 8, 9)]"
      ]
     },
     "execution_count": 25,
     "metadata": {},
     "output_type": "execute_result"
    }
   ],
   "source": [
    "l1 = [3, [55,44], (7,8,9)]\n",
    "l2 = list(l1)\n",
    "l2"
   ]
  },
  {
   "cell_type": "code",
   "execution_count": 26,
   "id": "05fb0858-25b4-4e02-a76f-9ece845a9d37",
   "metadata": {},
   "outputs": [
    {
     "data": {
      "text/plain": [
       "True"
      ]
     },
     "execution_count": 26,
     "metadata": {},
     "output_type": "execute_result"
    }
   ],
   "source": [
    "l2 == l1"
   ]
  },
  {
   "cell_type": "code",
   "execution_count": 27,
   "id": "45c38649-dc12-48ca-b679-0039d95d160d",
   "metadata": {},
   "outputs": [
    {
     "data": {
      "text/plain": [
       "False"
      ]
     },
     "execution_count": 27,
     "metadata": {},
     "output_type": "execute_result"
    }
   ],
   "source": [
    "l2 is l1"
   ]
  },
  {
   "cell_type": "code",
   "execution_count": 28,
   "id": "b89dc6c2-b2af-4efa-badb-8b2f98de08c2",
   "metadata": {},
   "outputs": [
    {
     "name": "stdout",
     "output_type": "stream",
     "text": [
      "l1: [3, [66, 44], (7, 8, 9), 100]\n"
     ]
    }
   ],
   "source": [
    "l1 = [3, [66,55,44], (7,8,9)]\n",
    "l2 = list(l1)\n",
    "l1.append(100)\n",
    "l1[1].remove(55)\n",
    "print('l1:', l1)"
   ]
  },
  {
   "cell_type": "code",
   "execution_count": 29,
   "id": "afb39eb3-68ee-4133-a668-ff0a382a4cf2",
   "metadata": {},
   "outputs": [
    {
     "name": "stdout",
     "output_type": "stream",
     "text": [
      "l2: [3, [66, 44], (7, 8, 9)]\n"
     ]
    }
   ],
   "source": [
    "print('l2:', l2)"
   ]
  },
  {
   "cell_type": "code",
   "execution_count": 31,
   "id": "54665fe7-d208-4a7b-8c59-c2d8a475abfe",
   "metadata": {},
   "outputs": [
    {
     "name": "stdout",
     "output_type": "stream",
     "text": [
      "l1: [3, [66, 44, 33, 22], (7, 8, 9), 100]\n"
     ]
    }
   ],
   "source": [
    "l2[1] += [33,22]\n",
    "l2[2] += (10,11)\n",
    "print('l1:', l1)"
   ]
  },
  {
   "cell_type": "code",
   "execution_count": 32,
   "id": "591c8d6a-67bd-41c9-b7b9-d4a87c26f8e3",
   "metadata": {},
   "outputs": [
    {
     "name": "stdout",
     "output_type": "stream",
     "text": [
      "l2: [3, [66, 44, 33, 22], (7, 8, 9, 10, 11)]\n"
     ]
    }
   ],
   "source": [
    "print('l2:', l2)"
   ]
  },
  {
   "cell_type": "code",
   "execution_count": 33,
   "id": "2693f2f1-d605-4452-8f9b-2b297a5bee22",
   "metadata": {},
   "outputs": [],
   "source": [
    "class Bus:\n",
    "\n",
    "    def __init__(self, passengers = None):\n",
    "        if passengers is None:\n",
    "            self.passengers = []\n",
    "        else:\n",
    "            self.passengers = list(passengers)\n",
    "\n",
    "    def pick(self, name):\n",
    "        self.passengers.append(name)\n",
    "\n",
    "    def drop(self, name):\n",
    "        self.passengers.remove(name)"
   ]
  },
  {
   "cell_type": "code",
   "execution_count": 34,
   "id": "755545ae-2449-4070-9d6f-f2796ccd8c70",
   "metadata": {},
   "outputs": [
    {
     "data": {
      "text/plain": [
       "(4454224352, 4454324432, 4448259568)"
      ]
     },
     "execution_count": 34,
     "metadata": {},
     "output_type": "execute_result"
    }
   ],
   "source": [
    "import copy\n",
    "bus1 = Bus(['Alice', 'Bill', 'Claire', 'David'])\n",
    "bus2 = copy.copy(bus1)\n",
    "bus3 = copy.deepcopy(bus1)\n",
    "id(bus1), id(bus2), id(bus3)"
   ]
  },
  {
   "cell_type": "code",
   "execution_count": 35,
   "id": "d95a6821-3e21-4a29-84a0-88b4bbffc37e",
   "metadata": {},
   "outputs": [
    {
     "data": {
      "text/plain": [
       "['Alice', 'Claire', 'David']"
      ]
     },
     "execution_count": 35,
     "metadata": {},
     "output_type": "execute_result"
    }
   ],
   "source": [
    "bus1.drop('Bill')\n",
    "bus2.passengers"
   ]
  },
  {
   "cell_type": "code",
   "execution_count": 36,
   "id": "9a2e2160-cb5e-40f4-a621-40d1e2a3325c",
   "metadata": {},
   "outputs": [
    {
     "data": {
      "text/plain": [
       "(4448699904, 4448699904, 4463814848)"
      ]
     },
     "execution_count": 36,
     "metadata": {},
     "output_type": "execute_result"
    }
   ],
   "source": [
    "id(bus1.passengers), id(bus2.passengers), id(bus3.passengers)"
   ]
  },
  {
   "cell_type": "code",
   "execution_count": 37,
   "id": "7504519a-417b-45a6-968b-cce8f92b72ca",
   "metadata": {},
   "outputs": [
    {
     "data": {
      "text/plain": [
       "[10, 20, [[...], 30]]"
      ]
     },
     "execution_count": 37,
     "metadata": {},
     "output_type": "execute_result"
    }
   ],
   "source": [
    "a = [10, 20]\n",
    "b = [a, 30]\n",
    "a.append(b)\n",
    "a"
   ]
  },
  {
   "cell_type": "code",
   "execution_count": 38,
   "id": "6329fe17-a024-4bb5-8272-217ecf22f668",
   "metadata": {},
   "outputs": [
    {
     "data": {
      "text/plain": [
       "[10, 20, [[...], 30]]"
      ]
     },
     "execution_count": 38,
     "metadata": {},
     "output_type": "execute_result"
    }
   ],
   "source": [
    "from copy import deepcopy\n",
    "c = deepcopy(a)\n",
    "c"
   ]
  },
  {
   "cell_type": "code",
   "execution_count": 39,
   "id": "557991bf-0741-4c84-b6e1-ab0d90d5ee45",
   "metadata": {},
   "outputs": [
    {
     "data": {
      "text/plain": [
       "3"
      ]
     },
     "execution_count": 39,
     "metadata": {},
     "output_type": "execute_result"
    }
   ],
   "source": [
    "def f(a,b):\n",
    "    a += b\n",
    "    return a\n",
    "\n",
    "x = 1\n",
    "y = 2\n",
    "f(x,y)"
   ]
  },
  {
   "cell_type": "code",
   "execution_count": 40,
   "id": "19af766f-79a8-4ec9-a90f-31ab71eecdc5",
   "metadata": {},
   "outputs": [
    {
     "data": {
      "text/plain": [
       "(1, 2)"
      ]
     },
     "execution_count": 40,
     "metadata": {},
     "output_type": "execute_result"
    }
   ],
   "source": [
    "x,y"
   ]
  },
  {
   "cell_type": "code",
   "execution_count": 41,
   "id": "15db8842-0b0f-4c70-ae16-2b8a10a93555",
   "metadata": {},
   "outputs": [
    {
     "data": {
      "text/plain": [
       "[1, 2, 3, 4]"
      ]
     },
     "execution_count": 41,
     "metadata": {},
     "output_type": "execute_result"
    }
   ],
   "source": [
    "a = [1,2]\n",
    "b = [3,4]\n",
    "f(a,b)"
   ]
  },
  {
   "cell_type": "code",
   "execution_count": 42,
   "id": "82c2ca32-2b79-44d3-a3fb-26b32cc6533e",
   "metadata": {},
   "outputs": [
    {
     "data": {
      "text/plain": [
       "([1, 2, 3, 4], [3, 4])"
      ]
     },
     "execution_count": 42,
     "metadata": {},
     "output_type": "execute_result"
    }
   ],
   "source": [
    "a,b"
   ]
  },
  {
   "cell_type": "code",
   "execution_count": 43,
   "id": "251b7fab-cfbd-4626-9242-21a2dfda4078",
   "metadata": {},
   "outputs": [
    {
     "data": {
      "text/plain": [
       "(10, 20, 30, 40)"
      ]
     },
     "execution_count": 43,
     "metadata": {},
     "output_type": "execute_result"
    }
   ],
   "source": [
    "t = (10,20)\n",
    "u = (30,40)\n",
    "f(t,u)"
   ]
  },
  {
   "cell_type": "code",
   "execution_count": 44,
   "id": "b90a9453-f897-422d-bace-a433636c5bd1",
   "metadata": {},
   "outputs": [
    {
     "data": {
      "text/plain": [
       "((10, 20), (30, 40))"
      ]
     },
     "execution_count": 44,
     "metadata": {},
     "output_type": "execute_result"
    }
   ],
   "source": [
    "t,u"
   ]
  },
  {
   "cell_type": "code",
   "execution_count": 45,
   "id": "b3b7b7c7-a883-4b8d-ba19-7099d630d329",
   "metadata": {},
   "outputs": [
    {
     "data": {
      "text/plain": [
       "['Alice', 'Bill']"
      ]
     },
     "execution_count": 45,
     "metadata": {},
     "output_type": "execute_result"
    }
   ],
   "source": [
    "\"\"\"\n",
    "a default value is a mutable object, and you change it,\n",
    "the change will affect every future call of the function.\n",
    "\"\"\"\n",
    "class HauntedBus:\n",
    "\n",
    "    def __init__(self, passengers=[]):\n",
    "        self.passengers = passengers\n",
    "\n",
    "    def pick(self, name):\n",
    "        self.passengers.append(name)\n",
    "\n",
    "    def drop(self, name):\n",
    "        self.passengers.remove(name)\n",
    "\n",
    "bus1 = HauntedBus(['Alice', 'Bill'])\n",
    "bus1.passengers"
   ]
  },
  {
   "cell_type": "code",
   "execution_count": 46,
   "id": "af8bbb2f-7615-4d26-b9ee-a492ec9ef50d",
   "metadata": {},
   "outputs": [
    {
     "data": {
      "text/plain": [
       "['Bill', 'Charlie']"
      ]
     },
     "execution_count": 46,
     "metadata": {},
     "output_type": "execute_result"
    }
   ],
   "source": [
    "bus1.pick('Charlie')\n",
    "bus1.drop('Alice')\n",
    "bus1.passengers"
   ]
  },
  {
   "cell_type": "code",
   "execution_count": 47,
   "id": "8359ac81-b535-4213-b1e6-53b05db2009c",
   "metadata": {},
   "outputs": [
    {
     "data": {
      "text/plain": [
       "['Carrie']"
      ]
     },
     "execution_count": 47,
     "metadata": {},
     "output_type": "execute_result"
    }
   ],
   "source": [
    "bus2 = HauntedBus()\n",
    "bus2.pick('Carrie')\n",
    "bus2.passengers"
   ]
  },
  {
   "cell_type": "code",
   "execution_count": 48,
   "id": "cc5442de-a498-400d-a17e-3b00d6ff4313",
   "metadata": {},
   "outputs": [
    {
     "data": {
      "text/plain": [
       "['Carrie']"
      ]
     },
     "execution_count": 48,
     "metadata": {},
     "output_type": "execute_result"
    }
   ],
   "source": [
    "bus3 = HauntedBus()\n",
    "bus3.passengers"
   ]
  },
  {
   "cell_type": "code",
   "execution_count": 49,
   "id": "81741bfc-df22-4a5e-a487-deae5a87e982",
   "metadata": {},
   "outputs": [
    {
     "data": {
      "text/plain": [
       "['Carrie', 'Dave']"
      ]
     },
     "execution_count": 49,
     "metadata": {},
     "output_type": "execute_result"
    }
   ],
   "source": [
    "bus3.pick('Dave')\n",
    "bus2.passengers"
   ]
  },
  {
   "cell_type": "code",
   "execution_count": 50,
   "id": "1daba353-0b24-4570-bc3e-032edc93ec7d",
   "metadata": {},
   "outputs": [
    {
     "data": {
      "text/plain": [
       "True"
      ]
     },
     "execution_count": 50,
     "metadata": {},
     "output_type": "execute_result"
    }
   ],
   "source": [
    "bus2.passengers is bus3.passengers"
   ]
  },
  {
   "cell_type": "code",
   "execution_count": 51,
   "id": "29ae9695-cc17-43d1-a739-8180976b2771",
   "metadata": {},
   "outputs": [
    {
     "data": {
      "text/plain": [
       "['Bill', 'Charlie']"
      ]
     },
     "execution_count": 51,
     "metadata": {},
     "output_type": "execute_result"
    }
   ],
   "source": [
    "bus1.passengers"
   ]
  },
  {
   "cell_type": "code",
   "execution_count": 52,
   "id": "3de53669-3f98-4580-8a97-5935ab484cc6",
   "metadata": {},
   "outputs": [
    {
     "data": {
      "text/plain": [
       "['__annotations__',\n",
       " '__builtins__',\n",
       " '__call__',\n",
       " '__class__',\n",
       " '__closure__',\n",
       " '__code__',\n",
       " '__defaults__',\n",
       " '__delattr__',\n",
       " '__dict__',\n",
       " '__dir__',\n",
       " '__doc__',\n",
       " '__eq__',\n",
       " '__format__',\n",
       " '__ge__',\n",
       " '__get__',\n",
       " '__getattribute__',\n",
       " '__globals__',\n",
       " '__gt__',\n",
       " '__hash__',\n",
       " '__init__',\n",
       " '__init_subclass__',\n",
       " '__kwdefaults__',\n",
       " '__le__',\n",
       " '__lt__',\n",
       " '__module__',\n",
       " '__name__',\n",
       " '__ne__',\n",
       " '__new__',\n",
       " '__qualname__',\n",
       " '__reduce__',\n",
       " '__reduce_ex__',\n",
       " '__repr__',\n",
       " '__setattr__',\n",
       " '__sizeof__',\n",
       " '__str__',\n",
       " '__subclasshook__']"
      ]
     },
     "execution_count": 52,
     "metadata": {},
     "output_type": "execute_result"
    }
   ],
   "source": [
    "dir(HauntedBus.__init__)"
   ]
  },
  {
   "cell_type": "code",
   "execution_count": 53,
   "id": "6116752c-03f3-4964-a36e-d8a43f4b8a72",
   "metadata": {},
   "outputs": [
    {
     "data": {
      "text/plain": [
       "(['Carrie', 'Dave'],)"
      ]
     },
     "execution_count": 53,
     "metadata": {},
     "output_type": "execute_result"
    }
   ],
   "source": [
    "HauntedBus.__init__.__defaults__"
   ]
  },
  {
   "cell_type": "code",
   "execution_count": 54,
   "id": "7ed35201-8346-4f7a-b83e-aadb447b65a4",
   "metadata": {},
   "outputs": [
    {
     "data": {
      "text/plain": [
       "True"
      ]
     },
     "execution_count": 54,
     "metadata": {},
     "output_type": "execute_result"
    }
   ],
   "source": [
    "HauntedBus.__init__.__defaults__[0] is bus2.passengers"
   ]
  },
  {
   "cell_type": "code",
   "execution_count": 55,
   "id": "229bc9ed-200b-46d7-869c-2104daa04eac",
   "metadata": {},
   "outputs": [
    {
     "data": {
      "text/plain": [
       "['Sue', 'Maya', 'Diana']"
      ]
     },
     "execution_count": 55,
     "metadata": {},
     "output_type": "execute_result"
    }
   ],
   "source": [
    "class TwilightBus:\n",
    "\n",
    "    def __init__(self, passengers=None):\n",
    "        if passengers is None:\n",
    "            self.passengers = []\n",
    "        else:\n",
    "            self.passengers = list(passengers)\n",
    "\n",
    "    def pick(self, name):\n",
    "        self.passengers.append(name)\n",
    "\n",
    "    def drop(self, name):\n",
    "        self.passengers.remove(name)\n",
    "\n",
    "basketball_team = ['Sue', 'Tina', 'Maya', 'Diana', 'Pat']\n",
    "bus = TwilightBus(basketball_team)\n",
    "bus.drop('Tina')\n",
    "bus.drop('Pat')\n",
    "basketball_team"
   ]
  },
  {
   "cell_type": "code",
   "execution_count": 56,
   "id": "57455e65-025a-4edb-b02e-3078ad8c3ec2",
   "metadata": {},
   "outputs": [
    {
     "data": {
      "text/plain": [
       "[1, 2]"
      ]
     },
     "execution_count": 56,
     "metadata": {},
     "output_type": "execute_result"
    }
   ],
   "source": [
    "a = [1,2]\n",
    "b = a\n",
    "del a\n",
    "b"
   ]
  },
  {
   "cell_type": "code",
   "execution_count": 57,
   "id": "d5bce685-498d-44ed-9dd6-8cff9ac16445",
   "metadata": {},
   "outputs": [],
   "source": [
    "b = [3]"
   ]
  },
  {
   "cell_type": "code",
   "execution_count": 58,
   "id": "1d0a68eb-862e-417f-84e9-fb0631b37d42",
   "metadata": {},
   "outputs": [
    {
     "data": {
      "text/plain": [
       "True"
      ]
     },
     "execution_count": 58,
     "metadata": {},
     "output_type": "execute_result"
    }
   ],
   "source": [
    "# GC works if refcount to an object is 0\n",
    "import weakref\n",
    "s1 = {1,2,3}\n",
    "s2 = s1\n",
    "def bye():\n",
    "    print('...like tears in the rain')\n",
    "\n",
    "ender = weakref.finalize(s1, bye)\n",
    "ender.alive"
   ]
  },
  {
   "cell_type": "code",
   "execution_count": 59,
   "id": "af136502-76b4-4796-8dfb-6ec5ed662bf5",
   "metadata": {},
   "outputs": [
    {
     "data": {
      "text/plain": [
       "True"
      ]
     },
     "execution_count": 59,
     "metadata": {},
     "output_type": "execute_result"
    }
   ],
   "source": [
    "del s1 # did not delete the object just the s1 reference\n",
    "ender.alive"
   ]
  },
  {
   "cell_type": "code",
   "execution_count": 60,
   "id": "080d8fd2-aa3f-4018-9ec5-e6ef12f21bef",
   "metadata": {},
   "outputs": [
    {
     "name": "stdout",
     "output_type": "stream",
     "text": [
      "...like tears in the rain\n"
     ]
    }
   ],
   "source": [
    "s2 = 'spam' # bye callback gets called because the only reference to s1 was s2"
   ]
  },
  {
   "cell_type": "code",
   "execution_count": 61,
   "id": "3bcfc2e2-4c9a-40d9-8a83-6c994b388779",
   "metadata": {},
   "outputs": [
    {
     "data": {
      "text/plain": [
       "False"
      ]
     },
     "execution_count": 61,
     "metadata": {},
     "output_type": "execute_result"
    }
   ],
   "source": [
    "ender.alive"
   ]
  },
  {
   "cell_type": "code",
   "execution_count": 62,
   "id": "15e7b3de-43c0-457c-a970-6aa0f6e6d6ab",
   "metadata": {},
   "outputs": [
    {
     "data": {
      "text/plain": [
       "True"
      ]
     },
     "execution_count": 62,
     "metadata": {},
     "output_type": "execute_result"
    }
   ],
   "source": [
    "t1 = (1,2,3)\n",
    "t2 = tuple(t1)\n",
    "t2 is t1"
   ]
  },
  {
   "cell_type": "code",
   "execution_count": 63,
   "id": "4cc9e06c-68c5-44de-ac82-6ee667bb6c4b",
   "metadata": {},
   "outputs": [
    {
     "data": {
      "text/plain": [
       "True"
      ]
     },
     "execution_count": 63,
     "metadata": {},
     "output_type": "execute_result"
    }
   ],
   "source": [
    "t3 = t1[:]\n",
    "t3 is t1"
   ]
  },
  {
   "cell_type": "code",
   "execution_count": 64,
   "id": "4d5024d1-eef7-4727-b33f-1dc2396d050c",
   "metadata": {},
   "outputs": [
    {
     "data": {
      "text/plain": [
       "False"
      ]
     },
     "execution_count": 64,
     "metadata": {},
     "output_type": "execute_result"
    }
   ],
   "source": [
    "t1 = (1,2,3)\n",
    "t3 = (1,2,3)\n",
    "t3 is t1"
   ]
  },
  {
   "cell_type": "code",
   "execution_count": 65,
   "id": "cd965b99-98cb-4e0d-a262-cff9c771f131",
   "metadata": {},
   "outputs": [
    {
     "data": {
      "text/plain": [
       "True"
      ]
     },
     "execution_count": 65,
     "metadata": {},
     "output_type": "execute_result"
    }
   ],
   "source": [
    "s1 = 'ABC'\n",
    "s2 = 'ABC'\n",
    "s2 is s1 # never depend on interning for strings or ints, always use =="
   ]
  },
  {
   "cell_type": "code",
   "execution_count": null,
   "id": "62d1de0d-6d6a-4f8e-9e4c-6bb22764f861",
   "metadata": {},
   "outputs": [],
   "source": []
  }
 ],
 "metadata": {
  "kernelspec": {
   "display_name": "Python 3 (ipykernel)",
   "language": "python",
   "name": "python3"
  },
  "language_info": {
   "codemirror_mode": {
    "name": "ipython",
    "version": 3
   },
   "file_extension": ".py",
   "mimetype": "text/x-python",
   "name": "python",
   "nbconvert_exporter": "python",
   "pygments_lexer": "ipython3",
   "version": "3.10.15"
  }
 },
 "nbformat": 4,
 "nbformat_minor": 5
}
