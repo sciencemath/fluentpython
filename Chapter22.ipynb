{
 "cells": [
  {
   "cell_type": "code",
   "execution_count": 1,
   "id": "2402a4ac-e5f0-462a-a707-665a8cb789fc",
   "metadata": {},
   "outputs": [
    {
     "data": {
      "text/plain": [
       "['conferences', 'events', 'speakers', 'venues']"
      ]
     },
     "execution_count": 1,
     "metadata": {},
     "output_type": "execute_result"
    }
   ],
   "source": [
    "import json\n",
    "\n",
    "with open('./osconfeed.json') as fp:\n",
    "    feed = json.load(fp)\n",
    "sorted(feed['Schedule'].keys())"
   ]
  },
  {
   "cell_type": "code",
   "execution_count": 2,
   "id": "31e6f82f-dbad-42e0-9d58-ce9f7bd29990",
   "metadata": {},
   "outputs": [
    {
     "name": "stdout",
     "output_type": "stream",
     "text": [
      "  1 conferences\n",
      "484 events\n",
      "357 speakers\n",
      " 53 venues\n"
     ]
    }
   ],
   "source": [
    "for key, value in sorted(feed['Schedule'].items()):\n",
    "    print(f'{len(value):3} {key}')"
   ]
  },
  {
   "cell_type": "code",
   "execution_count": 3,
   "id": "54117fbe-da72-4c05-a52e-bbf5e8cb0082",
   "metadata": {},
   "outputs": [
    {
     "data": {
      "text/plain": [
       "'Carina C. Zona'"
      ]
     },
     "execution_count": 3,
     "metadata": {},
     "output_type": "execute_result"
    }
   ],
   "source": [
    "feed['Schedule']['speakers'][-1]['name']"
   ]
  },
  {
   "cell_type": "code",
   "execution_count": 4,
   "id": "332b74d9-ceb8-48c3-864e-ff1fee7a2ddb",
   "metadata": {},
   "outputs": [
    {
     "data": {
      "text/plain": [
       "141590"
      ]
     },
     "execution_count": 4,
     "metadata": {},
     "output_type": "execute_result"
    }
   ],
   "source": [
    "feed['Schedule']['speakers'][-1]['serial']"
   ]
  },
  {
   "cell_type": "code",
   "execution_count": 6,
   "id": "9bb97f22-b57c-4671-9f4f-651c8dd3ad4a",
   "metadata": {},
   "outputs": [
    {
     "data": {
      "text/plain": [
       "'There *Will* Be Bugs'"
      ]
     },
     "execution_count": 6,
     "metadata": {},
     "output_type": "execute_result"
    }
   ],
   "source": [
    "feed['Schedule']['events'][40]['name']"
   ]
  },
  {
   "cell_type": "code",
   "execution_count": 7,
   "id": "585a5d46-d02f-4d56-aa85-d7fb9d6ea089",
   "metadata": {},
   "outputs": [
    {
     "data": {
      "text/plain": [
       "[3471, 5199]"
      ]
     },
     "execution_count": 7,
     "metadata": {},
     "output_type": "execute_result"
    }
   ],
   "source": [
    "feed['Schedule']['events'][40]['speakers']"
   ]
  },
  {
   "cell_type": "code",
   "execution_count": 67,
   "id": "0c88ea65-4713-459e-88f3-57a7e8cc42ee",
   "metadata": {},
   "outputs": [],
   "source": [
    "from collections import abc\n",
    "\n",
    "# So we can use . notation accessing objects in JSON\n",
    "class JavascriptJSON:\n",
    "    def __init__(self, mapping):\n",
    "        self.__data = dict(mapping)\n",
    "\n",
    "    def __getattr__(self, name):\n",
    "        if hasattr(self.__data, name):\n",
    "            return getattr(self.__data, name)\n",
    "        try:\n",
    "            return getattr(self.__data[name], name)\n",
    "        except AttributeError:\n",
    "            return JavascriptJSON.build(self.__data[name])\n",
    "\n",
    "    def __dir__(self):\n",
    "        return self.__data.key()\n",
    "\n",
    "    @classmethod\n",
    "    def build(cls, obj):\n",
    "        if isinstance(obj, abc.Mapping):\n",
    "            return cls(obj)\n",
    "        elif isinstance(obj, abc.MutableSequence):\n",
    "            return [cls.build(item) for item in obj]\n",
    "        else:\n",
    "            return obj"
   ]
  },
  {
   "cell_type": "code",
   "execution_count": 68,
   "id": "7370292e-ffad-4c35-827e-7f99ee3e2809",
   "metadata": {},
   "outputs": [
    {
     "data": {
      "text/plain": [
       "357"
      ]
     },
     "execution_count": 68,
     "metadata": {},
     "output_type": "execute_result"
    }
   ],
   "source": [
    "import json\n",
    "raw_feed = json.load(open('./osconfeed.json'))\n",
    "feed = JavascriptJSON(raw_feed)\n",
    "len(feed.Schedule.speakers)"
   ]
  },
  {
   "cell_type": "code",
   "execution_count": 55,
   "id": "05f05d8e-100d-4801-9674-b8869440e1f1",
   "metadata": {},
   "outputs": [
    {
     "name": "stdout",
     "output_type": "stream",
     "text": [
      "<class '__main__.JavascriptJSON'>\n"
     ]
    }
   ],
   "source": [
    "print(type(feed))\n",
    "#feed.__dir__()"
   ]
  },
  {
   "cell_type": "code",
   "execution_count": 56,
   "id": "53cdca86-f6a4-487c-bf23-0fc3d243bf8a",
   "metadata": {},
   "outputs": [
    {
     "data": {
      "text/plain": [
       "['conferences', 'events', 'speakers', 'venues']"
      ]
     },
     "execution_count": 56,
     "metadata": {},
     "output_type": "execute_result"
    }
   ],
   "source": [
    "sorted(feed.Schedule.keys())"
   ]
  },
  {
   "cell_type": "code",
   "execution_count": 57,
   "id": "81c7e4b1-7b0d-4123-bfd2-8351c0eb276d",
   "metadata": {},
   "outputs": [
    {
     "name": "stdout",
     "output_type": "stream",
     "text": [
      "  1 conferences\n",
      "484 events\n",
      "357 speakers\n",
      " 53 venues\n"
     ]
    }
   ],
   "source": [
    "for key, value in sorted(feed.Schedule.items()):\n",
    "    print(f'{len(value):3} {key}')"
   ]
  },
  {
   "cell_type": "code",
   "execution_count": 58,
   "id": "36fe0ee9-d189-4103-9c2b-991adc3019e3",
   "metadata": {},
   "outputs": [
    {
     "data": {
      "text/plain": [
       "'Carina C. Zona'"
      ]
     },
     "execution_count": 58,
     "metadata": {},
     "output_type": "execute_result"
    }
   ],
   "source": [
    "feed.Schedule.speakers[-1].name"
   ]
  },
  {
   "cell_type": "code",
   "execution_count": 59,
   "id": "50118f17-2b33-4dfd-8f91-a0e6cb67c7ec",
   "metadata": {},
   "outputs": [
    {
     "data": {
      "text/plain": [
       "__main__.JavascriptJSON"
      ]
     },
     "execution_count": 59,
     "metadata": {},
     "output_type": "execute_result"
    }
   ],
   "source": [
    "talk = feed.Schedule.events[40]\n",
    "type(talk)"
   ]
  },
  {
   "cell_type": "code",
   "execution_count": 60,
   "id": "34c0d345-d0e3-4058-a2ff-be8f17b49e48",
   "metadata": {},
   "outputs": [
    {
     "data": {
      "text/plain": [
       "'There *Will* Be Bugs'"
      ]
     },
     "execution_count": 60,
     "metadata": {},
     "output_type": "execute_result"
    }
   ],
   "source": [
    "talk.name"
   ]
  },
  {
   "cell_type": "code",
   "execution_count": 61,
   "id": "62f01a57-ffa6-42f9-9eda-17da51750097",
   "metadata": {},
   "outputs": [
    {
     "data": {
      "text/plain": [
       "[3471, 5199]"
      ]
     },
     "execution_count": 61,
     "metadata": {},
     "output_type": "execute_result"
    }
   ],
   "source": [
    "talk.speakers"
   ]
  },
  {
   "cell_type": "code",
   "execution_count": 62,
   "id": "7c6e117e-b9d9-4d50-a4a7-c026cd1a9e95",
   "metadata": {},
   "outputs": [
    {
     "ename": "KeyError",
     "evalue": "'flavor'",
     "output_type": "error",
     "traceback": [
      "\u001b[0;31m---------------------------------------------------------------------------\u001b[0m",
      "\u001b[0;31mKeyError\u001b[0m                                  Traceback (most recent call last)",
      "Cell \u001b[0;32mIn[62], line 1\u001b[0m\n\u001b[0;32m----> 1\u001b[0m \u001b[43mtalk\u001b[49m\u001b[38;5;241;43m.\u001b[39;49m\u001b[43mflavor\u001b[49m \u001b[38;5;66;03m# Keyerror\u001b[39;00m\n",
      "Cell \u001b[0;32mIn[53], line 12\u001b[0m, in \u001b[0;36mJavascriptJSON.__getattr__\u001b[0;34m(self, name)\u001b[0m\n\u001b[1;32m     10\u001b[0m     \u001b[38;5;28;01mreturn\u001b[39;00m \u001b[38;5;28mgetattr\u001b[39m(\u001b[38;5;28mself\u001b[39m\u001b[38;5;241m.\u001b[39m__data, name)\n\u001b[1;32m     11\u001b[0m \u001b[38;5;28;01mtry\u001b[39;00m:\n\u001b[0;32m---> 12\u001b[0m     \u001b[38;5;28;01mreturn\u001b[39;00m \u001b[38;5;28mgetattr\u001b[39m(\u001b[38;5;28;43mself\u001b[39;49m\u001b[38;5;241;43m.\u001b[39;49m\u001b[43m__data\u001b[49m\u001b[43m[\u001b[49m\u001b[43mname\u001b[49m\u001b[43m]\u001b[49m, name)\n\u001b[1;32m     13\u001b[0m \u001b[38;5;28;01mexcept\u001b[39;00m \u001b[38;5;167;01mAttributeError\u001b[39;00m:\n\u001b[1;32m     14\u001b[0m     \u001b[38;5;28;01mreturn\u001b[39;00m JavascriptJSON\u001b[38;5;241m.\u001b[39mbuild(\u001b[38;5;28mself\u001b[39m\u001b[38;5;241m.\u001b[39m__data[name])\n",
      "\u001b[0;31mKeyError\u001b[0m: 'flavor'"
     ]
    }
   ],
   "source": [
    "talk.flavor # Keyerror"
   ]
  },
  {
   "cell_type": "code",
   "execution_count": 69,
   "id": "5b13779f-d044-4c84-a701-63ae1c69f35c",
   "metadata": {},
   "outputs": [],
   "source": [
    "# To prevent invalid attribute access, append an _ after the keyword:\n",
    "# student.class will produce an error so we need to access like this student.class_\n",
    "import keyword\n",
    "\n",
    "def __init__(self, mapping):\n",
    "    self.__data = {}\n",
    "    for key, value in mapping.items():\n",
    "        if keyword.iskeyword(key):\n",
    "            key += '_'\n",
    "        self.__data[key] = value"
   ]
  },
  {
   "cell_type": "code",
   "execution_count": 70,
   "id": "24d9416f-0a9f-438c-8366-4a6a45b60dcb",
   "metadata": {},
   "outputs": [],
   "source": [
    "# using new\n",
    "class JavascriptJSON:\n",
    "    def __new__(cls, arg):\n",
    "        if isinstance(arg, abc.Mapping):\n",
    "            return super().__new__(cls)\n",
    "        elif isinstance(arg, abc.MutableSequence):\n",
    "            return [cls(item) for item in arg]\n",
    "        else:\n",
    "            return arg\n",
    "\n",
    "    def __init__(self, mapping):\n",
    "        self.__data = {}\n",
    "        for key, value in mapping.items():\n",
    "            if keyword.iskeyword(key):\n",
    "                key += '_'\n",
    "            self.__data[key] = value\n",
    "\n",
    "    def __getattr__(self, name):\n",
    "        try:\n",
    "            return getattr(self.__data, name)\n",
    "        except AttributeError:\n",
    "            return JavascriptJSON(self.__data[name])\n",
    "\n",
    "    def __dir__(self):\n",
    "        return self.__data.keys()"
   ]
  },
  {
   "cell_type": "code",
   "execution_count": 71,
   "id": "01cc9c07-e222-4297-abe9-89e8095bfa0e",
   "metadata": {},
   "outputs": [
    {
     "ename": "SyntaxError",
     "evalue": "unterminated string literal (detected at line 3) (4288273551.py, line 3)",
     "output_type": "error",
     "traceback": [
      "\u001b[0;36m  Cell \u001b[0;32mIn[71], line 3\u001b[0;36m\u001b[0m\n\u001b[0;31m    JSON_PATH = './osconfeed.json\u001b[0m\n\u001b[0m                ^\u001b[0m\n\u001b[0;31mSyntaxError\u001b[0m\u001b[0;31m:\u001b[0m unterminated string literal (detected at line 3)\n"
     ]
    }
   ],
   "source": [
    "# Goal\n",
    "# records = load(JSON_PATH)\n",
    "# speaker = records['speaker.3471']\n",
    "import json\n",
    "\n",
    "JSON_PATH = './osconfeed.json'\n",
    "\n",
    "class Record:\n",
    "    def __init__(self, **kwargs):\n",
    "        self.__dict__.update(kwargs)\n",
    "\n",
    "    def __repr__(self):\n",
    "        return f'<{self.__class__.__name__} serial={self.serial!r}>'\n",
    "\n",
    "def load(path=JSON_PATH):\n",
    "    records = {}\n",
    "    with open(path) as fp:\n",
    "        raw_data = json.load(fp)\n",
    "    for collection, raw_records in raw_data['Schedule'].items():\n",
    "        record_type = collection[:-1] # to remove the s in the last character, also .removesuffix('s') works\n",
    "        for raw_record in raw_records:\n",
    "            key = f'{record_type}.{raw_record[\"serial\"]}'\n",
    "            records[key] = Record(**raw_record)\n",
    "    return records"
   ]
  },
  {
   "cell_type": "code",
   "execution_count": 72,
   "id": "7c978dca-df41-463e-8410-903f9b6e1d6e",
   "metadata": {},
   "outputs": [],
   "source": [
    "# Goal\n",
    "# event = Record.fetch('event.33950')\n",
    "# event\n",
    "# <Event 'There *Will* Be Bugs'>\n",
    "# event.venue\n",
    "# <Record serial=1449>\n",
    "# event.venue.name\n",
    "import inspect\n",
    "import json\n",
    "\n",
    "JSON_PATH = './osconfeed.json'\n",
    "\n",
    "class Record:\n",
    "    __index = None\n",
    "    \n",
    "    def __init__(self, **kwargs):\n",
    "        self.__dict__.update(kwargs)\n",
    "\n",
    "    def __repr__(self):\n",
    "        return f'<{self.__class__.__name__} serial={self.serial!r}>'\n",
    "\n",
    "    @staticmethod\n",
    "    def fetch(key):\n",
    "        if Record.__index is None:\n",
    "            Record.__index = load()\n",
    "        return Record.__index[key]"
   ]
  },
  {
   "cell_type": "code",
   "execution_count": 79,
   "id": "730c4042-c079-47b2-89e5-535ec8efeb61",
   "metadata": {},
   "outputs": [],
   "source": [
    "from functools import cached_property\n",
    "\n",
    "class Event(Record):\n",
    "    def __init__(self, **kwargs):\n",
    "        self.__speaker_objs = None\n",
    "        super().__init__(**kwargs)\n",
    "    \n",
    "    def __repr__(self):\n",
    "        try:\n",
    "            return f'<{self.__class__.__name__} {self.name!r}>'\n",
    "        except AttributeError:\n",
    "            return super().__repr__()\n",
    "\n",
    "    @property\n",
    "    def venue(self):\n",
    "        key = f'venue.{self.venue_serial}'\n",
    "        # if an event record had a key named 'fetch', then within that specific\n",
    "        # Event instance, the reference self.fetch would retrieve the value of that field,\n",
    "        # instead of the fetch class method that Event inherits from Record, hence:\n",
    "        # self.__class__.fetch(key) not self.fetch(key)\n",
    "        return self.__class__.fetch(key)\n",
    "\n",
    "    @cached_property\n",
    "    def speakers(self):\n",
    "        spkr_serials = self.__dict__['speakers']\n",
    "        fetch = self.__class__.fetch\n",
    "        return [fetch(f'speaker.{key}')\n",
    "                for key in spkr_serials]\n",
    "\n",
    "    # @property\n",
    "    # def speakers(self):\n",
    "    #     if self.__speaker_objs is None: # cache\n",
    "    #         spkr_serials = self.__dict__['speakers'] # recursion is avoided\n",
    "    #         fetch = self.__class__.fetch\n",
    "    #         self.__speaker_obj = [fetch(f'speaker.{key}')\n",
    "    #                               for key in spkr_serials]\n",
    "    #     return self.__speaker_obj"
   ]
  },
  {
   "cell_type": "code",
   "execution_count": 74,
   "id": "cca34d3b-9e98-4bf9-805c-32832a649bb4",
   "metadata": {},
   "outputs": [],
   "source": [
    "def load(path=JSON_PATH):\n",
    "    records = {}\n",
    "    with open(path) as fp:\n",
    "        raw_data = json.load(fp)\n",
    "    for collection, raw_records in raw_data['Schedule'].items():\n",
    "        record_type = collection[:-1]\n",
    "        cls_name = record_type.capitalize()\n",
    "        cls = globals().get(cls_name, Record)\n",
    "        if inspect.isclass(cls) and issubclass(cls, Record):\n",
    "            factory = cls\n",
    "        else:\n",
    "            factory = Record\n",
    "        for raw_record in raw_records:\n",
    "            key = f'{record_type}.{raw_record[\"serial\"]}'\n",
    "            records[key] = factory(**raw_record)\n",
    "    return records"
   ]
  },
  {
   "cell_type": "code",
   "execution_count": 85,
   "id": "ddd838b4-3b59-461e-a73b-836e3d90d4de",
   "metadata": {},
   "outputs": [],
   "source": [
    "# getter and setter for values that could be overwritten with `-`\n",
    "# we prevent that here\n",
    "def quantity(storage_name):\n",
    "    def qty_getter(instance): # not self but in this case LineItem or instance (to be general)\n",
    "        return instance.__dict__[storage_name]\n",
    "\n",
    "    def qty_setter(instance, value):\n",
    "        if value > 0:\n",
    "            instance.__dict__[storage_name] = value\n",
    "        else:\n",
    "            raise ValueError('value must be > 0')\n",
    "\n",
    "    return property(qty_getter, qty_setter)\n",
    "\n",
    "class LineItem:\n",
    "    weight = quantity('weight')\n",
    "    price = quantity('price')\n",
    "    \n",
    "    def __init__(self, description, weight, price):\n",
    "        self.description = description\n",
    "        self.weight = weight\n",
    "        self.price = price\n",
    "\n",
    "    def subtotal(self):\n",
    "        return self.weight * self.price\n",
    "\n",
    "    # @property\n",
    "    # def weight(self):\n",
    "    #     return self.__weight\n",
    "\n",
    "    # @weight.setter\n",
    "    # def weight(self, value):\n",
    "    #     if value > 0:\n",
    "    #         self.__weight = value\n",
    "    #     else:\n",
    "    #         raise ValueError('value must be > 0')"
   ]
  },
  {
   "cell_type": "code",
   "execution_count": 87,
   "id": "c93ef839-7a28-4e3e-81fc-b1be2c9a681f",
   "metadata": {},
   "outputs": [
    {
     "data": {
      "text/plain": [
       "(20, 35.23)"
      ]
     },
     "execution_count": 87,
     "metadata": {},
     "output_type": "execute_result"
    }
   ],
   "source": [
    "turkey = LineItem('thanksgiving turkey', 20, 35.23)\n",
    "turkey.weight, turkey.price"
   ]
  },
  {
   "cell_type": "code",
   "execution_count": 102,
   "id": "d118184e-fbfd-48bc-99a1-8336fcb6cacd",
   "metadata": {},
   "outputs": [
    {
     "data": {
      "text/plain": [
       "{'description': 'thanksgiving turkey', 'weight': 20, 'price': 35.23}"
      ]
     },
     "execution_count": 102,
     "metadata": {},
     "output_type": "execute_result"
    }
   ],
   "source": [
    "# the weight property overrides the weight instance attribute so \n",
    "# that every reference to self.weight or turkey.weight is handled\n",
    "# by the property functions, and the only way to bypass the\n",
    "# property logic is to access the instance __dict__ directly\n",
    "turkey.__dict__"
   ]
  },
  {
   "cell_type": "code",
   "execution_count": 103,
   "id": "f11a4e06-898e-46c8-926a-b371d38618ee",
   "metadata": {},
   "outputs": [
    {
     "data": {
      "text/plain": [
       "{'description': 'thanksgiving turkey', 'weight': 20, 'price': 35.23}"
      ]
     },
     "execution_count": 103,
     "metadata": {},
     "output_type": "execute_result"
    }
   ],
   "source": [
    "vars(turkey) # locals()"
   ]
  },
  {
   "cell_type": "code",
   "execution_count": 91,
   "id": "01b030d5-6b6f-4666-99fe-7629b6f52265",
   "metadata": {},
   "outputs": [
    {
     "data": {
      "text/plain": [
       "'red'"
      ]
     },
     "execution_count": 91,
     "metadata": {},
     "output_type": "execute_result"
    }
   ],
   "source": [
    "class Demo:\n",
    "    pass\n",
    "\n",
    "d = Demo()\n",
    "d.color = 'red'\n",
    "d.color"
   ]
  },
  {
   "cell_type": "code",
   "execution_count": 92,
   "id": "634df96f-5666-4976-b772-d88636b5c16a",
   "metadata": {},
   "outputs": [],
   "source": [
    "del d.color"
   ]
  },
  {
   "cell_type": "code",
   "execution_count": 93,
   "id": "2426c0d0-f670-4bf1-b4f2-480d9481aa89",
   "metadata": {},
   "outputs": [
    {
     "ename": "AttributeError",
     "evalue": "'Demo' object has no attribute 'color'",
     "output_type": "error",
     "traceback": [
      "\u001b[0;31m---------------------------------------------------------------------------\u001b[0m",
      "\u001b[0;31mAttributeError\u001b[0m                            Traceback (most recent call last)",
      "Cell \u001b[0;32mIn[93], line 1\u001b[0m\n\u001b[0;32m----> 1\u001b[0m \u001b[43md\u001b[49m\u001b[38;5;241;43m.\u001b[39;49m\u001b[43mcolor\u001b[49m\n",
      "\u001b[0;31mAttributeError\u001b[0m: 'Demo' object has no attribute 'color'"
     ]
    }
   ],
   "source": [
    "d.color"
   ]
  },
  {
   "cell_type": "code",
   "execution_count": 96,
   "id": "bac4aaeb-8519-4b51-8305-00cbc2bbb2b3",
   "metadata": {},
   "outputs": [],
   "source": [
    "class BlackKnight:\n",
    "    def __init__(self):\n",
    "        self.phrases = [\n",
    "            ('an arm', \"'Tis but a scratch\"),\n",
    "            ('another arm', \"It's just a flesh wound.\"),\n",
    "            ('a leg', \"I'm invincible!\"),\n",
    "            ('another leg', \"All right, we'll call it a draw.\")\n",
    "        ]\n",
    "\n",
    "    @property\n",
    "    def member(self):\n",
    "        print('next member is:')\n",
    "        return self.phrases[0][0]\n",
    "\n",
    "    # member = property(member_getter, fdel=member_deleter)\n",
    "    @member.deleter\n",
    "    def member(self):\n",
    "        member, text = self.phrases.pop(0)\n",
    "        print(f'BLACK KNIGHT (loses {member}) -- {text}')"
   ]
  },
  {
   "cell_type": "code",
   "execution_count": 97,
   "id": "0d813da8-8c62-4b2b-beec-1b9f94946747",
   "metadata": {},
   "outputs": [
    {
     "name": "stdout",
     "output_type": "stream",
     "text": [
      "next member is:\n"
     ]
    },
    {
     "data": {
      "text/plain": [
       "'an arm'"
      ]
     },
     "execution_count": 97,
     "metadata": {},
     "output_type": "execute_result"
    }
   ],
   "source": [
    "knight = BlackKnight()\n",
    "knight.member"
   ]
  },
  {
   "cell_type": "code",
   "execution_count": 98,
   "id": "8a6b72dc-6299-49a4-a5c8-d2c354176b83",
   "metadata": {},
   "outputs": [
    {
     "name": "stdout",
     "output_type": "stream",
     "text": [
      "BLACK KNIGHT (loses an arm) -- 'Tis but a scratch\n"
     ]
    }
   ],
   "source": [
    "del knight.member"
   ]
  },
  {
   "cell_type": "code",
   "execution_count": 99,
   "id": "18877dc5-51f7-4b07-8cae-64da47fd6260",
   "metadata": {},
   "outputs": [
    {
     "name": "stdout",
     "output_type": "stream",
     "text": [
      "BLACK KNIGHT (loses another arm) -- It's just a flesh wound.\n"
     ]
    }
   ],
   "source": [
    "del knight.member"
   ]
  },
  {
   "cell_type": "code",
   "execution_count": 100,
   "id": "eac8e9ef-c2d2-4587-8263-d20fb1f56e19",
   "metadata": {},
   "outputs": [
    {
     "name": "stdout",
     "output_type": "stream",
     "text": [
      "BLACK KNIGHT (loses a leg) -- I'm invincible!\n"
     ]
    }
   ],
   "source": [
    "del knight.member"
   ]
  },
  {
   "cell_type": "code",
   "execution_count": 101,
   "id": "cba1d681-1f9e-41a5-9bcd-e65a2ee6acaa",
   "metadata": {},
   "outputs": [
    {
     "name": "stdout",
     "output_type": "stream",
     "text": [
      "BLACK KNIGHT (loses another leg) -- All right, we'll call it a draw.\n"
     ]
    }
   ],
   "source": [
    "del knight.member"
   ]
  },
  {
   "cell_type": "code",
   "execution_count": 104,
   "id": "63a12036-84da-4ad1-9664-858469e4df72",
   "metadata": {},
   "outputs": [
    {
     "data": {
      "text/plain": [
       "'\\nobj.__class__ = type(obj)\\n\\n__getattr__ is only invoked after __getattribute__, and\\nonly when __getattribute__ raises AttributeError.\\n\\nTo retrieve attributes of\\nthe instance obj without triggering an infinite recursion, implementations of\\n__getattribute__ should use super().__getattribute__(obj, name).\\n'"
      ]
     },
     "execution_count": 104,
     "metadata": {},
     "output_type": "execute_result"
    }
   ],
   "source": [
    "\"\"\"\n",
    "obj.__class__ = type(obj)\n",
    "\n",
    "__getattr__ is only invoked after __getattribute__, and\n",
    "only when __getattribute__ raises AttributeError.\n",
    "\n",
    "To retrieve attributes of\n",
    "the instance obj without triggering an infinite recursion, implementations of\n",
    "__getattribute__ should use super().__getattribute__(obj, name).\n",
    "\"\"\""
   ]
  },
  {
   "cell_type": "code",
   "execution_count": null,
   "id": "ba677068-d77d-4b36-ab91-126f34e4c63e",
   "metadata": {},
   "outputs": [],
   "source": []
  }
 ],
 "metadata": {
  "kernelspec": {
   "display_name": "Python 3 (ipykernel)",
   "language": "python",
   "name": "python3"
  },
  "language_info": {
   "codemirror_mode": {
    "name": "ipython",
    "version": 3
   },
   "file_extension": ".py",
   "mimetype": "text/x-python",
   "name": "python",
   "nbconvert_exporter": "python",
   "pygments_lexer": "ipython3",
   "version": "3.10.15"
  }
 },
 "nbformat": 4,
 "nbformat_minor": 5
}
