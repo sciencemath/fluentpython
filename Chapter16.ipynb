{
 "cells": [
  {
   "cell_type": "code",
   "execution_count": 4,
   "id": "f138316a-b729-4f92-b266-ede94266fb7a",
   "metadata": {},
   "outputs": [
    {
     "data": {
      "text/plain": [
       "Decimal('0.3333333333333333333333333333333333333333')"
      ]
     },
     "execution_count": 4,
     "metadata": {},
     "output_type": "execute_result"
    }
   ],
   "source": [
    "# A changer in the arithmetic context precision may cause x to differ from +x\n",
    "import decimal\n",
    "\n",
    "ctx = decimal.getcontext()\n",
    "ctx.prec = 40\n",
    "one_third = decimal.Decimal('1') / decimal.Decimal('3')\n",
    "one_third"
   ]
  },
  {
   "cell_type": "code",
   "execution_count": 5,
   "id": "b7960a2f-512b-4ebb-8cc0-feb0f6a13621",
   "metadata": {},
   "outputs": [
    {
     "data": {
      "text/plain": [
       "True"
      ]
     },
     "execution_count": 5,
     "metadata": {},
     "output_type": "execute_result"
    }
   ],
   "source": [
    "one_third == +one_third"
   ]
  },
  {
   "cell_type": "code",
   "execution_count": 6,
   "id": "7ad794a1-a0d5-4094-bcb8-dbbcefd0b7c4",
   "metadata": {},
   "outputs": [
    {
     "data": {
      "text/plain": [
       "False"
      ]
     },
     "execution_count": 6,
     "metadata": {},
     "output_type": "execute_result"
    }
   ],
   "source": [
    "ctx.prec = 28\n",
    "one_third == +one_third"
   ]
  },
  {
   "cell_type": "code",
   "execution_count": 9,
   "id": "f102278e-f178-4451-a023-9147dd8874cf",
   "metadata": {},
   "outputs": [
    {
     "data": {
      "text/plain": [
       "Decimal('0.3333333333333333333333333333')"
      ]
     },
     "execution_count": 9,
     "metadata": {},
     "output_type": "execute_result"
    }
   ],
   "source": [
    "# false because +one_third produces a new instance\n",
    "+one_third"
   ]
  },
  {
   "cell_type": "code",
   "execution_count": 10,
   "id": "28531de7-99e2-40b6-83d6-487dee74a7e4",
   "metadata": {},
   "outputs": [
    {
     "data": {
      "text/plain": [
       "Decimal('0.3333333333333333333333333333333333333333')"
      ]
     },
     "execution_count": 10,
     "metadata": {},
     "output_type": "execute_result"
    }
   ],
   "source": [
    "one_third"
   ]
  },
  {
   "cell_type": "code",
   "execution_count": 13,
   "id": "6c298a77-99dc-40ce-9edf-394e1e9b9cb5",
   "metadata": {},
   "outputs": [
    {
     "data": {
      "text/plain": [
       "Counter({'a': 5, 'b': 3, 'd': 2, 'r': 2, 'c': 1})"
      ]
     },
     "execution_count": 13,
     "metadata": {},
     "output_type": "execute_result"
    }
   ],
   "source": [
    "from collections import Counter\n",
    "\n",
    "ct = Counter('abdbracadabra')\n",
    "ct"
   ]
  },
  {
   "cell_type": "code",
   "execution_count": 16,
   "id": "2a910018-f0ef-46f6-a47f-07dcf6441aff",
   "metadata": {},
   "outputs": [],
   "source": [
    "ct['r'] = -3"
   ]
  },
  {
   "cell_type": "code",
   "execution_count": 17,
   "id": "a330c325-02f0-41ee-8065-eec8fb3096f7",
   "metadata": {},
   "outputs": [],
   "source": [
    "ct['d'] = 0"
   ]
  },
  {
   "cell_type": "code",
   "execution_count": 18,
   "id": "190861b0-b0cd-401d-b167-c2777ae65986",
   "metadata": {},
   "outputs": [
    {
     "data": {
      "text/plain": [
       "Counter({'a': 5, 'b': 3, 'c': 1, 'd': 0, 'r': -3})"
      ]
     },
     "execution_count": 18,
     "metadata": {},
     "output_type": "execute_result"
    }
   ],
   "source": [
    "ct"
   ]
  },
  {
   "cell_type": "code",
   "execution_count": 20,
   "id": "3af56eea-0da2-459b-a1ce-d2b750f3e8b0",
   "metadata": {},
   "outputs": [
    {
     "data": {
      "text/plain": [
       "Counter({'a': 5, 'b': 3, 'c': 1})"
      ]
     },
     "execution_count": 20,
     "metadata": {},
     "output_type": "execute_result"
    }
   ],
   "source": [
    "+ct # NOTICE! this excludes `-` and 0!"
   ]
  },
  {
   "cell_type": "code",
   "execution_count": 81,
   "id": "7864a285-c021-44d4-8065-09553f6ff6e0",
   "metadata": {},
   "outputs": [],
   "source": [
    "# class from Chapter12 (some methods added)\n",
    "from array import array\n",
    "import reprlib\n",
    "import operator\n",
    "import math\n",
    "import functools\n",
    "import itertools\n",
    "from collections.abc import Sized, Iterable\n",
    "\n",
    "class Vector:\n",
    "    __match_args__ = ('x', 'y', 'z', 't')\n",
    "    typecode = 'd'\n",
    "    \n",
    "    def __init__(self, components):\n",
    "        self._components = array(self.typecode, components)\n",
    "\n",
    "    def __iter__(self):\n",
    "        return iter(self._components)\n",
    "\n",
    "    def __repr__(self):\n",
    "        components = reprlib.repr(self._components)  # used to limit the console logs with ...\n",
    "        components = components[components.find('['):-1]\n",
    "        return f'Vector({components})'\n",
    "\n",
    "    def __str__(self):\n",
    "        return str(tuple(self))\n",
    "\n",
    "    def __bytes__(self):\n",
    "        return (bytes([ord(self.typecode)]) +\n",
    "                bytes(array(self.typecode, self)))\n",
    "\n",
    "    def __eq__(self, other):\n",
    "        if isinstance(other, Vector):\n",
    "            return (len(self) == len(other) and\n",
    "                    all(a == b for a, b in zip(self, other)))\n",
    "        else:\n",
    "            return NotImplemented\n",
    "        # 3rd iteration\n",
    "        # return len(self) == len(other) and all(a == b for a, b in zip(self, other))\n",
    "        # 2nd iteration\n",
    "        # if len(self) != len(other):\n",
    "        #     return False\n",
    "        # for a, b in zip(self, other):\n",
    "        #     if a != b:\n",
    "        #         return False\n",
    "        # return True\n",
    "        # 1st iteration\n",
    "        # return tuple(self) == tuple(other) # creating two tuples, and what about large multidimensional vectors\n",
    "\n",
    "    def __abs__(self):\n",
    "        return math.hypot(self.x, self.y)\n",
    "\n",
    "    def __bool__(self):\n",
    "        return bool(abs(self))\n",
    "\n",
    "    def __len__(self):\n",
    "        return len(self._components)\n",
    "\n",
    "    def __getitem__(self, key):\n",
    "        if isinstance(key, slice):\n",
    "            cls = type(self)\n",
    "            return cls(self._components[key])\n",
    "        index = operator.index(key)\n",
    "        return self._components[index]\n",
    "\n",
    "    def __getattr__(self, name):\n",
    "        cls = type(self)\n",
    "        try:\n",
    "            pos = cls.__match_args__.index(name)\n",
    "        except ValueError:\n",
    "            pos = -1\n",
    "        if 0 <= pos < len(self._components):\n",
    "            return self._components[pos]\n",
    "        msg = f'{cls.__name_!r} object has no attribute {name!r}'\n",
    "        raise AttributeError(msg)\n",
    "\n",
    "    def __setattr__(self, name, value):\n",
    "        cls = type(self)\n",
    "        if len(name) == 1:\n",
    "            if name in cls.__match_args__:\n",
    "                error = 'readonly attribute {attr_name!r}'\n",
    "            elif name.islower():\n",
    "                error = \"can't set attributes 'a' to 'z' in {cls_name!r}\"\n",
    "            else:\n",
    "                error = ''\n",
    "            if error:\n",
    "                msg = error.format(cls_name=cls.__name__, attr_name=name)\n",
    "                raise AttributeError(msg)\n",
    "        super().__setattr__(name, value)\n",
    "\n",
    "    def __hash__(self):\n",
    "        hashes = (hash(x) for x in self._components)\n",
    "        # hashes = map(hash, self._components) # Python 2 would be slower here but Python 3 map is lazy it creates a generator\n",
    "        return functools.reduce(operator.xor, hashes, 0)\n",
    "\n",
    "    def angle(self, n):\n",
    "        r = math.hypot(*self[n:])\n",
    "        a = math.atan2(r, self[n-1])\n",
    "        if (n == len(self) - 1) and (self[-1] < 0):\n",
    "            return math.pi * 2 - a\n",
    "        else:\n",
    "            return a\n",
    "\n",
    "    def angles(self):\n",
    "        return (self.angle(n) for n in range(1, len(self)))\n",
    "\n",
    "    def __format__(self, fmt_spec=''):\n",
    "        if fmt_spec.endswith('h'): # hyperspherical coordinates\n",
    "            fmt_spec = fmt_spec[:-1]\n",
    "            coords = itertools.chain([abs(self)], self.angles())\n",
    "            outer_fmt = '<{}>'\n",
    "        else:\n",
    "            coords = self\n",
    "            outer_fmt = '({})'\n",
    "        components = (format(c, fmt_spec) for c in coords)\n",
    "        return outer_fmt.format(', '.join(components))\n",
    "\n",
    "    def __abs__(self):\n",
    "        return math.hypot(*self)\n",
    "\n",
    "    def __neg__(self):\n",
    "        return Vector(-x for x in self)\n",
    "\n",
    "    def __pos__(self):\n",
    "        return Vector(self)\n",
    "\n",
    "    # Overload `+`\n",
    "    def __add__(self, other):\n",
    "        try:\n",
    "            pairs = itertools.zip_longest(self, other, fillvalue=0.0)\n",
    "            return Vector(a + b for a, b in pairs)\n",
    "        except TypeError:\n",
    "            return NotImplemented\n",
    "\n",
    "    # Overload `*`\n",
    "    def __mul__(self, scalar):\n",
    "        try:\n",
    "            factor = float(scalar)\n",
    "        except TypeError:\n",
    "            return NotImplemented\n",
    "        return Vector(n * scalar for n in self)\n",
    "\n",
    "    def __rmul__(self, scalar):\n",
    "        return self * scalar\n",
    "\n",
    "    # or simply __radd__ = __add__\n",
    "    def __radd__(self, other):\n",
    "        return self + other\n",
    "\n",
    "    # v1 @ v2 matrix multiply\n",
    "    def __matmul__(self, other):\n",
    "        if (isinstance(other, Sized) and\n",
    "            isinstance(other, Iterable)):\n",
    "            if len(self) == len(other):\n",
    "                return sum(a * b for a, b in zip(self, other))\n",
    "            else:\n",
    "                raise ValueError('@ requires vectors of equal length.')\n",
    "        else:\n",
    "            return NotImplemented\n",
    "\n",
    "    def __rmatmul__(self, other):\n",
    "        return self @ other\n",
    "\n",
    "    @classmethod\n",
    "    def frombytes(cls, octets):\n",
    "        typecode = chr(octets[0])\n",
    "        memv = memoryview(octets[1:]).cast(typecode)\n",
    "        return cls(memv)"
   ]
  },
  {
   "cell_type": "code",
   "execution_count": 35,
   "id": "51e3338b-6f02-4f92-8128-1b351547e725",
   "metadata": {},
   "outputs": [
    {
     "data": {
      "text/plain": [
       "Vector([9.0, 11.0, 13.0])"
      ]
     },
     "execution_count": 35,
     "metadata": {},
     "output_type": "execute_result"
    }
   ],
   "source": [
    "v1 = Vector([3,4,5])\n",
    "v2 = Vector([6,7,8])\n",
    "v1 + v2"
   ]
  },
  {
   "cell_type": "code",
   "execution_count": 36,
   "id": "569bf60f-816b-4ac3-b366-5092cd7bdee9",
   "metadata": {},
   "outputs": [
    {
     "data": {
      "text/plain": [
       "True"
      ]
     },
     "execution_count": 36,
     "metadata": {},
     "output_type": "execute_result"
    }
   ],
   "source": [
    "v1 + v2 == Vector([3+6, 4+7, 5+8])"
   ]
  },
  {
   "cell_type": "code",
   "execution_count": 37,
   "id": "45c7e450-a189-48bc-bdca-914a25c44054",
   "metadata": {},
   "outputs": [
    {
     "data": {
      "text/plain": [
       "Vector([4.0, 6.0, 5.0, 6.0])"
      ]
     },
     "execution_count": 37,
     "metadata": {},
     "output_type": "execute_result"
    }
   ],
   "source": [
    "v1 = Vector([3,4,5,6])\n",
    "v3 = Vector([1,2])\n",
    "v1 + v3 # if the vectors are of different lengths we just implicitly fill with zeros"
   ]
  },
  {
   "cell_type": "code",
   "execution_count": 38,
   "id": "b6901574-a9f2-454c-a95a-e40e01801945",
   "metadata": {},
   "outputs": [],
   "source": [
    "# class from Chapter 11\n",
    "class Vector2d:\n",
    "    __match_args__ = ('x', 'y') # you can see why this is needed below, we don't need to include all the public instance attributes in case of optional\n",
    "    __slots__ = ('__x', '__y') # why? shown below\n",
    "    typecode = 'd'\n",
    "\n",
    "    # x, and y should be private hense two leading underscore, sometimes _ is more common but _ is sometimes used as protected and some people think protected means private :(\n",
    "    def __init__(self, x, y):\n",
    "        self.__x = float(x)\n",
    "        self.__y = float(y)\n",
    "\n",
    "    @property\n",
    "    def x(self):\n",
    "        return self.__x\n",
    "\n",
    "    @property\n",
    "    def y(self):\n",
    "        return self.__y\n",
    "\n",
    "    def __iter__(self):\n",
    "        return (i for i in (self.x, self.y))\n",
    "\n",
    "    def __repr__(self):\n",
    "        class_name = type(self).__name__\n",
    "        return '{}({!r}, {!r})'.format(class_name, *self)\n",
    "\n",
    "    def __str__(self):\n",
    "        return str(tuple(self))\n",
    "\n",
    "    def __bytes__(self):\n",
    "        return (bytes([ord(self.typecode)]) +\n",
    "                bytes(array(self.typecode, self)))\n",
    "\n",
    "    def __eq__(self, other):\n",
    "        return tuple(self) == tuple(other)\n",
    "\n",
    "    def __abs__(self):\n",
    "        return math.hypot(self.x, self.y)\n",
    "\n",
    "    def __bool__(self):\n",
    "        return bool(abs(self))\n",
    "\n",
    "    # added later to work with format\n",
    "    def __format__(self, fmt_spec=''):\n",
    "        if fmt_spec.endswith('p'): # using p for polar coordinates\n",
    "            fmt_spec = fmt_spec[:-1]\n",
    "            coords = (abs(self), self.angle())\n",
    "            outer_fmt = '<{}, {}>'\n",
    "        else:\n",
    "            coords = self\n",
    "            outer_fmt = '({}, {})'\n",
    "        components = (format(c, fmt_spec) for c in coords)\n",
    "        return outer_fmt.format(*components)\n",
    "\n",
    "    def angle(self):\n",
    "        return math.atan2(self.x, self.y)\n",
    "\n",
    "    def __hash__(self):\n",
    "        return hash((self.x, self.y))\n",
    "\n",
    "    @classmethod\n",
    "    def frombytes(cls, octets):\n",
    "        typecode = chr(octets[0])\n",
    "        memv = memoryview(octets[1:]).cast(typecode)\n",
    "        return cls(*memv)"
   ]
  },
  {
   "cell_type": "code",
   "execution_count": 39,
   "id": "fbdf0d6b-5e87-4a2f-b144-a51c8dd74af2",
   "metadata": {},
   "outputs": [
    {
     "data": {
      "text/plain": [
       "Vector([13.0, 24.0, 35.0])"
      ]
     },
     "execution_count": 39,
     "metadata": {},
     "output_type": "execute_result"
    }
   ],
   "source": [
    "v1 = Vector([3,4,5])\n",
    "v1 + (10,20,30)"
   ]
  },
  {
   "cell_type": "code",
   "execution_count": 40,
   "id": "bf207b50-d2a0-4686-90c0-49ecf71f3d97",
   "metadata": {},
   "outputs": [
    {
     "data": {
      "text/plain": [
       "Vector([4.0, 6.0, 5.0])"
      ]
     },
     "execution_count": 40,
     "metadata": {},
     "output_type": "execute_result"
    }
   ],
   "source": [
    "v2d = Vector2d(1,2)\n",
    "v1 + v2d"
   ]
  },
  {
   "cell_type": "code",
   "execution_count": 54,
   "id": "e8a321f6-4180-4611-9924-c7ac45b420a0",
   "metadata": {},
   "outputs": [
    {
     "data": {
      "text/plain": [
       "Vector([13.0, 24.0, 35.0])"
      ]
     },
     "execution_count": 54,
     "metadata": {},
     "output_type": "execute_result"
    }
   ],
   "source": [
    "v1 = Vector([3,4,5])\n",
    "(10,20,30) + v1 # TypeError before adding __radd__"
   ]
  },
  {
   "cell_type": "code",
   "execution_count": 55,
   "id": "32b7c431-9856-465a-9a3c-5dbbd79a9e9f",
   "metadata": {},
   "outputs": [
    {
     "data": {
      "text/plain": [
       "Vector([4.0, 6.0, 5.0])"
      ]
     },
     "execution_count": 55,
     "metadata": {},
     "output_type": "execute_result"
    }
   ],
   "source": [
    "v2d = Vector2d(1,2)\n",
    "v2d + v1 # TypeError before adding __radd__"
   ]
  },
  {
   "cell_type": "code",
   "execution_count": 50,
   "id": "efca04ae-f9a5-4d9a-87ee-e258e64744cd",
   "metadata": {},
   "outputs": [],
   "source": [
    "# We can introduce a __radd__ (reverse add, which will invoke as a fallback)"
   ]
  },
  {
   "cell_type": "code",
   "execution_count": 51,
   "id": "993b7d3f-d356-4994-b61a-9b6386a7c577",
   "metadata": {},
   "outputs": [
    {
     "data": {
      "text/plain": [
       "Vector([14.0, 28.0, 42.0])"
      ]
     },
     "execution_count": 51,
     "metadata": {},
     "output_type": "execute_result"
    }
   ],
   "source": [
    "v1 = Vector([1.0,2.0,3.0])\n",
    "14 * v1"
   ]
  },
  {
   "cell_type": "code",
   "execution_count": 53,
   "id": "5552a495-ac2a-4a03-8b39-0ac8b63ebf6e",
   "metadata": {},
   "outputs": [
    {
     "data": {
      "text/plain": [
       "Vector([1.0, 2.0, 3.0])"
      ]
     },
     "execution_count": 53,
     "metadata": {},
     "output_type": "execute_result"
    }
   ],
   "source": [
    "v1 * True # Remember booleans are subclassed of int!"
   ]
  },
  {
   "cell_type": "code",
   "execution_count": 56,
   "id": "dda4a78f-b25d-4177-9a53-1e5f7f068aff",
   "metadata": {},
   "outputs": [
    {
     "data": {
      "text/plain": [
       "Vector([1.0, 1.3333333333333333, 1.6666666666666665])"
      ]
     },
     "execution_count": 56,
     "metadata": {},
     "output_type": "execute_result"
    }
   ],
   "source": [
    "from fractions import Fraction\n",
    "v1 * Fraction(1,3)"
   ]
  },
  {
   "cell_type": "code",
   "execution_count": 76,
   "id": "ec804b51-63f7-4e1c-9bb3-aa5007708a58",
   "metadata": {},
   "outputs": [],
   "source": [
    "# a @ b where @ being a infix operator meaning the dot product of 2 matricies\n",
    "# for the longest we had to use numpy.dot(a,b) but even NumPy adopted @\n",
    "# added __matmul__ in vector for this"
   ]
  },
  {
   "cell_type": "code",
   "execution_count": 69,
   "id": "91cc669f-cf5c-49e2-8ee5-da88c6b7403f",
   "metadata": {},
   "outputs": [
    {
     "data": {
      "text/plain": [
       "True"
      ]
     },
     "execution_count": 69,
     "metadata": {},
     "output_type": "execute_result"
    }
   ],
   "source": [
    "va = Vector([1,2,3])\n",
    "vz = Vector([5,6,7])\n",
    "va @ vz == 38.0 # 1*5 + 2*6 + 3*7"
   ]
  },
  {
   "cell_type": "code",
   "execution_count": 73,
   "id": "2026973d-16ad-433b-ae45-1cf72c1c761d",
   "metadata": {},
   "outputs": [
    {
     "data": {
      "text/plain": [
       "440.0"
      ]
     },
     "execution_count": 73,
     "metadata": {},
     "output_type": "execute_result"
    }
   ],
   "source": [
    "[10,30,30] @ vz"
   ]
  },
  {
   "cell_type": "code",
   "execution_count": 74,
   "id": "3fc6174d-10a3-4e64-8fad-3d7293654742",
   "metadata": {},
   "outputs": [
    {
     "ename": "TypeError",
     "evalue": "unsupported operand type(s) for @: 'Vector' and 'int'",
     "output_type": "error",
     "traceback": [
      "\u001b[0;31m---------------------------------------------------------------------------\u001b[0m",
      "\u001b[0;31mTypeError\u001b[0m                                 Traceback (most recent call last)",
      "Cell \u001b[0;32mIn[74], line 1\u001b[0m\n\u001b[0;32m----> 1\u001b[0m \u001b[43mva\u001b[49m\u001b[43m \u001b[49m\u001b[38;5;241;43m@\u001b[39;49m\u001b[43m \u001b[49m\u001b[38;5;241;43m3\u001b[39;49m\n",
      "\u001b[0;31mTypeError\u001b[0m: unsupported operand type(s) for @: 'Vector' and 'int'"
     ]
    }
   ],
   "source": [
    "va @ 3"
   ]
  },
  {
   "cell_type": "code",
   "execution_count": 86,
   "id": "7956a9c9-1f7c-4794-aefe-767a794662b9",
   "metadata": {},
   "outputs": [
    {
     "data": {
      "text/plain": [
       "True"
      ]
     },
     "execution_count": 86,
     "metadata": {},
     "output_type": "execute_result"
    }
   ],
   "source": [
    "va = Vector([1.0,2.0,3.0])\n",
    "vb = Vector(range(1,4))\n",
    "va == vb"
   ]
  },
  {
   "cell_type": "code",
   "execution_count": 87,
   "id": "e46e32a2-da81-4572-b6d8-edf1b258312f",
   "metadata": {},
   "outputs": [
    {
     "data": {
      "text/plain": [
       "True"
      ]
     },
     "execution_count": 87,
     "metadata": {},
     "output_type": "execute_result"
    }
   ],
   "source": [
    "vc = Vector([1,2])\n",
    "v2d = Vector2d(1,2)\n",
    "vc == v2d"
   ]
  },
  {
   "cell_type": "code",
   "execution_count": 90,
   "id": "9200c845-3a47-4946-b416-1d1d9fe4caf1",
   "metadata": {},
   "outputs": [
    {
     "data": {
      "text/plain": [
       "False"
      ]
     },
     "execution_count": 90,
     "metadata": {},
     "output_type": "execute_result"
    }
   ],
   "source": [
    "t3 = (1,2,3)\n",
    "va == t3"
   ]
  },
  {
   "cell_type": "code",
   "execution_count": 97,
   "id": "ee45a8dd-edff-487e-9842-c6511f8869f7",
   "metadata": {},
   "outputs": [
    {
     "data": {
      "text/plain": [
       "4410641904"
      ]
     },
     "execution_count": 97,
     "metadata": {},
     "output_type": "execute_result"
    }
   ],
   "source": [
    "v1 = Vector([1,2,3])\n",
    "v1_alias = v1\n",
    "id(v1)"
   ]
  },
  {
   "cell_type": "code",
   "execution_count": 98,
   "id": "40e26764-4a88-4f83-b6f2-4539a180e31b",
   "metadata": {},
   "outputs": [
    {
     "data": {
      "text/plain": [
       "Vector([5.0, 7.0, 9.0])"
      ]
     },
     "execution_count": 98,
     "metadata": {},
     "output_type": "execute_result"
    }
   ],
   "source": [
    "v1 += Vector([4,5,6])\n",
    "v1"
   ]
  },
  {
   "cell_type": "code",
   "execution_count": 99,
   "id": "a7f08a17-eb41-4a01-a6cf-3686b620ebae",
   "metadata": {},
   "outputs": [
    {
     "data": {
      "text/plain": [
       "4410642192"
      ]
     },
     "execution_count": 99,
     "metadata": {},
     "output_type": "execute_result"
    }
   ],
   "source": [
    "id(v1)"
   ]
  },
  {
   "cell_type": "code",
   "execution_count": 100,
   "id": "973dde21-4650-4683-a117-1289088cc0e0",
   "metadata": {},
   "outputs": [
    {
     "data": {
      "text/plain": [
       "Vector([1.0, 2.0, 3.0])"
      ]
     },
     "execution_count": 100,
     "metadata": {},
     "output_type": "execute_result"
    }
   ],
   "source": [
    "v1_alias"
   ]
  },
  {
   "cell_type": "code",
   "execution_count": 101,
   "id": "c6102f25-057c-47d1-a3d0-0d8c9062314b",
   "metadata": {},
   "outputs": [
    {
     "data": {
      "text/plain": [
       "Vector([55.0, 77.0, 99.0])"
      ]
     },
     "execution_count": 101,
     "metadata": {},
     "output_type": "execute_result"
    }
   ],
   "source": [
    "v1 *= 11\n",
    "v1"
   ]
  },
  {
   "cell_type": "code",
   "execution_count": 102,
   "id": "b46e0451-de24-4596-9312-bae896793f90",
   "metadata": {},
   "outputs": [
    {
     "data": {
      "text/plain": [
       "4410654672"
      ]
     },
     "execution_count": 102,
     "metadata": {},
     "output_type": "execute_result"
    }
   ],
   "source": [
    "id(v1)"
   ]
  },
  {
   "cell_type": "code",
   "execution_count": 103,
   "id": "75502cf8-f51d-480e-b343-d9fb382f64b7",
   "metadata": {},
   "outputs": [],
   "source": [
    "# if the inplace operators are not implemented they work as syntatic sugar:\n",
    "# a += b becomes a = a + b, if we have __add__ then += will work with no additional code"
   ]
  },
  {
   "cell_type": "code",
   "execution_count": 105,
   "id": "c652c728-1c0a-4ece-a1c7-bc796ca08835",
   "metadata": {},
   "outputs": [],
   "source": [
    "# from chapter 13\n",
    "import random\n",
    "import abc\n",
    "\n",
    "class Tombola(abc.ABC):\n",
    "    \n",
    "    @abc.abstractmethod\n",
    "    def load(self, iterable):\n",
    "        \"\"\"Add itemss from an iterable.\"\"\"\n",
    "\n",
    "    @abc.abstractmethod\n",
    "    def pick(self):\n",
    "        \"\"\"Remove item at random, returning it.\n",
    "        This method should raise `LookupError` when the instance is empty.\"\"\"\n",
    "\n",
    "    def loaded(self):\n",
    "        \"\"\"Returen `True` if there's at least 1 item, `False`, otherwise.\"\"\"\n",
    "        return bool(self.inspect())\n",
    "\n",
    "    def inspect(self):\n",
    "        \"\"\"Return a sorted tuple with the items currenlty inside.\"\"\"\n",
    "        items = []\n",
    "        while True:\n",
    "            try:\n",
    "                items.append(self.pick())\n",
    "            except LookupError: # LookupError -> IndexError or KeyError\n",
    "                break;\n",
    "        self.load(items)\n",
    "        return tuple(items)\n",
    "\n",
    "\n",
    "class BingoCage(Tombola):\n",
    "    def __init__(self, items):\n",
    "        self._randomizer = random.SystemRandom() # uses os.urandom() random bytes suitable for cryptographic use\n",
    "        self._items = []\n",
    "        self.load(items)\n",
    "\n",
    "    def load(self, items):\n",
    "        self._items.extend(items)\n",
    "        self._randomizer.shuffle(self._items)\n",
    "\n",
    "    def pick(self):\n",
    "        try:\n",
    "            return self._items.pop()\n",
    "        except IndexError:\n",
    "            raise LookupError('pick from empty BingoCage')\n",
    "\n",
    "    def __call__(self):\n",
    "        self.pick()"
   ]
  },
  {
   "cell_type": "code",
   "execution_count": 106,
   "id": "b0c7be3c-8468-449c-aee9-d43f704fc1f4",
   "metadata": {},
   "outputs": [],
   "source": [
    "class AddableBingoCage(BingoCage):\n",
    "    def __add__(self, other):\n",
    "        if isinstance(other, Tombola):\n",
    "            return AddableBingoCage(self.inspect() + other.inspect())\n",
    "        else:\n",
    "            return NotImplemented\n",
    "\n",
    "    def __iadd__(self, other):\n",
    "        if isinstance(other, Tombola):\n",
    "            other_iterable = other.inspect()\n",
    "        else:\n",
    "            try:\n",
    "                other_iterable = iter(other)\n",
    "            except TypeError:\n",
    "                msg = 'right operand in += must be \"Tombola\" or an iterable'\n",
    "                raise TypeError(msg)\n",
    "        self.load(other_iterable)\n",
    "        return self"
   ]
  },
  {
   "cell_type": "code",
   "execution_count": 108,
   "id": "92fa9f84-22f3-49a9-8319-3bd1a0f76b69",
   "metadata": {},
   "outputs": [
    {
     "data": {
      "text/plain": [
       "('O', 'A', 'I', 'E', 'U')"
      ]
     },
     "execution_count": 108,
     "metadata": {},
     "output_type": "execute_result"
    }
   ],
   "source": [
    "vowels = 'AEIOU'\n",
    "globe = AddableBingoCage(vowels)\n",
    "globe.inspect()"
   ]
  },
  {
   "cell_type": "code",
   "execution_count": 109,
   "id": "7f7031c7-d33d-4a57-85c9-cc815e2a58b0",
   "metadata": {},
   "outputs": [
    {
     "data": {
      "text/plain": [
       "True"
      ]
     },
     "execution_count": 109,
     "metadata": {},
     "output_type": "execute_result"
    }
   ],
   "source": [
    "globe.pick() in vowels"
   ]
  },
  {
   "cell_type": "code",
   "execution_count": 110,
   "id": "34035607-15e6-4378-ae75-8b14f7f785a4",
   "metadata": {},
   "outputs": [
    {
     "data": {
      "text/plain": [
       "4"
      ]
     },
     "execution_count": 110,
     "metadata": {},
     "output_type": "execute_result"
    }
   ],
   "source": [
    "len(globe.inspect())"
   ]
  },
  {
   "cell_type": "code",
   "execution_count": 111,
   "id": "f1638744-f212-4bb7-b00e-fb430d7eab04",
   "metadata": {},
   "outputs": [
    {
     "data": {
      "text/plain": [
       "7"
      ]
     },
     "execution_count": 111,
     "metadata": {},
     "output_type": "execute_result"
    }
   ],
   "source": [
    "globe2 = AddableBingoCage('XYZ')\n",
    "globe3 = globe + globe2\n",
    "len(globe3.inspect())"
   ]
  },
  {
   "cell_type": "code",
   "execution_count": 113,
   "id": "17dbd195-353b-46a9-b2f8-5044be5a68c7",
   "metadata": {},
   "outputs": [
    {
     "ename": "TypeError",
     "evalue": "unsupported operand type(s) for +: 'AddableBingoCage' and 'list'",
     "output_type": "error",
     "traceback": [
      "\u001b[0;31m---------------------------------------------------------------------------\u001b[0m",
      "\u001b[0;31mTypeError\u001b[0m                                 Traceback (most recent call last)",
      "Cell \u001b[0;32mIn[113], line 1\u001b[0m\n\u001b[0;32m----> 1\u001b[0m void \u001b[38;5;241m=\u001b[39m \u001b[43mglobe\u001b[49m\u001b[43m \u001b[49m\u001b[38;5;241;43m+\u001b[39;49m\u001b[43m \u001b[49m\u001b[43m[\u001b[49m\u001b[38;5;241;43m10\u001b[39;49m\u001b[43m,\u001b[49m\u001b[38;5;241;43m20\u001b[39;49m\u001b[43m]\u001b[49m \u001b[38;5;66;03m# unsupported operand\u001b[39;00m\n",
      "\u001b[0;31mTypeError\u001b[0m: unsupported operand type(s) for +: 'AddableBingoCage' and 'list'"
     ]
    }
   ],
   "source": [
    "void = globe + [10,20] # unsupported operand"
   ]
  },
  {
   "cell_type": "code",
   "execution_count": 114,
   "id": "c171b383-f4aa-4ccf-896e-022352c75a17",
   "metadata": {},
   "outputs": [
    {
     "data": {
      "text/plain": [
       "4"
      ]
     },
     "execution_count": 114,
     "metadata": {},
     "output_type": "execute_result"
    }
   ],
   "source": [
    "globe_orig = globe\n",
    "len(globe.inspect())"
   ]
  },
  {
   "cell_type": "code",
   "execution_count": 115,
   "id": "48bb8e47-fe9a-4d69-bee3-9c7d1f7b775c",
   "metadata": {},
   "outputs": [
    {
     "data": {
      "text/plain": [
       "7"
      ]
     },
     "execution_count": 115,
     "metadata": {},
     "output_type": "execute_result"
    }
   ],
   "source": [
    "globe += globe2\n",
    "len(globe.inspect())"
   ]
  },
  {
   "cell_type": "code",
   "execution_count": 116,
   "id": "96a73e87-9360-4ec3-99b2-3ac96003d1f9",
   "metadata": {},
   "outputs": [
    {
     "data": {
      "text/plain": [
       "9"
      ]
     },
     "execution_count": 116,
     "metadata": {},
     "output_type": "execute_result"
    }
   ],
   "source": [
    "globe += ['M','N']\n",
    "len(globe.inspect())"
   ]
  },
  {
   "cell_type": "code",
   "execution_count": 117,
   "id": "74ae04ca-2870-4ebc-9c00-c99cda492f2d",
   "metadata": {},
   "outputs": [
    {
     "data": {
      "text/plain": [
       "True"
      ]
     },
     "execution_count": 117,
     "metadata": {},
     "output_type": "execute_result"
    }
   ],
   "source": [
    "globe is globe_orig"
   ]
  },
  {
   "cell_type": "code",
   "execution_count": 118,
   "id": "53d46aad-9517-4c6d-90a7-908f407c7af1",
   "metadata": {},
   "outputs": [
    {
     "ename": "TypeError",
     "evalue": "right operand in += must be \"Tombola\" or an iterable",
     "output_type": "error",
     "traceback": [
      "\u001b[0;31m---------------------------------------------------------------------------\u001b[0m",
      "\u001b[0;31mTypeError\u001b[0m                                 Traceback (most recent call last)",
      "Cell \u001b[0;32mIn[106], line 13\u001b[0m, in \u001b[0;36mAddableBingoCage.__iadd__\u001b[0;34m(self, other)\u001b[0m\n\u001b[1;32m     12\u001b[0m \u001b[38;5;28;01mtry\u001b[39;00m:\n\u001b[0;32m---> 13\u001b[0m     other_iterable \u001b[38;5;241m=\u001b[39m \u001b[38;5;28;43miter\u001b[39;49m\u001b[43m(\u001b[49m\u001b[43mother\u001b[49m\u001b[43m)\u001b[49m\n\u001b[1;32m     14\u001b[0m \u001b[38;5;28;01mexcept\u001b[39;00m \u001b[38;5;167;01mTypeError\u001b[39;00m:\n",
      "\u001b[0;31mTypeError\u001b[0m: 'int' object is not iterable",
      "\nDuring handling of the above exception, another exception occurred:\n",
      "\u001b[0;31mTypeError\u001b[0m                                 Traceback (most recent call last)",
      "Cell \u001b[0;32mIn[118], line 1\u001b[0m\n\u001b[0;32m----> 1\u001b[0m globe \u001b[38;5;241m+\u001b[39m\u001b[38;5;241m=\u001b[39m \u001b[38;5;241m1\u001b[39m\n",
      "Cell \u001b[0;32mIn[106], line 16\u001b[0m, in \u001b[0;36mAddableBingoCage.__iadd__\u001b[0;34m(self, other)\u001b[0m\n\u001b[1;32m     14\u001b[0m     \u001b[38;5;28;01mexcept\u001b[39;00m \u001b[38;5;167;01mTypeError\u001b[39;00m:\n\u001b[1;32m     15\u001b[0m         msg \u001b[38;5;241m=\u001b[39m \u001b[38;5;124m'\u001b[39m\u001b[38;5;124mright operand in += must be \u001b[39m\u001b[38;5;124m\"\u001b[39m\u001b[38;5;124mTombola\u001b[39m\u001b[38;5;124m\"\u001b[39m\u001b[38;5;124m or an iterable\u001b[39m\u001b[38;5;124m'\u001b[39m\n\u001b[0;32m---> 16\u001b[0m         \u001b[38;5;28;01mraise\u001b[39;00m \u001b[38;5;167;01mTypeError\u001b[39;00m(msg)\n\u001b[1;32m     17\u001b[0m \u001b[38;5;28mself\u001b[39m\u001b[38;5;241m.\u001b[39mload(other_iterable)\n\u001b[1;32m     18\u001b[0m \u001b[38;5;28;01mreturn\u001b[39;00m \u001b[38;5;28mself\u001b[39m\n",
      "\u001b[0;31mTypeError\u001b[0m: right operand in += must be \"Tombola\" or an iterable"
     ]
    }
   ],
   "source": [
    "globe += 1 # noniterable"
   ]
  },
  {
   "cell_type": "code",
   "execution_count": 119,
   "id": "cf5b3dd7-ee50-4a5b-85ab-c48d21d0f29c",
   "metadata": {},
   "outputs": [
    {
     "data": {
      "text/plain": [
       "'\\nmy_list + x concatenates one list to another list, but my_list += x,\\nyou can extend the lefthand list with items from any iterable x\\non the righthand side. This is how the list.extend() method\\nworks, it accepts any iterable argument.\\n'"
      ]
     },
     "execution_count": 119,
     "metadata": {},
     "output_type": "execute_result"
    }
   ],
   "source": [
    "\"\"\"\n",
    "my_list + x concatenates one list to another list, but my_list += x,\n",
    "you can extend the lefthand list with items from any iterable x\n",
    "on the righthand side. This is how the list.extend() method\n",
    "works, it accepts any iterable argument.\n",
    "\"\"\""
   ]
  },
  {
   "cell_type": "code",
   "execution_count": null,
   "id": "646569bb-4875-4849-a729-1384446891ec",
   "metadata": {},
   "outputs": [],
   "source": []
  }
 ],
 "metadata": {
  "kernelspec": {
   "display_name": "Python 3 (ipykernel)",
   "language": "python",
   "name": "python3"
  },
  "language_info": {
   "codemirror_mode": {
    "name": "ipython",
    "version": 3
   },
   "file_extension": ".py",
   "mimetype": "text/x-python",
   "name": "python",
   "nbconvert_exporter": "python",
   "pygments_lexer": "ipython3",
   "version": "3.10.15"
  }
 },
 "nbformat": 4,
 "nbformat_minor": 5
}
