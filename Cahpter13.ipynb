{
 "cells": [
  {
   "cell_type": "code",
   "execution_count": 1,
   "id": "33924005-0b08-4611-a43c-5d98f0c13d35",
   "metadata": {},
   "outputs": [
    {
     "data": {
      "text/plain": [
       "'A'"
      ]
     },
     "execution_count": 1,
     "metadata": {},
     "output_type": "execute_result"
    }
   ],
   "source": [
    "class Vowels:\n",
    "    def __getitem__(self, i):\n",
    "        return 'AEIOU'[i]\n",
    "\n",
    "v = Vowels()\n",
    "v[0]"
   ]
  },
  {
   "cell_type": "code",
   "execution_count": 2,
   "id": "87f0eb92-8e82-45ee-ac18-b6ab50a022ce",
   "metadata": {},
   "outputs": [
    {
     "data": {
      "text/plain": [
       "'U'"
      ]
     },
     "execution_count": 2,
     "metadata": {},
     "output_type": "execute_result"
    }
   ],
   "source": [
    "v[-1]"
   ]
  },
  {
   "cell_type": "code",
   "execution_count": 3,
   "id": "329c4261-07e6-43a6-94ea-780615bd332a",
   "metadata": {},
   "outputs": [
    {
     "name": "stdout",
     "output_type": "stream",
     "text": [
      "A\n",
      "E\n",
      "I\n",
      "O\n",
      "U\n"
     ]
    }
   ],
   "source": [
    "for c in v: print(c)"
   ]
  },
  {
   "cell_type": "code",
   "execution_count": 4,
   "id": "726eb52a-abaf-47b5-8081-f2c708549023",
   "metadata": {},
   "outputs": [
    {
     "data": {
      "text/plain": [
       "True"
      ]
     },
     "execution_count": 4,
     "metadata": {},
     "output_type": "execute_result"
    }
   ],
   "source": [
    "'E' in v"
   ]
  },
  {
   "cell_type": "code",
   "execution_count": 5,
   "id": "52add661-b8ca-4546-a74e-15399ba7d8c0",
   "metadata": {},
   "outputs": [
    {
     "data": {
      "text/plain": [
       "False"
      ]
     },
     "execution_count": 5,
     "metadata": {},
     "output_type": "execute_result"
    }
   ],
   "source": [
    "'Z' in v"
   ]
  },
  {
   "cell_type": "code",
   "execution_count": 6,
   "id": "69037628-0f77-47b8-8151-1bcdddda1aee",
   "metadata": {},
   "outputs": [],
   "source": [
    "# if there is a __getitem__ python is smart enough to iterate (__iter__) if need to and even add __contains__ even if its missing (in operator)\n",
    "# as long as its a sequence-like data structure"
   ]
  },
  {
   "cell_type": "code",
   "execution_count": 7,
   "id": "3f34178f-d308-40fa-982d-2c45c78164a5",
   "metadata": {},
   "outputs": [
    {
     "data": {
      "text/plain": [
       "[1, 9, 4, 2, 7, 3, 6, 5, 0, 8]"
      ]
     },
     "execution_count": 7,
     "metadata": {},
     "output_type": "execute_result"
    }
   ],
   "source": [
    "from random import shuffle\n",
    "l = list(range(10))\n",
    "shuffle(l)\n",
    "l"
   ]
  },
  {
   "cell_type": "code",
   "execution_count": 8,
   "id": "b171d691-7725-446d-bc49-d2bb297a6486",
   "metadata": {},
   "outputs": [],
   "source": [
    "# GooseTyping\n",
    "from collections import namedtuple, abc\n",
    "\n",
    "Card = namedtuple('Card', ['rank', 'suit'])\n",
    "class FrenchDeck2(abc.MutableSequence):\n",
    "    ranks = [str(n) for n in range(2, 11)] + list('JQKA')\n",
    "    suits = 'spades diamonds clubs hearts'.split()\n",
    "\n",
    "    def __init__(self):\n",
    "        self._cards = [Card(rank, suit) for suit in self.suits\n",
    "                                        for rank in self.ranks]\n",
    "\n",
    "    def __len__(self):\n",
    "        return len(self._cards)\n",
    "\n",
    "    def __getitem__(self, position):\n",
    "        return self._cards[position]\n",
    "\n",
    "    # built in shuffle works by shuffling in place so this is all we need to use it\n",
    "    def __setitem__(self, position, value):\n",
    "        self._cards[position] = value\n",
    "\n",
    "    # MutableSequence demands this:\n",
    "    def __delitem__(self, position):\n",
    "        del self._cards[position]\n",
    "\n",
    "    # MutableSequence demands this:\n",
    "    def insert(self, position, value):\n",
    "        self._cards.insert(position, value)"
   ]
  },
  {
   "cell_type": "code",
   "execution_count": 9,
   "id": "f3be5acb-a3b5-449a-8177-5a6366d37318",
   "metadata": {},
   "outputs": [],
   "source": [
    "# The only reliable way to determine an object is iterable is to call iter(obj)\n",
    "# isinstance or issubclass could return False but the class could implement __getitem__ 0-based indices"
   ]
  },
  {
   "cell_type": "code",
   "execution_count": 29,
   "id": "5b9afc9a-3bf6-4e9a-a9df-9bc7885adeea",
   "metadata": {},
   "outputs": [],
   "source": [
    "# @abstractclassmethod, @abstractstaticmethod, and @abstractprop are deprecated!\n",
    "import abc\n",
    "\n",
    "class Tombola(abc.ABC):\n",
    "    \n",
    "    @abc.abstractmethod\n",
    "    def load(self, iterable):\n",
    "        \"\"\"Add itemss from an iterable.\"\"\"\n",
    "\n",
    "    @abc.abstractmethod\n",
    "    def pick(self):\n",
    "        \"\"\"Remove item at random, returning it.\n",
    "        This method should raise `LookupError` when the instance is empty.\"\"\"\n",
    "\n",
    "    def loaded(self):\n",
    "        \"\"\"Returen `True` if there's at least 1 item, `False`, otherwise.\"\"\"\n",
    "        return bool(self.inspect())\n",
    "\n",
    "    def inspect(self):\n",
    "        \"\"\"Return a sorted tuple with the items currenlty inside.\"\"\"\n",
    "        items = []\n",
    "        while True:\n",
    "            try:\n",
    "                items.append(self.pick())\n",
    "            except LookupError: # LookupError -> IndexError or KeyError\n",
    "                break;\n",
    "        self.load(items)\n",
    "        return tuple(items)"
   ]
  },
  {
   "cell_type": "code",
   "execution_count": 11,
   "id": "b6b8de5a-39e1-4220-9bfa-cb8187e10017",
   "metadata": {},
   "outputs": [
    {
     "data": {
      "text/plain": [
       "__main__.Fake"
      ]
     },
     "execution_count": 11,
     "metadata": {},
     "output_type": "execute_result"
    }
   ],
   "source": [
    "class Fake(Tombola):\n",
    "    def pick(self):\n",
    "        return 13\n",
    "\n",
    "Fake"
   ]
  },
  {
   "cell_type": "code",
   "execution_count": 12,
   "id": "969cdf9a-11f1-48eb-a237-8c7a9c4c4ea7",
   "metadata": {},
   "outputs": [
    {
     "ename": "TypeError",
     "evalue": "Can't instantiate abstract class Fake with abstract method load",
     "output_type": "error",
     "traceback": [
      "\u001b[0;31m---------------------------------------------------------------------------\u001b[0m",
      "\u001b[0;31mTypeError\u001b[0m                                 Traceback (most recent call last)",
      "Cell \u001b[0;32mIn[12], line 1\u001b[0m\n\u001b[0;32m----> 1\u001b[0m f \u001b[38;5;241m=\u001b[39m \u001b[43mFake\u001b[49m\u001b[43m(\u001b[49m\u001b[43m)\u001b[49m \u001b[38;5;66;03m# throw\u001b[39;00m\n",
      "\u001b[0;31mTypeError\u001b[0m: Can't instantiate abstract class Fake with abstract method load"
     ]
    }
   ],
   "source": [
    "f = Fake() # throw"
   ]
  },
  {
   "cell_type": "code",
   "execution_count": 14,
   "id": "2123845f-559e-4008-b8a6-25dd87492be3",
   "metadata": {},
   "outputs": [],
   "source": [
    "import random\n",
    "\n",
    "class BingoCage(Tombola):\n",
    "    def __init__(self, items):\n",
    "        self._randomizer = random.SystemRandom() # uses os.urandom() random bytes suitable for cryptographic use\n",
    "        self._items = []\n",
    "        self.load(items)\n",
    "\n",
    "    def load(self, items):\n",
    "        self._items.extend(items)\n",
    "        self._randomizer.shuffle(self._items)\n",
    "\n",
    "    def pick(self):\n",
    "        try:\n",
    "            return self._items.pop()\n",
    "        except IndexError:\n",
    "            raise LookupError('pick from empty BingoCage')\n",
    "\n",
    "    def __call__(self):\n",
    "        self.pick()"
   ]
  },
  {
   "cell_type": "code",
   "execution_count": 16,
   "id": "41c7b170-6aed-4f0a-a29b-2b9d815a7573",
   "metadata": {},
   "outputs": [],
   "source": [
    "import random\n",
    "\n",
    "class LottoBlower(Tombola):\n",
    "    def __init__(self, iterable):\n",
    "        self._balls = list(iterable)\n",
    "\n",
    "    def load(self, iterable):\n",
    "        self._balls.extend(iterable)\n",
    "\n",
    "    def pick(self):\n",
    "        try:\n",
    "            position = random.randrange(len(self._balls))\n",
    "        except ValueError:\n",
    "            raise LookupError('pick from empty LottoBlower')\n",
    "        return self._balls.pop(position)\n",
    "\n",
    "    def loaded(self):\n",
    "            return bool(self._balls)\n",
    "\n",
    "    def inspect(self):\n",
    "        return tuple(self._balls)"
   ]
  },
  {
   "cell_type": "code",
   "execution_count": 32,
   "id": "ea496413-20d2-4d0c-908a-984075700561",
   "metadata": {},
   "outputs": [],
   "source": [
    "@Tombola.register\n",
    "class TomboList(list):\n",
    "    load = list.extend\n",
    "\n",
    "    def pick(self):\n",
    "        if self:\n",
    "            position = random.randrange(len(self))\n",
    "            return self.pop(position)\n",
    "        else:\n",
    "            raise LookupError('pop from empty TomboList')\n",
    "\n",
    "    def loaded(self):\n",
    "        return bool(self)\n",
    "        \n",
    "    def inspect(self):\n",
    "        return tuple(self)\n",
    "\n",
    "# @Tambola.register(TombaList), useful to register a class we don't maintain but fulfills the interface"
   ]
  },
  {
   "cell_type": "code",
   "execution_count": 33,
   "id": "7ccbe5fd-adfa-45a1-b9dd-6ceb39e2c6ca",
   "metadata": {},
   "outputs": [
    {
     "data": {
      "text/plain": [
       "True"
      ]
     },
     "execution_count": 33,
     "metadata": {},
     "output_type": "execute_result"
    }
   ],
   "source": [
    "issubclass(TomboList, Tombola)"
   ]
  },
  {
   "cell_type": "code",
   "execution_count": 34,
   "id": "0905b075-def5-4241-98af-63173759672d",
   "metadata": {},
   "outputs": [
    {
     "data": {
      "text/plain": [
       "True"
      ]
     },
     "execution_count": 34,
     "metadata": {},
     "output_type": "execute_result"
    }
   ],
   "source": [
    "t = TomboList(range(100))\n",
    "isinstance(t, Tombola)"
   ]
  },
  {
   "cell_type": "code",
   "execution_count": 36,
   "id": "7b3ed1f0-8344-4d33-9dea-7dfe401c75c7",
   "metadata": {},
   "outputs": [
    {
     "data": {
      "text/plain": [
       "(__main__.TomboList, list, object)"
      ]
     },
     "execution_count": 36,
     "metadata": {},
     "output_type": "execute_result"
    }
   ],
   "source": [
    "TomboList.__mro__ # method resolution order"
   ]
  },
  {
   "cell_type": "code",
   "execution_count": 37,
   "id": "6230f6b0-81ab-42fd-9f63-0bf17f9b452a",
   "metadata": {},
   "outputs": [
    {
     "data": {
      "text/plain": [
       "True"
      ]
     },
     "execution_count": 37,
     "metadata": {},
     "output_type": "execute_result"
    }
   ],
   "source": [
    "# __subclass__ hook determines issubclass, isinstance\n",
    "# for example if _len__ if implemented in class:\n",
    "class AnswerToEverything:\n",
    "    def __len__(self): return 42\n",
    "\n",
    "from collections import abc\n",
    "isinstance(AnswerToEverything(), abc.Sized)"
   ]
  },
  {
   "cell_type": "code",
   "execution_count": 38,
   "id": "74ba05f3-cbca-49e2-8bdd-2da6d96d4a6d",
   "metadata": {},
   "outputs": [
    {
     "data": {
      "text/plain": [
       "True"
      ]
     },
     "execution_count": 38,
     "metadata": {},
     "output_type": "execute_result"
    }
   ],
   "source": [
    "issubclass(AnswerToEverything, abc.Sized)"
   ]
  },
  {
   "cell_type": "code",
   "execution_count": 39,
   "id": "81ccae77-32c5-4e2c-9960-ff526c65b7d9",
   "metadata": {},
   "outputs": [
    {
     "data": {
      "text/plain": [
       "\"\\nUnder the hood implementation of Sized:\\nclass Sized(metaclass=ABCMeta):\\n    __slots__ = ()\\n\\n    @abstractmethod\\n    def __len__(self):\\n        return 0\\n\\n    @classmethod\\n    def __subclasshook__(cls, C):\\n        if cls is Sized:\\n            if any('__len__' in B.__dict__ for B in C.__mro__):\\n                return True\\n        return NotImplemented\\n\""
      ]
     },
     "execution_count": 39,
     "metadata": {},
     "output_type": "execute_result"
    }
   ],
   "source": [
    "\"\"\"\n",
    "Under the hood implementation of Sized:\n",
    "class Sized(metaclass=ABCMeta):\n",
    "    __slots__ = ()\n",
    "\n",
    "    @abstractmethod\n",
    "    def __len__(self):\n",
    "        return 0\n",
    "\n",
    "    @classmethod\n",
    "    def __subclasshook__(cls, C):\n",
    "        if cls is Sized:\n",
    "            if any('__len__' in B.__dict__ for B in C.__mro__):\n",
    "                return True\n",
    "        return NotImplemented\n",
    "\"\"\""
   ]
  },
  {
   "cell_type": "code",
   "execution_count": 40,
   "id": "e0a22d92-832e-4523-8550-baa0e93a2b2c",
   "metadata": {},
   "outputs": [],
   "source": [
    "# __len__, __getitem__, and __iter__ are not consider subtypes of Sequence because we can’t retrieve items using integer offsets or slices"
   ]
  },
  {
   "cell_type": "code",
   "execution_count": 41,
   "id": "7146b0b2-8d5d-47b9-bedb-87f8c5c92f3f",
   "metadata": {},
   "outputs": [],
   "source": [
    "# c64 = np.complex64(3+4j) is one of five numpy complex types\n",
    "# test an object c is a complex or SupportsComplex:\n",
    "# isinstance(c, (complex, SupportsComplex)) where c is the variable (c = complex(c64))"
   ]
  },
  {
   "cell_type": "code",
   "execution_count": 42,
   "id": "17a01f5d-ab6e-42b7-8ba2-8ce1adfd1281",
   "metadata": {},
   "outputs": [
    {
     "data": {
      "text/plain": [
       "'3.10.15 | packaged by conda-forge | (main, Oct 16 2024, 01:24:20) [Clang 17.0.6 ]'"
      ]
     },
     "execution_count": 42,
     "metadata": {},
     "output_type": "execute_result"
    }
   ],
   "source": [
    "import sys\n",
    "sys.version"
   ]
  },
  {
   "cell_type": "code",
   "execution_count": 46,
   "id": "f7227ae8-1c88-43cf-b652-0083fa2a3ec4",
   "metadata": {},
   "outputs": [
    {
     "data": {
      "text/plain": [
       "False"
      ]
     },
     "execution_count": 46,
     "metadata": {},
     "output_type": "execute_result"
    }
   ],
   "source": [
    "# This is False and fixed in our current version of python\n",
    "from typing import SupportsFloat\n",
    "c = 3+4j\n",
    "isinstance(c, SupportsFloat)"
   ]
  },
  {
   "cell_type": "code",
   "execution_count": 48,
   "id": "05f76467-f016-4fd6-a2e4-cdc87bee5907",
   "metadata": {},
   "outputs": [],
   "source": [
    "from typing import Protocol, runtime_checkable, Any\n",
    "\n",
    "@runtime_checkable\n",
    "class RandomPicker(Protocol):\n",
    "    def pick(self) -> Any: ..."
   ]
  },
  {
   "cell_type": "code",
   "execution_count": 50,
   "id": "8eb22dda-3de4-4581-ba2c-ae4ebc70b2d7",
   "metadata": {},
   "outputs": [],
   "source": [
    "import random\n",
    "from typing import Any, Iterable, TYPE_CHECKING\n",
    "\n",
    "class SimplePicker:\n",
    "    def __init__(self, items: Iterable) -> None:\n",
    "        self._items = list(items)\n",
    "        random.shuffle(self._items)\n",
    "\n",
    "    def pick(self) -> Any:\n",
    "        return self._items.pop()\n",
    "\n",
    "def test_isinstance() -> None:\n",
    "    popper: RandomPicker = SimplePicker([1])\n",
    "    assert isinstance(popper, RandomPicker) # works because @runtime_checkable, and SimplePicker has a pick()\n",
    "\n",
    "def test_item_type() -> None:\n",
    "    items = [1,2]\n",
    "    popper = SimplePicker(items)\n",
    "    item = popper.pick()\n",
    "    assert item in items\n",
    "    if TYPE_CHECKING:\n",
    "        reveal_type(item)\n",
    "    assert isinstance(item, int)"
   ]
  },
  {
   "cell_type": "code",
   "execution_count": 51,
   "id": "92ad9d53-fae6-42ea-ad2e-95d5d1703eb1",
   "metadata": {},
   "outputs": [],
   "source": [
    "# Narrow protocols are favorable, single methods or a couple\n",
    "# Clients should not be forced to depend on interfaces they do not use"
   ]
  },
  {
   "cell_type": "code",
   "execution_count": 52,
   "id": "89bab536-9ec8-40bc-ac79-b5831477f9a7",
   "metadata": {},
   "outputs": [],
   "source": [
    "# extending randompicker\n",
    "class LoadableRandomPicker(RandomPicker, Protocol):\n",
    "    def load(self, Iterable) -> None: ..."
   ]
  },
  {
   "cell_type": "code",
   "execution_count": 54,
   "id": "de7a563c-7fea-440a-b4ec-b8deeb3859b4",
   "metadata": {},
   "outputs": [
    {
     "data": {
      "text/plain": [
       "'\\ndecimal.Decimal is not registered as a subclass of numbers.Real.\\nif you need the precision of Decimal in your program, then you want to be pro‐\\ntected from accidental mixing of decimals with floating-point numbers that are less precise.\\n'"
      ]
     },
     "execution_count": 54,
     "metadata": {},
     "output_type": "execute_result"
    }
   ],
   "source": [
    "\"\"\"\n",
    "decimal.Decimal is not registered as a subclass of numbers.Real.\n",
    "if you need the precision of Decimal in your program, then you want to be pro‐\n",
    "tected from accidental mixing of decimals with floating-point numbers that are less precise.\n",
    "\"\"\""
   ]
  },
  {
   "cell_type": "code",
   "execution_count": 55,
   "id": "6f7f0448-f659-48fc-80a3-445ba14a74b5",
   "metadata": {},
   "outputs": [
    {
     "data": {
      "text/plain": [
       "'\\nThe numeric static protocols SupportsComplex, SupportsFloat, etc. work well\\nfor static typing, but are unreliable for runtime type checking when complex\\nnumbers are involved.\\n'"
      ]
     },
     "execution_count": 55,
     "metadata": {},
     "output_type": "execute_result"
    }
   ],
   "source": [
    "\"\"\"\n",
    "The numeric static protocols SupportsComplex, SupportsFloat, etc. work well\n",
    "for static typing, but are unreliable for runtime type checking when complex\n",
    "numbers are involved.\n",
    "\"\"\""
   ]
  },
  {
   "cell_type": "code",
   "execution_count": null,
   "id": "4c82101b-727e-4a5f-921f-052f2a8b3a6f",
   "metadata": {},
   "outputs": [],
   "source": []
  }
 ],
 "metadata": {
  "kernelspec": {
   "display_name": "Python 3 (ipykernel)",
   "language": "python",
   "name": "python3"
  },
  "language_info": {
   "codemirror_mode": {
    "name": "ipython",
    "version": 3
   },
   "file_extension": ".py",
   "mimetype": "text/x-python",
   "name": "python",
   "nbconvert_exporter": "python",
   "pygments_lexer": "ipython3",
   "version": "3.10.15"
  }
 },
 "nbformat": 4,
 "nbformat_minor": 5
}
