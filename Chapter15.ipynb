{
 "cells": [
  {
   "cell_type": "code",
   "execution_count": 1,
   "id": "fe3c029f-f40d-4ba7-9976-503b73ea3488",
   "metadata": {},
   "outputs": [],
   "source": [
    "import functools\n",
    "import operator\n",
    "from collections.abc import Iterable\n",
    "from typing import overload, Union, TypeVar\n",
    "\n",
    "T = TypeVar('T')\n",
    "S = TypeVar('S')\n",
    "\n",
    "@overload\n",
    "def sum(it: Iterable[T]) -> Union[T, int]: ...\n",
    "\n",
    "@overload\n",
    "def sum(it: Iterable[T], /, start: S) -> Union[T, S]: ...\n",
    "\n",
    "def sum(it, /, start=0):\n",
    "    return functools.reduce(operator.add, it, start)"
   ]
  },
  {
   "cell_type": "code",
   "execution_count": 20,
   "id": "64e4237b-49d5-463c-b013-9820d5b7de7b",
   "metadata": {},
   "outputs": [],
   "source": [
    "from collections.abc import Callable, Iterable\n",
    "from typing import Protocol, Any, TypeVar, overload, Union\n",
    "\n",
    "class SupportsLessThan(Protocol):\n",
    "    def __lt__(self, other: Any) -> bool: ...\n",
    "\n",
    "T = TypeVar('T')\n",
    "LT = TypeVar('LT', bound=SupportsLessThan)\n",
    "DT = TypeVar('DT')\n",
    "MISSING = object()\n",
    "EMPTY_MSG = 'max() arg is an empty sequence'\n",
    "\n",
    "# 1\n",
    "@overload\n",
    "def max(__arg1: LT, __arg2: LT, *args: LT, key: None = ...) -> LT:\n",
    "    ...\n",
    "# 2\n",
    "@overload\n",
    "def max(__arg1: T, __arg2: T, *args: T, key: Callable[[T], LT]) -> T:\n",
    "    ...\n",
    "# 3\n",
    "@overload\n",
    "def max(__iterable: Iterable[LT], *, key: None = ...) -> LT:\n",
    "    ...\n",
    "# 4\n",
    "@overload\n",
    "def max(__iterable: Iterable[T], *, key: Callable[[T], LT]) -> T:\n",
    "    ...\n",
    "# 5\n",
    "@overload\n",
    "def max(__iterable: Iterable[LT], *, key: None = ..., default: DT) -> Union[LT, DT]:\n",
    "    ...\n",
    "# 6\n",
    "@overload\n",
    "def max(__iterable: Iterable[T], *, key: Callable[[T], LT], default: DT) -> Union[T, DT]:\n",
    "    ...\n",
    "\n",
    "def max(first, *args, key=None, default=MISSING):\n",
    "    if args:\n",
    "        series = args\n",
    "        candidate = first\n",
    "    else:\n",
    "        series = iter(first)\n",
    "        try:\n",
    "            candidate = next(series)\n",
    "        except StopIteration:\n",
    "            if default is not MISSING:\n",
    "                return default\n",
    "            raise ValueError(EMPTY_MSG) from None\n",
    "    if key is None:\n",
    "        for current in series:\n",
    "            if candidate < current:\n",
    "                candidate = current\n",
    "    else:\n",
    "        candidate_key = key(candidate)\n",
    "        for current in series:\n",
    "            current_key = key(current)\n",
    "            if candidate_key < current_key:\n",
    "                candidate = current\n",
    "                candidate_key = current_key\n",
    "    return candidate"
   ]
  },
  {
   "cell_type": "code",
   "execution_count": 21,
   "id": "9bbaf40c-5445-4633-80cf-5705b6696594",
   "metadata": {},
   "outputs": [
    {
     "data": {
      "text/plain": [
       "2"
      ]
     },
     "execution_count": 21,
     "metadata": {},
     "output_type": "execute_result"
    }
   ],
   "source": [
    "# 1 and 3 supports less than but key and default not provided\n",
    "# 1\n",
    "max(1,2,-3)"
   ]
  },
  {
   "cell_type": "code",
   "execution_count": 22,
   "id": "cf8c7c41-ca64-4119-a0e5-6cf3369328e6",
   "metadata": {},
   "outputs": [
    {
     "data": {
      "text/plain": [
       "'Rust'"
      ]
     },
     "execution_count": 22,
     "metadata": {},
     "output_type": "execute_result"
    }
   ],
   "source": [
    "# 3\n",
    "max(['Go', 'Python', 'Rust'])"
   ]
  },
  {
   "cell_type": "code",
   "execution_count": 23,
   "id": "5e1bf5cf-b510-4b7d-960e-905f6118dbf6",
   "metadata": {},
   "outputs": [
    {
     "data": {
      "text/plain": [
       "-3"
      ]
     },
     "execution_count": 23,
     "metadata": {},
     "output_type": "execute_result"
    }
   ],
   "source": [
    "# 2 and 4 argument key provided but no default\n",
    "# 2\n",
    "max(1, 2, -3, key=abs)"
   ]
  },
  {
   "cell_type": "code",
   "execution_count": 24,
   "id": "f40b86c2-8635-46a9-ba73-adfb3630ad93",
   "metadata": {},
   "outputs": [
    {
     "data": {
      "text/plain": [
       "'Python'"
      ]
     },
     "execution_count": 24,
     "metadata": {},
     "output_type": "execute_result"
    }
   ],
   "source": [
    "# 4\n",
    "max(['Go', 'Python', 'Rust'], key=len)"
   ]
  },
  {
   "cell_type": "code",
   "execution_count": 25,
   "id": "b5e14f79-8a32-41af-b39d-78c46542e04f",
   "metadata": {},
   "outputs": [
    {
     "data": {
      "text/plain": [
       "2"
      ]
     },
     "execution_count": 25,
     "metadata": {},
     "output_type": "execute_result"
    }
   ],
   "source": [
    "# 5 argument default provided but no key\n",
    "max([1,2,-3], default=0)"
   ]
  },
  {
   "cell_type": "code",
   "execution_count": 26,
   "id": "726517cc-d944-4e4d-9eb8-585653e112b6",
   "metadata": {},
   "outputs": [],
   "source": [
    "# also 5\n",
    "max([], default=None)"
   ]
  },
  {
   "cell_type": "code",
   "execution_count": 27,
   "id": "28c7dd5e-99a3-4482-9d93-fb12b6b2d0be",
   "metadata": {},
   "outputs": [
    {
     "data": {
      "text/plain": [
       "-3"
      ]
     },
     "execution_count": 27,
     "metadata": {},
     "output_type": "execute_result"
    }
   ],
   "source": [
    "# 6 arguments key and default provided\n",
    "max([1,2,-3], key=abs, default=None)"
   ]
  },
  {
   "cell_type": "code",
   "execution_count": 29,
   "id": "96e9977a-b375-45bf-9a61-76bbfc1be6c1",
   "metadata": {},
   "outputs": [],
   "source": [
    "max([], key=abs, default=None)"
   ]
  },
  {
   "cell_type": "code",
   "execution_count": 30,
   "id": "e3ed718d-533e-4b35-bbd7-35ba022e946d",
   "metadata": {},
   "outputs": [],
   "source": [
    "from typing import TypedDict\n",
    "\n",
    "class BookDict(TypedDict):\n",
    "    isbn: str\n",
    "    title: str\n",
    "    authors: list[str]\n",
    "    pagecount: int"
   ]
  },
  {
   "cell_type": "code",
   "execution_count": 31,
   "id": "2255ae54-e2e9-43d5-8c71-5259c138cc16",
   "metadata": {},
   "outputs": [
    {
     "data": {
      "text/plain": [
       "{'title': 'Programming Pearls',\n",
       " 'authors': 'Jon Bentley',\n",
       " 'isbn': '0201657880',\n",
       " 'pagecount': 256}"
      ]
     },
     "execution_count": 31,
     "metadata": {},
     "output_type": "execute_result"
    }
   ],
   "source": [
    "pp = BookDict(title='Programming Pearls', authors='Jon Bentley', isbn='0201657880', pagecount=256)\n",
    "pp"
   ]
  },
  {
   "cell_type": "code",
   "execution_count": 32,
   "id": "983c0979-fa74-44bb-8626-276cf60f1c96",
   "metadata": {},
   "outputs": [
    {
     "data": {
      "text/plain": [
       "dict"
      ]
     },
     "execution_count": 32,
     "metadata": {},
     "output_type": "execute_result"
    }
   ],
   "source": [
    "type(pp)"
   ]
  },
  {
   "cell_type": "code",
   "execution_count": 33,
   "id": "65d3b982-9f72-48e6-bfbf-295ed495f861",
   "metadata": {},
   "outputs": [
    {
     "ename": "AttributeError",
     "evalue": "'dict' object has no attribute 'title'",
     "output_type": "error",
     "traceback": [
      "\u001b[0;31m---------------------------------------------------------------------------\u001b[0m",
      "\u001b[0;31mAttributeError\u001b[0m                            Traceback (most recent call last)",
      "Cell \u001b[0;32mIn[33], line 1\u001b[0m\n\u001b[0;32m----> 1\u001b[0m \u001b[43mpp\u001b[49m\u001b[38;5;241;43m.\u001b[39;49m\u001b[43mtitle\u001b[49m\n",
      "\u001b[0;31mAttributeError\u001b[0m: 'dict' object has no attribute 'title'"
     ]
    }
   ],
   "source": [
    "pp.title # throws"
   ]
  },
  {
   "cell_type": "code",
   "execution_count": 34,
   "id": "aa989294-0838-4e77-b43a-1ad8edbf51a6",
   "metadata": {},
   "outputs": [
    {
     "data": {
      "text/plain": [
       "'Programming Pearls'"
      ]
     },
     "execution_count": 34,
     "metadata": {},
     "output_type": "execute_result"
    }
   ],
   "source": [
    "pp['title']"
   ]
  },
  {
   "cell_type": "code",
   "execution_count": 35,
   "id": "19bc2edf-1401-4874-aafe-320e46163019",
   "metadata": {},
   "outputs": [
    {
     "data": {
      "text/plain": [
       "{'isbn': str, 'title': str, 'authors': list[str], 'pagecount': int}"
      ]
     },
     "execution_count": 35,
     "metadata": {},
     "output_type": "execute_result"
    }
   ],
   "source": [
    "BookDict.__annotations__"
   ]
  },
  {
   "cell_type": "code",
   "execution_count": 37,
   "id": "eb5b439b-54b7-4d73-af0a-07c8d7d612ba",
   "metadata": {},
   "outputs": [],
   "source": [
    "from typing import TYPE_CHECKING\n",
    "\n",
    "def demo_books() -> None:\n",
    "    book = BookDict(isbn='0134757599', title='Refactoring 2e', authors=['Martin Fowler', 'Kent Beck'], pagecount=478)\n",
    "    authors = book['authors']\n",
    "    if TYPE_CHECKING:\n",
    "        reveal_type(authors)\n",
    "    authors = 'Bob'\n",
    "    book['weight'] = 4.2\n",
    "    del book['title']\n",
    "\n",
    "if __name__ == '__main__':\n",
    "    demo_books()"
   ]
  },
  {
   "cell_type": "code",
   "execution_count": 38,
   "id": "aacf0104-7683-43e5-a13f-36da4b33a30a",
   "metadata": {},
   "outputs": [],
   "source": [
    "AUTHOR_ELEMENT = '<AUTHOR>{}</AUTHOR>'\n",
    "\n",
    "def to_xml(book: BookDict) -> str:\n",
    "    elements: list[str] = []\n",
    "    for key, value in book.items():\n",
    "        if isinstance(value, list):\n",
    "            elements.extend(AUTHOR_ELEMENT.format(n) for n in value)\n",
    "        else:\n",
    "            tag = key.upper()\n",
    "            elements.append(f'<{tag}>{value}</{tag}>')\n",
    "    xml = '\\n\\t'.join(elements)\n",
    "    return f'<BOOK>\\n\\t{xml}\\n</BOOK>'"
   ]
  },
  {
   "cell_type": "code",
   "execution_count": 39,
   "id": "0310d38c-214c-4534-9597-e5a8354075cb",
   "metadata": {},
   "outputs": [],
   "source": [
    "def from_json(data: str) -> BookDict:\n",
    "    json_data: BookDict = json.loads(data)\n",
    "    return json_data"
   ]
  },
  {
   "cell_type": "code",
   "execution_count": 40,
   "id": "90042766-33dd-4f80-a199-37bb45179b90",
   "metadata": {},
   "outputs": [],
   "source": [
    "# casting can silence mypy errors but don't do it often as it is a code smell"
   ]
  },
  {
   "cell_type": "code",
   "execution_count": 41,
   "id": "5426f9d5-a80e-491a-8124-8768e6eefa9b",
   "metadata": {},
   "outputs": [],
   "source": [
    "# if you need annotations at runtim avoid using __annotations__ directly, use inspect.get_annoations or typing.get_type_hints"
   ]
  },
  {
   "cell_type": "code",
   "execution_count": 48,
   "id": "06fa2a61-6973-4d72-b011-f7e0a184f2e1",
   "metadata": {},
   "outputs": [],
   "source": [
    "from typing import TypeVar, Generic\n",
    "\n",
    "class Beverage:\n",
    "    \"\"\"Any beverage.\"\"\"\n",
    "\n",
    "class Juice(Beverage):\n",
    "    \"\"\"Any fruit juice\"\"\"\n",
    "\n",
    "class OrangeJuice(Juice):\n",
    "    \"\"\"Delicious juice from Brazilian oranges\"\"\"\n",
    "\n",
    "T = TypeVar('T')\n",
    "\n",
    "class BeverageDispenser(Generic[T]):\n",
    "    \"\"\"A dispenser parameterized on the beverage type.\"\"\"\n",
    "    def __init__(self, beverage: T) -> None:\n",
    "        self.beverage = beverage\n",
    "\n",
    "    def dispense(self) -> T:\n",
    "        return self.beverage\n",
    "\n",
    "def install(dispenser: BeverageDispenser[Juice]) -> None:\n",
    "    \"\"\"Install a fruit juice dispenser.\"\"\"\n",
    "    "
   ]
  },
  {
   "cell_type": "code",
   "execution_count": 62,
   "id": "b34d43ed-5af8-4a79-a21f-610dba278c00",
   "metadata": {},
   "outputs": [],
   "source": [
    "juice_dispenser = BeverageDispenser(Juice())\n",
    "install(juice_dispenser) # GOOD! MyPy is happy"
   ]
  },
  {
   "cell_type": "code",
   "execution_count": 45,
   "id": "f6cbf3ca-715c-4dc6-ae83-acc2c2c4dc15",
   "metadata": {},
   "outputs": [],
   "source": [
    "beverage_dispenser = BeverageDispenser(Beverage())\n",
    "install(beverage_dispenser) # incompatible type \"BeverageDispenser[Beverage]\" expected \"BeverageDispenser[Juice]\""
   ]
  },
  {
   "cell_type": "code",
   "execution_count": 49,
   "id": "a1638042-5e4f-444d-9866-af12859b7b3e",
   "metadata": {},
   "outputs": [],
   "source": [
    "orange_juice_dispenser = BeverageDispenser(OrangeJuice())\n",
    "install(orange_juice_dispenser) # incompatible type \"BeverageDispenser[OrangeJuice]\" expected \"BeverageDispenser[Juice]\""
   ]
  },
  {
   "cell_type": "code",
   "execution_count": 50,
   "id": "13136d3d-2685-4a22-a729-33e9268aabc3",
   "metadata": {},
   "outputs": [],
   "source": [
    "# Covariant\n",
    "T_co = TypeVar('T_co', covariant=True)\n",
    "\n",
    "class BeverageDispenser(Generic[T_co]):\n",
    "    def __init__(self, beverage: T_co) -> None:\n",
    "        self.beverage = beverage\n",
    "\n",
    "    def dispense(self) -> T_co:\n",
    "        return self.beverage\n",
    "\n",
    "def install(dispenser: BeverageDispenser[Juice]) -> None:\n",
    "    \"\"\"Install a fruit juice dispenser.\"\"\""
   ]
  },
  {
   "cell_type": "code",
   "execution_count": 60,
   "id": "c6c358e4-0a20-4c7c-bd21-0c618b08b153",
   "metadata": {},
   "outputs": [],
   "source": [
    "juice_dispenser = BeverageDispenser(Juice())\n",
    "install(juice_dispenser) # GOOD! MyPy is happy"
   ]
  },
  {
   "cell_type": "code",
   "execution_count": 61,
   "id": "a38db7b5-6ccd-4600-bb88-84ea9aeaffaa",
   "metadata": {},
   "outputs": [],
   "source": [
    "orange_juice_dispenser = BeverageDispenser(OrangeJuice())\n",
    "install(orange_juice_dispenser) # GOOD! MyPy is happy"
   ]
  },
  {
   "cell_type": "code",
   "execution_count": 53,
   "id": "3e179ea7-23a6-4187-a6cd-b81b0bafe97e",
   "metadata": {},
   "outputs": [],
   "source": [
    "beverage_dispenser = BeverageDispenser(Beverage())\n",
    "install(beverage_dispenser) # incompatible type \"BeverageDispenser[Beverage]\" expected \"BeverageDispenser[Juice]\""
   ]
  },
  {
   "cell_type": "code",
   "execution_count": 55,
   "id": "890b625d-ed6d-4eb0-9891-5fa6c3638968",
   "metadata": {},
   "outputs": [],
   "source": [
    "# All genral trash is called Refuse\n",
    "from typing import TypeVar, Generic\n",
    "\n",
    "T_contra = TypeVar('T_contra', contravariant=True)\n",
    "\n",
    "class Refuse:\n",
    "    \"\"\"Any refuse.\"\"\"\n",
    "\n",
    "class Biodegradable(Refuse):\n",
    "    \"\"\"Biodegradable refuse\"\"\"\n",
    "\n",
    "class Compostable(Biodegradable):\n",
    "    \"\"\"Compostable refuse\"\"\"\n",
    "\n",
    "class TrashCan(Generic[T_contra]):\n",
    "    def put(self, refuse: T_contra) -> None:\n",
    "        \"\"\"Store trash until dumped.\"\"\"\n",
    "\n",
    "def deploy(trash_can: TrashCan[Biodegradable]):\n",
    "    \"\"\"Deploy a trash can for biodegradable refuse\"\"\"\n",
    "        "
   ]
  },
  {
   "cell_type": "code",
   "execution_count": 63,
   "id": "fda7dccd-7358-4b7c-9e94-3e609d3cd9f6",
   "metadata": {},
   "outputs": [],
   "source": [
    "bio_can: TrashCan[Biodegradable] = TrashCan()\n",
    "deploy(bio_can) # GOOD! MyPy is happy"
   ]
  },
  {
   "cell_type": "code",
   "execution_count": 64,
   "id": "7fd306ee-8959-4609-8e8c-7d920b88c03d",
   "metadata": {},
   "outputs": [],
   "source": [
    "trash_can: TrashCan[Refuse] = TrashCan()\n",
    "deploy(trash_can) # GOOD! MyPy is happy"
   ]
  },
  {
   "cell_type": "code",
   "execution_count": 59,
   "id": "fdeae9b6-6527-4fe9-82b9-b92bb9e4ee31",
   "metadata": {},
   "outputs": [],
   "source": [
    "compost_can: TrashCan[Compostable] = TrashCan()\n",
    "deploy(compost_can) # incompatible type \"TrashCan[Compostable]\" expected \"TrashCan[Biodegradable]\""
   ]
  },
  {
   "cell_type": "code",
   "execution_count": 65,
   "id": "7c8f62ce-d4a1-46be-a441-ad1e35005b3f",
   "metadata": {},
   "outputs": [],
   "source": [
    "# A :> B (A is a supertype of or the same as B)\n",
    "# B <: A (B is a subtype of or the same as A)\n",
    "# given A :> B is a generic type C is covariant when C[A] :> C[B]\n",
    "\n",
    "# Given A :> B, a genderic type K is contravariant if K[A] <: K[B]\n",
    "# contravariant container is usually a write-only data structure, also known as a sink."
   ]
  },
  {
   "cell_type": "code",
   "execution_count": 66,
   "id": "5b073ea4-9d30-4af5-987a-26da63709aee",
   "metadata": {},
   "outputs": [
    {
     "data": {
      "text/plain": [
       "'\\nthe contravariant formal parameter defines the type of the arguments it is \\nused to invoke or send data to the object, different covariant define the types of outputs\\nproduced by the object\\n'"
      ]
     },
     "execution_count": 66,
     "metadata": {},
     "output_type": "execute_result"
    }
   ],
   "source": [
    "\"\"\"\n",
    "the contravariant formal parameter defines the type of the arguments it is \n",
    "used to invoke or send data to the object, different covariant define the types of outputs\n",
    "produced by the object\n",
    "\"\"\""
   ]
  },
  {
   "cell_type": "code",
   "execution_count": 68,
   "id": "3a4a1e82-0ddf-4452-b2fe-af9aeab29e53",
   "metadata": {},
   "outputs": [],
   "source": [
    "# covariant - comes out of object\n",
    "# contravariant - goes into object after its initial contruction\n",
    "# invariant - comes out of object and dinfes a type for data that goes into object\n",
    "# Callable[[ParamType, ...], ReturnType] ReturnType is covariant, ParamType is contraviant\n",
    "\n",
    "# TypeVar creates paramaters that are invariant"
   ]
  },
  {
   "cell_type": "code",
   "execution_count": 73,
   "id": "7e641bf0-9558-4940-8cd9-9fda42bb912a",
   "metadata": {},
   "outputs": [],
   "source": [
    "import math\n",
    "from typing import NamedTuple, SupportsAbs\n",
    "\n",
    "class Vector2d(NamedTuple):\n",
    "    x: float\n",
    "    y: float\n",
    "\n",
    "    def __abs__(self) -> float:\n",
    "        return math.hypot(self.x, self.y)\n",
    "\n",
    "def is_unit(v: SupportsAbs[float]) -> bool:\n",
    "    \"\"\"True if the magnitude of 'v' is close to 1\"\"\"\n",
    "    return math.isclose(abs(v), 1.0)\n",
    "\n",
    "assert issubclass(Vector2d, SupportsAbs) # @runtime_checkable in definition of `SupportsAbs`"
   ]
  },
  {
   "cell_type": "code",
   "execution_count": 78,
   "id": "e6943f06-eb2c-4302-9778-05c02a21c0e0",
   "metadata": {},
   "outputs": [
    {
     "name": "stdout",
     "output_type": "stream",
     "text": [
      "~made it~ all of above assertions: OK!\n"
     ]
    }
   ],
   "source": [
    "v0 = Vector2d(0,1)\n",
    "sqrt2 = math.sqrt(2)\n",
    "v1 = Vector2d(sqrt2 / 2, sqrt2 / 2)\n",
    "v2 = Vector2d(1,1)\n",
    "v3 = complex(.5, math.sqrt(3) / 2)\n",
    "v4 = 1\n",
    "\n",
    "assert is_unit(v0)\n",
    "assert is_unit(v1)\n",
    "assert not is_unit(v2)\n",
    "assert is_unit(v3)\n",
    "assert is_unit(v4)\n",
    "print('~made it~ all of above assertions: OK!')"
   ]
  },
  {
   "cell_type": "code",
   "execution_count": 79,
   "id": "bb54b071-08d4-4b82-b488-2d36d8413670",
   "metadata": {},
   "outputs": [],
   "source": [
    "from typing import Protocol, runtime_checkable, TypeVar\n",
    "\n",
    "T_co = TypeVar('T_co', covariant=True)\n",
    "\n",
    "@runtime_checkable\n",
    "class RandomPicker(Protocol[T_co]):\n",
    "    def pick(self) -> T_co: ..."
   ]
  },
  {
   "cell_type": "code",
   "execution_count": null,
   "id": "90b8f060-0da9-4094-befd-c38d2b396dc0",
   "metadata": {},
   "outputs": [],
   "source": []
  }
 ],
 "metadata": {
  "kernelspec": {
   "display_name": "Python 3 (ipykernel)",
   "language": "python",
   "name": "python3"
  },
  "language_info": {
   "codemirror_mode": {
    "name": "ipython",
    "version": 3
   },
   "file_extension": ".py",
   "mimetype": "text/x-python",
   "name": "python",
   "nbconvert_exporter": "python",
   "pygments_lexer": "ipython3",
   "version": "3.10.15"
  }
 },
 "nbformat": 4,
 "nbformat_minor": 5
}
