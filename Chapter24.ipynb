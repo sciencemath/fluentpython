{
 "cells": [
  {
   "cell_type": "code",
   "execution_count": null,
   "id": "38f7f830-e26e-487d-ac57-0d6031dde040",
   "metadata": {},
   "outputs": [],
   "source": [
    "\"\"\"\n",
    "class MyClass(MySuperClass, MyMixin):\n",
    "    x = 42\n",
    "\n",
    "    def x2(self):\n",
    "        return self.x * 2\n",
    "\n",
    "MyClass = type('MyClass',\n",
    "              (MySuperClass, MyMixin),\n",
    "              {'x': 42, 'x2': lambda self: self.x * 2},\n",
    "          )\n",
    "\"\"\""
   ]
  },
  {
   "cell_type": "code",
   "execution_count": 2,
   "id": "cbe4d81c-b642-4dcb-bc1c-2c30e2fec484",
   "metadata": {},
   "outputs": [
    {
     "data": {
      "text/plain": [
       "int"
      ]
     },
     "execution_count": 2,
     "metadata": {},
     "output_type": "execute_result"
    }
   ],
   "source": [
    "\"\"\"\n",
    "The type class is a metaclass: a class that builds classes. In other words, instances of\n",
    "the type class are classes. \n",
    "\"\"\"\n",
    "type(7)"
   ]
  },
  {
   "cell_type": "code",
   "execution_count": 3,
   "id": "210cc190-8d77-4aae-859f-95acbddb61a3",
   "metadata": {},
   "outputs": [
    {
     "data": {
      "text/plain": [
       "type"
      ]
     },
     "execution_count": 3,
     "metadata": {},
     "output_type": "execute_result"
    }
   ],
   "source": [
    "type(int)"
   ]
  },
  {
   "cell_type": "code",
   "execution_count": 4,
   "id": "93b1e9da-b3c8-447e-ad0d-20171cef9f5e",
   "metadata": {},
   "outputs": [
    {
     "data": {
      "text/plain": [
       "type"
      ]
     },
     "execution_count": 4,
     "metadata": {},
     "output_type": "execute_result"
    }
   ],
   "source": [
    "type(OSError)"
   ]
  },
  {
   "cell_type": "code",
   "execution_count": 5,
   "id": "e7430dce-f615-4cde-b915-a8302a2816cd",
   "metadata": {},
   "outputs": [
    {
     "data": {
      "text/plain": [
       "type"
      ]
     },
     "execution_count": 5,
     "metadata": {},
     "output_type": "execute_result"
    }
   ],
   "source": [
    "class Whatever:\n",
    "    pass\n",
    "\n",
    "type(Whatever)"
   ]
  },
  {
   "cell_type": "code",
   "execution_count": 6,
   "id": "07d6f990-d005-47a4-b8f5-02d30c033450",
   "metadata": {},
   "outputs": [
    {
     "data": {
      "text/plain": [
       "<__main__.Dog at 0x106910460>"
      ]
     },
     "execution_count": 6,
     "metadata": {},
     "output_type": "execute_result"
    }
   ],
   "source": [
    "class Dog:\n",
    "    def __init__(self, name, weight, owner):\n",
    "        self.name = name\n",
    "        self.weight = weight\n",
    "        self.owner = owner\n",
    "\n",
    "oreo = Dog('Oreo', 20, 'Mathias')\n",
    "oreo"
   ]
  },
  {
   "cell_type": "code",
   "execution_count": 18,
   "id": "43e6ac2e-ba13-4688-b3a8-92059bed9e1e",
   "metadata": {},
   "outputs": [],
   "source": [
    "from typing import Union, Any\n",
    "from collections.abc import Iterable, Iterator\n",
    "\n",
    "FieldNames = Union[str, Iterable[str]]\n",
    "\n",
    "# NOTE the return type, the return class will be a subclass\n",
    "def record_factory(cls_name: str, field_names: FieldNames) -> type[tuple]:\n",
    "    slots = parse_identifiers(field_names)\n",
    "\n",
    "    def __init__(self, *args, **kwargs) -> None:\n",
    "        attrs = dict(zip(self.__slots__, args))\n",
    "        attrs.update(kwargs)\n",
    "        for name, value in attrs.items():\n",
    "            setattr(self, name, value)\n",
    "\n",
    "    def __iter__(self) -> Iterator[Any]:\n",
    "        for name in self.__slots__:\n",
    "            yield getattr(self, name)\n",
    "\n",
    "    def __repr__(self):\n",
    "        values = ', '.join(f'{name}={value!r}'\n",
    "                           for name, value in zip(self.__slots__, self))\n",
    "        cls_name = self.__class__.__name__\n",
    "        return f'{cls_name}({values})'\n",
    "\n",
    "    cls_attrs = dict(\n",
    "        __slots__=slots,\n",
    "        __init__=__init__,\n",
    "        __iter__=__iter__,\n",
    "        __repr__=__repr__,\n",
    "    )\n",
    "\n",
    "    return type(cls_name, (object,), cls_attrs)\n",
    "\n",
    "def parse_identifiers(names: FieldNames) -> tuple[str, ...]:\n",
    "    if isinstance(names, str):\n",
    "        names = names.replace(',', ' ').split()\n",
    "    if not all(s.isidentifier() for s in names):\n",
    "        raise ValueError('names must all be valid Identifiers')\n",
    "    return tuple(names)"
   ]
  },
  {
   "cell_type": "code",
   "execution_count": 19,
   "id": "9df484f1-41b1-4960-a304-107b7abeb14e",
   "metadata": {},
   "outputs": [
    {
     "data": {
      "text/plain": [
       "Dog(name='Oreo', weight=20, owner='Mathias')"
      ]
     },
     "execution_count": 19,
     "metadata": {},
     "output_type": "execute_result"
    }
   ],
   "source": [
    "Dog = record_factory('Dog', 'name weight owner')\n",
    "oreo = Dog('Oreo', 20, 'Mathias')\n",
    "oreo"
   ]
  },
  {
   "cell_type": "code",
   "execution_count": 20,
   "id": "8fb29370-1ae1-405e-a554-6d21a5f4d7c9",
   "metadata": {},
   "outputs": [
    {
     "data": {
      "text/plain": [
       "('Oreo', 20)"
      ]
     },
     "execution_count": 20,
     "metadata": {},
     "output_type": "execute_result"
    }
   ],
   "source": [
    "name, weight, _ = oreo\n",
    "name, weight"
   ]
  },
  {
   "cell_type": "code",
   "execution_count": 23,
   "id": "45fd3375-fa35-405f-a09a-f7a995609cb5",
   "metadata": {},
   "outputs": [
    {
     "data": {
      "text/plain": [
       "\"Mathias' dog weighs 20kg\""
      ]
     },
     "execution_count": 23,
     "metadata": {},
     "output_type": "execute_result"
    }
   ],
   "source": [
    "\"{2}' dog weighs {1}kg\".format(*oreo)"
   ]
  },
  {
   "cell_type": "code",
   "execution_count": 24,
   "id": "1e0d01d9-e469-4152-87d1-97a9f7e99164",
   "metadata": {},
   "outputs": [
    {
     "data": {
      "text/plain": [
       "Dog(name='Oreo', weight=25, owner='Mathias')"
      ]
     },
     "execution_count": 24,
     "metadata": {},
     "output_type": "execute_result"
    }
   ],
   "source": [
    "oreo.weight = 25\n",
    "oreo"
   ]
  },
  {
   "cell_type": "code",
   "execution_count": 25,
   "id": "6b775940-d0fa-4fc2-937a-17659dcf2729",
   "metadata": {},
   "outputs": [
    {
     "data": {
      "text/plain": [
       "(__main__.Dog, object)"
      ]
     },
     "execution_count": 25,
     "metadata": {},
     "output_type": "execute_result"
    }
   ],
   "source": [
    "Dog.__mro__"
   ]
  },
  {
   "cell_type": "code",
   "execution_count": 26,
   "id": "cffc03be-2795-4446-986f-63491563fa4c",
   "metadata": {},
   "outputs": [
    {
     "data": {
      "text/plain": [
       "(0, 0.0, False, '', [], {}, set())"
      ]
     },
     "execution_count": 26,
     "metadata": {},
     "output_type": "execute_result"
    }
   ],
   "source": [
    "int(), float(), bool(), str(), list(), dict(), set()"
   ]
  },
  {
   "cell_type": "code",
   "execution_count": 28,
   "id": "87d4af88-f72c-41d4-b4a4-f9b56a4add8f",
   "metadata": {},
   "outputs": [],
   "source": [
    "from collections.abc import Callable\n",
    "from typing import Any, NoReturn, get_type_hints\n",
    "\n",
    "class Field:\n",
    "    def __init__(self, name: str, constructor: Callable) -> None:\n",
    "        if not callable(constructor) or constructor is type(None):\n",
    "            raise TypeError(f'{name!r} type hint must be callable')\n",
    "        self.name = name\n",
    "        self.constructor = constructor\n",
    "\n",
    "    def __set__(self, instance: Any, value: Any) -> None:\n",
    "        if value is ...: # ... determines if the value is None vs values that were not given\n",
    "            value = self.constructor()\n",
    "        else:\n",
    "            try:\n",
    "                type_name = self.constructor(value)\n",
    "            except (TypeError, ValueError) as e:\n",
    "                type_name = self.constructor.__name__\n",
    "                msg = f'{value!r} is not compatible with {self.name}:{type_name}'\n",
    "                raise TypeError(msg) from e\n",
    "        instance.__dict__[self.name] = value"
   ]
  },
  {
   "cell_type": "code",
   "execution_count": 42,
   "id": "b1018f4f-a230-4eb7-978d-23a0c7cf0f4b",
   "metadata": {},
   "outputs": [],
   "source": [
    "import inspect\n",
    "\n",
    "# some methods are prepended with `_` to reduce the chance of name clashes with user-defined field names\n",
    "class Checked:\n",
    "    @classmethod\n",
    "    def _fields(cls) -> dict[str, type]:\n",
    "        #return inspect.get_annotations\n",
    "        return get_type_hints(cls)\n",
    "\n",
    "    def __init_subclass__(subclass) -> None:\n",
    "        #super().__init_subclass_()\n",
    "        for name, constructor in subclass._fields().items():\n",
    "            setattr(subclass, name, Field(name, constructor))\n",
    "\n",
    "    def __init__(self, **kwargs: Any) -> None:\n",
    "        for name in self._fields():\n",
    "            value = kwargs.pop(name, ...)\n",
    "            setattr(self, name, value)\n",
    "        if kwargs:\n",
    "            self.__flag_unknown_attrs(*kwargs)\n",
    "\n",
    "    def __setattr__(self, name: str, value: Any) -> None:\n",
    "        if name in self._fields():\n",
    "            cls = self.__class__\n",
    "            descriptor = getattr(cls, name)\n",
    "            descriptor.__set__(self, value)\n",
    "        else:\n",
    "            self.__flag_unknown_attrs(name)\n",
    "\n",
    "    def __flag_unknown_attrs(self, *name: str) -> NoReturn:\n",
    "        plural = 's' if len(names) > 1 else ''\n",
    "        extra = ', '.join(f'{name!r}' for name in names)\n",
    "        cls_name = repr(self.__class__.__name__)\n",
    "        raise AttributeError(f'{cls_name} object has no attribute{plural} {extra}')\n",
    "\n",
    "    def _asdict(self) -> dict[str, Any]:\n",
    "        return {\n",
    "            name: getattr(self, name)\n",
    "            for name, attr in self.__class__.__dict__.items()\n",
    "            if isinstance(attr, Field)\n",
    "        }\n",
    "\n",
    "    def __repr__(self) -> str:\n",
    "        kwargs = ', '.join(\n",
    "            f'{key}={value!r}' for key, value in self._asdict().items()\n",
    "        )\n",
    "        return f'{self.__class__.__name__}({kwargs})'"
   ]
  },
  {
   "cell_type": "code",
   "execution_count": 50,
   "id": "c9fe57e5-9e29-4cff-9e95-eb31609f1112",
   "metadata": {},
   "outputs": [
    {
     "data": {
      "text/plain": [
       "'The Matrix'"
      ]
     },
     "execution_count": 50,
     "metadata": {},
     "output_type": "execute_result"
    }
   ],
   "source": [
    "class Movie(Checked):\n",
    "    title: str\n",
    "    year: int\n",
    "    box_office: float\n",
    "\n",
    "movie = Movie(title='The Matrix', year=1999, box_office=234)\n",
    "movie.title"
   ]
  },
  {
   "cell_type": "code",
   "execution_count": 51,
   "id": "651d0dba-728e-44b3-bdbc-ea14858c5f65",
   "metadata": {},
   "outputs": [
    {
     "data": {
      "text/plain": [
       "Movie(title='The Matrix', year=1999, box_office=234)"
      ]
     },
     "execution_count": 51,
     "metadata": {},
     "output_type": "execute_result"
    }
   ],
   "source": [
    "movie"
   ]
  },
  {
   "cell_type": "code",
   "execution_count": 55,
   "id": "decbf32d-0145-4167-8afc-bb2ac378ab0a",
   "metadata": {},
   "outputs": [],
   "source": [
    "def checked(cls: type) -> type:\n",
    "    for name, constructor in _fields(cls).items():\n",
    "        setattr(cls, name, Field(name, constructor))\n",
    "    cls._fields = classmethod(_fields)\n",
    "\n",
    "    instance_methods = (\n",
    "        __init__,\n",
    "        __repr__,\n",
    "        __setattr__,\n",
    "        _asdict,\n",
    "        __flag_unknown_attrs,\n",
    "    )\n",
    "    for method in instance_methods:\n",
    "        setattr(cls, method.__name__, method)\n",
    "    return cls"
   ]
  },
  {
   "cell_type": "code",
   "execution_count": 56,
   "id": "355ff404-edca-45a6-85ec-71b6a8bbcbfe",
   "metadata": {},
   "outputs": [
    {
     "data": {
      "text/plain": [
       "'The Matrix'"
      ]
     },
     "execution_count": 56,
     "metadata": {},
     "output_type": "execute_result"
    }
   ],
   "source": [
    "@checked\n",
    "class Movie:\n",
    "    title: str\n",
    "    year: int\n",
    "    box_office: float\n",
    "\n",
    "movie = Movie(title='The Matrix', year=1999, box_office=234)\n",
    "movie.title"
   ]
  },
  {
   "cell_type": "code",
   "execution_count": 57,
   "id": "12bf4e99-c3de-4ce8-b58b-f1e6ae2f0e53",
   "metadata": {},
   "outputs": [],
   "source": [
    "# same as the class methods but this time were utilizing class @decorator noted above this cell\n",
    "def _fields(cls) -> dict[str, type]:\n",
    "    return get_type_hints(cls)\n",
    "\n",
    "def __init__(self, **kwargs: Any) -> None:\n",
    "    for name in self._fields():\n",
    "        value = kwargs.pop(name, ...)\n",
    "        setattr(self, name, value)\n",
    "    if kwargs:\n",
    "        self.__flag_unknown_attrs(*kwargs)\n",
    "\n",
    "def __setattr__(self, name: str, value: Any) -> None:\n",
    "    if name in self._fields():\n",
    "        cls = self.__class__\n",
    "        descriptor = getattr(cls, name)\n",
    "        descriptor.__set__(self, value)\n",
    "    else:\n",
    "        self.__flag_unknown_attrs(name)\n",
    "\n",
    "def __flag_unknown_attrs(self, *name: str) -> NoReturn:\n",
    "    plural = 's' if len(names) > 1 else ''\n",
    "    extra = ', '.join(f'{name!r}' for name in names)\n",
    "    cls_name = repr(self.__class__.__name__)\n",
    "    raise AttributeError(f'{cls_name} object has no attribute{plural} {extra}')\n",
    "\n",
    "def _asdict(self) -> dict[str, Any]:\n",
    "    return {\n",
    "        name: getattr(self, name)\n",
    "        for name, attr in self.__class__.__dict__.items()\n",
    "        if isinstance(attr, Field)\n",
    "    }\n",
    "\n",
    "def __repr__(self) -> str:\n",
    "    kwargs = ', '.join(\n",
    "        f'{key}={value!r}' for key, value in self._asdict().items()\n",
    "    )\n",
    "    return f'{self.__class__.__name__}({kwargs})'"
   ]
  },
  {
   "cell_type": "code",
   "execution_count": 61,
   "id": "c229c511-a555-4278-beb6-1adfc1d6cff2",
   "metadata": {},
   "outputs": [
    {
     "name": "stdout",
     "output_type": "stream",
     "text": [
      "@ builderlib module start\n",
      "@ Builder body\n",
      "@ Descriptor body\n",
      "@ builderlib module end\n"
     ]
    }
   ],
   "source": [
    "# Note: you would have a class decorator as well as __init_subclass__\n",
    "print('@ builderlib module start')\n",
    "class Builder:\n",
    "    print('@ Builder body')\n",
    "\n",
    "    def __init_subclass__(cls):\n",
    "        print(f'@Builder.__init_subclass__({cls!r})')\n",
    "\n",
    "        def inner_0(self):\n",
    "            print(f'@ SuperA.__init_subclass__:inner_0({self!r})')\n",
    "\n",
    "        cls.method_a = inner_0\n",
    "\n",
    "    def __init__(self):\n",
    "        super().__init__()\n",
    "        print(f'@ Builder.__init__({self!r})')\n",
    "\n",
    "def deco(cls):\n",
    "    print(f'@ deco({cls!r})')\n",
    "\n",
    "    def inner_1(self):\n",
    "        print(f'@ deco:inner_1({self!r})')\n",
    "\n",
    "    cls.method_b = inner_1\n",
    "    return cls\n",
    "\n",
    "class Descriptor:\n",
    "    print('@ Descriptor body')\n",
    "\n",
    "    def __init__(self):\n",
    "        print(f'@ Descriptor.__init__({self!r})')\n",
    "\n",
    "    def __set_name__(self, owner, name):\n",
    "        args = (self, owner, name)\n",
    "        print(f'@ Descriptor.__set_name__{args!r}')\n",
    "\n",
    "    def __set__(self, instance, value):\n",
    "        args = (self, instance, value)\n",
    "        print(f'@ Descriptor.__set__{args!r}')\n",
    "\n",
    "    def __repr__(self):\n",
    "        return '<Descriptor instance>'\n",
    "\n",
    "print('@ builderlib module end')"
   ]
  },
  {
   "cell_type": "code",
   "execution_count": 62,
   "id": "5a55afaf-5963-482d-adde-664c256af8b2",
   "metadata": {},
   "outputs": [
    {
     "name": "stdout",
     "output_type": "stream",
     "text": [
      "# evaldemo module start\n",
      "# Klass body\n",
      "@ Descriptor.__init__(<Descriptor instance>)\n",
      "@ Descriptor.__set_name__(<Descriptor instance>, <class '__main__.Klass'>, 'attr')\n",
      "@Builder.__init_subclass__(<class '__main__.Klass'>)\n",
      "@ deco(<class '__main__.Klass'>)\n",
      "@ Builder.__init__(<Klass instance>)\n",
      "# Klass.__init__(<Klass instance>)\n",
      "@ SuperA.__init_subclass__:inner_0(<Klass instance>)\n",
      "@ deco:inner_1(<Klass instance>)\n",
      "@ Descriptor.__set__(<Descriptor instance>, <Klass instance>, 999)\n",
      "# evaldemo module end\n"
     ]
    }
   ],
   "source": [
    "print('# evaldemo module start')\n",
    "\n",
    "@deco\n",
    "class Klass(Builder): # trigger  __init_subclass__\n",
    "    print('# Klass body')\n",
    "\n",
    "    attr = Descriptor()\n",
    "\n",
    "    def __init__(self):\n",
    "        super().__init__()\n",
    "        print(f'# Klass.__init__({self!r})')\n",
    "\n",
    "    def __repr__(self):\n",
    "        return '<Klass instance>'\n",
    "\n",
    "def main():\n",
    "    obj = Klass()\n",
    "    obj.method_a()\n",
    "    obj.method_b()\n",
    "    obj.attr = 999\n",
    "\n",
    "if __name__ == '__main__':\n",
    "    main()\n",
    "\n",
    "print('# evaldemo module end')"
   ]
  },
  {
   "cell_type": "code",
   "execution_count": 63,
   "id": "2f40caf4-7723-4f73-b1f3-fbc57149bb54",
   "metadata": {},
   "outputs": [
    {
     "data": {
      "text/plain": [
       "abc.ABCMeta"
      ]
     },
     "execution_count": 63,
     "metadata": {},
     "output_type": "execute_result"
    }
   ],
   "source": [
    "from collections.abc import Iterable\n",
    "Iterable.__class__"
   ]
  },
  {
   "cell_type": "code",
   "execution_count": 64,
   "id": "d92889f0-8c0b-4016-a116-5068d87536b3",
   "metadata": {},
   "outputs": [
    {
     "data": {
      "text/plain": [
       "type"
      ]
     },
     "execution_count": 64,
     "metadata": {},
     "output_type": "execute_result"
    }
   ],
   "source": [
    "import abc\n",
    "from abc import ABCMeta\n",
    "ABCMeta.__class__"
   ]
  },
  {
   "cell_type": "code",
   "execution_count": 66,
   "id": "583f4296-be93-4077-9828-264e0fd330a9",
   "metadata": {},
   "outputs": [],
   "source": [
    "# Every class is an instance of type, directly or indirectly. Type is an instance of itself!"
   ]
  },
  {
   "cell_type": "code",
   "execution_count": 68,
   "id": "7737bec7-3c09-43ed-84f1-9b36df9ad492",
   "metadata": {},
   "outputs": [],
   "source": [
    "# A metaclass inherits type\n",
    "class MetaBunch(type):\n",
    "    def __new__(meta_cls, cls_name, bases, cls_dict):\n",
    "        defaults = {}\n",
    "        def __init__(self, **kwargs):\n",
    "            for name, default in defaults.items():\n",
    "                setattr(self, name, kwargs.pop(name, default))\n",
    "            if kwargs:\n",
    "                extra = ', '.join(kwargs)\n",
    "                raise AttributeError(f'No slots left for: {extra!r}')\n",
    "\n",
    "        def __repr(self):\n",
    "            rep = ', '.join(f'{name}={value!r}'\n",
    "                            for name, default in defaults.items()\n",
    "                            if (value := getattr(self, name)) != default)\n",
    "            return f'{cls_name}({rep})'\n",
    "\n",
    "        new_dict = dict(__slots__=[], __init__=__init__, __repr__=__repr__)\n",
    "\n",
    "        for name, value in cls_dict.items():\n",
    "            if name.startswith('__') and name.endswith('__'):\n",
    "                if name in new_dict:\n",
    "                    raise AttributeError(f\"Can't set {name!r} in {cls_name!r}\")\n",
    "                new_dict[name] = value\n",
    "\n",
    "            else:\n",
    "                new_dict['__slots__'].append(name)\n",
    "                defaults[name] = value\n",
    "        return super().__new__(meta_cls, cls_name, bases, new_dict)\n",
    "\n",
    "class Bunch(metaclass=MetaBunch):\n",
    "    pass"
   ]
  },
  {
   "cell_type": "code",
   "execution_count": 74,
   "id": "8b146ce6-0218-4db2-b4f4-038ab83ec2ed",
   "metadata": {},
   "outputs": [
    {
     "name": "stdout",
     "output_type": "stream",
     "text": [
      "% MetaKlass body\n",
      "% metalib module end\n"
     ]
    }
   ],
   "source": [
    "import collections\n",
    "\n",
    "class NosyDict(collections.UserDict):\n",
    "    def __setitem__(self, key, value):\n",
    "        args = (self, key, value)\n",
    "        print(f'% NosyDict.__setitem__{args!r}')\n",
    "        super().__setitem__(key, value)\n",
    "\n",
    "    def __repr__(self):\n",
    "        return '<Nosy instance>'\n",
    "\n",
    "class MetaKlass(type):\n",
    "    print('% MetaKlass body')\n",
    "\n",
    "    @classmethod # gets called first\n",
    "    def __prepare__(meta_cls, cls_name, bases):\n",
    "        args = (meta_cls, cls_name, bases)\n",
    "        print(f'% MetaKlass.__prepare__{args!r}')\n",
    "        return NosyDict()\n",
    "\n",
    "    def __new__(meta_cls, cls_name, bases, cls_dict):\n",
    "        args = (meta_cls, cls_name, bases, cls_dict)\n",
    "        print(f'% MetaKlass.__new__{args!r}')\n",
    "        def inner_2(self):\n",
    "            print(f'% MetaKlass.__new__:inner_2({self!r})')\n",
    "\n",
    "        cls = super().__new__(meta_cls, cls_name, bases, cls_dict.data)\n",
    "        cls.method_c = inner_2\n",
    "        return cls\n",
    "\n",
    "    def __repr__(cls):\n",
    "        cls_name = cls.__name__\n",
    "        return f'<class {cls_name!r} built by MetaKlass>'\n",
    "\n",
    "print('% metalib module end')"
   ]
  },
  {
   "cell_type": "code",
   "execution_count": 76,
   "id": "dd0d7a1d-252c-4847-b15e-d57fd81a28e1",
   "metadata": {},
   "outputs": [
    {
     "name": "stdout",
     "output_type": "stream",
     "text": [
      "% MetaKlass.__prepare__(<class '__main__.MetaKlass'>, 'Klass', (<class '__main__.Builder'>,))\n",
      "% NosyDict.__setitem__(<Nosy instance>, '__module__', '__main__')\n",
      "% NosyDict.__setitem__(<Nosy instance>, '__qualname__', 'Klass')\n",
      "# Klass body\n",
      "@ Descriptor.__init__(<Descriptor instance>)\n",
      "% NosyDict.__setitem__(<Nosy instance>, 'attr', <Descriptor instance>)\n",
      "% NosyDict.__setitem__(<Nosy instance>, '__init__', <function Klass.__init__ at 0x106c6ff40>)\n",
      "% NosyDict.__setitem__(<Nosy instance>, '__repr__', <function Klass.__repr__ at 0x106c6fd00>)\n",
      "% NosyDict.__setitem__(<Nosy instance>, '__classcell__', <cell at 0x106c83100: empty>)\n",
      "% MetaKlass.__new__(<class '__main__.MetaKlass'>, 'Klass', (<class '__main__.Builder'>,), <Nosy instance>)\n",
      "@ Descriptor.__set_name__(<Descriptor instance>, <class 'Klass' built by MetaKlass>, 'attr')\n",
      "@Builder.__init_subclass__(<class 'Klass' built by MetaKlass>)\n",
      "@ deco(<class 'Klass' built by MetaKlass>)\n",
      "@ Builder.__init__(<Klass instance>)\n",
      "# Klass.__init__(<Klass instance>)\n",
      "# evaldemo_meta module end\n"
     ]
    }
   ],
   "source": [
    "@deco\n",
    "class Klass(Builder, metaclass=MetaKlass):\n",
    "    print('# Klass body')\n",
    "    \n",
    "    attr = Descriptor()\n",
    "\n",
    "    def __init__(self):\n",
    "        super().__init__()\n",
    "        print(f'# Klass.__init__({self!r})')\n",
    "\n",
    "    def __repr__(self):\n",
    "        return '<Klass instance>'\n",
    "\n",
    "def main():\n",
    "    obj = Klass()\n",
    "    # uncomment these to see how these get called\n",
    "    # obj.method_a()\n",
    "    # obj.method_b()\n",
    "    # obj.method_c()\n",
    "    # obj.attr = 420\n",
    "\n",
    "if __name__ == '__main__':\n",
    "    main()\n",
    "\n",
    "print('# evaldemo_meta module end')"
   ]
  },
  {
   "cell_type": "code",
   "execution_count": 77,
   "id": "2bd0bdef-2615-4c31-855f-9c227887901d",
   "metadata": {},
   "outputs": [],
   "source": [
    "class Field:\n",
    "    def __init__(self, name: str, constructor: Callable) -> None:\n",
    "        if not callable(constructor) or constructor is type(None):\n",
    "            raise TypeError(f'{name!r} type hint must be callable')\n",
    "        self.name = name\n",
    "        self.storage_name = '_' + name\n",
    "        self.constructor = constructor\n",
    "\n",
    "    def __get__(self, instance, owner=None):\n",
    "        if instance is None:\n",
    "            return self\n",
    "        return getattr(instance, self.storage_name)\n",
    "\n",
    "    def __set__(self, instance: Any, value: Any) -> None:\n",
    "        if value is ...: # ... remember this determines if the value is None vs values that were not given\n",
    "            value = self.constructor()\n",
    "        else:\n",
    "            try:\n",
    "                value = self.constructor(value)\n",
    "            except (TypeError, ValueError) as e:\n",
    "                type_name = self.constructor.__name__\n",
    "                msg = f'{value!r} is not compatible with {self.name}:{type_name}'\n",
    "                raise TypeError(msg) from e\n",
    "        setattr(instance, self.storage_name, value)\n",
    "            "
   ]
  },
  {
   "cell_type": "code",
   "execution_count": 80,
   "id": "0a6285ee-ac20-414e-82b1-f100e8a322f5",
   "metadata": {},
   "outputs": [],
   "source": [
    "class CheckedMeta(type):\n",
    "    def __new__(meta_cls, cls_name, bases, cls_dict):\n",
    "        if '__slots__' not in cls_dict:\n",
    "            slots = []\n",
    "            type_hints = cls_dict.get('__annotations__', {}) # class does not exist yet, need to retrieve __annotations__\n",
    "            for name, constructor in type_hints.items():\n",
    "                field = Field(name, constructor)\n",
    "                cls_dict[name] = field\n",
    "                slots.append(field.storage_name)\n",
    "            cls_dict['__slots__'] = slots\n",
    "        return super().__new__(meta_cls, cls_name, bases, cls_dict)"
   ]
  },
  {
   "cell_type": "code",
   "execution_count": 81,
   "id": "d5b3d8bc-45e3-4455-801b-b626659cefab",
   "metadata": {},
   "outputs": [],
   "source": [
    "class Checked(metaclass=CheckedMeta):\n",
    "    __slots__ = () # skip CheckedMeta.__new__\n",
    "\n",
    "    @classmethod\n",
    "    def _fields(cls) -> dict[str, type]:\n",
    "        return get_type_hints(cls)\n",
    "\n",
    "    def __init__(self, **kwargs: Any) -> None:\n",
    "        for name in self._fields():\n",
    "            value = kwargs.pop(name, ...)\n",
    "            setattr(self, name, value)\n",
    "        if kwargs:\n",
    "            set.__flag_unknown_attr(*kwargs)\n",
    "\n",
    "    def __flag_unknwon_attrs(self, *names: str) -> NoReturn:\n",
    "        plural = 's' if len(names) > 1 else ''\n",
    "        extra = ', '.join(f'{name!r}' for name in names)\n",
    "        cls_name = repr(self.__class__.__name__)\n",
    "        raise AttributeError(f'{cls_name} object has no attribute{plural} {extra}')\n",
    "\n",
    "    def _asdict(self) -> dict[str, Any]:\n",
    "        return {\n",
    "            name: getattr(self, name)\n",
    "            for name, attr in self.__class__.__dict__.items()\n",
    "            if isinstance(attr, Field)\n",
    "        }\n",
    "\n",
    "    def __repr__(self) -> str:\n",
    "        kwargs = ', '.join(f'{key}={value!r}' for key, value in self._asdict().items())\n",
    "        return f'{self.__class__.__name__}({kwargs})'"
   ]
  },
  {
   "cell_type": "code",
   "execution_count": 82,
   "id": "c3ca41c3-ae1e-4f5c-807f-4e8e0151d1f6",
   "metadata": {},
   "outputs": [
    {
     "data": {
      "text/plain": [
       "\"\\nCommon use cases to use a metaclass are sometimes redundant because of new lanugage features:\\n    Class decorators\\n    __set_name__\\n    __init_subclass__\\n    built-in dict preserving insertion order\\n\\n* I have a hunch that __slots__ (if not already) would be handled automatically by CPython compiler\\nso we wouldn't have to worry about manually doing this optimization. *\\n\""
      ]
     },
     "execution_count": 82,
     "metadata": {},
     "output_type": "execute_result"
    }
   ],
   "source": [
    "\"\"\"\n",
    "Common use cases to use a metaclass are sometimes redundant because of new lanugage features:\n",
    "    Class decorators\n",
    "    __set_name__\n",
    "    __init_subclass__\n",
    "    built-in dict preserving insertion order\n",
    "\n",
    "* I have a hunch that __slots__ (if not already) would be handled automatically by CPython compiler\n",
    "so we wouldn't have to worry about manually doing this optimization. *\n",
    "\"\"\""
   ]
  },
  {
   "cell_type": "code",
   "execution_count": 88,
   "id": "2ced0be8-d881-4094-b0f8-814135b9ee44",
   "metadata": {},
   "outputs": [],
   "source": [
    "# Another example of a MetaClass\n",
    "# Autogenerates numeric constants\n",
    "\"\"\"\n",
    "End goal:\n",
    "class Flavor(AutoConst):\n",
    "    vanilla\n",
    "    pistachio\n",
    "    cheesecake\n",
    "\n",
    "Flavor.vanilla\n",
    "0\n",
    "Flavor.pistachio, Flavor.cheesecake\n",
    "(1, 2)\n",
    "\"\"\"\n",
    "\n",
    "class MissingConst(dict):\n",
    "    def __init__(self, *args, **kwargs):\n",
    "        super().__init__(*args, **kwargs)\n",
    "        self.__next_value = 0\n",
    "\n",
    "    def __missing__(self, key):\n",
    "        if key.startswith('__') and key.endswith('__'):\n",
    "            raise KeyError(key)\n",
    "        self[key] = value = self.__next_value\n",
    "        self.__next_value += 1\n",
    "        return value\n",
    "\n",
    "class AutoConstMeta(type):\n",
    "    def __prepare__(name, bases, **kwargs):\n",
    "        return MissingConst()\n",
    "\n",
    "class AutoConst(metaclass=AutoConstMeta):\n",
    "    pass"
   ]
  },
  {
   "cell_type": "code",
   "execution_count": 89,
   "id": "6b4defa8-c564-4a30-bbfd-36df65bf840e",
   "metadata": {},
   "outputs": [
    {
     "data": {
      "text/plain": [
       "0"
      ]
     },
     "execution_count": 89,
     "metadata": {},
     "output_type": "execute_result"
    }
   ],
   "source": [
    "class Flavor(AutoConst):\n",
    "    vanilla\n",
    "    pistachio\n",
    "    cheesecake\n",
    "\n",
    "Flavor.vanilla"
   ]
  },
  {
   "cell_type": "code",
   "execution_count": 90,
   "id": "4eef10f5-cea1-454f-ab05-bf6bf843e6c7",
   "metadata": {},
   "outputs": [
    {
     "data": {
      "text/plain": [
       "(1, 2)"
      ]
     },
     "execution_count": 90,
     "metadata": {},
     "output_type": "execute_result"
    }
   ],
   "source": [
    "Flavor.pistachio, Flavor.cheesecake"
   ]
  },
  {
   "cell_type": "code",
   "execution_count": null,
   "id": "9c4f2127-9e45-48fb-aec8-d99648675f94",
   "metadata": {},
   "outputs": [],
   "source": []
  }
 ],
 "metadata": {
  "kernelspec": {
   "display_name": "Python 3 (ipykernel)",
   "language": "python",
   "name": "python3"
  },
  "language_info": {
   "codemirror_mode": {
    "name": "ipython",
    "version": 3
   },
   "file_extension": ".py",
   "mimetype": "text/x-python",
   "name": "python",
   "nbconvert_exporter": "python",
   "pygments_lexer": "ipython3",
   "version": "3.10.15"
  }
 },
 "nbformat": 4,
 "nbformat_minor": 5
}
