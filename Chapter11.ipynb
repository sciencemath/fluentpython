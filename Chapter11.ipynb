{
 "cells": [
  {
   "cell_type": "code",
   "execution_count": 88,
   "id": "b8083670-4eae-4dde-9aa7-396e4ad4a99f",
   "metadata": {},
   "outputs": [],
   "source": [
    "from array import array\n",
    "import math\n",
    "\n",
    "class Vector2d:\n",
    "    __match_args__ = ('x', 'y') # you can see why this is needed below, we don't need to include all the public instance attributes in case of optional\n",
    "    __slots__ = ('__x', '__y') # why? shown below\n",
    "    typecode = 'd'\n",
    "\n",
    "    # x, and y should be private hense two leading underscore, sometimes _ is more common but _ is sometimes used as protected and some people think protected means private :(\n",
    "    def __init__(self, x, y):\n",
    "        self.__x = float(x)\n",
    "        self.__y = float(y)\n",
    "\n",
    "    @property\n",
    "    def x(self):\n",
    "        return self.__x\n",
    "\n",
    "    @property\n",
    "    def y(self):\n",
    "        return self.__y\n",
    "\n",
    "    def __iter__(self):\n",
    "        return (i for i in (self.x, self.y))\n",
    "\n",
    "    def __repr__(self):\n",
    "        class_name = type(self).__name__\n",
    "        return '{}({!r}, {!r})'.format(class_name, *self)\n",
    "\n",
    "    def __str__(self):\n",
    "        return str(tuple(self))\n",
    "\n",
    "    def __bytes__(self):\n",
    "        return (bytes([ord(self.typecode)]) +\n",
    "                bytes(array(self.typecode, self)))\n",
    "\n",
    "    def __eq__(self, other):\n",
    "        return tuple(self) == tuple(other)\n",
    "\n",
    "    def __abs__(self):\n",
    "        return math.hypot(self.x, self.y)\n",
    "\n",
    "    def __bool__(self):\n",
    "        return bool(abs(self))\n",
    "\n",
    "    # added later to work with format\n",
    "    def __format__(self, fmt_spec=''):\n",
    "        if fmt_spec.endswith('p'): # using p for polar coordinates\n",
    "            fmt_spec = fmt_spec[:-1]\n",
    "            coords = (abs(self), self.angle())\n",
    "            outer_fmt = '<{}, {}>'\n",
    "        else:\n",
    "            coords = self\n",
    "            outer_fmt = '({}, {})'\n",
    "        components = (format(c, fmt_spec) for c in coords)\n",
    "        return outer_fmt.format(*components)\n",
    "\n",
    "    def angle(self):\n",
    "        return math.atan2(self.x, self.y)\n",
    "\n",
    "    def __hash__(self):\n",
    "        return hash((self.x, self.y))\n",
    "\n",
    "    @classmethod\n",
    "    def frombytes(cls, octets):\n",
    "        typecode = chr(octets[0])\n",
    "        memv = memoryview(octets[1:]).cast(typecode)\n",
    "        return cls(*memv)"
   ]
  },
  {
   "cell_type": "code",
   "execution_count": 14,
   "id": "f34acfab-7112-4ec4-bdb3-9a2f20797659",
   "metadata": {},
   "outputs": [
    {
     "name": "stdout",
     "output_type": "stream",
     "text": [
      "3.0 4.0\n"
     ]
    }
   ],
   "source": [
    "v1 = Vector2d(3,4)\n",
    "print(v1.x, v1.y)"
   ]
  },
  {
   "cell_type": "code",
   "execution_count": 15,
   "id": "0f13411b-e951-4ba8-82fa-9c0672c9de22",
   "metadata": {},
   "outputs": [
    {
     "data": {
      "text/plain": [
       "(3.0, 4.0)"
      ]
     },
     "execution_count": 15,
     "metadata": {},
     "output_type": "execute_result"
    }
   ],
   "source": [
    "x, y = v1\n",
    "x, y"
   ]
  },
  {
   "cell_type": "code",
   "execution_count": 16,
   "id": "23f2c465-349c-4790-9c89-73583f921fa0",
   "metadata": {},
   "outputs": [
    {
     "data": {
      "text/plain": [
       "Vector2d(3.0, 4.0)"
      ]
     },
     "execution_count": 16,
     "metadata": {},
     "output_type": "execute_result"
    }
   ],
   "source": [
    "v1"
   ]
  },
  {
   "cell_type": "code",
   "execution_count": 17,
   "id": "325c5719-4be0-4f5a-863d-174a7debf58c",
   "metadata": {},
   "outputs": [
    {
     "data": {
      "text/plain": [
       "Vector2d(3.0, 4.0)"
      ]
     },
     "execution_count": 17,
     "metadata": {},
     "output_type": "execute_result"
    }
   ],
   "source": [
    "v1_clone = eval(repr(v1))\n",
    "v1_clone"
   ]
  },
  {
   "cell_type": "code",
   "execution_count": 18,
   "id": "960c169a-2093-481f-a6df-c5c35f9d2567",
   "metadata": {},
   "outputs": [
    {
     "data": {
      "text/plain": [
       "True"
      ]
     },
     "execution_count": 18,
     "metadata": {},
     "output_type": "execute_result"
    }
   ],
   "source": [
    "v1 == v1_clone"
   ]
  },
  {
   "cell_type": "code",
   "execution_count": 19,
   "id": "870af929-60ee-4a05-a677-839d2fc01e7a",
   "metadata": {},
   "outputs": [
    {
     "name": "stdout",
     "output_type": "stream",
     "text": [
      "(3.0, 4.0)\n"
     ]
    }
   ],
   "source": [
    "print(v1)"
   ]
  },
  {
   "cell_type": "code",
   "execution_count": 20,
   "id": "d2360652-35a2-49a2-b014-2955ecf0cd88",
   "metadata": {},
   "outputs": [
    {
     "data": {
      "text/plain": [
       "b'd\\x00\\x00\\x00\\x00\\x00\\x00\\x08@\\x00\\x00\\x00\\x00\\x00\\x00\\x10@'"
      ]
     },
     "execution_count": 20,
     "metadata": {},
     "output_type": "execute_result"
    }
   ],
   "source": [
    "octets = bytes(v1)\n",
    "octets"
   ]
  },
  {
   "cell_type": "code",
   "execution_count": 21,
   "id": "806478c5-46e4-4a7b-b164-80cfa7bad305",
   "metadata": {},
   "outputs": [
    {
     "data": {
      "text/plain": [
       "5.0"
      ]
     },
     "execution_count": 21,
     "metadata": {},
     "output_type": "execute_result"
    }
   ],
   "source": [
    "abs(v1)"
   ]
  },
  {
   "cell_type": "code",
   "execution_count": 22,
   "id": "2eef56c9-eea0-4921-829a-253e386d7476",
   "metadata": {},
   "outputs": [
    {
     "data": {
      "text/plain": [
       "(True, False)"
      ]
     },
     "execution_count": 22,
     "metadata": {},
     "output_type": "execute_result"
    }
   ],
   "source": [
    "bool(v1), bool(Vector2d(0,0))"
   ]
  },
  {
   "cell_type": "code",
   "execution_count": 37,
   "id": "790a45eb-cad7-41b4-82be-d4870d517107",
   "metadata": {},
   "outputs": [],
   "source": [
    "class Demo:\n",
    "    @classmethod # operates on the class not instance\n",
    "    def class_meth(*args): # first argument is the class itself not self\n",
    "        return args\n",
    "\n",
    "    @staticmethod\n",
    "    def static_meth(*args):\n",
    "        return args"
   ]
  },
  {
   "cell_type": "code",
   "execution_count": 38,
   "id": "ab6e4539-68cc-4dbd-a1b9-8ec0a0591cd6",
   "metadata": {},
   "outputs": [
    {
     "data": {
      "text/plain": [
       "(__main__.Demo,)"
      ]
     },
     "execution_count": 38,
     "metadata": {},
     "output_type": "execute_result"
    }
   ],
   "source": [
    "Demo.class_meth()"
   ]
  },
  {
   "cell_type": "code",
   "execution_count": 39,
   "id": "2b6b22fc-8c03-4bae-89c4-20b16658c385",
   "metadata": {},
   "outputs": [
    {
     "data": {
      "text/plain": [
       "(__main__.Demo, 'calculus')"
      ]
     },
     "execution_count": 39,
     "metadata": {},
     "output_type": "execute_result"
    }
   ],
   "source": [
    "Demo.class_meth('calculus')"
   ]
  },
  {
   "cell_type": "code",
   "execution_count": 40,
   "id": "2e93662e-bc66-4832-9740-c63079285021",
   "metadata": {},
   "outputs": [
    {
     "data": {
      "text/plain": [
       "()"
      ]
     },
     "execution_count": 40,
     "metadata": {},
     "output_type": "execute_result"
    }
   ],
   "source": [
    "Demo.static_meth()"
   ]
  },
  {
   "cell_type": "code",
   "execution_count": 41,
   "id": "cbc15105-074b-4bca-8caa-5c486cde202d",
   "metadata": {},
   "outputs": [
    {
     "data": {
      "text/plain": [
       "('calculus',)"
      ]
     },
     "execution_count": 41,
     "metadata": {},
     "output_type": "execute_result"
    }
   ],
   "source": [
    "Demo.static_meth('calculus')"
   ]
  },
  {
   "cell_type": "code",
   "execution_count": 43,
   "id": "7747bb17-ed97-411d-b574-17f038bde37e",
   "metadata": {},
   "outputs": [
    {
     "data": {
      "text/plain": [
       "0.9345794392523364"
      ]
     },
     "execution_count": 43,
     "metadata": {},
     "output_type": "execute_result"
    }
   ],
   "source": [
    "EUR = 1/1.07 # EUR to USD coversion\n",
    "EUR"
   ]
  },
  {
   "cell_type": "code",
   "execution_count": 44,
   "id": "d47523d3-4a95-45f0-a1a2-718c4894fa5c",
   "metadata": {},
   "outputs": [
    {
     "data": {
      "text/plain": [
       "'0.9346'"
      ]
     },
     "execution_count": 44,
     "metadata": {},
     "output_type": "execute_result"
    }
   ],
   "source": [
    "format(EUR, '0.4f')"
   ]
  },
  {
   "cell_type": "code",
   "execution_count": 45,
   "id": "2e1cc001-6c8c-43df-bba5-250e57450415",
   "metadata": {},
   "outputs": [
    {
     "data": {
      "text/plain": [
       "'1 EUR = 0.93 USD'"
      ]
     },
     "execution_count": 45,
     "metadata": {},
     "output_type": "execute_result"
    }
   ],
   "source": [
    "'1 EUR = {rate:0.2f} USD'.format(rate=EUR)"
   ]
  },
  {
   "cell_type": "code",
   "execution_count": 46,
   "id": "381e59af-f9a3-450e-9a36-b0f291eb2704",
   "metadata": {},
   "outputs": [
    {
     "data": {
      "text/plain": [
       "'1 USD = 1.07 EUR'"
      ]
     },
     "execution_count": 46,
     "metadata": {},
     "output_type": "execute_result"
    }
   ],
   "source": [
    "f'1 USD = {1 / EUR:0.2f} EUR'"
   ]
  },
  {
   "cell_type": "code",
   "execution_count": 47,
   "id": "b726cbf3-e1a6-46d7-b19e-26b5bd55a13b",
   "metadata": {},
   "outputs": [
    {
     "data": {
      "text/plain": [
       "'101010'"
      ]
     },
     "execution_count": 47,
     "metadata": {},
     "output_type": "execute_result"
    }
   ],
   "source": [
    "format(42, 'b')"
   ]
  },
  {
   "cell_type": "code",
   "execution_count": 48,
   "id": "12feb646-8514-4a70-b431-02962ffec32d",
   "metadata": {},
   "outputs": [
    {
     "data": {
      "text/plain": [
       "'66.7%'"
      ]
     },
     "execution_count": 48,
     "metadata": {},
     "output_type": "execute_result"
    }
   ],
   "source": [
    "format(2/3, '.1%')"
   ]
  },
  {
   "cell_type": "code",
   "execution_count": 49,
   "id": "a34bc9e6-25b7-4f59-b07d-af2ef08cc718",
   "metadata": {},
   "outputs": [
    {
     "data": {
      "text/plain": [
       "'15:33:20'"
      ]
     },
     "execution_count": 49,
     "metadata": {},
     "output_type": "execute_result"
    }
   ],
   "source": [
    "from datetime import datetime\n",
    "now = datetime.now()\n",
    "format(now, '%H:%M:%S')"
   ]
  },
  {
   "cell_type": "code",
   "execution_count": 50,
   "id": "5df019b5-f191-4ec7-9721-e188b96aa153",
   "metadata": {},
   "outputs": [
    {
     "data": {
      "text/plain": [
       "\"it's now 03:33 PM\""
      ]
     },
     "execution_count": 50,
     "metadata": {},
     "output_type": "execute_result"
    }
   ],
   "source": [
    "\"it's now {:%I:%M %p}\".format(now)"
   ]
  },
  {
   "cell_type": "code",
   "execution_count": 57,
   "id": "9a3ba0fb-93e8-4b8e-a878-d8f1ef785179",
   "metadata": {},
   "outputs": [
    {
     "data": {
      "text/plain": [
       "'(3.0, 4.0)'"
      ]
     },
     "execution_count": 57,
     "metadata": {},
     "output_type": "execute_result"
    }
   ],
   "source": [
    "v1 = Vector2d(3,4)\n",
    "format(v1)"
   ]
  },
  {
   "cell_type": "code",
   "execution_count": 58,
   "id": "6686dc45-ffdd-4d4b-8162-facabe0984da",
   "metadata": {},
   "outputs": [
    {
     "data": {
      "text/plain": [
       "'(3.00, 4.00)'"
      ]
     },
     "execution_count": 58,
     "metadata": {},
     "output_type": "execute_result"
    }
   ],
   "source": [
    "format(v1, '.2f')"
   ]
  },
  {
   "cell_type": "code",
   "execution_count": 59,
   "id": "274590a0-cddb-48d5-bb49-acfff8b904ef",
   "metadata": {},
   "outputs": [
    {
     "data": {
      "text/plain": [
       "'(3.000e+00, 4.000e+00)'"
      ]
     },
     "execution_count": 59,
     "metadata": {},
     "output_type": "execute_result"
    }
   ],
   "source": [
    "format(v1, '.3e')"
   ]
  },
  {
   "cell_type": "code",
   "execution_count": 65,
   "id": "cda9f368-6fa5-4494-aab8-dbadd48b895d",
   "metadata": {},
   "outputs": [
    {
     "data": {
      "text/plain": [
       "'<1.4142135623730951, 0.7853981633974483>'"
      ]
     },
     "execution_count": 65,
     "metadata": {},
     "output_type": "execute_result"
    }
   ],
   "source": [
    "format(Vector2d(1,1),'p')"
   ]
  },
  {
   "cell_type": "code",
   "execution_count": 66,
   "id": "e31cf405-f2ad-47a2-8cea-3b51e746720f",
   "metadata": {},
   "outputs": [
    {
     "data": {
      "text/plain": [
       "'<1.414e+00, 7.854e-01>'"
      ]
     },
     "execution_count": 66,
     "metadata": {},
     "output_type": "execute_result"
    }
   ],
   "source": [
    "format(Vector2d(1,1),'.3ep')"
   ]
  },
  {
   "cell_type": "code",
   "execution_count": 67,
   "id": "922f0664-0251-480f-8809-d1c7dd7d894c",
   "metadata": {},
   "outputs": [
    {
     "data": {
      "text/plain": [
       "'<1.41421, 0.78540>'"
      ]
     },
     "execution_count": 67,
     "metadata": {},
     "output_type": "execute_result"
    }
   ],
   "source": [
    "format(Vector2d(1,1),'0.5fp')"
   ]
  },
  {
   "cell_type": "code",
   "execution_count": 70,
   "id": "367812af-5903-4d12-8e64-81025301a5c4",
   "metadata": {},
   "outputs": [
    {
     "data": {
      "text/plain": [
       "(1079245023883434373, 1994163070182233067)"
      ]
     },
     "execution_count": 70,
     "metadata": {},
     "output_type": "execute_result"
    }
   ],
   "source": [
    "v1 = Vector2d(3,4)\n",
    "v2 = Vector2d(3.1, 4.2)\n",
    "hash(v1), hash(v2)"
   ]
  },
  {
   "cell_type": "code",
   "execution_count": 71,
   "id": "cf240956-ec3f-4d22-8ff5-16a4710fe864",
   "metadata": {},
   "outputs": [
    {
     "data": {
      "text/plain": [
       "{Vector2d(3.0, 4.0), Vector2d(3.1, 4.2)}"
      ]
     },
     "execution_count": 71,
     "metadata": {},
     "output_type": "execute_result"
    }
   ],
   "source": [
    "{v1,v2}"
   ]
  },
  {
   "cell_type": "code",
   "execution_count": 72,
   "id": "27b0f37a-83a7-4a8f-b852-9ca9bfc25d8e",
   "metadata": {},
   "outputs": [],
   "source": [
    "def keyword_pattern(v: Vector2d) -> None:\n",
    "    match v:\n",
    "        case Vector2d(x=0,y=0):\n",
    "            print(f'{v!r} is null')\n",
    "        case Vector2d(x=0):\n",
    "            print(f'{v!r} is vertical')\n",
    "        case Vector2d(y=0):\n",
    "            print(f'{v!r} is horizontal')\n",
    "        case Vector2d(x=x,y=y) if x==y:\n",
    "            print(f'{v!r} is diagonal')\n",
    "        case _:\n",
    "            print(f'{v!r} is awesome')\n",
    "# this will be fine but wont work if we add a test case:\n",
    "# case Vector2d(_,0):\n",
    "#     print(f'{v!r} is horizontal\n",
    "# we must add __match_args__ = ('x', 'y') to our class and re-write `keyword_pattern`\n",
    "def positional_pattern(v: Vector2d) -> None:\n",
    "    match v:\n",
    "        case Vector2d(0,0):\n",
    "            print(f'{v!r} is null')\n",
    "        case Vector2d(0):\n",
    "            print(f'{v!r} is vertical')\n",
    "        case Vector2d(_,0):\n",
    "            print(f'{v!r} is horizontal')\n",
    "        case Vector2d(x, y) if x==y:\n",
    "            print(f'{v!r} is diagonal')\n",
    "        case _:\n",
    "            print(f'{v!r} iis awesome')"
   ]
  },
  {
   "cell_type": "code",
   "execution_count": 76,
   "id": "a89dab47-6033-4efd-b354-9151a1d5c85d",
   "metadata": {},
   "outputs": [
    {
     "data": {
      "text/plain": [
       "{'_Vector2d__x': 3.0, '_Vector2d__y': 4.0}"
      ]
     },
     "execution_count": 76,
     "metadata": {},
     "output_type": "execute_result"
    }
   ],
   "source": [
    "v1 = Vector2d(3,4)\n",
    "v1.__dict__"
   ]
  },
  {
   "cell_type": "code",
   "execution_count": 77,
   "id": "a967bd2c-3ae8-4560-8199-a024da51b624",
   "metadata": {},
   "outputs": [
    {
     "data": {
      "text/plain": [
       "3.0"
      ]
     },
     "execution_count": 77,
     "metadata": {},
     "output_type": "execute_result"
    }
   ],
   "source": [
    "v1._Vector2d__x"
   ]
  },
  {
   "cell_type": "code",
   "execution_count": 78,
   "id": "aca587b9-7d66-4202-bed7-1bf0eeea67e5",
   "metadata": {},
   "outputs": [
    {
     "ename": "AttributeError",
     "evalue": "'Pixel' object has no attribute '__dict__'",
     "output_type": "error",
     "traceback": [
      "\u001b[0;31m---------------------------------------------------------------------------\u001b[0m",
      "\u001b[0;31mAttributeError\u001b[0m                            Traceback (most recent call last)",
      "Cell \u001b[0;32mIn[78], line 6\u001b[0m\n\u001b[1;32m      3\u001b[0m     \u001b[38;5;18m__slots__\u001b[39m \u001b[38;5;241m=\u001b[39m (\u001b[38;5;124m'\u001b[39m\u001b[38;5;124mx\u001b[39m\u001b[38;5;124m'\u001b[39m, \u001b[38;5;124m'\u001b[39m\u001b[38;5;124my\u001b[39m\u001b[38;5;124m'\u001b[39m)\n\u001b[1;32m      5\u001b[0m p \u001b[38;5;241m=\u001b[39m Pixel()\n\u001b[0;32m----> 6\u001b[0m \u001b[43mp\u001b[49m\u001b[38;5;241;43m.\u001b[39;49m\u001b[38;5;18;43m__dict__\u001b[39;49m\n",
      "\u001b[0;31mAttributeError\u001b[0m: 'Pixel' object has no attribute '__dict__'"
     ]
    }
   ],
   "source": [
    "# __slots__ uses less memory than dict, dict has significant memory overhead\n",
    "# __slots__ must be present when the class is created adding or changing it later has no effect.\n",
    "class Pixel:\n",
    "    __slots__ = ('x', 'y')\n",
    "\n",
    "p = Pixel()\n",
    "p.__dict__ # throw"
   ]
  },
  {
   "cell_type": "code",
   "execution_count": 79,
   "id": "3c62dabc-40af-4867-a864-2dc8dd8bda73",
   "metadata": {},
   "outputs": [
    {
     "ename": "AttributeError",
     "evalue": "'Pixel' object has no attribute 'color'",
     "output_type": "error",
     "traceback": [
      "\u001b[0;31m---------------------------------------------------------------------------\u001b[0m",
      "\u001b[0;31mAttributeError\u001b[0m                            Traceback (most recent call last)",
      "Cell \u001b[0;32mIn[79], line 3\u001b[0m\n\u001b[1;32m      1\u001b[0m p\u001b[38;5;241m.\u001b[39mx \u001b[38;5;241m=\u001b[39m \u001b[38;5;241m10\u001b[39m\n\u001b[1;32m      2\u001b[0m p\u001b[38;5;241m.\u001b[39my \u001b[38;5;241m=\u001b[39m \u001b[38;5;241m20\u001b[39m\n\u001b[0;32m----> 3\u001b[0m \u001b[43mp\u001b[49m\u001b[38;5;241;43m.\u001b[39;49m\u001b[43mcolor\u001b[49m \u001b[38;5;241m=\u001b[39m \u001b[38;5;124m'\u001b[39m\u001b[38;5;124mred\u001b[39m\u001b[38;5;124m'\u001b[39m\n",
      "\u001b[0;31mAttributeError\u001b[0m: 'Pixel' object has no attribute 'color'"
     ]
    }
   ],
   "source": [
    "p.x = 10\n",
    "p.y = 20\n",
    "p.color = 'red' # throw"
   ]
  },
  {
   "cell_type": "code",
   "execution_count": 80,
   "id": "b4c55854-d5b3-4d80-bfbd-e86332d202fe",
   "metadata": {},
   "outputs": [
    {
     "data": {
      "text/plain": [
       "{}"
      ]
     },
     "execution_count": 80,
     "metadata": {},
     "output_type": "execute_result"
    }
   ],
   "source": [
    "class OpenPixel(Pixel):\n",
    "    pass\n",
    "\n",
    "op = OpenPixel()\n",
    "op.__dict__"
   ]
  },
  {
   "cell_type": "code",
   "execution_count": 81,
   "id": "efd70ab9-0c7a-4c31-8c53-be4ef6ab0e22",
   "metadata": {},
   "outputs": [
    {
     "data": {
      "text/plain": [
       "{}"
      ]
     },
     "execution_count": 81,
     "metadata": {},
     "output_type": "execute_result"
    }
   ],
   "source": [
    "op.x = 8\n",
    "op.__dict__"
   ]
  },
  {
   "cell_type": "code",
   "execution_count": 82,
   "id": "0f9c91fb-f8b7-477f-bbab-eee44c2ce330",
   "metadata": {},
   "outputs": [
    {
     "data": {
      "text/plain": [
       "8"
      ]
     },
     "execution_count": 82,
     "metadata": {},
     "output_type": "execute_result"
    }
   ],
   "source": [
    "op.x"
   ]
  },
  {
   "cell_type": "code",
   "execution_count": 83,
   "id": "13ba59c7-11f8-4fa1-b289-c1cc305bb5f6",
   "metadata": {},
   "outputs": [
    {
     "data": {
      "text/plain": [
       "{'color': 'green'}"
      ]
     },
     "execution_count": 83,
     "metadata": {},
     "output_type": "execute_result"
    }
   ],
   "source": [
    "op.color = 'green'\n",
    "op.__dict__"
   ]
  },
  {
   "cell_type": "code",
   "execution_count": 84,
   "id": "4fcb6694-a231-4c2c-846f-03ff5c26c985",
   "metadata": {},
   "outputs": [],
   "source": [
    "# To make sure that instances of a subclass no __dict__ you must declare __slots__ again in the bubclas"
   ]
  },
  {
   "cell_type": "code",
   "execution_count": 85,
   "id": "817d43d1-acd9-4c95-bd38-1ab643aca568",
   "metadata": {},
   "outputs": [
    {
     "ename": "AttributeError",
     "evalue": "'ColorPixel' object has no attribute '__dict__'",
     "output_type": "error",
     "traceback": [
      "\u001b[0;31m---------------------------------------------------------------------------\u001b[0m",
      "\u001b[0;31mAttributeError\u001b[0m                            Traceback (most recent call last)",
      "Cell \u001b[0;32mIn[85], line 5\u001b[0m\n\u001b[1;32m      2\u001b[0m     \u001b[38;5;18m__slots__\u001b[39m \u001b[38;5;241m=\u001b[39m (\u001b[38;5;124m'\u001b[39m\u001b[38;5;124mcolor\u001b[39m\u001b[38;5;124m'\u001b[39m,)\n\u001b[1;32m      4\u001b[0m cp \u001b[38;5;241m=\u001b[39m ColorPixel()\n\u001b[0;32m----> 5\u001b[0m \u001b[43mcp\u001b[49m\u001b[38;5;241;43m.\u001b[39;49m\u001b[38;5;18;43m__dict__\u001b[39;49m \u001b[38;5;66;03m# throw\u001b[39;00m\n",
      "\u001b[0;31mAttributeError\u001b[0m: 'ColorPixel' object has no attribute '__dict__'"
     ]
    }
   ],
   "source": [
    "class ColorPixel(Pixel):\n",
    "    __slots__ = ('color',)\n",
    "\n",
    "cp = ColorPixel()\n",
    "cp.__dict__ # throw"
   ]
  },
  {
   "cell_type": "code",
   "execution_count": 86,
   "id": "8c5ac2b7-65fb-479e-8c94-d1da3dde34e6",
   "metadata": {},
   "outputs": [
    {
     "ename": "AttributeError",
     "evalue": "'ColorPixel' object has no attribute 'flavor'",
     "output_type": "error",
     "traceback": [
      "\u001b[0;31m---------------------------------------------------------------------------\u001b[0m",
      "\u001b[0;31mAttributeError\u001b[0m                            Traceback (most recent call last)",
      "Cell \u001b[0;32mIn[86], line 3\u001b[0m\n\u001b[1;32m      1\u001b[0m cp\u001b[38;5;241m.\u001b[39mx \u001b[38;5;241m=\u001b[39m \u001b[38;5;241m2\u001b[39m\n\u001b[1;32m      2\u001b[0m cp\u001b[38;5;241m.\u001b[39mcolor \u001b[38;5;241m=\u001b[39m \u001b[38;5;124m'\u001b[39m\u001b[38;5;124mblue\u001b[39m\u001b[38;5;124m'\u001b[39m\n\u001b[0;32m----> 3\u001b[0m \u001b[43mcp\u001b[49m\u001b[38;5;241;43m.\u001b[39;49m\u001b[43mflavor\u001b[49m \u001b[38;5;241m=\u001b[39m \u001b[38;5;124m'\u001b[39m\u001b[38;5;124mvanilla\u001b[39m\u001b[38;5;124m'\u001b[39m \u001b[38;5;66;03m# throw\u001b[39;00m\n",
      "\u001b[0;31mAttributeError\u001b[0m: 'ColorPixel' object has no attribute 'flavor'"
     ]
    }
   ],
   "source": [
    "cp.x = 2\n",
    "cp.color = 'blue'\n",
    "cp.flavor = 'vanilla' # throw"
   ]
  },
  {
   "cell_type": "code",
   "execution_count": 87,
   "id": "29421ccc-2621-44b7-a562-ad008b05bf07",
   "metadata": {},
   "outputs": [],
   "source": [
    "# if we use __slots__ and need __weakref__ (which is included by default in user-defined classes) we need to include it in the attributes in __slots__\n",
    "# if we need to use @cached_property __dict__ must be in __slots__"
   ]
  },
  {
   "cell_type": "code",
   "execution_count": 90,
   "id": "7d6f759d-d3ee-490c-9388-6c9d08241bfd",
   "metadata": {},
   "outputs": [
    {
     "data": {
      "text/plain": [
       "ShortVector2d(0.09090909090909091, 0.037037037037037035)"
      ]
     },
     "execution_count": 90,
     "metadata": {},
     "output_type": "execute_result"
    }
   ],
   "source": [
    "# if we wanted a different typecode we can set it on an instance\n",
    "# v1.typecode = 'f'\n",
    "# if we wanted to change it on the whole class then we could simply:\n",
    "# Vector2d.typecode = 'f'\n",
    "# but this is silly we should be more explicit\n",
    "# 'd' (8 byte double precision), 'f' (4 byte single precision float)\n",
    "class ShortVector2d(Vector2d):\n",
    "    typecode = 'f'\n",
    "\n",
    "sv = ShortVector2d(1/11, 1/27)\n",
    "sv"
   ]
  },
  {
   "cell_type": "code",
   "execution_count": 91,
   "id": "4cd19651-850b-4987-bc84-e8d064c6a834",
   "metadata": {},
   "outputs": [
    {
     "data": {
      "text/plain": [
       "9"
      ]
     },
     "execution_count": 91,
     "metadata": {},
     "output_type": "execute_result"
    }
   ],
   "source": [
    "len(bytes(sv))"
   ]
  },
  {
   "cell_type": "code",
   "execution_count": 92,
   "id": "b50585b4-9d5a-4d32-9b31-1cd360a197ec",
   "metadata": {},
   "outputs": [],
   "source": [
    "# NOTE: __slots__ are useful for millions of instances not thousands, and at that point we may want to use NumPy, pandas"
   ]
  },
  {
   "cell_type": "code",
   "execution_count": null,
   "id": "161d88ab-864a-4091-97a0-79973c78dd0b",
   "metadata": {},
   "outputs": [],
   "source": []
  }
 ],
 "metadata": {
  "kernelspec": {
   "display_name": "Python 3 (ipykernel)",
   "language": "python",
   "name": "python3"
  },
  "language_info": {
   "codemirror_mode": {
    "name": "ipython",
    "version": 3
   },
   "file_extension": ".py",
   "mimetype": "text/x-python",
   "name": "python",
   "nbconvert_exporter": "python",
   "pygments_lexer": "ipython3",
   "version": "3.10.15"
  }
 },
 "nbformat": 4,
 "nbformat_minor": 5
}
