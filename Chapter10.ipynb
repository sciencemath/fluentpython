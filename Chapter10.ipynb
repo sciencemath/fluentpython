{
 "cells": [
  {
   "cell_type": "code",
   "execution_count": 5,
   "id": "7291e361-2241-4fe0-b3ad-e78dccbf606a",
   "metadata": {},
   "outputs": [],
   "source": [
    "# I learned these design patterns long long ago, (review)\n",
    "from abc import ABC, abstractmethod\n",
    "from collections.abc import Sequence\n",
    "from decimal import Decimal\n",
    "from typing import NamedTuple, Optional\n",
    "\n",
    "class Customer(NamedTuple):\n",
    "    name: str\n",
    "    fidelity: int\n",
    "\n",
    "class LineItem(NamedTuple):\n",
    "    product: str\n",
    "    quantity: int\n",
    "    price: Decimal\n",
    "\n",
    "    def total(self) -> Decimal:\n",
    "        return self.price * self.quantity\n",
    "\n",
    "class Order(NamedTuple):\n",
    "    customer: Customer\n",
    "    cart: Sequence[LineItem]\n",
    "    promotion: Optional['Promotion'] = None\n",
    "\n",
    "    def total(self) -> Decimal:\n",
    "        totals = (item.total() for item in self.cart)\n",
    "        return sum(totals, start=Decimal(0))\n",
    "\n",
    "    def due(self) -> Decimal:\n",
    "        if self.promotion is None:\n",
    "            discount = Decimal(0)\n",
    "        else:\n",
    "            discount = self.promotion.discount(self)\n",
    "        return self.total() - discount\n",
    "\n",
    "    def __repr__(self):\n",
    "        return f'<Order total: {self.total():.2f} due: {self.due():.2f}>'\n",
    "\n",
    "class Promotion(ABC):\n",
    "    @abstractmethod\n",
    "    def discount(self, order: Order) -> Decimal:\n",
    "        \"\"\"Return discount as a positive dollar amount\"\"\"\n",
    "\n",
    "class FidelityPromo(Promotion):\n",
    "    \"\"\"5% discount for customers with 1000 or more fidelity points\"\"\"\n",
    "    def discount(self, order: Order) -> Decimal:\n",
    "        rate = Decimal('0.05')\n",
    "        if order.customer.fidelity >= 1000:\n",
    "            return order.total() * rate\n",
    "        return Decimal(0)\n",
    "\n",
    "class BulkItemPromo(Promotion):\n",
    "    \"\"\"10% discount for eeach LineItem with qty >= 20\"\"\"\n",
    "    def discount(self, order: Order) -> Decimal:\n",
    "        discount = Decimal(0)\n",
    "        for item in order.cart:\n",
    "            if item.quantity >= 20:\n",
    "                discount += item.total() * Decimal('0.1')\n",
    "            return discount\n",
    "\n",
    "class LargeOrderPromo(Promotion):\n",
    "    \"\"\"7% discount for orders with 10 or more distinct items\"\"\"\n",
    "    def discount(self, order: Order) -> Decimal:\n",
    "        distinct_items = {item.product for item in order.cart}\n",
    "        if len(distinct_items) >= 10:\n",
    "            return order.total() * Decimal('0.07')\n",
    "        return Decimal(0)"
   ]
  },
  {
   "cell_type": "code",
   "execution_count": 6,
   "id": "949bdf77-a45a-485d-babd-2ceaae2ba727",
   "metadata": {},
   "outputs": [
    {
     "data": {
      "text/plain": [
       "<Order total: 42.00 due: 42.00>"
      ]
     },
     "execution_count": 6,
     "metadata": {},
     "output_type": "execute_result"
    }
   ],
   "source": [
    "mathias = Customer('Mathias Doe', 0)\n",
    "ann = Customer('Ann Smith', 1100)\n",
    "cart = (LineItem('banana', 4, Decimal('.5')),\n",
    "        LineItem('apple', 10, Decimal('1.5')),\n",
    "        LineItem('pear', 5, Decimal(5)))\n",
    "Order(mathias, cart, FidelityPromo())"
   ]
  },
  {
   "cell_type": "code",
   "execution_count": 7,
   "id": "12d24a70-f72c-43e0-b224-f7b96f860d30",
   "metadata": {},
   "outputs": [
    {
     "data": {
      "text/plain": [
       "<Order total: 42.00 due: 39.90>"
      ]
     },
     "execution_count": 7,
     "metadata": {},
     "output_type": "execute_result"
    }
   ],
   "source": [
    "Order(ann, cart, FidelityPromo())"
   ]
  },
  {
   "cell_type": "code",
   "execution_count": 8,
   "id": "0ca521f8-232b-46ad-bee8-1eeb22882bd3",
   "metadata": {},
   "outputs": [
    {
     "data": {
      "text/plain": [
       "<Order total: 30.00 due: 28.50>"
      ]
     },
     "execution_count": 8,
     "metadata": {},
     "output_type": "execute_result"
    }
   ],
   "source": [
    "banana_cart = (LineItem('banana', 30, Decimal('.5')),\n",
    "               LineItem('apple', 10, Decimal('1.5')))\n",
    "Order(mathias, banana_cart, BulkItemPromo())"
   ]
  },
  {
   "cell_type": "code",
   "execution_count": 9,
   "id": "b12b88ed-e642-4ef0-9c67-729e18f4aa34",
   "metadata": {},
   "outputs": [
    {
     "data": {
      "text/plain": [
       "<Order total: 10.00 due: 9.30>"
      ]
     },
     "execution_count": 9,
     "metadata": {},
     "output_type": "execute_result"
    }
   ],
   "source": [
    "long_cart = tuple(LineItem(str(sku), 1, Decimal(1))\n",
    "                  for sku in range(10))\n",
    "Order(mathias, long_cart, LargeOrderPromo())"
   ]
  },
  {
   "cell_type": "code",
   "execution_count": 17,
   "id": "6e2b3084-a767-42f2-8375-b4230e46e149",
   "metadata": {},
   "outputs": [],
   "source": [
    "from dataclasses import dataclass\n",
    "from typing import Callable\n",
    "\n",
    "# function-oriented Strategy\n",
    "class Customer(NamedTuple):\n",
    "    name: str\n",
    "    fidelity: int\n",
    "\n",
    "class LineItem(NamedTuple):\n",
    "    product: str\n",
    "    quantity: int\n",
    "    price: Decimal\n",
    "\n",
    "    def total(self):\n",
    "        return self.price * self.quantity\n",
    "\n",
    "@dataclass(frozen=True)\n",
    "class Order:\n",
    "    customer: Customer\n",
    "    cart: Sequence[LineItem]\n",
    "    promotion: Optional[Callable[['Order'], Decimal]] = None\n",
    "\n",
    "    def total(self) -> Decimal:\n",
    "        totals = (item.total() for item in self.cart)\n",
    "        return sum(totals, start=Decimal(0))\n",
    "\n",
    "    def due(self) -> Decimal:\n",
    "        if self.promotion is None:\n",
    "            discount = Decimal(0)\n",
    "        else:\n",
    "            discount = self.promotion(self)\n",
    "        return self.total() - discount\n",
    "\n",
    "    def __repr__(self):\n",
    "        return f'<Order total: {self.total():.2f} due: {self.due():.2f}>'\n",
    "\n",
    "def fidelity_promo(order: Order) -> Decimal:\n",
    "    \"\"\"5% discount for customers with 1000 or more fidelity points\"\"\"\n",
    "    if order.customer.fidelity >= 1000:\n",
    "        return order.total() * Decimal('0.05')\n",
    "    return Decimal(0)\n",
    "\n",
    "def bulk_item_promo(order: Order) -> Decimal:\n",
    "    \"\"\"10% discount for eeach LineItem with qty >= 20\"\"\"\n",
    "    discount = Decimal(0)\n",
    "    for item in order.cart:\n",
    "        if item.quantity >= 20:\n",
    "            discount += item.total() * Decimal('0.1')\n",
    "        return discount\n",
    "\n",
    "def large_order_promo(order: Order) -> Decimal:\n",
    "    \"\"\"7% discount for orders with 10 or more distinct items\"\"\"\n",
    "    distinct_items = {item.product for item in order.cart}\n",
    "    if len(distinct_items) >= 10:\n",
    "        return order.total() * Decimal('0.07')\n",
    "    return Decimal(0)"
   ]
  },
  {
   "cell_type": "code",
   "execution_count": 18,
   "id": "fa459936-0d43-4f52-907e-a76c7899c195",
   "metadata": {},
   "outputs": [
    {
     "data": {
      "text/plain": [
       "<Order total: 42.00 due: 42.00>"
      ]
     },
     "execution_count": 18,
     "metadata": {},
     "output_type": "execute_result"
    }
   ],
   "source": [
    "mathias = Customer('Mathias Doe', 0)\n",
    "ann = Customer('Ann Smith', 1100)\n",
    "cart = [LineItem('banana', 4, Decimal('.5')),\n",
    "        LineItem('apple', 10, Decimal('1.5')),\n",
    "        LineItem('pear', 5, Decimal(5))]\n",
    "Order(mathias, cart, fidelity_promo)"
   ]
  },
  {
   "cell_type": "code",
   "execution_count": 19,
   "id": "9aadadb7-9ddd-4c42-af72-dfadb0179077",
   "metadata": {},
   "outputs": [
    {
     "data": {
      "text/plain": [
       "<Order total: 42.00 due: 39.90>"
      ]
     },
     "execution_count": 19,
     "metadata": {},
     "output_type": "execute_result"
    }
   ],
   "source": [
    "Order(ann, cart, fidelity_promo)"
   ]
  },
  {
   "cell_type": "code",
   "execution_count": 22,
   "id": "927bac7f-1469-4263-8d82-5d76b74ed72e",
   "metadata": {},
   "outputs": [
    {
     "data": {
      "text/plain": [
       "<Order total: 30.00 due: 28.50>"
      ]
     },
     "execution_count": 22,
     "metadata": {},
     "output_type": "execute_result"
    }
   ],
   "source": [
    "banana_cart = [LineItem('banana', 30, Decimal('.5')),\n",
    "               LineItem('apple', 10, Decimal('1.5'))]\n",
    "Order(mathias, banana_cart, bulk_item_promo)"
   ]
  },
  {
   "cell_type": "code",
   "execution_count": 23,
   "id": "d80dc099-c3f1-4fff-b092-42f1c6a187be",
   "metadata": {},
   "outputs": [
    {
     "data": {
      "text/plain": [
       "<Order total: 10.00 due: 9.30>"
      ]
     },
     "execution_count": 23,
     "metadata": {},
     "output_type": "execute_result"
    }
   ],
   "source": [
    "long_cart = [LineItem(str(item_code), 1, Decimal(1))\n",
    "             for item_code in range(10)]\n",
    "Order(mathias, long_cart, large_order_promo)"
   ]
  },
  {
   "cell_type": "code",
   "execution_count": 24,
   "id": "664295d0-7535-4539-b026-1a351c16b682",
   "metadata": {},
   "outputs": [
    {
     "data": {
      "text/plain": [
       "<Order total: 42.00 due: 42.00>"
      ]
     },
     "execution_count": 24,
     "metadata": {},
     "output_type": "execute_result"
    }
   ],
   "source": [
    "Order(mathias, cart, large_order_promo)"
   ]
  },
  {
   "cell_type": "code",
   "execution_count": 25,
   "id": "82e811ad-6002-485d-86a0-55c142a4bc19",
   "metadata": {},
   "outputs": [],
   "source": [
    "# best promo\n",
    "promos = [fidelity_promo, bulk_item_promo, large_order_promo]\n",
    "def best_promo(order: Order) -> Decimal:\n",
    "    return max(promo(order) for promo in promos)"
   ]
  },
  {
   "cell_type": "code",
   "execution_count": 26,
   "id": "2caf4313-9c26-49ef-a730-bec3d426eb68",
   "metadata": {},
   "outputs": [],
   "source": [
    "promos = [promo for name, promo in globals().items()\n",
    "          if name.endswith('_promo') and name != 'best_promo'\n",
    "]\n",
    "\n",
    "def best_promo(order: Order) -> Decimal:\n",
    "    return max(promo(order) for promo in promos) "
   ]
  },
  {
   "cell_type": "code",
   "execution_count": 28,
   "id": "f5be7e92-eb2b-452d-8d1b-9acceb8c37e1",
   "metadata": {},
   "outputs": [],
   "source": [
    "# Decorator-Enhanced Strategy Pattern\n",
    "Promotion = Callable[[Order], Decimal]\n",
    "promos: list[Promotion] = []\n",
    "\n",
    "def promotion(promo: Promotion) -> Promotion:\n",
    "    promos.append(promo)\n",
    "    return promo\n",
    "\n",
    "def best_promo(order: Order) -> Decimal:\n",
    "    return max(promo(order) for promo in promos)\n",
    "\n",
    "@promotion\n",
    "def fidelity_promo(order: Order) -> Decimal:\n",
    "    \"\"\"5% discount for customers with 1000 or more fidelity points\"\"\"\n",
    "    if order.customer.fidelity >= 1000:\n",
    "        return order.total() * Decimal('0.05')\n",
    "    return Decimal(0)\n",
    "\n",
    "@promotion\n",
    "def bulk_item(order: Order) -> Decimal:\n",
    "    \"\"\"10% discount for eeach LineItem with qty >= 20\"\"\"\n",
    "    discount = Decimal(0)\n",
    "    for item in order.cart:\n",
    "        if item.quantity >= 20:\n",
    "            discount += item.total() * Decimal('0.1')\n",
    "        return discount\n",
    "\n",
    "@promotion\n",
    "def large_order(order: Order) -> Decimal:\n",
    "    \"\"\"7% discount for orders with 10 or more distinct items\"\"\"\n",
    "    distinct_items = {item.product for item in order.cart}\n",
    "    if len(distinct_items) >= 10:\n",
    "        return order.total() * Decimal('0.07')\n",
    "    return Decimal(0)"
   ]
  },
  {
   "cell_type": "code",
   "execution_count": 29,
   "id": "0916a833-e127-4547-9d66-f16843f234df",
   "metadata": {},
   "outputs": [],
   "source": [
    "# Command pattern\n",
    "class MacroCommand:\n",
    "    def __init__(self, commands):\n",
    "        self.commands = list(commands)\n",
    "\n",
    "    def __call__(self):\n",
    "        for command in self.commands:\n",
    "            command()"
   ]
  },
  {
   "cell_type": "code",
   "execution_count": null,
   "id": "d8bb7b14-4cd2-4d2c-ad5a-fc55befec036",
   "metadata": {},
   "outputs": [],
   "source": []
  }
 ],
 "metadata": {
  "kernelspec": {
   "display_name": "Python 3 (ipykernel)",
   "language": "python",
   "name": "python3"
  },
  "language_info": {
   "codemirror_mode": {
    "name": "ipython",
    "version": 3
   },
   "file_extension": ".py",
   "mimetype": "text/x-python",
   "name": "python",
   "nbconvert_exporter": "python",
   "pygments_lexer": "ipython3",
   "version": "3.10.15"
  }
 },
 "nbformat": 4,
 "nbformat_minor": 5
}
