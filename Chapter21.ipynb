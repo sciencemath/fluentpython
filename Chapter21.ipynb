{
 "cells": [
  {
   "cell_type": "code",
   "execution_count": 3,
   "id": "ecfd53c5-f960-4d7a-86ef-1e5b05c84eec",
   "metadata": {},
   "outputs": [
    {
     "name": "stdout",
     "output_type": "stream",
     "text": [
      "+ not.dev\n",
      "+ from.dev\n",
      "+ del.dev\n",
      "  none.dev\n",
      "  for.dev\n",
      "  or.dev\n",
      "+ try.dev\n",
      "+ in.dev\n",
      "+ and.dev\n",
      "  else.dev\n",
      "  with.dev\n",
      "+ as.dev\n",
      "  elif.dev\n",
      "  if.dev\n",
      "  pass.dev\n",
      "+ true.dev\n",
      "+ def.dev\n",
      "  is.dev\n"
     ]
    }
   ],
   "source": [
    "import nest_asyncio\n",
    "import asyncio\n",
    "import socket\n",
    "from keyword import kwlist\n",
    "\n",
    "# Apply the patch to allow asyncio.run() in a running event loop\n",
    "nest_asyncio.apply()\n",
    "\n",
    "MAX_KEYWORD_LEN = 4\n",
    "\n",
    "async def probe(domain: str) -> tuple[str, bool]:\n",
    "    loop = asyncio.get_running_loop()\n",
    "    try:\n",
    "        await loop.getaddrinfo(domain, None)\n",
    "    except socket.gaierror:\n",
    "        return (domain, False)\n",
    "    return (domain, True)\n",
    "\n",
    "async def main() -> None:\n",
    "    names = (kw for kw in kwlist if len(kw) <= MAX_KEYWORD_LEN)\n",
    "    domains = (f'{name}.dev'.lower() for name in names)\n",
    "    coros = [probe(domain) for domain in domains]\n",
    "    for coro in asyncio.as_completed(coros):\n",
    "        domain, found = await coro\n",
    "        mark = '+' if found else ' '\n",
    "        print(f'{mark} {domain}')\n",
    "\n",
    "if __name__ == '__main__':\n",
    "    asyncio.run(main())"
   ]
  },
  {
   "cell_type": "code",
   "execution_count": 6,
   "id": "58d8a360-54ed-405f-87d9-0cec0277824e",
   "metadata": {},
   "outputs": [
    {
     "ename": "TypeError",
     "evalue": "main() takes 0 positional arguments but 1 was given",
     "output_type": "error",
     "traceback": [
      "\u001b[0;31m---------------------------------------------------------------------------\u001b[0m",
      "\u001b[0;31mTypeError\u001b[0m                                 Traceback (most recent call last)",
      "Cell \u001b[0;32mIn[6], line 11\u001b[0m\n\u001b[1;32m      8\u001b[0m     \u001b[38;5;28;01mreturn\u001b[39;00m \u001b[38;5;28mlen\u001b[39m(res)\n\u001b[1;32m     10\u001b[0m \u001b[38;5;28;01mif\u001b[39;00m \u001b[38;5;18m__name__\u001b[39m \u001b[38;5;241m==\u001b[39m \u001b[38;5;124m'\u001b[39m\u001b[38;5;124m__main__\u001b[39m\u001b[38;5;124m'\u001b[39m:\n\u001b[0;32m---> 11\u001b[0m     \u001b[43mmain\u001b[49m\u001b[43m(\u001b[49m\u001b[43mdownload_many\u001b[49m\u001b[43m)\u001b[49m\n",
      "\u001b[0;31mTypeError\u001b[0m: main() takes 0 positional arguments but 1 was given"
     ]
    }
   ],
   "source": [
    "def download_many(cc_list: list[str]) -> int:\n",
    "    return asyncio.run(supervisor(cc_list))\n",
    "\n",
    "async def supervisor(cc_list: list[str]) -> int:\n",
    "    async with AsyncClient() as client:\n",
    "        to_do = [download_one(client, cc) for cc in sorted(cc_list)]\n",
    "        res = await asyncio.gather(*to_do)\n",
    "    return len(res)\n",
    "\n",
    "if __name__ == '__main__':\n",
    "    main(download_many)"
   ]
  },
  {
   "cell_type": "code",
   "execution_count": 5,
   "id": "0d77d442-ae17-4ad1-9f44-127ffd0098c6",
   "metadata": {},
   "outputs": [],
   "source": [
    "from httpx import AsyncClient\n",
    "\n",
    "async def download_one(client: AsyncClient, cc: str):\n",
    "    image = await get_flag(client, cc)\n",
    "    save_flag(image, f'{cc}.gif')\n",
    "    print(cc, end=' ', flush=True)\n",
    "    return cc\n",
    "\n",
    "async def get_flag(client: AsyncClient, cc: str) -> bytes:\n",
    "    url = f'{BASE_URL}/{cc}/{cc}.gif'.lower()\n",
    "    resp = await client.get(url, timeout=6.1, follow_redirects=True)\n",
    "    return resp.read()"
   ]
  },
  {
   "cell_type": "code",
   "execution_count": 31,
   "id": "56418faa-f377-4f44-99dc-1e78ae38e3b7",
   "metadata": {},
   "outputs": [],
   "source": [
    "import asyncio\n",
    "import sys\n",
    "from collections import Counter\n",
    "from http import HTTPStatus\n",
    "from pathlib import Path\n",
    "from enum import Enum\n",
    "from pathlib import Path\n",
    "\n",
    "import argparse\n",
    "import httpx\n",
    "import tqdm\n",
    "\n",
    "DEFAULT_CONCUR_REQ = 5\n",
    "MAX_CONCUR_REQ = 1000\n",
    "DownloadStatus = Enum('DownloadStatus', 'OK NOT_FOUND ERROR')\n",
    "DEST_DIR = Path('downloaded')\n",
    "DEFAULT_SERVER = 'LOCAL'\n",
    "\n",
    "SERVERS = {\n",
    "    'REMOTE': 'https://www.fluentpython.com/data/flags',\n",
    "    'LOCAL':  'http://localhost:8000/flags',\n",
    "    'DELAY':  'http://localhost:8001/flags',\n",
    "    'ERROR':  'http://localhost:8002/flags',\n",
    "}\n",
    "\n",
    "def process_args(default_concur_req):\n",
    "    server_options = ', '.join(sorted(SERVERS))\n",
    "    parser = argparse.ArgumentParser(\n",
    "        description='Download flags for country codes. '\n",
    "                    'Default: top 20 countries by population.')\n",
    "    parser.add_argument(\n",
    "        'cc', metavar='CC', nargs='*',\n",
    "        help='country code or 1st letter (eg. B for BA...BZ)')\n",
    "    parser.add_argument(\n",
    "        '-a', '--all', action='store_true',\n",
    "        help='get all available flags (AD to ZW)')\n",
    "    parser.add_argument(\n",
    "        '-e', '--every', action='store_true',\n",
    "        help='get flags for every possible code (AA...ZZ)')\n",
    "    parser.add_argument(\n",
    "        '-l', '--limit', metavar='N', type=int, help='limit to N first codes',\n",
    "        default=sys.maxsize)\n",
    "    parser.add_argument(\n",
    "        '-m', '--max_req', metavar='CONCURRENT', type=int,\n",
    "        default=default_concur_req,\n",
    "        help=f'maximum concurrent requests (default={default_concur_req})')\n",
    "    parser.add_argument(\n",
    "        '-s', '--server', metavar='LABEL', default=DEFAULT_SERVER,\n",
    "        help=f'Server to hit; one of {server_options} '\n",
    "             f'(default={DEFAULT_SERVER})')\n",
    "    parser.add_argument(\n",
    "        '-v', '--verbose', action='store_true',\n",
    "        help='output detailed progress info')\n",
    "    args = parser.parse_args()\n",
    "    if args.max_req < 1:\n",
    "        print('*** Usage error: --max_req CONCURRENT must be >= 1')\n",
    "        parser.print_usage()\n",
    "        # \"standard\" exit status codes:\n",
    "        # https://stackoverflow.com/questions/1101957/are-there-any-standard-exit-status-codes-in-linux/40484670#40484670\n",
    "        sys.exit(2)  # command line usage error\n",
    "    if args.limit < 1:\n",
    "        print('*** Usage error: --limit N must be >= 1')\n",
    "        parser.print_usage()\n",
    "        sys.exit(2)  # command line usage error\n",
    "    args.server = args.server.upper()\n",
    "    if args.server not in SERVERS:\n",
    "        print(f'*** Usage error: --server LABEL '\n",
    "              f'must be one of {server_options}')\n",
    "        parser.print_usage()\n",
    "        sys.exit(2)  # command line usage error\n",
    "    try:\n",
    "        cc_list = expand_cc_args(args.every, args.all, args.cc, args.limit)\n",
    "    except ValueError as exc:\n",
    "        print(exc.args[0])\n",
    "        parser.print_usage()\n",
    "        sys.exit(2)  # command line usage error\n",
    "\n",
    "    if not cc_list:\n",
    "        cc_list = sorted(POP20_CC)[:args.limit]\n",
    "    return args, cc_list\n",
    "\n",
    "def save_flag(img: bytes, filename: str) -> None:\n",
    "    (DEST_DIR / filename).write_bytes(img)\n",
    "\n",
    "def main(download_many, default_concur_req, max_concur_req):\n",
    "    args, cc_list = process_args(default_concur_req)\n",
    "    actual_req = min(args.max_req, max_concur_req, len(cc_list))\n",
    "    initial_report(cc_list, actual_req, args.server)\n",
    "    base_url = SERVERS[args.server]\n",
    "    DEST_DIR.mkdir(exist_ok=True)\n",
    "    t0 = time.perf_counter()\n",
    "    counter = download_many(cc_list, base_url, args.verbose, actual_req)\n",
    "    final_report(cc_list, counter, t0)\n",
    "\n",
    "async def get_flag(client: httpx.AsyncClient, base_url: str, cc: str) -> bytes:\n",
    "    url = f'{base_url}/{cc}/{cc}.gif'.lower()\n",
    "    resp = await client.get(url, timeout=3.1, follow_redirects=True)\n",
    "    resp.raise_for_status()\n",
    "    return resp.content\n",
    "\n",
    "async def download_one(client: httpx.AsyncClient, cc: str, base_url: str, semaphore: asyncio.Semaphore, verbose: bool) -> DownloadStatus:\n",
    "    try:\n",
    "        async with semaphore:\n",
    "            image = await get_flag(client, base_url, cc)\n",
    "    except httpx.HTTPStatusError as exc:\n",
    "        res = exc.response\n",
    "        if res.status_code == HTTPStatus.NOT_FOUND:\n",
    "            status = DownloadStatus.NOT_FOUND\n",
    "            msg = f'not found: {res.url}'\n",
    "        else:\n",
    "            raise\n",
    "    else:\n",
    "        await asyncio.to_thread(save_flag, image, f'{cc}.gif')\n",
    "        status = DownloadStatus.OK\n",
    "    if verbose and msg:\n",
    "        print(cc, msg)\n",
    "    return status"
   ]
  },
  {
   "cell_type": "code",
   "execution_count": 32,
   "id": "5a2ce52d-5c10-409b-9b78-6dd088f48611",
   "metadata": {},
   "outputs": [
    {
     "data": {
      "text/plain": [
       "'\\nAll network I/O is done with coroutines in asyncio, but not file I/O. \\nthe asyncio.to_thread coroutine makes it easy to delegate file I/O\\nto a thread pool provided by asyncio\\n'"
      ]
     },
     "execution_count": 32,
     "metadata": {},
     "output_type": "execute_result"
    }
   ],
   "source": [
    "\"\"\"\n",
    "All network I/O is done with coroutines in asyncio, but not file I/O. \n",
    "the asyncio.to_thread coroutine makes it easy to delegate file I/O\n",
    "to a thread pool provided by asyncio\n",
    "\"\"\""
   ]
  },
  {
   "cell_type": "code",
   "execution_count": 33,
   "id": "d19d1959-16ee-4848-8531-51b4cd62a8f6",
   "metadata": {},
   "outputs": [
    {
     "data": {
      "text/plain": [
       "'\\nThere are three Semaphore classes in Python’s standard library:\\nthreading, multiprocessing, asyncio\\n\\nSemaphore:\\ncontrols access to a shared resource by limiting the number of coroutines that can access it concurrently.\\nuse cases:\\nDatabase Connections\\nWeb Scraping\\nAPI Requests\\n\\nSemaphore has an internal counter that is decremented whenever we await on .acquire()\\nand incremented when we call .release()\\n\\nAwaiting on .acquire() causes no delay when the counter is greater than zero, but if\\nthe counter is zero, .acquire() suspends the awaiting coroutine until some other\\ncoroutine calls .release() on the same Semaphore\\n'"
      ]
     },
     "execution_count": 33,
     "metadata": {},
     "output_type": "execute_result"
    }
   ],
   "source": [
    "\"\"\"\n",
    "There are three Semaphore classes in Python’s standard library:\n",
    "threading, multiprocessing, asyncio\n",
    "\n",
    "Semaphore:\n",
    "controls access to a shared resource by limiting the number of coroutines that can access it concurrently.\n",
    "use cases:\n",
    "Database Connections\n",
    "Web Scraping\n",
    "API Requests\n",
    "\n",
    "Semaphore has an internal counter that is decremented whenever we await on .acquire()\n",
    "and incremented when we call .release()\n",
    "\n",
    "Awaiting on .acquire() causes no delay when the counter is greater than zero, but if\n",
    "the counter is zero, .acquire() suspends the awaiting coroutine until some other\n",
    "coroutine calls .release() on the same Semaphore\n",
    "\"\"\""
   ]
  },
  {
   "cell_type": "code",
   "execution_count": 34,
   "id": "97ba35ad-1265-4bd4-a99b-ac706ef4f4a1",
   "metadata": {},
   "outputs": [
    {
     "name": "stderr",
     "output_type": "stream",
     "text": [
      "usage: ipykernel_launcher.py [-h] [-a] [-e] [-l N] [-m CONCURRENT] [-s LABEL]\n",
      "                             [-v]\n",
      "                             [CC ...]\n",
      "ipykernel_launcher.py: error: unrecognized arguments: -f\n"
     ]
    },
    {
     "ename": "SystemExit",
     "evalue": "2",
     "output_type": "error",
     "traceback": [
      "An exception has occurred, use %tb to see the full traceback.\n",
      "\u001b[0;31mSystemExit\u001b[0m\u001b[0;31m:\u001b[0m 2\n"
     ]
    },
    {
     "name": "stderr",
     "output_type": "stream",
     "text": [
      "/Users/mathias/miniforge3/envs/myenv/lib/python3.10/site-packages/IPython/core/interactiveshell.py:3585: UserWarning: To exit: use 'exit', 'quit', or Ctrl-D.\n",
      "  warn(\"To exit: use 'exit', 'quit', or Ctrl-D.\", stacklevel=1)\n"
     ]
    }
   ],
   "source": [
    "async def supervisor(cc_list: list[str], base_url: str, verbose: bool, concur_req: int) -> Counter[DownloadStatus]:\n",
    "    counter: Counter[DownloadStatus] = Counter()\n",
    "    semaphore = asyncio.Semaphore(concur_req)\n",
    "    async with httpx.AsyncClient() as client:\n",
    "        to_do = [download_one(client, cc, base_url, semaphore, verbose) for cc in sorted(cc_list)]\n",
    "        to_do_iter = asyncio.as_completed(to_do)\n",
    "        if not verbose:\n",
    "            to_do_iter = tqdm.tqdm(to_do_iter, total=len(cc_list))\n",
    "        error: httpx.HTTPError | None = None\n",
    "        for coro in to_do_iter:\n",
    "            try:\n",
    "                status = await coro\n",
    "            except httpx.HTTPStatusError as exc:\n",
    "                error_msg = 'HTTP error {resp.status_code} - {resp.reason_phrase}'\n",
    "                error_msg = error_msg.format(resp=exc.response)\n",
    "                error = exc\n",
    "            except httpx.RequestError as exc:\n",
    "                error_msg = f'{exc} {type(exc)}'.strip()\n",
    "                error = exc\n",
    "            except KeyboardInterrupt:\n",
    "                break\n",
    "            if error:\n",
    "                status = DownloadStatus.ERROR\n",
    "                if verbose:\n",
    "                    url = str(error.request.url)\n",
    "                    cc = Path(url).stem.upper()\n",
    "                    print(f'{cc} error: {error_msg}')\n",
    "            counter[status] += 1\n",
    "    return counter\n",
    "\n",
    "def download_many(cc_list: list[str], base_url: str, verbose: bool, concur_req: int) -> Counter[DownloadStatus]:\n",
    "    coro = supervisor(cc_list, base_url, verbose, concur_req)\n",
    "    counts = asyncio.run(coro)\n",
    "    return counts\n",
    "\n",
    "if __name__ == '__main__':\n",
    "    main(download_many, DEFAULT_CONCUR_REQ, MAX_CONCUR_REQ)"
   ]
  },
  {
   "cell_type": "code",
   "execution_count": 35,
   "id": "0ff8bd5e-2b74-4f57-9cba-efdb78fed9ce",
   "metadata": {},
   "outputs": [],
   "source": [
    "async def get_country(client: httpx.AsyncClient, base_url: str, cc: str) -> str:\n",
    "    url = f'{base_url}/{cc}/metadata.json'.lower()\n",
    "    resp = await client.get(url, timeout=3.1, follow_redirects=True)\n",
    "    resp.raise_for_status()\n",
    "    metadata = resp.json()\n",
    "    return metadata['country']"
   ]
  },
  {
   "cell_type": "code",
   "execution_count": 37,
   "id": "52f48991-0528-4712-a7df-5abf5db61a00",
   "metadata": {},
   "outputs": [],
   "source": [
    "async def download_one(client: httpx.AsyncClient, cc: str, base_url: str, semaphore: asyncio.Semaphore, verbose: bool) -> DownloadStatus:\n",
    "    try:\n",
    "        # for paralllel could use gather but if one raises exception its pointless.\n",
    "        async with semaphore:\n",
    "            image = await get_flag(client, base_url, cc)\n",
    "        async with semaphore:\n",
    "            country = await get_country(client, base_url, cc)\n",
    "    except httpx.HTTPStatusError as exc:\n",
    "        res = exc.response\n",
    "        if res.status_code == HTTPStatus.NOT_FOUND:\n",
    "            status = DownloadStatus.NOT_FOUND\n",
    "            msg = f'not found: {res.url}'\n",
    "        else:\n",
    "            raise\n",
    "    else:\n",
    "        filename = country.replace(' ', '_')\n",
    "        await asyncio.to_thread(save_flag, image, f'{filename}.gif')\n",
    "        status = DownloadStatus.OK\n",
    "        msg = 'OK'\n",
    "    if verbose and msg:\n",
    "        print(cc, msg)\n",
    "    return status"
   ]
  },
  {
   "cell_type": "code",
   "execution_count": 38,
   "id": "203ad2a0-bd7d-4a00-80e0-19cf2043d772",
   "metadata": {},
   "outputs": [
    {
     "data": {
      "text/plain": [
       "\"\\nTo save an image to disk Python >= 3.9:\\nawait asyncio.to_thread(save_falg, image, f'{cc}.gif')\\n\\nBelow 3.9:\\nloop = asyncio.get_running_loop()\\nloop.run_in_executor(None, save_flag, image, f'{cc}.gif')\\n\""
      ]
     },
     "execution_count": 38,
     "metadata": {},
     "output_type": "execute_result"
    }
   ],
   "source": [
    "\"\"\"\n",
    "To save an image to disk Python >= 3.9:\n",
    "await asyncio.to_thread(save_falg, image, f'{cc}.gif')\n",
    "\n",
    "Below 3.9:\n",
    "loop = asyncio.get_running_loop()\n",
    "loop.run_in_executor(None, save_flag, image, f'{cc}.gif')\n",
    "\"\"\""
   ]
  },
  {
   "cell_type": "code",
   "execution_count": 39,
   "id": "6320459c-87ac-464d-9b33-db837813040b",
   "metadata": {},
   "outputs": [
    {
     "data": {
      "text/plain": [
       "'\\nA thread pool was more performant in the particular use case \\nof a database driver—despite the myth that asynchronous approaches\\nare always faster than threads for network I/O.\\n'"
      ]
     },
     "execution_count": 39,
     "metadata": {},
     "output_type": "execute_result"
    }
   ],
   "source": [
    "\"\"\"\n",
    "A thread pool was more performant in the particular use case \n",
    "of a database driver—despite the myth that asynchronous approaches\n",
    "are always faster than threads for network I/O.\n",
    "\"\"\""
   ]
  },
  {
   "cell_type": "code",
   "execution_count": 40,
   "id": "aff95a69-5b5c-4a6a-b454-5a7c5cea4219",
   "metadata": {},
   "outputs": [
    {
     "data": {
      "text/plain": [
       "'\\nAn InvertedIndex.search method breaks a query into words, and returns the\\nintersection of the entries for each word. For instance an emoji search,\\nfor “face” finds 171 results, “cat” finds 14, but “cat face” only 10.\\n'"
      ]
     },
     "execution_count": 40,
     "metadata": {},
     "output_type": "execute_result"
    }
   ],
   "source": [
    "\"\"\"\n",
    "An InvertedIndex.search method breaks a query into words, and returns the\n",
    "intersection of the entries for each word. For instance an emoji search,\n",
    "for “face” finds 171 results, “cat” finds 14, but “cat face” only 10.\n",
    "\"\"\""
   ]
  },
  {
   "cell_type": "code",
   "execution_count": 6,
   "id": "68e2b9cc-c951-4aa0-87a1-bb40890c5fa0",
   "metadata": {},
   "outputs": [],
   "source": [
    "# Using fastAPI\n",
    "import asyncio\n",
    "import os\n",
    "from pathlib import Path\n",
    "from unicodedata import name\n",
    "\n",
    "from fastapi import FastAPI\n",
    "from fastapi.responses import HTMLResponse\n",
    "from pydantic import BaseModel\n",
    "from asyncio.trsock import TransportSocket\n",
    "\n",
    "from charindex import InvertedIndex, format_results\n",
    "\n",
    "# Path(__file__) will not work as we are in jupyter notebook\n",
    "STATIC_PATH = Path(os.getcwd()) / 'static'\n",
    "\n",
    "app = FastAPI(\n",
    "    title='Emoji Finder',\n",
    "    description='search for an emoji by name',\n",
    ")\n",
    "\n",
    "class CharName(BaseModel): # enforces type hints at runtime, for data validation.\n",
    "    char: str\n",
    "    name: str\n",
    "\n",
    "# FastAPI has project generation scripts that prepare static assets for CDN.\n",
    "# And to use a proxy/load-balancer in the front of the server.\n",
    "# \"edge router\" this is just a quick example\n",
    "def init(app):\n",
    "    app.state.index = InvertedIndex()\n",
    "    app.state.form = (STATIC_PATH / 'form.html').read_text()\n",
    "\n",
    "init(app)\n",
    "\n",
    "@app.get('/search', response_model=list[CharName])\n",
    "async def search(q: str):\n",
    "    chars = sorted(app.state.index.search(q))\n",
    "    return ({'char': c, 'name': name(c)} for c in chars)\n",
    "\n",
    "@app.get('/', response_class=HTMLResponse, include_in_schema=False)\n",
    "def form():\n",
    "    return app.state.form"
   ]
  },
  {
   "cell_type": "code",
   "execution_count": 8,
   "id": "1088cad1-4210-45b4-aa6c-e4d05d02ff4c",
   "metadata": {},
   "outputs": [],
   "source": [
    "import functools\n",
    "from typing import cast\n",
    "\n",
    "async def supervisor(index: InvertedIndex, host: str, port: int) -> None:\n",
    "    server = await asyncio.start_server(\n",
    "        functools.partial(finder, index),\n",
    "        host, port)\n",
    "    socket_list = cast(tuple[TransportSocket, ...], server.sockets)\n",
    "    addr = socket_list[0].getsockname()\n",
    "    print(f'Serving on {addr}. Hit CTRL-C to stop.')\n",
    "    await server.serve_forever()\n",
    "\n",
    "def main(host: str = '127.0.0.1', port_arg: str = '8081'):\n",
    "    port = int(port_arg)\n",
    "    print('Building index.')\n",
    "    index = InvertedIndex()\n",
    "    try:\n",
    "        asyncio.run(supervisor(index, host, port))\n",
    "    except KeyboardInterrupt:\n",
    "        print('\\nServer shut down.')\n",
    "\n",
    "if __name__ == '__main__':\n",
    "    main() # just use the defaults\n",
    "   # main(*sys.argv[1:]) # This is meant to be ran by the command line."
   ]
  },
  {
   "cell_type": "code",
   "execution_count": 58,
   "id": "37a1bb30-5072-4e82-a82a-b8cc6049d671",
   "metadata": {},
   "outputs": [],
   "source": [
    "CRLF = b'\\r\\n'\n",
    "PROMPT = b'?> '\n",
    "\n",
    "async def finder(index: InvertedIndex, reader: asyncio.StreamReader, writer: asyncio.StreamWriter) -> None:\n",
    "    client = writer.get_extra_info('peername')\n",
    "    while True:\n",
    "        writer.write(PROMPT)\n",
    "        await writer.drain()\n",
    "        data = await reader.readline()\n",
    "        if not data:\n",
    "            break\n",
    "        try:\n",
    "            query = data.decode().strip()\n",
    "        except UnicodeDecodeError:\n",
    "            query = '\\x00'\n",
    "        print(f' From {client}: {query!r}')\n",
    "        if query:\n",
    "            if ord(query[:1]) < 32:\n",
    "                break\n",
    "            results = await search(query, index, writer)\n",
    "            print(f'  To {client}: {results} results.')\n",
    "    writer.close()\n",
    "    await writer.wait_closed()\n",
    "    print(f'Close {client}.')"
   ]
  },
  {
   "cell_type": "code",
   "execution_count": 9,
   "id": "c9555e4c-5807-4dcd-905d-aa75d685fd8b",
   "metadata": {},
   "outputs": [],
   "source": [
    "async def search(query: str, index: InvertedIndex, writer: asyncio.StreamWriter) -> int:\n",
    "    chars = index.search(query)\n",
    "    lines = (line.encode() + CRLF for line in format_results(chars))\n",
    "    writer.writelines(lines)\n",
    "    await writer.drain()\n",
    "    status_line = f'{\"-\" * 66} {len(chars)} found'\n",
    "    writer.write(status_line.encode() + CRLF)\n",
    "    await writer.drain()\n",
    "    return len(chars)"
   ]
  },
  {
   "cell_type": "code",
   "execution_count": 10,
   "id": "9fe2251b-82cb-454a-9160-5ae2c611cc30",
   "metadata": {},
   "outputs": [
    {
     "data": {
      "text/plain": [
       "'\\nobjects implementing\\n__aenter__, __aexit__\\nreturns an awaitable\\n\\nasynchronous iterables:\\n__aiter__\\n\\nAsynchronous generators\\nasync for ...\\n\\nSince Python 3.8, you can run the interpreter with the -m asyncio command line\\noption to get an async REPL: a Python console that imports asyncio, provides a\\nrunning event loop, and accepts await, async for, and async with at the top-level\\nprompt—which otherwise are syntax errors when used outside of native coroutines.\\n'"
      ]
     },
     "execution_count": 10,
     "metadata": {},
     "output_type": "execute_result"
    }
   ],
   "source": [
    "\"\"\"\n",
    "objects implementing\n",
    "__aenter__, __aexit__\n",
    "returns an awaitable\n",
    "\n",
    "asynchronous iterables:\n",
    "__aiter__\n",
    "\n",
    "Asynchronous generators\n",
    "async for ...\n",
    "\n",
    "Since Python 3.8, you can run the interpreter with the -m asyncio command line\n",
    "option to get an async REPL: a Python console that imports asyncio, provides a\n",
    "running event loop, and accepts await, async for, and async with at the top-level\n",
    "prompt—which otherwise are syntax errors when used outside of native coroutines.\n",
    "\"\"\""
   ]
  },
  {
   "cell_type": "code",
   "execution_count": 13,
   "id": "27bba12d-420f-4461-9094-f907189694ca",
   "metadata": {},
   "outputs": [],
   "source": [
    "import asyncio\n",
    "import socket\n",
    "from collections.abc import Iterable, AsyncIterator\n",
    "from typing import NamedTuple, Optional\n",
    "\n",
    "class Result(NamedTuple):\n",
    "    domain: str\n",
    "    found: bool\n",
    "\n",
    "OptionalLoop = Optional[asyncio.AbstractEventLoop]\n",
    "\n",
    "async def probe(domain: str, loop: OptionalLoop = None) -> Result:\n",
    "    if loop is None:\n",
    "        loop = asyncio.get_running_loop()\n",
    "    try:\n",
    "        await loop.getaddrinfo(domain, None)\n",
    "    except socket.gaierror:\n",
    "        return Result(domain, False)\n",
    "    return Result(domain, True)\n",
    "\n",
    "async def multi_probe(domains: Iterable[str]) -> AsyncIterator[Result]:\n",
    "    loop = asyncio.get_running_loop()\n",
    "    coros = [probe(domain, loop) for domain in domains]\n",
    "    for coro in asyncio.as_completed(coros): # not async for because asyncio.as_completed is a classic generator\n",
    "        yield await coro"
   ]
  },
  {
   "cell_type": "code",
   "execution_count": 15,
   "id": "91d6bae5-bc29-49cb-b263-f449c08db8b8",
   "metadata": {},
   "outputs": [
    {
     "name": "stdout",
     "output_type": "stream",
     "text": [
      "Please provide a TLD. Example: /Users/mathias/miniforge3/envs/myenv/lib/python3.10/site-packages/ipykernel_launcher.py COM.BR\n"
     ]
    }
   ],
   "source": [
    "import sys\n",
    "from keyword import kwlist\n",
    "\n",
    "async def main(tld: str) -> None:\n",
    "    tld = tld.strip('.')\n",
    "    names = (kw for kw in kwlist if len(kw) <= 4)\n",
    "    domains = (f'{name}.{tld}'.lower() for name in names)\n",
    "    print('FOUND\\t\\tNOT FOUND')\n",
    "    print('======\\t\\t========')\n",
    "    async for domain, found in multi_probe(domains):\n",
    "        indent = '' if found else '\\t\\t'\n",
    "        print(f'{indent}{domain}')\n",
    "\n",
    "if __name__ == '__main__':\n",
    "    if len(sys.argv) == 2:\n",
    "        asyncio.run(main(sys.argv[1]))\n",
    "    else:\n",
    "        print('Please provide a TLD.', f'Example: {sys.argv[0]} COM.BR')"
   ]
  },
  {
   "cell_type": "code",
   "execution_count": 17,
   "id": "dfc9c4a7-2ab6-4ac6-9504-0e69fbe592c0",
   "metadata": {},
   "outputs": [
    {
     "ename": "NameError",
     "evalue": "name 'download_webpage' is not defined",
     "output_type": "error",
     "traceback": [
      "\u001b[0;31m---------------------------------------------------------------------------\u001b[0m",
      "\u001b[0;31mNameError\u001b[0m                                 Traceback (most recent call last)",
      "Cell \u001b[0;32mIn[17], line 10\u001b[0m\n\u001b[1;32m      7\u001b[0m     \u001b[38;5;28;01myield\u001b[39;00m data\n\u001b[1;32m      8\u001b[0m     \u001b[38;5;28;01mawait\u001b[39;00m loop\u001b[38;5;241m.\u001b[39mrun_in_executor(\u001b[38;5;28;01mNone\u001b[39;00m, update_status, url)\n\u001b[0;32m---> 10\u001b[0m \u001b[38;5;28;01masync\u001b[39;00m \u001b[38;5;28;01mwith\u001b[39;00m web_page(\u001b[38;5;124m'\u001b[39m\u001b[38;5;124mnews.ycombinator.com\u001b[39m\u001b[38;5;124m'\u001b[39m) \u001b[38;5;28;01mas\u001b[39;00m data:\n\u001b[1;32m     11\u001b[0m     process(data)\n",
      "File \u001b[0;32m~/miniforge3/envs/myenv/lib/python3.10/contextlib.py:199\u001b[0m, in \u001b[0;36m_AsyncGeneratorContextManager.__aenter__\u001b[0;34m(self)\u001b[0m\n\u001b[1;32m    197\u001b[0m \u001b[38;5;28;01mdel\u001b[39;00m \u001b[38;5;28mself\u001b[39m\u001b[38;5;241m.\u001b[39margs, \u001b[38;5;28mself\u001b[39m\u001b[38;5;241m.\u001b[39mkwds, \u001b[38;5;28mself\u001b[39m\u001b[38;5;241m.\u001b[39mfunc\n\u001b[1;32m    198\u001b[0m \u001b[38;5;28;01mtry\u001b[39;00m:\n\u001b[0;32m--> 199\u001b[0m     \u001b[38;5;28;01mreturn\u001b[39;00m \u001b[38;5;28;01mawait\u001b[39;00m anext(\u001b[38;5;28mself\u001b[39m\u001b[38;5;241m.\u001b[39mgen)\n\u001b[1;32m    200\u001b[0m \u001b[38;5;28;01mexcept\u001b[39;00m \u001b[38;5;167;01mStopAsyncIteration\u001b[39;00m:\n\u001b[1;32m    201\u001b[0m     \u001b[38;5;28;01mraise\u001b[39;00m \u001b[38;5;167;01mRuntimeError\u001b[39;00m(\u001b[38;5;124m\"\u001b[39m\u001b[38;5;124mgenerator didn\u001b[39m\u001b[38;5;124m'\u001b[39m\u001b[38;5;124mt yield\u001b[39m\u001b[38;5;124m\"\u001b[39m) \u001b[38;5;28;01mfrom\u001b[39;00m \u001b[38;5;28;01mNone\u001b[39;00m\n",
      "Cell \u001b[0;32mIn[17], line 6\u001b[0m, in \u001b[0;36mweb_page\u001b[0;34m(url)\u001b[0m\n\u001b[1;32m      3\u001b[0m \u001b[38;5;129m@asynccontextmanager\u001b[39m\n\u001b[1;32m      4\u001b[0m \u001b[38;5;28;01masync\u001b[39;00m \u001b[38;5;28;01mdef\u001b[39;00m \u001b[38;5;21mweb_page\u001b[39m(url):\n\u001b[1;32m      5\u001b[0m     loop \u001b[38;5;241m=\u001b[39m asyncio\u001b[38;5;241m.\u001b[39mget_running_loop()\n\u001b[0;32m----> 6\u001b[0m     data \u001b[38;5;241m=\u001b[39m \u001b[38;5;28;01mawait\u001b[39;00m loop\u001b[38;5;241m.\u001b[39mrun_in_executor(\u001b[38;5;28;01mNone\u001b[39;00m, download_webpage, url)\n\u001b[1;32m      7\u001b[0m     \u001b[38;5;28;01myield\u001b[39;00m data\n\u001b[1;32m      8\u001b[0m     \u001b[38;5;28;01mawait\u001b[39;00m loop\u001b[38;5;241m.\u001b[39mrun_in_executor(\u001b[38;5;28;01mNone\u001b[39;00m, update_status, url)\n",
      "\u001b[0;31mNameError\u001b[0m: name 'download_webpage' is not defined"
     ]
    }
   ],
   "source": [
    "from contextlib import asynccontextmanager\n",
    "\n",
    "@asynccontextmanager\n",
    "async def web_page(url):\n",
    "    loop = asyncio.get_running_loop()\n",
    "    data = await loop.run_in_executor(None, download_webpage, url)\n",
    "    yield data\n",
    "    await loop.run_in_executor(None, update_status, url)\n",
    "\n",
    "async with web_page('news.ycombinator.com') as data:\n",
    "    process(data)"
   ]
  },
  {
   "cell_type": "code",
   "execution_count": 18,
   "id": "1df0bb10-2d10-491c-b146-088b165596f9",
   "metadata": {},
   "outputs": [
    {
     "data": {
      "text/plain": [
       "'\\nA native coroutine may return some value other than None. An asynchronous\\ngenerator can only use empty return statements.\\n\\nAsynchronous generators are not awaitable.\\n'"
      ]
     },
     "execution_count": 18,
     "metadata": {},
     "output_type": "execute_result"
    }
   ],
   "source": [
    "\"\"\"\n",
    "A native coroutine may return some value other than None. An asynchronous\n",
    "generator can only use empty return statements.\n",
    "\n",
    "Asynchronous generators are not awaitable.\n",
    "\"\"\""
   ]
  },
  {
   "cell_type": "code",
   "execution_count": 19,
   "id": "f8278d08-1cea-4366-a273-a04e8afe74a5",
   "metadata": {},
   "outputs": [
    {
     "data": {
      "text/plain": [
       "<async_generator object <genexpr> at 0x10b000140>"
      ]
     },
     "execution_count": 19,
     "metadata": {},
     "output_type": "execute_result"
    }
   ],
   "source": [
    "# asynchronous generator expression\n",
    "names = 'python.org rust-lang.org golang.org no-lang.invalid'.split()\n",
    "gen_found = (name async for name, found in multi_probe(names) if found)\n",
    "gen_found"
   ]
  },
  {
   "cell_type": "code",
   "execution_count": 20,
   "id": "b86fc6e8-0039-461e-b5f9-10c303e70bb6",
   "metadata": {},
   "outputs": [
    {
     "name": "stdout",
     "output_type": "stream",
     "text": [
      "python.org\n",
      "golang.org\n",
      "rust-lang.org\n"
     ]
    }
   ],
   "source": [
    "async for name in gen_found:\n",
    "    print(name)"
   ]
  },
  {
   "cell_type": "code",
   "execution_count": 21,
   "id": "ba03cb80-9c35-44c8-85cf-9a4441e7d8b6",
   "metadata": {},
   "outputs": [
    {
     "data": {
      "text/plain": [
       "'\\nUsing await in a list comprehension is similar to using asyncio.gather.\\nGather gives you more control over exception handling, because of its \\nreturn_exceptions argument.\\n'"
      ]
     },
     "execution_count": 21,
     "metadata": {},
     "output_type": "execute_result"
    }
   ],
   "source": [
    "\"\"\"\n",
    "Using await in a list comprehension is similar to using asyncio.gather.\n",
    "Gather gives you more control over exception handling, because of its \n",
    "return_exceptions argument.\n",
    "\"\"\""
   ]
  },
  {
   "cell_type": "code",
   "execution_count": 23,
   "id": "c0ebfd93-fa5b-4a8f-af95-ca7e4b953146",
   "metadata": {},
   "outputs": [
    {
     "data": {
      "text/plain": [
       "[Result(domain='golang.org', found=True),\n",
       " Result(domain='no-lang.invalid', found=False),\n",
       " Result(domain='python.org', found=True),\n",
       " Result(domain='rust-lang.org', found=True)]"
      ]
     },
     "execution_count": 23,
     "metadata": {},
     "output_type": "execute_result"
    }
   ],
   "source": [
    "names = 'python.org rust-lang.org golang.org no-lang.invalid'.split()\n",
    "names = sorted(names) # this doesnt matter results come out in the order they were submitted\n",
    "coros = [probe(name) for name in names]\n",
    "await asyncio.gather(*coros)"
   ]
  },
  {
   "cell_type": "code",
   "execution_count": 24,
   "id": "adc1cfe6-d32e-4b22-b5e2-b662e0a8cdf2",
   "metadata": {},
   "outputs": [
    {
     "data": {
      "text/plain": [
       "[Result(domain='golang.org', found=True),\n",
       " Result(domain='no-lang.invalid', found=False),\n",
       " Result(domain='python.org', found=True),\n",
       " Result(domain='rust-lang.org', found=True)]"
      ]
     },
     "execution_count": 24,
     "metadata": {},
     "output_type": "execute_result"
    }
   ],
   "source": [
    "[await probe(name) for name in names]"
   ]
  },
  {
   "cell_type": "code",
   "execution_count": 25,
   "id": "80344ec0-5f98-4152-ade1-ff182438a33b",
   "metadata": {},
   "outputs": [
    {
     "data": {
      "text/plain": [
       "{'no-lang.invalid': False,\n",
       " 'python.org': True,\n",
       " 'golang.org': True,\n",
       " 'rust-lang.org': True}"
      ]
     },
     "execution_count": 25,
     "metadata": {},
     "output_type": "execute_result"
    }
   ],
   "source": [
    "{name: found async for name, found in multi_probe(names)}"
   ]
  },
  {
   "cell_type": "code",
   "execution_count": 27,
   "id": "b9961ab0-d502-46fb-a571-ffcb4f625dde",
   "metadata": {},
   "outputs": [
    {
     "data": {
      "text/plain": [
       "{'golang.org', 'python.org', 'rust-lang.org'}"
      ]
     },
     "execution_count": 27,
     "metadata": {},
     "output_type": "execute_result"
    }
   ],
   "source": [
    "{name for name in names if (await probe(name)).found}"
   ]
  },
  {
   "cell_type": "code",
   "execution_count": 29,
   "id": "c35527a3-cd8b-46cf-9870-5f22dcacfba0",
   "metadata": {},
   "outputs": [
    {
     "name": "stdout",
     "output_type": "stream",
     "text": [
      "+ true.dev\n",
      "+ from.dev\n",
      "+ not.dev\n",
      "+ del.dev\n",
      "  for.dev\n",
      "  none.dev\n",
      "  pass.dev\n",
      "  or.dev\n",
      "+ in.dev\n",
      "+ def.dev\n",
      "  else.dev\n",
      "+ try.dev\n",
      "+ and.dev\n",
      "+ as.dev\n",
      "  if.dev\n",
      "  elif.dev\n",
      "  with.dev\n",
      "  is.dev\n"
     ]
    }
   ],
   "source": [
    "# using Curio - improve the usability of the asyncio API\n",
    "from curio import run, TaskGroup\n",
    "import curio.socket as socket\n",
    "from keyword import kwlist\n",
    "\n",
    "MAX_KEYWORD_LEN = 4\n",
    "\n",
    "async def probe(domain: str) -> tuple[str, bool]:\n",
    "    try:\n",
    "        await socket.getaddrinfo(domain, None)\n",
    "    except socket.gaierror:\n",
    "        return (domain, False)\n",
    "    return (domain, True)\n",
    "\n",
    "async def main() -> None:\n",
    "    names = (kw for kw in kwlist if len(kw) <= MAX_KEYWORD_LEN)\n",
    "    domains = (f'{name}.dev'.lower() for name in names)\n",
    "    async with TaskGroup() as group:\n",
    "        for domain in domains:\n",
    "            await group.spawn(probe, domain)\n",
    "        async for task in group:\n",
    "            domain, found = task.result\n",
    "            mark = '+' if found else ' '\n",
    "            print(f'{mark} {domain}')\n",
    "\n",
    "if __name__ == '__main__':\n",
    "    run(main())"
   ]
  },
  {
   "cell_type": "code",
   "execution_count": 30,
   "id": "0e640c82-34c7-4a7f-871d-6f95602e7588",
   "metadata": {},
   "outputs": [
    {
     "data": {
      "text/plain": [
       "'\\nCurio has features that allow it to run in a thread along with\\nasyncio in another thread, in the same process, communicating\\nvia UniversalQueue and UniversalEvent.\\n'"
      ]
     },
     "execution_count": 30,
     "metadata": {},
     "output_type": "execute_result"
    }
   ],
   "source": [
    "\"\"\"\n",
    "Curio has features that allow it to run in a thread along with\n",
    "asyncio in another thread, in the same process, communicating\n",
    "via UniversalQueue and UniversalEvent.\n",
    "\"\"\""
   ]
  },
  {
   "cell_type": "code",
   "execution_count": 31,
   "id": "d9713d2e-d7d7-49f0-a1ba-dadd2d0b8e31",
   "metadata": {},
   "outputs": [],
   "source": [
    "# watch later, note Python 3.6 added list comprehensions and generator expressions async\n",
    "# https://www.youtube.com/watch?v=E-1Y4kSsAFc "
   ]
  },
  {
   "cell_type": "code",
   "execution_count": null,
   "id": "0359c2ff-c70b-4369-8975-1eb42ac69337",
   "metadata": {},
   "outputs": [],
   "source": []
  }
 ],
 "metadata": {
  "kernelspec": {
   "display_name": "Python 3 (ipykernel)",
   "language": "python",
   "name": "python3"
  },
  "language_info": {
   "codemirror_mode": {
    "name": "ipython",
    "version": 3
   },
   "file_extension": ".py",
   "mimetype": "text/x-python",
   "name": "python",
   "nbconvert_exporter": "python",
   "pygments_lexer": "ipython3",
   "version": "3.10.15"
  }
 },
 "nbformat": 4,
 "nbformat_minor": 5
}
