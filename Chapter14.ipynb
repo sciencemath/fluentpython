{
 "cells": [
  {
   "cell_type": "code",
   "execution_count": 2,
   "id": "a1277074-7a02-4568-bb7c-7e017d51c4fd",
   "metadata": {},
   "outputs": [],
   "source": [
    "from collections import OrderedDict\n",
    "\n",
    "class LastUpdatedOrderedDict(OrderedDict):\n",
    "    \"\"\"Store items in the order they were last updated\"\"\"\n",
    "\n",
    "    def __setitem__(self, key, value):\n",
    "        super().__setitem__(key, value)\n",
    "        self.move_to_end(key)"
   ]
  },
  {
   "cell_type": "code",
   "execution_count": 3,
   "id": "6a6aa1e5-6afa-4b8a-82cf-e8d441060fd6",
   "metadata": {},
   "outputs": [],
   "source": [
    "class DoppelDict(dict):\n",
    "    def __setitem__(self, key, value):\n",
    "        super().__setitem__(key, [value] * 2)"
   ]
  },
  {
   "cell_type": "code",
   "execution_count": 4,
   "id": "b806eea6-716a-4682-937e-ab0522da595c",
   "metadata": {},
   "outputs": [
    {
     "data": {
      "text/plain": [
       "{'one': 1}"
      ]
     },
     "execution_count": 4,
     "metadata": {},
     "output_type": "execute_result"
    }
   ],
   "source": [
    "dd = DoppelDict(one=1)\n",
    "dd"
   ]
  },
  {
   "cell_type": "code",
   "execution_count": 5,
   "id": "7e8a8ad6-2aa4-4341-b4a0-7d75f7146dd3",
   "metadata": {},
   "outputs": [
    {
     "data": {
      "text/plain": [
       "{'one': 1, 'two': [2, 2]}"
      ]
     },
     "execution_count": 5,
     "metadata": {},
     "output_type": "execute_result"
    }
   ],
   "source": [
    "dd['two'] = 2\n",
    "dd"
   ]
  },
  {
   "cell_type": "code",
   "execution_count": 6,
   "id": "4959267c-05d5-4b19-850f-5668a61008f6",
   "metadata": {},
   "outputs": [
    {
     "data": {
      "text/plain": [
       "{'one': 1, 'two': [2, 2], 'three': 3}"
      ]
     },
     "execution_count": 6,
     "metadata": {},
     "output_type": "execute_result"
    }
   ],
   "source": [
    "dd.update(three=3)\n",
    "dd"
   ]
  },
  {
   "cell_type": "code",
   "execution_count": 7,
   "id": "d50d3b62-3b00-4d18-a0d6-cb0214753caa",
   "metadata": {},
   "outputs": [
    {
     "data": {
      "text/plain": [
       "42"
      ]
     },
     "execution_count": 7,
     "metadata": {},
     "output_type": "execute_result"
    }
   ],
   "source": [
    "class AnswerDict(dict):\n",
    "    def __getitem__(self, key):\n",
    "        return 42\n",
    "\n",
    "ad = AnswerDict(a='foo')\n",
    "ad['a']"
   ]
  },
  {
   "cell_type": "code",
   "execution_count": 8,
   "id": "c5750e44-fd5e-435d-afd2-8a2bd81e8a38",
   "metadata": {},
   "outputs": [
    {
     "data": {
      "text/plain": [
       "'foo'"
      ]
     },
     "execution_count": 8,
     "metadata": {},
     "output_type": "execute_result"
    }
   ],
   "source": [
    "d = {}\n",
    "d.update(ad) # ignored by __getitem__\n",
    "d['a']"
   ]
  },
  {
   "cell_type": "code",
   "execution_count": 9,
   "id": "04ba01a3-b0b6-480c-8288-6ce4eedc8e98",
   "metadata": {},
   "outputs": [
    {
     "data": {
      "text/plain": [
       "{'a': 'foo'}"
      ]
     },
     "execution_count": 9,
     "metadata": {},
     "output_type": "execute_result"
    }
   ],
   "source": [
    "d"
   ]
  },
  {
   "cell_type": "code",
   "execution_count": 11,
   "id": "c2515ed0-a76e-43d3-b10b-8733c2eaff75",
   "metadata": {},
   "outputs": [
    {
     "data": {
      "text/plain": [
       "{'one': [1, 1]}"
      ]
     },
     "execution_count": 11,
     "metadata": {},
     "output_type": "execute_result"
    }
   ],
   "source": [
    "# subclassing dict, list is error prone, UserDict\n",
    "import collections\n",
    "\n",
    "class DoppelDict2(collections.UserDict):\n",
    "    def __setitem__(self, key, value):\n",
    "        super().__setitem__(key, [value] * 2)\n",
    "\n",
    "dd = DoppelDict2(one=1)\n",
    "dd"
   ]
  },
  {
   "cell_type": "code",
   "execution_count": 12,
   "id": "d5ef3a8c-a374-4b68-8fb3-26a20e1b0fc9",
   "metadata": {},
   "outputs": [
    {
     "data": {
      "text/plain": [
       "{'one': [1, 1], 'two': [2, 2]}"
      ]
     },
     "execution_count": 12,
     "metadata": {},
     "output_type": "execute_result"
    }
   ],
   "source": [
    "dd['two'] = 2\n",
    "dd"
   ]
  },
  {
   "cell_type": "code",
   "execution_count": 13,
   "id": "56dcb68a-78a0-406d-814e-0d3173bb1837",
   "metadata": {},
   "outputs": [
    {
     "data": {
      "text/plain": [
       "{'one': [1, 1], 'two': [2, 2], 'three': [3, 3]}"
      ]
     },
     "execution_count": 13,
     "metadata": {},
     "output_type": "execute_result"
    }
   ],
   "source": [
    "dd.update(three=3)\n",
    "dd"
   ]
  },
  {
   "cell_type": "code",
   "execution_count": 14,
   "id": "b35d37c5-ead8-4afe-b679-edfe5f2e1d31",
   "metadata": {},
   "outputs": [
    {
     "data": {
      "text/plain": [
       "42"
      ]
     },
     "execution_count": 14,
     "metadata": {},
     "output_type": "execute_result"
    }
   ],
   "source": [
    "class AnswerDict2(collections.UserDict):\n",
    "    def __getitem__(self, key):\n",
    "        return 42\n",
    "\n",
    "ad = AnswerDict2(a='foo')\n",
    "ad['a']"
   ]
  },
  {
   "cell_type": "code",
   "execution_count": 15,
   "id": "000b5399-4b25-40a2-84cf-84565596d6d5",
   "metadata": {},
   "outputs": [
    {
     "data": {
      "text/plain": [
       "42"
      ]
     },
     "execution_count": 15,
     "metadata": {},
     "output_type": "execute_result"
    }
   ],
   "source": [
    "d = {}\n",
    "d.update(ad)\n",
    "d['a']"
   ]
  },
  {
   "cell_type": "code",
   "execution_count": 16,
   "id": "e38eae02-538d-4fda-8b97-698474854664",
   "metadata": {},
   "outputs": [
    {
     "data": {
      "text/plain": [
       "{'a': 42}"
      ]
     },
     "execution_count": 16,
     "metadata": {},
     "output_type": "execute_result"
    }
   ],
   "source": [
    "d"
   ]
  },
  {
   "cell_type": "code",
   "execution_count": 20,
   "id": "bf4c70da-5958-46e8-a770-d6ab01dfef6a",
   "metadata": {},
   "outputs": [],
   "source": [
    "class Root:\n",
    "    def ping(self):\n",
    "        print(f'{self}.ping() in Root')\n",
    "\n",
    "    def pong(self):\n",
    "        print(f'{self}.pong() in Root')\n",
    "\n",
    "    def __repr__(self):\n",
    "        cls_name = type(self).__name__\n",
    "        return f'<instance of {cls_name}>'\n",
    "\n",
    "class A(Root):\n",
    "    def ping(self):\n",
    "        print(f'{self}.ping() in A')\n",
    "        super().ping()\n",
    "\n",
    "    def pong(self):\n",
    "        print(f'{self}.pong() in A')\n",
    "        super().pong()\n",
    "\n",
    "class B(Root):\n",
    "    def ping(self):\n",
    "        print(f'{self}.ping() in B')\n",
    "        super().ping()\n",
    "\n",
    "    def pong(self):\n",
    "        print(f'{self}.pong() in B')\n",
    "\n",
    "class Leaf(A, B):\n",
    "    def ping(self):\n",
    "        print(f'{self}.ping() in Leaf')\n",
    "        super().ping()"
   ]
  },
  {
   "cell_type": "code",
   "execution_count": 21,
   "id": "a296b25e-52a0-4447-b98c-7429ff6adf2f",
   "metadata": {},
   "outputs": [
    {
     "name": "stdout",
     "output_type": "stream",
     "text": [
      "<instance of Leaf>.ping() in Leaf\n",
      "<instance of Leaf>.ping() in A\n",
      "<instance of Leaf>.ping() in B\n",
      "<instance of Leaf>.ping() in Root\n"
     ]
    }
   ],
   "source": [
    "leaf1 = Leaf()\n",
    "leaf1.ping()"
   ]
  },
  {
   "cell_type": "code",
   "execution_count": 22,
   "id": "11849422-1a10-4f5f-99ab-e954fdf2322d",
   "metadata": {},
   "outputs": [
    {
     "name": "stdout",
     "output_type": "stream",
     "text": [
      "<instance of Leaf>.pong() in A\n",
      "<instance of Leaf>.pong() in B\n"
     ]
    }
   ],
   "source": [
    "leaf1.pong()"
   ]
  },
  {
   "cell_type": "code",
   "execution_count": 23,
   "id": "37a57e7c-7e87-4265-9146-728d3ad9b137",
   "metadata": {},
   "outputs": [
    {
     "data": {
      "text/plain": [
       "(__main__.Leaf, __main__.A, __main__.B, __main__.Root, object)"
      ]
     },
     "execution_count": 23,
     "metadata": {},
     "output_type": "execute_result"
    }
   ],
   "source": [
    "Leaf.__mro__"
   ]
  },
  {
   "cell_type": "code",
   "execution_count": 24,
   "id": "d5ce61c8-9a26-48ba-8e99-e9c69b3d2c39",
   "metadata": {},
   "outputs": [],
   "source": [
    "class U():\n",
    "    def ping(self):\n",
    "        print(f'{self}.ping() in U')\n",
    "        super().ping()\n",
    "\n",
    "class LeafUA(U, A):\n",
    "    def ping(self):\n",
    "        print(f'{self}.ping() in LeafUA')\n",
    "        super().ping()"
   ]
  },
  {
   "cell_type": "code",
   "execution_count": 25,
   "id": "86bd726b-111c-48e3-a8dc-de9c43b15c83",
   "metadata": {},
   "outputs": [
    {
     "name": "stdout",
     "output_type": "stream",
     "text": [
      "<__main__.U object at 0x112d77610>.ping() in U\n"
     ]
    },
    {
     "ename": "AttributeError",
     "evalue": "'super' object has no attribute 'ping'",
     "output_type": "error",
     "traceback": [
      "\u001b[0;31m---------------------------------------------------------------------------\u001b[0m",
      "\u001b[0;31mAttributeError\u001b[0m                            Traceback (most recent call last)",
      "Cell \u001b[0;32mIn[25], line 2\u001b[0m\n\u001b[1;32m      1\u001b[0m u \u001b[38;5;241m=\u001b[39m U()\n\u001b[0;32m----> 2\u001b[0m \u001b[43mu\u001b[49m\u001b[38;5;241;43m.\u001b[39;49m\u001b[43mping\u001b[49m\u001b[43m(\u001b[49m\u001b[43m)\u001b[49m \u001b[38;5;66;03m# throw (no super class)\u001b[39;00m\n",
      "Cell \u001b[0;32mIn[24], line 4\u001b[0m, in \u001b[0;36mU.ping\u001b[0;34m(self)\u001b[0m\n\u001b[1;32m      2\u001b[0m \u001b[38;5;28;01mdef\u001b[39;00m \u001b[38;5;21mping\u001b[39m(\u001b[38;5;28mself\u001b[39m):\n\u001b[1;32m      3\u001b[0m     \u001b[38;5;28mprint\u001b[39m(\u001b[38;5;124mf\u001b[39m\u001b[38;5;124m'\u001b[39m\u001b[38;5;132;01m{\u001b[39;00m\u001b[38;5;28mself\u001b[39m\u001b[38;5;132;01m}\u001b[39;00m\u001b[38;5;124m.ping() in U\u001b[39m\u001b[38;5;124m'\u001b[39m)\n\u001b[0;32m----> 4\u001b[0m     \u001b[38;5;28;43msuper\u001b[39;49m\u001b[43m(\u001b[49m\u001b[43m)\u001b[49m\u001b[38;5;241;43m.\u001b[39;49m\u001b[43mping\u001b[49m()\n",
      "\u001b[0;31mAttributeError\u001b[0m: 'super' object has no attribute 'ping'"
     ]
    }
   ],
   "source": [
    "u = U()\n",
    "u.ping() # throw (no super class)"
   ]
  },
  {
   "cell_type": "code",
   "execution_count": 26,
   "id": "8760cab2-11b0-4681-a737-ce215e666b8e",
   "metadata": {},
   "outputs": [
    {
     "name": "stdout",
     "output_type": "stream",
     "text": [
      "<instance of LeafUA>.ping() in LeafUA\n",
      "<instance of LeafUA>.ping() in U\n",
      "<instance of LeafUA>.ping() in A\n",
      "<instance of LeafUA>.ping() in Root\n"
     ]
    }
   ],
   "source": [
    "leaf2 = LeafUA()\n",
    "leaf2.ping()"
   ]
  },
  {
   "cell_type": "code",
   "execution_count": 27,
   "id": "7e07fcea-7ee3-40b1-8036-4c1d29285953",
   "metadata": {},
   "outputs": [
    {
     "data": {
      "text/plain": [
       "(__main__.LeafUA, __main__.U, __main__.A, __main__.Root, object)"
      ]
     },
     "execution_count": 27,
     "metadata": {},
     "output_type": "execute_result"
    }
   ],
   "source": [
    "LeafUA.__mro__"
   ]
  },
  {
   "cell_type": "code",
   "execution_count": 32,
   "id": "9752c2a6-60d9-4a62-b8dd-c7e1413e2eef",
   "metadata": {},
   "outputs": [],
   "source": [
    "import collections\n",
    "\n",
    "def _upper(key):\n",
    "    try:\n",
    "        return key.upper()\n",
    "    except AttributeError:\n",
    "        return key\n",
    "\n",
    "class UpperCaseMixin:\n",
    "    def __setitem__(self, key, item):\n",
    "        super().__setitem__(_upper(key), item)\n",
    "\n",
    "    def __getitem__(self, key):\n",
    "        return super().__getitem__(_upper(key))\n",
    "\n",
    "    def get(self, key, default=None):\n",
    "        return super().get(_upper(key), default)\n",
    "\n",
    "    def __contains__(self, key):\n",
    "        return super().__contains__(_upper(key))"
   ]
  },
  {
   "cell_type": "code",
   "execution_count": 33,
   "id": "6e2bde2e-b8e4-4565-9cdd-cce648e76dda",
   "metadata": {},
   "outputs": [],
   "source": [
    "class UpperDict(UpperCaseMixin, collections.UserDict):\n",
    "    pass\n",
    "\n",
    "class UpperCounter(UpperCaseMixin, collections.Counter):\n",
    "    \"\"\"Specialized 'counter' that uppercases string keys\"\"\""
   ]
  },
  {
   "cell_type": "code",
   "execution_count": 34,
   "id": "69c7391e-3571-4e51-806e-0e21c821a962",
   "metadata": {},
   "outputs": [
    {
     "data": {
      "text/plain": [
       "['A', 2]"
      ]
     },
     "execution_count": 34,
     "metadata": {},
     "output_type": "execute_result"
    }
   ],
   "source": [
    "d = UpperDict([('a', 'letter A'), (2, 'digit two')])\n",
    "list(d.keys())"
   ]
  },
  {
   "cell_type": "code",
   "execution_count": 35,
   "id": "14ae1a68-18f1-4dea-9fa3-9fdfa1220c46",
   "metadata": {},
   "outputs": [
    {
     "data": {
      "text/plain": [
       "True"
      ]
     },
     "execution_count": 35,
     "metadata": {},
     "output_type": "execute_result"
    }
   ],
   "source": [
    "d['b'] = 'letter B'\n",
    "'b' in d"
   ]
  },
  {
   "cell_type": "code",
   "execution_count": 36,
   "id": "0d5d986c-ffaf-497c-aa8c-57d8a7ac299a",
   "metadata": {},
   "outputs": [
    {
     "data": {
      "text/plain": [
       "('letter A', 'letter B')"
      ]
     },
     "execution_count": 36,
     "metadata": {},
     "output_type": "execute_result"
    }
   ],
   "source": [
    "d['a'], d.get('B')"
   ]
  },
  {
   "cell_type": "code",
   "execution_count": 37,
   "id": "92a5b766-a327-4793-abb4-55496516bfc5",
   "metadata": {},
   "outputs": [
    {
     "data": {
      "text/plain": [
       "{'A': 'letter A', 2: 'digit two', 'B': 'letter B'}"
      ]
     },
     "execution_count": 37,
     "metadata": {},
     "output_type": "execute_result"
    }
   ],
   "source": [
    "d"
   ]
  },
  {
   "cell_type": "code",
   "execution_count": 38,
   "id": "e196a121-6016-4d36-89f8-559e33de250a",
   "metadata": {},
   "outputs": [
    {
     "data": {
      "text/plain": [
       "[('A', 3), ('N', 2), ('B', 1)]"
      ]
     },
     "execution_count": 38,
     "metadata": {},
     "output_type": "execute_result"
    }
   ],
   "source": [
    "c = UpperCounter('BaNanA')\n",
    "c.most_common()"
   ]
  },
  {
   "cell_type": "code",
   "execution_count": null,
   "id": "1d198364-fb84-447f-a797-e06eb6e8c103",
   "metadata": {},
   "outputs": [],
   "source": []
  }
 ],
 "metadata": {
  "kernelspec": {
   "display_name": "Python 3 (ipykernel)",
   "language": "python",
   "name": "python3"
  },
  "language_info": {
   "codemirror_mode": {
    "name": "ipython",
    "version": 3
   },
   "file_extension": ".py",
   "mimetype": "text/x-python",
   "name": "python",
   "nbconvert_exporter": "python",
   "pygments_lexer": "ipython3",
   "version": "3.10.15"
  }
 },
 "nbformat": 4,
 "nbformat_minor": 5
}
