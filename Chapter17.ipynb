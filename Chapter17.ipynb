{
 "cells": [
  {
   "cell_type": "code",
   "execution_count": 40,
   "id": "b60b59d0-ab9e-412e-9f70-3fc1b8e57191",
   "metadata": {},
   "outputs": [
    {
     "data": {
      "text/plain": [
       "Sentence('Innovation d...nd a follower')"
      ]
     },
     "execution_count": 40,
     "metadata": {},
     "output_type": "execute_result"
    }
   ],
   "source": [
    "import re\n",
    "import reprlib\n",
    "\n",
    "RE_WORD = re.compile(r'\\w+')\n",
    "class Sentence:\n",
    "    def __init__(self, text):\n",
    "        self.text = text\n",
    "        self.words = RE_WORD.findall(text)\n",
    "\n",
    "    def __getitem__(self, index):\n",
    "        return self.words[index]\n",
    "\n",
    "    def __len__(self):\n",
    "        return len(self.words)\n",
    "\n",
    "    def __repr__(self):\n",
    "        return f'Sentence({reprlib.repr(self.text)})'\n",
    "\n",
    "s = Sentence('Innovation distinguishes between a leader and a follower')\n",
    "s"
   ]
  },
  {
   "cell_type": "code",
   "execution_count": 41,
   "id": "d3cb24c6-e759-40cd-b8d3-fbefd3a5b936",
   "metadata": {},
   "outputs": [
    {
     "name": "stdout",
     "output_type": "stream",
     "text": [
      "Innovation\n",
      "distinguishes\n",
      "between\n",
      "a\n",
      "leader\n",
      "and\n",
      "a\n",
      "follower\n"
     ]
    }
   ],
   "source": [
    "for word in s:\n",
    "    print(word)"
   ]
  },
  {
   "cell_type": "code",
   "execution_count": 3,
   "id": "87b8aeab-4939-4e1b-9e21-0f8c00d05318",
   "metadata": {},
   "outputs": [
    {
     "data": {
      "text/plain": [
       "['Innovation',\n",
       " 'distinguishes',\n",
       " 'between',\n",
       " 'a',\n",
       " 'leader',\n",
       " 'and',\n",
       " 'a',\n",
       " 'follower']"
      ]
     },
     "execution_count": 3,
     "metadata": {},
     "output_type": "execute_result"
    }
   ],
   "source": [
    "list(s)"
   ]
  },
  {
   "cell_type": "code",
   "execution_count": 4,
   "id": "694b1139-378f-400a-9bdc-c977fad57fb3",
   "metadata": {},
   "outputs": [
    {
     "data": {
      "text/plain": [
       "('Innovation', 'and', 'follower')"
      ]
     },
     "execution_count": 4,
     "metadata": {},
     "output_type": "execute_result"
    }
   ],
   "source": [
    "s[0], s[5], s[-1]"
   ]
  },
  {
   "cell_type": "code",
   "execution_count": 5,
   "id": "64bd9aa2-fa06-435b-a6da-d016eab6b640",
   "metadata": {},
   "outputs": [
    {
     "data": {
      "text/plain": [
       "<iterator at 0x106e76830>"
      ]
     },
     "execution_count": 5,
     "metadata": {},
     "output_type": "execute_result"
    }
   ],
   "source": [
    "class Spam:\n",
    "    def __getitem__(self, i):\n",
    "        print('->', i)\n",
    "        raise IndexError()\n",
    "\n",
    "spam_can = Spam()\n",
    "iter(spam_can)"
   ]
  },
  {
   "cell_type": "code",
   "execution_count": 6,
   "id": "e920341c-1222-46a8-9316-298fe9004e2b",
   "metadata": {},
   "outputs": [
    {
     "name": "stdout",
     "output_type": "stream",
     "text": [
      "-> 0\n"
     ]
    },
    {
     "data": {
      "text/plain": [
       "[]"
      ]
     },
     "execution_count": 6,
     "metadata": {},
     "output_type": "execute_result"
    }
   ],
   "source": [
    "list(spam_can)"
   ]
  },
  {
   "cell_type": "code",
   "execution_count": 7,
   "id": "554dfa30-22d5-43dd-8015-a797fc6e7480",
   "metadata": {},
   "outputs": [
    {
     "data": {
      "text/plain": [
       "False"
      ]
     },
     "execution_count": 7,
     "metadata": {},
     "output_type": "execute_result"
    }
   ],
   "source": [
    "from collections import abc\n",
    "isinstance(spam_can, abc.Iterable)"
   ]
  },
  {
   "cell_type": "code",
   "execution_count": 10,
   "id": "d1845c07-e176-454c-a292-fe5c3af0859f",
   "metadata": {},
   "outputs": [
    {
     "data": {
      "text/plain": [
       "True"
      ]
     },
     "execution_count": 10,
     "metadata": {},
     "output_type": "execute_result"
    }
   ],
   "source": [
    "# remember as of python 3.10 its most accurate to check if an object is iterable is to call iter(x) and handle exception\n",
    "class GooseSpam:\n",
    "    def __iter__(self):\n",
    "        pass\n",
    "\n",
    "from collections import abc\n",
    "issubclass(GooseSpam, abc.Iterable)"
   ]
  },
  {
   "cell_type": "code",
   "execution_count": 11,
   "id": "c7b50e11-8e4a-4bd4-9c2b-8136c2f72f24",
   "metadata": {},
   "outputs": [
    {
     "data": {
      "text/plain": [
       "True"
      ]
     },
     "execution_count": 11,
     "metadata": {},
     "output_type": "execute_result"
    }
   ],
   "source": [
    "goose_spam_can = GooseSpam()\n",
    "isinstance(goose_spam_can, abc.Iterable)"
   ]
  },
  {
   "cell_type": "code",
   "execution_count": 21,
   "id": "4e87f293-5e2b-4ae0-875e-d6ad5a344540",
   "metadata": {},
   "outputs": [
    {
     "data": {
      "text/plain": [
       "<callable_iterator at 0x1071b3af0>"
      ]
     },
     "execution_count": 21,
     "metadata": {},
     "output_type": "execute_result"
    }
   ],
   "source": [
    "from random import randint\n",
    "\n",
    "def dice():\n",
    "    return randint(1,6)\n",
    "\n",
    "# second param in iter is the sentinel (until a value is reached)\n",
    "dice_iter = iter(dice,1)\n",
    "dice_iter"
   ]
  },
  {
   "cell_type": "code",
   "execution_count": 22,
   "id": "84643933-ad44-4f18-b07f-0f60d33184b6",
   "metadata": {},
   "outputs": [
    {
     "name": "stdout",
     "output_type": "stream",
     "text": [
      "5\n",
      "6\n",
      "5\n",
      "4\n",
      "3\n",
      "4\n"
     ]
    }
   ],
   "source": [
    "for roll in dice_iter:\n",
    "    print(roll)"
   ]
  },
  {
   "cell_type": "code",
   "execution_count": 28,
   "id": "ff0b679a-6277-43be-9355-b51678e82188",
   "metadata": {},
   "outputs": [
    {
     "name": "stdout",
     "output_type": "stream",
     "text": [
      "b'caf\\xc3\\xa9'\n"
     ]
    }
   ],
   "source": [
    "from functools import partial\n",
    "with open('cafe.txt', 'rb') as f:\n",
    "    read8 = partial(f.read, 8)\n",
    "    for block in iter(read8, b''):\n",
    "        print(block)"
   ]
  },
  {
   "cell_type": "code",
   "execution_count": 29,
   "id": "e4dc7e3a-c27a-4437-af79-f5dca5d24646",
   "metadata": {},
   "outputs": [
    {
     "name": "stdout",
     "output_type": "stream",
     "text": [
      "A\n",
      "B\n",
      "C\n"
     ]
    }
   ],
   "source": [
    "s = 'ABC'\n",
    "for char in s:\n",
    "    print(char)"
   ]
  },
  {
   "cell_type": "code",
   "execution_count": 30,
   "id": "1e9e8a0f-c1db-402f-8040-9e36629c6421",
   "metadata": {},
   "outputs": [
    {
     "name": "stdout",
     "output_type": "stream",
     "text": [
      "A\n",
      "B\n",
      "C\n"
     ]
    }
   ],
   "source": [
    "s = 'ABC'\n",
    "it = iter(s)\n",
    "while True:\n",
    "    try:\n",
    "        print(next(it))\n",
    "    except StopIteration:\n",
    "        del it\n",
    "        break"
   ]
  },
  {
   "cell_type": "code",
   "execution_count": 31,
   "id": "9bd6e694-0331-40b0-89b7-5015220b371c",
   "metadata": {},
   "outputs": [
    {
     "data": {
      "text/plain": [
       "<iterator at 0x106fa1990>"
      ]
     },
     "execution_count": 31,
     "metadata": {},
     "output_type": "execute_result"
    }
   ],
   "source": [
    "s3 = Sentence('Be a yardstick of quality. Some people aren\\'t used to an environment where excellence is expected')\n",
    "it = iter(s3)\n",
    "it"
   ]
  },
  {
   "cell_type": "code",
   "execution_count": 32,
   "id": "a2688495-ab69-4296-9e0e-874301704f27",
   "metadata": {},
   "outputs": [
    {
     "data": {
      "text/plain": [
       "'Be'"
      ]
     },
     "execution_count": 32,
     "metadata": {},
     "output_type": "execute_result"
    }
   ],
   "source": [
    "next(it)"
   ]
  },
  {
   "cell_type": "code",
   "execution_count": 33,
   "id": "dacf0e2b-38df-450c-9d71-f8057d0a2fad",
   "metadata": {},
   "outputs": [
    {
     "data": {
      "text/plain": [
       "'a'"
      ]
     },
     "execution_count": 33,
     "metadata": {},
     "output_type": "execute_result"
    }
   ],
   "source": [
    "next(it)"
   ]
  },
  {
   "cell_type": "code",
   "execution_count": 34,
   "id": "f45b0853-66bf-4200-bbb4-ef653c352e29",
   "metadata": {},
   "outputs": [
    {
     "data": {
      "text/plain": [
       "'yardstick'"
      ]
     },
     "execution_count": 34,
     "metadata": {},
     "output_type": "execute_result"
    }
   ],
   "source": [
    "next(it)"
   ]
  },
  {
   "cell_type": "code",
   "execution_count": 38,
   "id": "d8c49390-0edd-429d-80c6-666a7a540de8",
   "metadata": {},
   "outputs": [
    {
     "data": {
      "text/plain": [
       "[]"
      ]
     },
     "execution_count": 38,
     "metadata": {},
     "output_type": "execute_result"
    }
   ],
   "source": [
    "list(it)"
   ]
  },
  {
   "cell_type": "code",
   "execution_count": 39,
   "id": "3469b32f-286a-4a8a-9141-46c48cc8e36d",
   "metadata": {},
   "outputs": [
    {
     "data": {
      "text/plain": [
       "['Be',\n",
       " 'a',\n",
       " 'yardstick',\n",
       " 'of',\n",
       " 'quality',\n",
       " 'Some',\n",
       " 'people',\n",
       " 'aren',\n",
       " 't',\n",
       " 'used',\n",
       " 'to',\n",
       " 'an',\n",
       " 'environment',\n",
       " 'where',\n",
       " 'excellence',\n",
       " 'is',\n",
       " 'expected']"
      ]
     },
     "execution_count": 39,
     "metadata": {},
     "output_type": "execute_result"
    }
   ],
   "source": [
    "list(iter(s3))"
   ]
  },
  {
   "cell_type": "code",
   "execution_count": 42,
   "id": "477066cf-5717-4227-85e3-6458e4e6c09f",
   "metadata": {},
   "outputs": [],
   "source": [
    "import re\n",
    "import reprlib\n",
    "\n",
    "# same as above but with __iter__ and removal of __getitem__, __len__\n",
    "RE_WORD = re.compile(r'\\w+')\n",
    "class Sentence:\n",
    "    def __init__(self, text):\n",
    "        self.text = text\n",
    "        self.words = RE_WORD.findall(text)\n",
    "\n",
    "    def __repr__(self):\n",
    "        return f'Sentence({reprlib.repr(self.text)})'\n",
    "\n",
    "    def __iter__(self):\n",
    "        return SentenceIterator(self.words)\n",
    "\n",
    "class SentenceIterator:\n",
    "    def __init__(self, words):\n",
    "        self.words = words\n",
    "        self.index = 0\n",
    "\n",
    "    def __next__(self):\n",
    "        try:\n",
    "            word = self.words[self.index]\n",
    "        except IndexError:\n",
    "            raise StopIteration()\n",
    "        self.index += 1\n",
    "        return word\n",
    "\n",
    "    def __iter__(self):\n",
    "        return self"
   ]
  },
  {
   "cell_type": "code",
   "execution_count": 43,
   "id": "13c13b08-5750-4f58-8cdf-bd23f7d075a9",
   "metadata": {},
   "outputs": [
    {
     "data": {
      "text/plain": [
       "\"\\nCaution, don't be confused by iterable, and iterator here:\\niterables have an __iter__ method that instantiates a new iterator every\\ntime. Iterators implement a __next__ method that returns individual items, and an\\n__iter__ method that returns self.\\n\""
      ]
     },
     "execution_count": 43,
     "metadata": {},
     "output_type": "execute_result"
    }
   ],
   "source": [
    "\"\"\"\n",
    "Caution, don't be confused by iterable and iterator:\n",
    "iterables have an __iter__ method that instantiates a new iterator every\n",
    "time. Iterators implement a __next__ method that returns individual items, and an\n",
    "__iter__ method that returns self.\n",
    "\"\"\""
   ]
  },
  {
   "cell_type": "code",
   "execution_count": 44,
   "id": "ab353b90-c867-4b10-a50d-1ccb4196b1bf",
   "metadata": {},
   "outputs": [],
   "source": [
    "import re\n",
    "import reprlib\n",
    "\n",
    "RE_WORD = re.compile(r'\\w+')\n",
    "class Sentence:\n",
    "    def __init__(self, text):\n",
    "        self.text = text\n",
    "        self.words = RE_WORD.findall(text)\n",
    "\n",
    "    def __repr__(self):\n",
    "        return f'Sentence({reprlib.repr(self.text)})'\n",
    "\n",
    "    def __iter__(self):\n",
    "        for word in self.words:\n",
    "            yield word"
   ]
  },
  {
   "cell_type": "code",
   "execution_count": 45,
   "id": "775ed739-2330-4015-ba39-546161be6017",
   "metadata": {},
   "outputs": [
    {
     "data": {
      "text/plain": [
       "<function __main__.gen_123()>"
      ]
     },
     "execution_count": 45,
     "metadata": {},
     "output_type": "execute_result"
    }
   ],
   "source": [
    "def gen_123():\n",
    "    yield 1\n",
    "    yield 2\n",
    "    yield 3\n",
    "\n",
    "gen_123"
   ]
  },
  {
   "cell_type": "code",
   "execution_count": 46,
   "id": "144c5eb4-de5a-4101-890b-6dc65aae9402",
   "metadata": {},
   "outputs": [
    {
     "data": {
      "text/plain": [
       "<generator object gen_123 at 0x1070a5690>"
      ]
     },
     "execution_count": 46,
     "metadata": {},
     "output_type": "execute_result"
    }
   ],
   "source": [
    "gen_123()"
   ]
  },
  {
   "cell_type": "code",
   "execution_count": 47,
   "id": "4d260294-4f33-4255-b48d-a2221c121700",
   "metadata": {},
   "outputs": [
    {
     "name": "stdout",
     "output_type": "stream",
     "text": [
      "1\n",
      "2\n",
      "3\n"
     ]
    }
   ],
   "source": [
    "for i in gen_123():\n",
    "    print(i)"
   ]
  },
  {
   "cell_type": "code",
   "execution_count": 48,
   "id": "60711ce5-0cdb-4703-add6-e9ec06a07c8b",
   "metadata": {},
   "outputs": [
    {
     "data": {
      "text/plain": [
       "1"
      ]
     },
     "execution_count": 48,
     "metadata": {},
     "output_type": "execute_result"
    }
   ],
   "source": [
    "g = gen_123()\n",
    "next(g)"
   ]
  },
  {
   "cell_type": "code",
   "execution_count": 49,
   "id": "0728641e-3cb9-4c15-9e44-444615872ce5",
   "metadata": {},
   "outputs": [
    {
     "data": {
      "text/plain": [
       "2"
      ]
     },
     "execution_count": 49,
     "metadata": {},
     "output_type": "execute_result"
    }
   ],
   "source": [
    "next(g)"
   ]
  },
  {
   "cell_type": "code",
   "execution_count": 50,
   "id": "67da6f0e-36f3-46cd-9710-b2b0bd72d1b6",
   "metadata": {},
   "outputs": [
    {
     "data": {
      "text/plain": [
       "3"
      ]
     },
     "execution_count": 50,
     "metadata": {},
     "output_type": "execute_result"
    }
   ],
   "source": [
    "next(g)"
   ]
  },
  {
   "cell_type": "code",
   "execution_count": 53,
   "id": "de94b248-a914-420e-8ec2-0a5eaa1f6bd0",
   "metadata": {},
   "outputs": [
    {
     "ename": "StopIteration",
     "evalue": "",
     "output_type": "error",
     "traceback": [
      "\u001b[0;31m---------------------------------------------------------------------------\u001b[0m",
      "\u001b[0;31mStopIteration\u001b[0m                             Traceback (most recent call last)",
      "Cell \u001b[0;32mIn[53], line 1\u001b[0m\n\u001b[0;32m----> 1\u001b[0m \u001b[38;5;28;43mnext\u001b[39;49m\u001b[43m(\u001b[49m\u001b[43mg\u001b[49m\u001b[43m)\u001b[49m \u001b[38;5;66;03m# StopIteration\u001b[39;00m\n",
      "\u001b[0;31mStopIteration\u001b[0m: "
     ]
    }
   ],
   "source": [
    "next(g) # StopIteration"
   ]
  },
  {
   "cell_type": "code",
   "execution_count": 54,
   "id": "6e49d92d-a6f3-4c96-babf-a34944ad8385",
   "metadata": {},
   "outputs": [
    {
     "name": "stdout",
     "output_type": "stream",
     "text": [
      "start\n",
      "--> A\n",
      "continue\n",
      "--> B\n",
      "end.\n"
     ]
    }
   ],
   "source": [
    "def gen_AB():\n",
    "    print('start')\n",
    "    yield 'A'\n",
    "    print('continue')\n",
    "    yield 'B'\n",
    "    print('end.')\n",
    "\n",
    "for c in gen_AB():\n",
    "    print('-->', c)"
   ]
  },
  {
   "cell_type": "code",
   "execution_count": 56,
   "id": "a8cb2e92-25c3-4165-b463-b1f357951588",
   "metadata": {},
   "outputs": [],
   "source": [
    "import re\n",
    "import reprlib\n",
    "\n",
    "RE_WORD = re.compile(r'\\w+')\n",
    "# no need for word list using generator\n",
    "class Sentence:\n",
    "    def __init__(self, text):\n",
    "        self.text = text\n",
    "\n",
    "    def __repr__(self):\n",
    "        return f'Sentence({reprlib.repr(self.text)})'\n",
    "\n",
    "    def __iter__(self):\n",
    "        for match in RE_WORD.finditer(self.text):\n",
    "            yield match.group()"
   ]
  },
  {
   "cell_type": "code",
   "execution_count": 57,
   "id": "280231d1-9501-4117-a433-3bcc0b64d8f8",
   "metadata": {},
   "outputs": [
    {
     "name": "stdout",
     "output_type": "stream",
     "text": [
      "start\n",
      "continue\n",
      "end.\n"
     ]
    }
   ],
   "source": [
    "def gen_AB():\n",
    "    print('start')\n",
    "    yield 'A'\n",
    "    print('continue')\n",
    "    yield 'B'\n",
    "    print('end.')\n",
    "\n",
    "res1 = [x*3 for x in gen_AB()] # eager"
   ]
  },
  {
   "cell_type": "code",
   "execution_count": 58,
   "id": "af910c7e-8eba-40a0-900b-69f8be750bcf",
   "metadata": {},
   "outputs": [
    {
     "data": {
      "text/plain": [
       "['AAA', 'BBB']"
      ]
     },
     "execution_count": 58,
     "metadata": {},
     "output_type": "execute_result"
    }
   ],
   "source": [
    "res1"
   ]
  },
  {
   "cell_type": "code",
   "execution_count": 59,
   "id": "405045a7-0891-47cd-ba0f-b16a9cc7e046",
   "metadata": {},
   "outputs": [
    {
     "name": "stdout",
     "output_type": "stream",
     "text": [
      "--> AAA\n",
      "--> BBB\n"
     ]
    }
   ],
   "source": [
    "for i in res1:\n",
    "    print('-->', i)"
   ]
  },
  {
   "cell_type": "code",
   "execution_count": 60,
   "id": "e23ddcc0-96dc-431a-9faf-37785fea7d17",
   "metadata": {},
   "outputs": [
    {
     "data": {
      "text/plain": [
       "<generator object <genexpr> at 0x1070a7680>"
      ]
     },
     "execution_count": 60,
     "metadata": {},
     "output_type": "execute_result"
    }
   ],
   "source": [
    "res2 = (x*3 for x in gen_AB())\n",
    "res2"
   ]
  },
  {
   "cell_type": "code",
   "execution_count": 61,
   "id": "f0ec13d1-168c-4cd7-b4e1-9d3bf1f9e821",
   "metadata": {},
   "outputs": [
    {
     "name": "stdout",
     "output_type": "stream",
     "text": [
      "start\n",
      "--> AAA\n",
      "continue\n",
      "--> BBB\n",
      "end.\n"
     ]
    }
   ],
   "source": [
    "for i in res2:\n",
    "    print('-->', i)"
   ]
  },
  {
   "cell_type": "code",
   "execution_count": 63,
   "id": "d0cb5da4-fbba-403d-a8a4-c26410b173fb",
   "metadata": {},
   "outputs": [],
   "source": [
    "import re\n",
    "import reprlib\n",
    "\n",
    "RE_WORD = re.compile(r'\\w+')\n",
    "\n",
    "class Sentence:\n",
    "    def __init__(self, text):\n",
    "        self.text = text\n",
    "\n",
    "    def __repr__(self):\n",
    "        return f'Sentence({reprlib.repr(self.text)})'\n",
    "        \n",
    "    # generator expression\n",
    "    def __iter__(self):\n",
    "        return (match.group() for match in RE_WORD.finditer(self.text))"
   ]
  },
  {
   "cell_type": "code",
   "execution_count": 64,
   "id": "fb71f8ca-9c2f-4d2d-ab81-ae756dfc868d",
   "metadata": {},
   "outputs": [],
   "source": [
    "# use generators when you can over list generators as list generators hold intermidate values."
   ]
  },
  {
   "cell_type": "code",
   "execution_count": 65,
   "id": "6f83f455-0d49-435d-9481-4800b26354a6",
   "metadata": {},
   "outputs": [],
   "source": [
    "class ArithmeticProgression:\n",
    "    def __init__(self, begin, step, end=None):\n",
    "        self.begin = begin\n",
    "        self.step = step\n",
    "        self.end = end\n",
    "\n",
    "    def __iter__(self):\n",
    "        result_type = type(self.begin + self.step)\n",
    "        result = result_type(self.begin)\n",
    "        forever = self.end is None\n",
    "        index = 0\n",
    "        while forever or result < self.end:\n",
    "            yield result\n",
    "            index += 1\n",
    "            result = self.begin + self.step * index"
   ]
  },
  {
   "cell_type": "code",
   "execution_count": 66,
   "id": "42986300-a876-4244-980d-ebacf3684f23",
   "metadata": {},
   "outputs": [
    {
     "data": {
      "text/plain": [
       "[0, 1, 2]"
      ]
     },
     "execution_count": 66,
     "metadata": {},
     "output_type": "execute_result"
    }
   ],
   "source": [
    "ap = ArithmeticProgression(0,1,3)\n",
    "list(ap)"
   ]
  },
  {
   "cell_type": "code",
   "execution_count": 67,
   "id": "449dd389-f755-4cde-9d5d-d3621b7daf91",
   "metadata": {},
   "outputs": [
    {
     "data": {
      "text/plain": [
       "[1.0, 1.5, 2.0, 2.5]"
      ]
     },
     "execution_count": 67,
     "metadata": {},
     "output_type": "execute_result"
    }
   ],
   "source": [
    "ap = ArithmeticProgression(1,.5,3)\n",
    "list(ap)"
   ]
  },
  {
   "cell_type": "code",
   "execution_count": 68,
   "id": "aaa65bfc-b9b6-4021-92e7-8bdcf1ecb350",
   "metadata": {},
   "outputs": [
    {
     "data": {
      "text/plain": [
       "[0.0, 0.3333333333333333, 0.6666666666666666]"
      ]
     },
     "execution_count": 68,
     "metadata": {},
     "output_type": "execute_result"
    }
   ],
   "source": [
    "ap = ArithmeticProgression(0,1/3,1)\n",
    "list(ap)"
   ]
  },
  {
   "cell_type": "code",
   "execution_count": 69,
   "id": "7512af1b-9d2a-4d36-866e-d7c496f2b3f2",
   "metadata": {},
   "outputs": [
    {
     "data": {
      "text/plain": [
       "[Fraction(0, 1), Fraction(1, 3), Fraction(2, 3)]"
      ]
     },
     "execution_count": 69,
     "metadata": {},
     "output_type": "execute_result"
    }
   ],
   "source": [
    "from fractions import Fraction\n",
    "ap = ArithmeticProgression(0, Fraction(1,3), 1)\n",
    "list(ap)"
   ]
  },
  {
   "cell_type": "code",
   "execution_count": 74,
   "id": "ab05b57d-913f-42ac-9547-1d0857561c94",
   "metadata": {},
   "outputs": [
    {
     "data": {
      "text/plain": [
       "[Decimal('0'), Decimal('0.1'), Decimal('0.2')]"
      ]
     },
     "execution_count": 74,
     "metadata": {},
     "output_type": "execute_result"
    }
   ],
   "source": [
    "from decimal import Decimal\n",
    "ap = ArithmeticProgression(0, Decimal('.1'), .3)\n",
    "list(ap)"
   ]
  },
  {
   "cell_type": "code",
   "execution_count": 86,
   "id": "21e1172e-52aa-4e11-b2df-aeaa0b5ad6de",
   "metadata": {},
   "outputs": [],
   "source": [
    "def arithmetic_gen(begin, step, end=None):\n",
    "    result = type(begin + step)(begin)\n",
    "    forever = end is None\n",
    "    index = 0\n",
    "    while forever or result < end:\n",
    "        yield result\n",
    "        index += 1\n",
    "        result = begin + step * index"
   ]
  },
  {
   "cell_type": "code",
   "execution_count": 89,
   "id": "a00efdae-9b2f-4f96-8c0c-51c3b393fbd7",
   "metadata": {},
   "outputs": [
    {
     "data": {
      "text/plain": [
       "1"
      ]
     },
     "execution_count": 89,
     "metadata": {},
     "output_type": "execute_result"
    }
   ],
   "source": [
    "import itertools\n",
    "gen = itertools.count(1,.5)\n",
    "next(gen)"
   ]
  },
  {
   "cell_type": "code",
   "execution_count": 90,
   "id": "0e6eb6e3-47f7-4d47-8524-12e3f292caf5",
   "metadata": {},
   "outputs": [
    {
     "data": {
      "text/plain": [
       "1.5"
      ]
     },
     "execution_count": 90,
     "metadata": {},
     "output_type": "execute_result"
    }
   ],
   "source": [
    "next(gen)"
   ]
  },
  {
   "cell_type": "code",
   "execution_count": 91,
   "id": "4f56d64e-8810-4d7c-954f-da1676459a7e",
   "metadata": {},
   "outputs": [
    {
     "data": {
      "text/plain": [
       "2.0"
      ]
     },
     "execution_count": 91,
     "metadata": {},
     "output_type": "execute_result"
    }
   ],
   "source": [
    "next(gen)"
   ]
  },
  {
   "cell_type": "code",
   "execution_count": 92,
   "id": "1653dcba-76b1-49f0-b4df-aca2a0874ab4",
   "metadata": {},
   "outputs": [
    {
     "data": {
      "text/plain": [
       "2.5"
      ]
     },
     "execution_count": 92,
     "metadata": {},
     "output_type": "execute_result"
    }
   ],
   "source": [
    "next(gen)"
   ]
  },
  {
   "cell_type": "code",
   "execution_count": 93,
   "id": "5610fb2d-87d0-49d9-80dd-d0f406435036",
   "metadata": {},
   "outputs": [
    {
     "data": {
      "text/plain": [
       "[1, 1.5, 2.0, 2.5]"
      ]
     },
     "execution_count": 93,
     "metadata": {},
     "output_type": "execute_result"
    }
   ],
   "source": [
    "gen = itertools.takewhile(lambda n: n < 3, itertools.count(1,.5))\n",
    "list(gen)"
   ]
  },
  {
   "cell_type": "code",
   "execution_count": 95,
   "id": "576ff782-73df-4170-a4b4-ce75a66405c3",
   "metadata": {},
   "outputs": [],
   "source": [
    "# not a generator function because there is no yield in the body, but returns a generator\n",
    "def arithprog_gen(begin, step, end=None):\n",
    "    first = type(begin + step)(begin)\n",
    "    ap_gen = itertools.count(first, step)\n",
    "    if end is None:\n",
    "        return ap_gen\n",
    "    return itertools.takewhile(lambda n: n < end, ap_gen)"
   ]
  },
  {
   "cell_type": "code",
   "execution_count": 109,
   "id": "687ef7d1-33ab-4249-ae04-47c0772ef7c3",
   "metadata": {},
   "outputs": [
    {
     "data": {
      "text/plain": [
       "['a', 'i', 'a']"
      ]
     },
     "execution_count": 109,
     "metadata": {},
     "output_type": "execute_result"
    }
   ],
   "source": [
    "def vowel(c):\n",
    "    return c.lower() in 'aeiou'\n",
    "\n",
    "list(filter(vowel, 'Mathias'))"
   ]
  },
  {
   "cell_type": "code",
   "execution_count": 110,
   "id": "6c9cd651-a9bc-4a9f-b9c3-c2c57482d148",
   "metadata": {},
   "outputs": [
    {
     "data": {
      "text/plain": [
       "['M', 't', 'h', 's']"
      ]
     },
     "execution_count": 110,
     "metadata": {},
     "output_type": "execute_result"
    }
   ],
   "source": [
    "import itertools\n",
    "list(itertools.filterfalse(vowel, 'Mathias'))"
   ]
  },
  {
   "cell_type": "code",
   "execution_count": 113,
   "id": "c03292a5-1e2c-47f7-afce-d972653432cf",
   "metadata": {},
   "outputs": [
    {
     "data": {
      "text/plain": [
       "['M', 'a', 't', 'h', 'i', 'a', 's']"
      ]
     },
     "execution_count": 113,
     "metadata": {},
     "output_type": "execute_result"
    }
   ],
   "source": [
    "list(itertools.dropwhile(vowel, 'Mathias'))"
   ]
  },
  {
   "cell_type": "code",
   "execution_count": 114,
   "id": "69a7e254-1ac3-4b07-9460-762d470cde0d",
   "metadata": {},
   "outputs": [
    {
     "data": {
      "text/plain": [
       "[]"
      ]
     },
     "execution_count": 114,
     "metadata": {},
     "output_type": "execute_result"
    }
   ],
   "source": [
    "list(itertools.takewhile(vowel, 'Mathias'))"
   ]
  },
  {
   "cell_type": "code",
   "execution_count": 115,
   "id": "4858461c-d131-4f70-8889-a1eeb2b2c099",
   "metadata": {},
   "outputs": [
    {
     "data": {
      "text/plain": [
       "['M', 't', 'h', 'a']"
      ]
     },
     "execution_count": 115,
     "metadata": {},
     "output_type": "execute_result"
    }
   ],
   "source": [
    "list(itertools.compress('Mathias', (1,0,1,1,0,1)))"
   ]
  },
  {
   "cell_type": "code",
   "execution_count": 116,
   "id": "60e4f524-fb9f-4a93-ba39-a54b200f54f0",
   "metadata": {},
   "outputs": [
    {
     "data": {
      "text/plain": [
       "['M', 'a', 't', 'h']"
      ]
     },
     "execution_count": 116,
     "metadata": {},
     "output_type": "execute_result"
    }
   ],
   "source": [
    "list(itertools.islice('Mathias',4))"
   ]
  },
  {
   "cell_type": "code",
   "execution_count": 117,
   "id": "ecfb4e70-ef71-4842-a504-b9e6f3d1d8e3",
   "metadata": {},
   "outputs": [
    {
     "data": {
      "text/plain": [
       "['i', 'a', 's']"
      ]
     },
     "execution_count": 117,
     "metadata": {},
     "output_type": "execute_result"
    }
   ],
   "source": [
    "list(itertools.islice('Mathias',4,7))"
   ]
  },
  {
   "cell_type": "code",
   "execution_count": 118,
   "id": "f82f515a-333e-450e-9b6d-d4d7425e36d8",
   "metadata": {},
   "outputs": [
    {
     "data": {
      "text/plain": [
       "['i', 's']"
      ]
     },
     "execution_count": 118,
     "metadata": {},
     "output_type": "execute_result"
    }
   ],
   "source": [
    "list(itertools.islice('Mathias',4,7,2))"
   ]
  },
  {
   "cell_type": "code",
   "execution_count": 123,
   "id": "8305a327-2fc4-4273-bfee-2ef2e9ecef0e",
   "metadata": {},
   "outputs": [
    {
     "data": {
      "text/plain": [
       "[1, 3, 8, 8, 12, 19, 28]"
      ]
     },
     "execution_count": 123,
     "metadata": {},
     "output_type": "execute_result"
    }
   ],
   "source": [
    "sample = [1,2,5,0,4,7,9]\n",
    "list(itertools.accumulate(sample))"
   ]
  },
  {
   "cell_type": "code",
   "execution_count": 121,
   "id": "8e5e093c-c12a-4506-971b-12735c690b15",
   "metadata": {},
   "outputs": [
    {
     "data": {
      "text/plain": [
       "[1, 1, 1, 0, 0, 0, 0]"
      ]
     },
     "execution_count": 121,
     "metadata": {},
     "output_type": "execute_result"
    }
   ],
   "source": [
    "list(itertools.accumulate(sample, min))"
   ]
  },
  {
   "cell_type": "code",
   "execution_count": 124,
   "id": "3cb35cd2-25d6-4e59-8a15-7e2b13dd33d6",
   "metadata": {},
   "outputs": [
    {
     "data": {
      "text/plain": [
       "[1, 2, 5, 5, 5, 7, 9]"
      ]
     },
     "execution_count": 124,
     "metadata": {},
     "output_type": "execute_result"
    }
   ],
   "source": [
    "list(itertools.accumulate(sample, max))"
   ]
  },
  {
   "cell_type": "code",
   "execution_count": 125,
   "id": "5c729697-b40b-4c10-97d8-8632a1817aff",
   "metadata": {},
   "outputs": [
    {
     "data": {
      "text/plain": [
       "[1, 2, 10, 0, 0, 0, 0]"
      ]
     },
     "execution_count": 125,
     "metadata": {},
     "output_type": "execute_result"
    }
   ],
   "source": [
    "import operator\n",
    "list(itertools.accumulate(sample, operator.mul))"
   ]
  },
  {
   "cell_type": "code",
   "execution_count": 127,
   "id": "00bb346a-96e8-4bc0-b66c-2e5c915b850a",
   "metadata": {},
   "outputs": [
    {
     "data": {
      "text/plain": [
       "[1, 2, 6, 24, 120, 720, 5040, 40320, 362880, 3628800]"
      ]
     },
     "execution_count": 127,
     "metadata": {},
     "output_type": "execute_result"
    }
   ],
   "source": [
    "list(itertools.accumulate(range(1,11), operator.mul)) # Factorials 1! to 10!"
   ]
  },
  {
   "cell_type": "code",
   "execution_count": 128,
   "id": "5d6508b2-b6a5-47a1-9e73-96407be0c8f1",
   "metadata": {},
   "outputs": [
    {
     "data": {
      "text/plain": [
       "[(1, 'm'), (2, 'a'), (3, 't'), (4, 'h'), (5, 'i'), (6, 'a'), (7, 's')]"
      ]
     },
     "execution_count": 128,
     "metadata": {},
     "output_type": "execute_result"
    }
   ],
   "source": [
    "list(enumerate('mathias', 1))"
   ]
  },
  {
   "cell_type": "code",
   "execution_count": 129,
   "id": "9b2df84c-2e91-4930-8b67-022630fce8bd",
   "metadata": {},
   "outputs": [
    {
     "data": {
      "text/plain": [
       "[0, 1, 4, 9, 16, 25, 36, 49, 64, 81, 100]"
      ]
     },
     "execution_count": 129,
     "metadata": {},
     "output_type": "execute_result"
    }
   ],
   "source": [
    "list(map(operator.mul, range(11), range(11)))"
   ]
  },
  {
   "cell_type": "code",
   "execution_count": 130,
   "id": "a27842be-e764-49e2-b9bd-e644c770c402",
   "metadata": {},
   "outputs": [
    {
     "data": {
      "text/plain": [
       "[0, 4, 16]"
      ]
     },
     "execution_count": 130,
     "metadata": {},
     "output_type": "execute_result"
    }
   ],
   "source": [
    "list(map(operator.mul, range(11), [2,4,8]))"
   ]
  },
  {
   "cell_type": "code",
   "execution_count": 137,
   "id": "a1df624c-05a0-4da6-9f58-15279d63c21e",
   "metadata": {},
   "outputs": [
    {
     "data": {
      "text/plain": [
       "[(0, 2), (1, 4), (2, 8)]"
      ]
     },
     "execution_count": 137,
     "metadata": {},
     "output_type": "execute_result"
    }
   ],
   "source": [
    "list(map(lambda a, b: (a,b), range(11), [2,4,8])) # exactly what zip does"
   ]
  },
  {
   "cell_type": "code",
   "execution_count": 136,
   "id": "51d39e1a-fbd5-49bb-8040-49cab573de0d",
   "metadata": {},
   "outputs": [
    {
     "data": {
      "text/plain": [
       "[1.0, 1.5, 2.6666666666666665, 2.0, 2.4, 3.1666666666666665, 4.0]"
      ]
     },
     "execution_count": 136,
     "metadata": {},
     "output_type": "execute_result"
    }
   ],
   "source": [
    "list(itertools.starmap(lambda a, b: b/a, enumerate(itertools.accumulate(sample), 1))) # running average"
   ]
  },
  {
   "cell_type": "code",
   "execution_count": 135,
   "id": "81855683-7dfd-44f1-a07c-d88e0c467932",
   "metadata": {},
   "outputs": [
    {
     "data": {
      "text/plain": [
       "['m', 'aa', 'ttt', 'hhhh', 'iiiii', 'aaaaaa', 'sssssss']"
      ]
     },
     "execution_count": 135,
     "metadata": {},
     "output_type": "execute_result"
    }
   ],
   "source": [
    "list(itertools.starmap(operator.mul, enumerate('mathias', 1)))"
   ]
  },
  {
   "cell_type": "code",
   "execution_count": 139,
   "id": "c23aa7ea-f052-4b35-bfe9-f8c8fd994aa1",
   "metadata": {},
   "outputs": [
    {
     "data": {
      "text/plain": [
       "['A', 'B', 'C', 0, 1]"
      ]
     },
     "execution_count": 139,
     "metadata": {},
     "output_type": "execute_result"
    }
   ],
   "source": [
    "list(itertools.chain('ABC', range(2)))"
   ]
  },
  {
   "cell_type": "code",
   "execution_count": 140,
   "id": "fd086087-de70-4d27-965b-f2635b04518b",
   "metadata": {},
   "outputs": [
    {
     "data": {
      "text/plain": [
       "[(0, 'A'), (1, 'B'), (2, 'C')]"
      ]
     },
     "execution_count": 140,
     "metadata": {},
     "output_type": "execute_result"
    }
   ],
   "source": [
    "list(itertools.chain(enumerate('ABC')))"
   ]
  },
  {
   "cell_type": "code",
   "execution_count": 141,
   "id": "cdc18570-b6e3-41a3-8b4c-144a24cf3ac1",
   "metadata": {},
   "outputs": [
    {
     "data": {
      "text/plain": [
       "[0, 'A', 1, 'B', 2, 'C']"
      ]
     },
     "execution_count": 141,
     "metadata": {},
     "output_type": "execute_result"
    }
   ],
   "source": [
    "list(itertools.chain.from_iterable(enumerate('ABC')))"
   ]
  },
  {
   "cell_type": "code",
   "execution_count": 142,
   "id": "10c11676-1b0c-42a3-8734-21db64a319a4",
   "metadata": {},
   "outputs": [
    {
     "data": {
      "text/plain": [
       "[('A', 0, 10), ('B', 1, 20), ('C', 2, 30)]"
      ]
     },
     "execution_count": 142,
     "metadata": {},
     "output_type": "execute_result"
    }
   ],
   "source": [
    "list(zip('ABC', range(5), [10, 20, 30, 40]))"
   ]
  },
  {
   "cell_type": "code",
   "execution_count": 144,
   "id": "7b7d496b-f733-465f-accf-c6657a360d6d",
   "metadata": {},
   "outputs": [
    {
     "data": {
      "text/plain": [
       "[('A', 0), ('B', 1), ('C', 2), (None, 3), (None, 4)]"
      ]
     },
     "execution_count": 144,
     "metadata": {},
     "output_type": "execute_result"
    }
   ],
   "source": [
    "list(itertools.zip_longest('ABC', range(5)))"
   ]
  },
  {
   "cell_type": "code",
   "execution_count": 145,
   "id": "e34935c9-3c2c-4f82-9d70-da0076c553be",
   "metadata": {},
   "outputs": [
    {
     "data": {
      "text/plain": [
       "[('A', 0), ('B', 1), ('C', 2), ('?', 3), ('?', 4)]"
      ]
     },
     "execution_count": 145,
     "metadata": {},
     "output_type": "execute_result"
    }
   ],
   "source": [
    "list(itertools.zip_longest('ABC', range(5), fillvalue='?'))"
   ]
  },
  {
   "cell_type": "code",
   "execution_count": 146,
   "id": "fd75e27e-3a48-407d-926e-68e00db69da1",
   "metadata": {},
   "outputs": [
    {
     "data": {
      "text/plain": [
       "[('A', 0), ('A', 1), ('B', 0), ('B', 1), ('C', 0), ('C', 1)]"
      ]
     },
     "execution_count": 146,
     "metadata": {},
     "output_type": "execute_result"
    }
   ],
   "source": [
    "list(itertools.product('ABC', range(2)))"
   ]
  },
  {
   "cell_type": "code",
   "execution_count": 147,
   "id": "dd5c182d-8371-405b-8209-baf9eedda989",
   "metadata": {},
   "outputs": [
    {
     "data": {
      "text/plain": [
       "[('A', 'spades'),\n",
       " ('A', 'hearts'),\n",
       " ('A', 'diamonds'),\n",
       " ('A', 'clubs'),\n",
       " ('K', 'spades'),\n",
       " ('K', 'hearts'),\n",
       " ('K', 'diamonds'),\n",
       " ('K', 'clubs')]"
      ]
     },
     "execution_count": 147,
     "metadata": {},
     "output_type": "execute_result"
    }
   ],
   "source": [
    "suits = 'spades hearts diamonds clubs'.split()\n",
    "list(itertools.product('AK', suits))"
   ]
  },
  {
   "cell_type": "code",
   "execution_count": 148,
   "id": "4619b779-3509-4b15-a113-ad983dff8e3f",
   "metadata": {},
   "outputs": [
    {
     "data": {
      "text/plain": [
       "[('A',), ('B',), ('C',)]"
      ]
     },
     "execution_count": 148,
     "metadata": {},
     "output_type": "execute_result"
    }
   ],
   "source": [
    "list(itertools.product('ABC'))"
   ]
  },
  {
   "cell_type": "code",
   "execution_count": 153,
   "id": "95300193-5e1c-4762-84ee-5c861743d871",
   "metadata": {},
   "outputs": [
    {
     "data": {
      "text/plain": [
       "[('A', 'A'),\n",
       " ('A', 'B'),\n",
       " ('A', 'C'),\n",
       " ('B', 'A'),\n",
       " ('B', 'B'),\n",
       " ('B', 'C'),\n",
       " ('C', 'A'),\n",
       " ('C', 'B'),\n",
       " ('C', 'C')]"
      ]
     },
     "execution_count": 153,
     "metadata": {},
     "output_type": "execute_result"
    }
   ],
   "source": [
    "list(itertools.product('ABC', repeat=2))"
   ]
  },
  {
   "cell_type": "code",
   "execution_count": 154,
   "id": "387d2f0b-1b59-4a02-9117-9d159d1e749a",
   "metadata": {},
   "outputs": [
    {
     "data": {
      "text/plain": [
       "[(0, 0, 0),\n",
       " (0, 0, 1),\n",
       " (0, 1, 0),\n",
       " (0, 1, 1),\n",
       " (1, 0, 0),\n",
       " (1, 0, 1),\n",
       " (1, 1, 0),\n",
       " (1, 1, 1)]"
      ]
     },
     "execution_count": 154,
     "metadata": {},
     "output_type": "execute_result"
    }
   ],
   "source": [
    "list(itertools.product(range(2), repeat=3))"
   ]
  },
  {
   "cell_type": "code",
   "execution_count": 155,
   "id": "f258521e-fecc-4042-a74c-c160b54013eb",
   "metadata": {},
   "outputs": [
    {
     "name": "stdout",
     "output_type": "stream",
     "text": [
      "('A', 0, 'A', 0)\n",
      "('A', 0, 'A', 1)\n",
      "('A', 0, 'B', 0)\n",
      "('A', 0, 'B', 1)\n",
      "('A', 1, 'A', 0)\n",
      "('A', 1, 'A', 1)\n",
      "('A', 1, 'B', 0)\n",
      "('A', 1, 'B', 1)\n",
      "('B', 0, 'A', 0)\n",
      "('B', 0, 'A', 1)\n",
      "('B', 0, 'B', 0)\n",
      "('B', 0, 'B', 1)\n",
      "('B', 1, 'A', 0)\n",
      "('B', 1, 'A', 1)\n",
      "('B', 1, 'B', 0)\n",
      "('B', 1, 'B', 1)\n"
     ]
    }
   ],
   "source": [
    "rows = itertools.product('AB', range(2), repeat=2)\n",
    "for row in rows: print(row)"
   ]
  },
  {
   "cell_type": "code",
   "execution_count": 156,
   "id": "3601d115-ef5a-442e-9c20-f793ec537a2c",
   "metadata": {},
   "outputs": [
    {
     "data": {
      "text/plain": [
       "0"
      ]
     },
     "execution_count": 156,
     "metadata": {},
     "output_type": "execute_result"
    }
   ],
   "source": [
    "ct = itertools.count()\n",
    "next(ct)"
   ]
  },
  {
   "cell_type": "code",
   "execution_count": 157,
   "id": "3e5ebab0-6e3d-4010-a1ba-8bbc84227cf2",
   "metadata": {},
   "outputs": [
    {
     "data": {
      "text/plain": [
       "(1, 2, 3)"
      ]
     },
     "execution_count": 157,
     "metadata": {},
     "output_type": "execute_result"
    }
   ],
   "source": [
    "next(ct), next(ct), next(ct)"
   ]
  },
  {
   "cell_type": "code",
   "execution_count": 158,
   "id": "61b048c3-7159-489d-b56e-b4c3598b1117",
   "metadata": {},
   "outputs": [
    {
     "data": {
      "text/plain": [
       "[1, 1.3, 1.6]"
      ]
     },
     "execution_count": 158,
     "metadata": {},
     "output_type": "execute_result"
    }
   ],
   "source": [
    "list(itertools.islice(itertools.count(1,.3),3))"
   ]
  },
  {
   "cell_type": "code",
   "execution_count": 164,
   "id": "c97d4799-e5f4-4021-9e1a-d28f1bd33a5b",
   "metadata": {},
   "outputs": [
    {
     "data": {
      "text/plain": [
       "'A'"
      ]
     },
     "execution_count": 164,
     "metadata": {},
     "output_type": "execute_result"
    }
   ],
   "source": [
    "cy = itertools.cycle('ABC')\n",
    "next(cy)"
   ]
  },
  {
   "cell_type": "code",
   "execution_count": 165,
   "id": "875719ba-7a98-4b7d-b5de-7e942b792034",
   "metadata": {},
   "outputs": [
    {
     "data": {
      "text/plain": [
       "['B', 'C', 'A', 'B', 'C', 'A', 'B']"
      ]
     },
     "execution_count": 165,
     "metadata": {},
     "output_type": "execute_result"
    }
   ],
   "source": [
    "list(itertools.islice(cy,7))"
   ]
  },
  {
   "cell_type": "code",
   "execution_count": 166,
   "id": "0e1da031-f5bc-4189-89dc-8c09b7138aff",
   "metadata": {},
   "outputs": [
    {
     "data": {
      "text/plain": [
       "[(0, 1), (1, 2), (2, 3), (3, 4), (4, 5), (5, 6)]"
      ]
     },
     "execution_count": 166,
     "metadata": {},
     "output_type": "execute_result"
    }
   ],
   "source": [
    "list(itertools.pairwise(range(7)))"
   ]
  },
  {
   "cell_type": "code",
   "execution_count": 167,
   "id": "8880c1c5-5328-407c-a599-9362b9a02c8b",
   "metadata": {},
   "outputs": [
    {
     "data": {
      "text/plain": [
       "(7, 7)"
      ]
     },
     "execution_count": 167,
     "metadata": {},
     "output_type": "execute_result"
    }
   ],
   "source": [
    "rp = itertools.repeat(7)\n",
    "next(rp), next(rp)"
   ]
  },
  {
   "cell_type": "code",
   "execution_count": 168,
   "id": "52dbbfcd-c9e5-4742-b507-e39d47cebf14",
   "metadata": {},
   "outputs": [
    {
     "data": {
      "text/plain": [
       "[8, 8, 8, 8]"
      ]
     },
     "execution_count": 168,
     "metadata": {},
     "output_type": "execute_result"
    }
   ],
   "source": [
    "list(itertools.repeat(8,4))"
   ]
  },
  {
   "cell_type": "code",
   "execution_count": 169,
   "id": "b5aa7017-d27f-4e7b-a08e-5670d49f19fe",
   "metadata": {},
   "outputs": [
    {
     "data": {
      "text/plain": [
       "[0, 5, 10, 15, 20, 25, 30, 35, 40, 45, 50]"
      ]
     },
     "execution_count": 169,
     "metadata": {},
     "output_type": "execute_result"
    }
   ],
   "source": [
    "list(map(operator.mul, range(11), itertools.repeat(5)))"
   ]
  },
  {
   "cell_type": "code",
   "execution_count": 170,
   "id": "ddbabe24-67fb-413a-94cd-1b0c92e04c44",
   "metadata": {},
   "outputs": [
    {
     "data": {
      "text/plain": [
       "[('A', 'B'), ('A', 'C'), ('B', 'C')]"
      ]
     },
     "execution_count": 170,
     "metadata": {},
     "output_type": "execute_result"
    }
   ],
   "source": [
    "# Combinatoric\n",
    "list(itertools.combinations('ABC', 2))"
   ]
  },
  {
   "cell_type": "code",
   "execution_count": 171,
   "id": "d680da29-5675-411a-8451-46e9001a9c86",
   "metadata": {},
   "outputs": [
    {
     "data": {
      "text/plain": [
       "[('A', 'A'), ('A', 'B'), ('A', 'C'), ('B', 'B'), ('B', 'C'), ('C', 'C')]"
      ]
     },
     "execution_count": 171,
     "metadata": {},
     "output_type": "execute_result"
    }
   ],
   "source": [
    "list(itertools.combinations_with_replacement('ABC', 2))"
   ]
  },
  {
   "cell_type": "code",
   "execution_count": 172,
   "id": "1e6721ba-e1d2-44cb-bef0-3cf3602dc096",
   "metadata": {},
   "outputs": [
    {
     "data": {
      "text/plain": [
       "[('A', 'B'), ('A', 'C'), ('B', 'A'), ('B', 'C'), ('C', 'A'), ('C', 'B')]"
      ]
     },
     "execution_count": 172,
     "metadata": {},
     "output_type": "execute_result"
    }
   ],
   "source": [
    "list(itertools.permutations('ABC', 2))"
   ]
  },
  {
   "cell_type": "code",
   "execution_count": 173,
   "id": "8e731d62-3917-46e0-a498-0a12710cfc09",
   "metadata": {},
   "outputs": [
    {
     "data": {
      "text/plain": [
       "[('A', 'A'),\n",
       " ('A', 'B'),\n",
       " ('A', 'C'),\n",
       " ('B', 'A'),\n",
       " ('B', 'B'),\n",
       " ('B', 'C'),\n",
       " ('C', 'A'),\n",
       " ('C', 'B'),\n",
       " ('C', 'C')]"
      ]
     },
     "execution_count": 173,
     "metadata": {},
     "output_type": "execute_result"
    }
   ],
   "source": [
    "list(itertools.product('ABC', repeat=2))"
   ]
  },
  {
   "cell_type": "code",
   "execution_count": 174,
   "id": "2ca1c84f-a191-44a9-a961-0e47429dc15e",
   "metadata": {},
   "outputs": [
    {
     "data": {
      "text/plain": [
       "[('L', <itertools._grouper at 0x107255300>),\n",
       " ('A', <itertools._grouper at 0x1072559f0>),\n",
       " ('G', <itertools._grouper at 0x107254e20>)]"
      ]
     },
     "execution_count": 174,
     "metadata": {},
     "output_type": "execute_result"
    }
   ],
   "source": [
    "# Rearranging generators\n",
    "list(itertools.groupby('LLLLAAAGGG'))"
   ]
  },
  {
   "cell_type": "code",
   "execution_count": 175,
   "id": "c0814b72-4030-4668-af5c-80a5547e7b88",
   "metadata": {},
   "outputs": [
    {
     "name": "stdout",
     "output_type": "stream",
     "text": [
      "L -> ['L', 'L', 'L', 'L']\n",
      "A -> ['A', 'A', 'A']\n",
      "G -> ['G', 'G', 'G']\n"
     ]
    }
   ],
   "source": [
    "for char, group in itertools.groupby('LLLLAAAGGG'):\n",
    "    print(char, '->', list(group))"
   ]
  },
  {
   "cell_type": "code",
   "execution_count": 178,
   "id": "5fa5a12c-606e-4973-bc04-faa6a59b1cae",
   "metadata": {},
   "outputs": [
    {
     "data": {
      "text/plain": [
       "['dog',\n",
       " 'cat',\n",
       " 'rat',\n",
       " 'lion',\n",
       " 'bear',\n",
       " 'tiger',\n",
       " 'shark',\n",
       " 'beaver',\n",
       " 'dolphin',\n",
       " 'sugarglider']"
      ]
     },
     "execution_count": 178,
     "metadata": {},
     "output_type": "execute_result"
    }
   ],
   "source": [
    "animals = ['tiger', 'dog', 'cat', 'rat', 'lion', 'bear', 'beaver', 'shark', 'dolphin', 'sugarglider']\n",
    "animals.sort(key=len)\n",
    "animals"
   ]
  },
  {
   "cell_type": "code",
   "execution_count": 179,
   "id": "b5af7391-2c6c-4c71-8042-169c8e99821e",
   "metadata": {},
   "outputs": [
    {
     "name": "stdout",
     "output_type": "stream",
     "text": [
      "3 -> ['dog', 'cat', 'rat']\n",
      "4 -> ['lion', 'bear']\n",
      "5 -> ['tiger', 'shark']\n",
      "6 -> ['beaver']\n",
      "7 -> ['dolphin']\n",
      "11 -> ['sugarglider']\n"
     ]
    }
   ],
   "source": [
    "for length, group in itertools.groupby(animals, len):\n",
    "    print(length, '->', list(group))"
   ]
  },
  {
   "cell_type": "code",
   "execution_count": 180,
   "id": "d9e44fa8-669a-42ab-b512-04cb524902df",
   "metadata": {},
   "outputs": [
    {
     "name": "stdout",
     "output_type": "stream",
     "text": [
      "11 -> ['sugarglider']\n",
      "7 -> ['dolphin']\n",
      "6 -> ['beaver']\n",
      "5 -> ['shark', 'tiger']\n",
      "4 -> ['bear', 'lion']\n",
      "3 -> ['rat', 'cat', 'dog']\n"
     ]
    }
   ],
   "source": [
    "for length, group in itertools.groupby(reversed(animals), len):\n",
    "    print(length, '->', list(group))"
   ]
  },
  {
   "cell_type": "code",
   "execution_count": 189,
   "id": "ba679e46-bc11-42a7-8744-849b34108224",
   "metadata": {},
   "outputs": [
    {
     "data": {
      "text/plain": [
       "[<itertools._tee at 0x1073dd1c0>, <itertools._tee at 0x1073ace40>]"
      ]
     },
     "execution_count": 189,
     "metadata": {},
     "output_type": "execute_result"
    }
   ],
   "source": [
    "# itertools.tee, yields multiple generators from a single input iterable\n",
    "# generators as arguments and return generators, they can be combined in many different ways.\n",
    "list(itertools.tee('ABC'))"
   ]
  },
  {
   "cell_type": "code",
   "execution_count": 182,
   "id": "49c19061-0c9d-48cd-b8f4-e30e5478b05e",
   "metadata": {},
   "outputs": [],
   "source": [
    "g1, g2 = itertools.tee('ABC')"
   ]
  },
  {
   "cell_type": "code",
   "execution_count": 183,
   "id": "c0bbe33b-0b44-4041-b33b-b6296be4df1f",
   "metadata": {},
   "outputs": [
    {
     "data": {
      "text/plain": [
       "'A'"
      ]
     },
     "execution_count": 183,
     "metadata": {},
     "output_type": "execute_result"
    }
   ],
   "source": [
    "next(g1)"
   ]
  },
  {
   "cell_type": "code",
   "execution_count": 184,
   "id": "9708173f-59ab-400f-b635-5efd45755878",
   "metadata": {},
   "outputs": [
    {
     "data": {
      "text/plain": [
       "'A'"
      ]
     },
     "execution_count": 184,
     "metadata": {},
     "output_type": "execute_result"
    }
   ],
   "source": [
    "next(g2)"
   ]
  },
  {
   "cell_type": "code",
   "execution_count": 185,
   "id": "77a2b39f-3bd6-4168-b78b-bf99984e39e2",
   "metadata": {},
   "outputs": [
    {
     "data": {
      "text/plain": [
       "'B'"
      ]
     },
     "execution_count": 185,
     "metadata": {},
     "output_type": "execute_result"
    }
   ],
   "source": [
    "next(g2)"
   ]
  },
  {
   "cell_type": "code",
   "execution_count": 186,
   "id": "12d30ce6-39ae-487a-a713-1ffb6cb35139",
   "metadata": {},
   "outputs": [
    {
     "data": {
      "text/plain": [
       "['B', 'C']"
      ]
     },
     "execution_count": 186,
     "metadata": {},
     "output_type": "execute_result"
    }
   ],
   "source": [
    "list(g1)"
   ]
  },
  {
   "cell_type": "code",
   "execution_count": 187,
   "id": "2564e883-dde9-4488-81ac-f9ab70627565",
   "metadata": {},
   "outputs": [
    {
     "data": {
      "text/plain": [
       "['C']"
      ]
     },
     "execution_count": 187,
     "metadata": {},
     "output_type": "execute_result"
    }
   ],
   "source": [
    "list(g2)"
   ]
  },
  {
   "cell_type": "code",
   "execution_count": 188,
   "id": "6a7dcff6-aeac-4dc2-ac65-1e4968771eeb",
   "metadata": {},
   "outputs": [
    {
     "data": {
      "text/plain": [
       "[('A', 'A'), ('B', 'B'), ('C', 'C')]"
      ]
     },
     "execution_count": 188,
     "metadata": {},
     "output_type": "execute_result"
    }
   ],
   "source": [
    "list(zip(*itertools.tee('ABC')))"
   ]
  },
  {
   "cell_type": "code",
   "execution_count": 190,
   "id": "24dd2694-d621-4139-8b39-100bf47731b1",
   "metadata": {},
   "outputs": [
    {
     "data": {
      "text/plain": [
       "True"
      ]
     },
     "execution_count": 190,
     "metadata": {},
     "output_type": "execute_result"
    }
   ],
   "source": [
    "# use math.fsum for better precision when adding floats\n",
    "# reducing\n",
    "all([1,2,3])"
   ]
  },
  {
   "cell_type": "code",
   "execution_count": 191,
   "id": "e9c9a581-f385-4a61-90c4-dca021a2a374",
   "metadata": {},
   "outputs": [
    {
     "data": {
      "text/plain": [
       "False"
      ]
     },
     "execution_count": 191,
     "metadata": {},
     "output_type": "execute_result"
    }
   ],
   "source": [
    "all([1,0,3])"
   ]
  },
  {
   "cell_type": "code",
   "execution_count": 192,
   "id": "82a81551-013a-4ca9-b8d2-8a06ba2c0b99",
   "metadata": {},
   "outputs": [
    {
     "data": {
      "text/plain": [
       "True"
      ]
     },
     "execution_count": 192,
     "metadata": {},
     "output_type": "execute_result"
    }
   ],
   "source": [
    "all([])"
   ]
  },
  {
   "cell_type": "code",
   "execution_count": 193,
   "id": "c432f3c4-06f6-4dfb-ab36-7a810ca68585",
   "metadata": {},
   "outputs": [
    {
     "data": {
      "text/plain": [
       "True"
      ]
     },
     "execution_count": 193,
     "metadata": {},
     "output_type": "execute_result"
    }
   ],
   "source": [
    "any([1,2,3])"
   ]
  },
  {
   "cell_type": "code",
   "execution_count": 194,
   "id": "7c7b8607-bd19-478f-a365-146545e8cf3b",
   "metadata": {},
   "outputs": [
    {
     "data": {
      "text/plain": [
       "True"
      ]
     },
     "execution_count": 194,
     "metadata": {},
     "output_type": "execute_result"
    }
   ],
   "source": [
    "any([1,0,3])"
   ]
  },
  {
   "cell_type": "code",
   "execution_count": 195,
   "id": "9a05e8df-774b-47c7-a598-b54c780cb593",
   "metadata": {},
   "outputs": [
    {
     "data": {
      "text/plain": [
       "False"
      ]
     },
     "execution_count": 195,
     "metadata": {},
     "output_type": "execute_result"
    }
   ],
   "source": [
    "any([0,0.0])"
   ]
  },
  {
   "cell_type": "code",
   "execution_count": 196,
   "id": "3db7613f-608a-48da-b38f-4f03a3b6042f",
   "metadata": {},
   "outputs": [
    {
     "data": {
      "text/plain": [
       "False"
      ]
     },
     "execution_count": 196,
     "metadata": {},
     "output_type": "execute_result"
    }
   ],
   "source": [
    "any([])"
   ]
  },
  {
   "cell_type": "code",
   "execution_count": 197,
   "id": "ce76b95a-a0f0-4349-ba87-8daef534a527",
   "metadata": {},
   "outputs": [
    {
     "data": {
      "text/plain": [
       "True"
      ]
     },
     "execution_count": 197,
     "metadata": {},
     "output_type": "execute_result"
    }
   ],
   "source": [
    "g = (n for n in [0,0.0,7,8])\n",
    "any(g)"
   ]
  },
  {
   "cell_type": "code",
   "execution_count": 198,
   "id": "77253f06-8911-4893-bf6d-cc09de3a96dc",
   "metadata": {},
   "outputs": [
    {
     "data": {
      "text/plain": [
       "8"
      ]
     },
     "execution_count": 198,
     "metadata": {},
     "output_type": "execute_result"
    }
   ],
   "source": [
    "next(g)"
   ]
  },
  {
   "cell_type": "code",
   "execution_count": 200,
   "id": "ec96fca6-a39b-4ffa-b9d8-d0f6f8e7b3a7",
   "metadata": {},
   "outputs": [
    {
     "name": "stdout",
     "output_type": "stream",
     "text": [
      "1\n",
      "2\n",
      "2\n"
     ]
    }
   ],
   "source": [
    "# Unlike reversed, which is a generator function, sorted builds and returns a new list\n",
    "# subgenerators with yield:\n",
    "def sub_gen():\n",
    "    yield 1.1\n",
    "    yield 1.2\n",
    "\n",
    "def gen():\n",
    "    yield 1\n",
    "    for i in sub_gen():\n",
    "        yield 2\n",
    "\n",
    "for x in gen():\n",
    "    print(x)"
   ]
  },
  {
   "cell_type": "code",
   "execution_count": 201,
   "id": "0c2adaf5-764d-4440-917c-90251100cedb",
   "metadata": {},
   "outputs": [
    {
     "name": "stdout",
     "output_type": "stream",
     "text": [
      "1\n",
      "1.1\n",
      "1.2\n",
      "2\n"
     ]
    }
   ],
   "source": [
    "def sub_gen():\n",
    "    yield 1.1\n",
    "    yield 1.2\n",
    "\n",
    "def gen():\n",
    "    yield 1\n",
    "    yield from sub_gen()\n",
    "    yield 2\n",
    "\n",
    "for x in gen():\n",
    "    print(x)"
   ]
  },
  {
   "cell_type": "code",
   "execution_count": 203,
   "id": "9f146fc7-4bf8-4b18-9eea-d5c50b48388a",
   "metadata": {},
   "outputs": [
    {
     "name": "stdout",
     "output_type": "stream",
     "text": [
      "1\n",
      "1.1\n",
      "1.2\n",
      "<-- Done!\n",
      "2\n"
     ]
    }
   ],
   "source": [
    "# from gets the return value of the subgenerator\n",
    "def sub_gen():\n",
    "    yield 1.1\n",
    "    yield 1.2\n",
    "    return 'Done!'\n",
    "\n",
    "def gen():\n",
    "    yield 1\n",
    "    result = yield from sub_gen()\n",
    "    print('<--', result)\n",
    "    yield 2\n",
    "\n",
    "for x in gen():\n",
    "    print(x)"
   ]
  },
  {
   "cell_type": "code",
   "execution_count": 207,
   "id": "e25c1089-ec69-4da2-aa08-fbe558a93f2f",
   "metadata": {},
   "outputs": [
    {
     "data": {
      "text/plain": [
       "['A', 'B', 'C', 0, 1, 2]"
      ]
     },
     "execution_count": 207,
     "metadata": {},
     "output_type": "execute_result"
    }
   ],
   "source": [
    "def chain(*iterables):\n",
    "    for it in iterables:\n",
    "        for i in it:\n",
    "            yield i\n",
    "            \n",
    "list(chain('ABC', range(3)))"
   ]
  },
  {
   "cell_type": "code",
   "execution_count": 208,
   "id": "45331635-41a6-4e05-93e1-e94239946e01",
   "metadata": {},
   "outputs": [
    {
     "data": {
      "text/plain": [
       "['A', 'B', 'C', 0, 1, 2]"
      ]
     },
     "execution_count": 208,
     "metadata": {},
     "output_type": "execute_result"
    }
   ],
   "source": [
    "def chain(*iterables):\n",
    "    for i in iterables:\n",
    "        yield from i\n",
    "\n",
    "list(chain('ABC', range(3)))"
   ]
  },
  {
   "cell_type": "code",
   "execution_count": 210,
   "id": "06f23eff-b594-41e5-b1e9-150767fb91d7",
   "metadata": {},
   "outputs": [
    {
     "name": "stdout",
     "output_type": "stream",
     "text": [
      "BaseException\n"
     ]
    }
   ],
   "source": [
    "# Taversing a tree (e.g. directory tree)\n",
    "# Step 1 build the root\n",
    "def tree(cls):\n",
    "    yield cls.__name__\n",
    "\n",
    "def display(cls):\n",
    "    for cls_name in tree(cls):\n",
    "        print(cls_name)\n",
    "\n",
    "if __name__ == '__main__':\n",
    "    display(BaseException)"
   ]
  },
  {
   "cell_type": "code",
   "execution_count": 211,
   "id": "d62881af-f028-4904-a37f-5c58717764b3",
   "metadata": {},
   "outputs": [
    {
     "name": "stdout",
     "output_type": "stream",
     "text": [
      "BaseException\n",
      "    Exception\n",
      "    GeneratorExit\n",
      "    SystemExit\n",
      "    KeyboardInterrupt\n",
      "    CancelledError\n",
      "    BaseExceptionGroup\n"
     ]
    }
   ],
   "source": [
    "# Step 2 subclasses from root\n",
    "def tree(cls):\n",
    "    yield cls.__name__, 0\n",
    "    for sub_cls in cls.__subclasses__():\n",
    "        yield sub_cls.__name__, 1\n",
    "\n",
    "def display(cls):\n",
    "    for cls_name, level in tree(cls):\n",
    "        indent = ' ' * 4 * level\n",
    "        print(f'{indent}{cls_name}')\n",
    "\n",
    "if __name__ == '__main__':\n",
    "    display(BaseException)"
   ]
  },
  {
   "cell_type": "code",
   "execution_count": 212,
   "id": "5f181a0e-d563-4c44-82eb-c9ca2cbf1ae9",
   "metadata": {},
   "outputs": [
    {
     "name": "stdout",
     "output_type": "stream",
     "text": [
      "BaseException\n",
      "    Exception\n",
      "    GeneratorExit\n",
      "    SystemExit\n",
      "    KeyboardInterrupt\n",
      "    CancelledError\n",
      "    BaseExceptionGroup\n"
     ]
    }
   ],
   "source": [
    "# refactor root from subtree\n",
    "def tree(cls):\n",
    "    yield cls.__name__, 0\n",
    "    yield from sub_tree(cls)\n",
    "\n",
    "def sub_tree(cls):\n",
    "    for sub_cls in cls.__subclasses__():\n",
    "        yield sub_cls.__name__, 1\n",
    "\n",
    "def display(cls):\n",
    "    for cls_name, level in tree(cls):\n",
    "        indent = ' ' * 4 * level\n",
    "        print(f'{indent}{cls_name}')\n",
    "\n",
    "if __name__ == '__main__':\n",
    "    display(BaseException)"
   ]
  },
  {
   "cell_type": "code",
   "execution_count": 215,
   "id": "00641bf3-7692-4bfc-a623-ae8d0e3216dc",
   "metadata": {},
   "outputs": [
    {
     "name": "stdout",
     "output_type": "stream",
     "text": [
      "BaseException\n",
      "    Exception\n",
      "        TypeError\n",
      "        StopAsyncIteration\n",
      "        StopIteration\n",
      "        ImportError\n",
      "        OSError\n",
      "        EOFError\n",
      "        RuntimeError\n",
      "        NameError\n",
      "        AttributeError\n",
      "        SyntaxError\n",
      "        LookupError\n",
      "        ValueError\n",
      "        AssertionError\n",
      "        ArithmeticError\n",
      "        SystemError\n",
      "        ReferenceError\n",
      "        MemoryError\n",
      "        BufferError\n",
      "        Warning\n",
      "        _OptionError\n",
      "        _Error\n",
      "        error\n",
      "        Verbose\n",
      "        Error\n",
      "        SubprocessError\n",
      "        ZMQBaseError\n",
      "        error\n",
      "        PickleError\n",
      "        _Stop\n",
      "        TokenError\n",
      "        StopTokenizing\n",
      "        Error\n",
      "        _GiveupOnSendfile\n",
      "        Incomplete\n",
      "        ClassFoundException\n",
      "        EndOfBlock\n",
      "        TimeoutError\n",
      "        InvalidStateError\n",
      "        LimitOverrunError\n",
      "        QueueEmpty\n",
      "        QueueFull\n",
      "        TraitError\n",
      "        Error\n",
      "        Empty\n",
      "        Full\n",
      "        error\n",
      "        error\n",
      "        ReturnValueIgnoredError\n",
      "        ArgumentError\n",
      "        ArgumentTypeError\n",
      "        ConfigError\n",
      "        ConfigurableError\n",
      "        ApplicationError\n",
      "        InvalidPortNumber\n",
      "        error\n",
      "        LZMAError\n",
      "        RegistryError\n",
      "        _GiveupOnFastCopy\n",
      "        NoIPAddresses\n",
      "        Error\n",
      "        BadZipFile\n",
      "        LargeZipFile\n",
      "        Error\n",
      "        MessageError\n",
      "        DuplicateKernelError\n",
      "        ErrorDuringImport\n",
      "        NotOneValueFound\n",
      "        CannotEval\n",
      "        OptionError\n",
      "        BdbQuit\n",
      "        Restart\n",
      "        FindCmdError\n",
      "        HomeDirError\n",
      "        ProfileDirError\n",
      "        IPythonCoreError\n",
      "        InputRejected\n",
      "        GetoptError\n",
      "        ErrorToken\n",
      "        PrefilterError\n",
      "        AliasError\n",
      "        Error\n",
      "        Warning\n",
      "        ExceptionGroup\n",
      "        SpaceInInput\n",
      "        DOMException\n",
      "        ValidationError\n",
      "        EditReadOnlyBuffer\n",
      "        _Retry\n",
      "        InvalidLayoutError\n",
      "        HeightIsUnknownError\n",
      "        ExpatError\n",
      "        ParseEscape\n",
      "        GuardRejection\n",
      "        ParserSyntaxError\n",
      "        InternalParseError\n",
      "        _PositionUpdatingFinished\n",
      "        SimpleGetItemNotFound\n",
      "        UncaughtAttributeError\n",
      "        HasNoContext\n",
      "        ParamIssue\n",
      "        _JediError\n",
      "        OnErrorLeaf\n",
      "        InvalidPythonEnvironment\n",
      "        HTTPException\n",
      "        InteractivelyDefined\n",
      "        KillEmbedded\n",
      "        Error\n",
      "        KeyReuseError\n",
      "        UnknownKeyError\n",
      "        LeakedCallbackError\n",
      "        BadYieldError\n",
      "        ReturnValueIgnoredError\n",
      "        Return\n",
      "        QueueEmpty\n",
      "        QueueFull\n",
      "        ArgumentError\n",
      "        DebuggerInitializationError\n",
      "        Error\n",
      "        _Error\n",
      "        UnableToResolveVariableException\n",
      "        InvalidTypeInArgsException\n",
      "    GeneratorExit\n",
      "    SystemExit\n",
      "    KeyboardInterrupt\n",
      "    CancelledError\n",
      "    BaseExceptionGroup\n",
      "        ExceptionGroup\n"
     ]
    }
   ],
   "source": [
    "# depth first\n",
    "def tree(cls):\n",
    "    yield cls.__name__, 0\n",
    "    yield from sub_tree(cls)\n",
    "\n",
    "def sub_tree(cls):\n",
    "    for sub_cls in cls.__subclasses__():\n",
    "        yield sub_cls.__name__, 1\n",
    "        for sub_sub_cls in sub_cls.__subclasses__():\n",
    "            yield sub_sub_cls.__name__, 2\n",
    "\n",
    "def display(cls):\n",
    "    for cls_name, level in tree(cls):\n",
    "        indent = ' ' * 4 * level\n",
    "        print(f'{indent}{cls_name}')\n",
    "\n",
    "if __name__ == '__main__':\n",
    "    display(BaseException)"
   ]
  },
  {
   "cell_type": "code",
   "execution_count": 217,
   "id": "e0a14a56-c92d-4abc-88dd-2d5cd75faf2a",
   "metadata": {},
   "outputs": [
    {
     "name": "stdout",
     "output_type": "stream",
     "text": [
      "BaseException\n",
      "    Exception\n",
      "        TypeError\n",
      "            FloatOperation\n",
      "            MultipartConversionError\n",
      "        StopAsyncIteration\n",
      "        StopIteration\n",
      "        ImportError\n",
      "            ModuleNotFoundError\n",
      "                PackageNotFoundError\n",
      "            ZipImportError\n",
      "        OSError\n",
      "            ConnectionError\n",
      "                BrokenPipeError\n",
      "                ConnectionAbortedError\n",
      "                ConnectionRefusedError\n",
      "                ConnectionResetError\n",
      "                    RemoteDisconnected\n",
      "            BlockingIOError\n",
      "            ChildProcessError\n",
      "            FileExistsError\n",
      "            FileNotFoundError\n",
      "            IsADirectoryError\n",
      "            NotADirectoryError\n",
      "            InterruptedError\n",
      "                InterruptedSystemCall\n",
      "            PermissionError\n",
      "            ProcessLookupError\n",
      "            TimeoutError\n",
      "            UnsupportedOperation\n",
      "            itimer_error\n",
      "            herror\n",
      "            gaierror\n",
      "            SSLError\n",
      "                SSLCertVerificationError\n",
      "                SSLZeroReturnError\n",
      "                SSLWantWriteError\n",
      "                SSLWantReadError\n",
      "                SSLSyscallError\n",
      "                SSLEOFError\n",
      "            Error\n",
      "                SameFileError\n",
      "            SpecialFileError\n",
      "            ExecError\n",
      "            ReadError\n",
      "            URLError\n",
      "                HTTPError\n",
      "                ContentTooShortError\n",
      "            BadGzipFile\n",
      "        EOFError\n",
      "            IncompleteReadError\n",
      "        RuntimeError\n",
      "            RecursionError\n",
      "            NotImplementedError\n",
      "                ZMQVersionError\n",
      "                StdinNotImplementedError\n",
      "            _DeadlockError\n",
      "            BrokenBarrierError\n",
      "            BrokenExecutor\n",
      "                BrokenThreadPool\n",
      "            SendfileNotAvailableError\n",
      "            VariableError\n",
      "        NameError\n",
      "            UnboundLocalError\n",
      "        AttributeError\n",
      "            FrozenInstanceError\n",
      "        SyntaxError\n",
      "            IndentationError\n",
      "                TabError\n",
      "        LookupError\n",
      "            IndexError\n",
      "            KeyError\n",
      "                NoSuchKernel\n",
      "                UnknownBackend\n",
      "            CodecRegistryError\n",
      "        ValueError\n",
      "            UnicodeError\n",
      "                UnicodeEncodeError\n",
      "                UnicodeDecodeError\n",
      "                UnicodeTranslateError\n",
      "            UnsupportedOperation\n",
      "            JSONDecodeError\n",
      "            SSLCertVerificationError\n",
      "            Error\n",
      "            UnsupportedDigestmodError\n",
      "            IllegalMonthError\n",
      "            IllegalWeekdayError\n",
      "            ParserError\n",
      "            MessageDefect\n",
      "                NoBoundaryInMultipartDefect\n",
      "                StartBoundaryNotFoundDefect\n",
      "                CloseBoundaryNotFoundDefect\n",
      "                FirstHeaderLineIsContinuationDefect\n",
      "                MisplacedEnvelopeHeaderDefect\n",
      "                MissingHeaderBodySeparatorDefect\n",
      "                MultipartInvariantViolationDefect\n",
      "                InvalidMultipartContentTransferEncodingDefect\n",
      "                UndecodableBytesDefect\n",
      "                InvalidBase64PaddingDefect\n",
      "                InvalidBase64CharactersDefect\n",
      "                InvalidBase64LengthDefect\n",
      "                HeaderDefect\n",
      "                    InvalidHeaderDefect\n",
      "                    HeaderMissingRequiredValue\n",
      "                    NonPrintableDefect\n",
      "                    ObsoleteHeaderDefect\n",
      "                    NonASCIILocalPartDefect\n",
      "                    InvalidDateDefect\n",
      "            ClassNotFound\n",
      "            ClipboardEmpty\n",
      "            MacroToEdit\n",
      "            InvalidVersion\n",
      "            InvalidFileException\n",
      "        AssertionError\n",
      "        ArithmeticError\n",
      "            FloatingPointError\n",
      "            OverflowError\n",
      "            ZeroDivisionError\n",
      "                DivisionByZero\n",
      "                DivisionUndefined\n",
      "            DecimalException\n",
      "                Clamped\n",
      "                Rounded\n",
      "                    Underflow\n",
      "                    Overflow\n",
      "                Inexact\n",
      "                    Underflow\n",
      "                    Overflow\n",
      "                Subnormal\n",
      "                    Underflow\n",
      "                DivisionByZero\n",
      "                FloatOperation\n",
      "                InvalidOperation\n",
      "                    ConversionSyntax\n",
      "                    DivisionImpossible\n",
      "                    DivisionUndefined\n",
      "                    InvalidContext\n",
      "        SystemError\n",
      "            CodecRegistryError\n",
      "        ReferenceError\n",
      "        MemoryError\n",
      "        BufferError\n",
      "        Warning\n",
      "            UserWarning\n",
      "                GetPassWarning\n",
      "                FormatterWarning\n",
      "            EncodingWarning\n",
      "            DeprecationWarning\n",
      "                ProvisionalWarning\n",
      "            PendingDeprecationWarning\n",
      "            SyntaxWarning\n",
      "            RuntimeWarning\n",
      "                ProactorSelectorThreadWarning\n",
      "                UnknownTimezoneWarning\n",
      "            FutureWarning\n",
      "                ProvisionalCompleterWarning\n",
      "            ImportWarning\n",
      "            UnicodeWarning\n",
      "            BytesWarning\n",
      "            ResourceWarning\n",
      "            DeprecatedTzFormatWarning\n",
      "        _OptionError\n",
      "        _Error\n",
      "        error\n",
      "        Verbose\n",
      "        Error\n",
      "        SubprocessError\n",
      "            CalledProcessError\n",
      "            TimeoutExpired\n",
      "        ZMQBaseError\n",
      "            ZMQError\n",
      "                ContextTerminated\n",
      "                Again\n",
      "                InterruptedSystemCall\n",
      "            ZMQBindError\n",
      "            NotDone\n",
      "        error\n",
      "        PickleError\n",
      "            PicklingError\n",
      "            UnpicklingError\n",
      "        _Stop\n",
      "        TokenError\n",
      "        StopTokenizing\n",
      "        Error\n",
      "            CancelledError\n",
      "            TimeoutError\n",
      "            InvalidStateError\n",
      "        _GiveupOnSendfile\n",
      "        Incomplete\n",
      "        ClassFoundException\n",
      "        EndOfBlock\n",
      "        TimeoutError\n",
      "        InvalidStateError\n",
      "        LimitOverrunError\n",
      "        QueueEmpty\n",
      "        QueueFull\n",
      "        TraitError\n",
      "        Error\n",
      "        Empty\n",
      "        Full\n",
      "        error\n",
      "        error\n",
      "        ReturnValueIgnoredError\n",
      "        ArgumentError\n",
      "        ArgumentTypeError\n",
      "        ConfigError\n",
      "            ConfigLoaderError\n",
      "                ArgumentError\n",
      "            ConfigFileNotFound\n",
      "        ConfigurableError\n",
      "            MultipleInstanceError\n",
      "        ApplicationError\n",
      "        InvalidPortNumber\n",
      "        error\n",
      "        LZMAError\n",
      "        RegistryError\n",
      "        _GiveupOnFastCopy\n",
      "        NoIPAddresses\n",
      "        Error\n",
      "        BadZipFile\n",
      "        LargeZipFile\n",
      "        Error\n",
      "        MessageError\n",
      "            MessageParseError\n",
      "                HeaderParseError\n",
      "                BoundaryError\n",
      "            MultipartConversionError\n",
      "            CharsetError\n",
      "            HeaderWriteError\n",
      "        DuplicateKernelError\n",
      "        ErrorDuringImport\n",
      "        NotOneValueFound\n",
      "        CannotEval\n",
      "        OptionError\n",
      "        BdbQuit\n",
      "        Restart\n",
      "        FindCmdError\n",
      "        HomeDirError\n",
      "        ProfileDirError\n",
      "        IPythonCoreError\n",
      "            TryNext\n",
      "            UsageError\n",
      "            StdinNotImplementedError\n",
      "        InputRejected\n",
      "        GetoptError\n",
      "        ErrorToken\n",
      "        PrefilterError\n",
      "        AliasError\n",
      "            InvalidAliasError\n",
      "        Error\n",
      "            InterfaceError\n",
      "            DatabaseError\n",
      "                InternalError\n",
      "                OperationalError\n",
      "                ProgrammingError\n",
      "                IntegrityError\n",
      "                DataError\n",
      "                NotSupportedError\n",
      "        Warning\n",
      "        ExceptionGroup\n",
      "        SpaceInInput\n",
      "        DOMException\n",
      "            IndexSizeErr\n",
      "            DomstringSizeErr\n",
      "            HierarchyRequestErr\n",
      "            WrongDocumentErr\n",
      "            InvalidCharacterErr\n",
      "            NoDataAllowedErr\n",
      "            NoModificationAllowedErr\n",
      "            NotFoundErr\n",
      "            NotSupportedErr\n",
      "            InuseAttributeErr\n",
      "            InvalidStateErr\n",
      "            SyntaxErr\n",
      "            InvalidModificationErr\n",
      "            NamespaceErr\n",
      "            InvalidAccessErr\n",
      "            ValidationErr\n",
      "        ValidationError\n",
      "        EditReadOnlyBuffer\n",
      "        _Retry\n",
      "        InvalidLayoutError\n",
      "        HeightIsUnknownError\n",
      "        ExpatError\n",
      "        ParseEscape\n",
      "        GuardRejection\n",
      "        ParserSyntaxError\n",
      "        InternalParseError\n",
      "        _PositionUpdatingFinished\n",
      "        SimpleGetItemNotFound\n",
      "        UncaughtAttributeError\n",
      "        HasNoContext\n",
      "        ParamIssue\n",
      "        _JediError\n",
      "            InternalError\n",
      "            WrongVersion\n",
      "            RefactoringError\n",
      "        OnErrorLeaf\n",
      "        InvalidPythonEnvironment\n",
      "        HTTPException\n",
      "            NotConnected\n",
      "            InvalidURL\n",
      "            UnknownProtocol\n",
      "            UnknownTransferEncoding\n",
      "            UnimplementedFileMode\n",
      "            IncompleteRead\n",
      "            ImproperConnectionState\n",
      "                CannotSendRequest\n",
      "                CannotSendHeader\n",
      "                ResponseNotReady\n",
      "            BadStatusLine\n",
      "                RemoteDisconnected\n",
      "            LineTooLong\n",
      "        InteractivelyDefined\n",
      "        KillEmbedded\n",
      "        Error\n",
      "            NoSuchProcess\n",
      "                ZombieProcess\n",
      "            AccessDenied\n",
      "            TimeoutExpired\n",
      "        KeyReuseError\n",
      "        UnknownKeyError\n",
      "        LeakedCallbackError\n",
      "        BadYieldError\n",
      "        ReturnValueIgnoredError\n",
      "        Return\n",
      "        QueueEmpty\n",
      "        QueueFull\n",
      "        ArgumentError\n",
      "        DebuggerInitializationError\n",
      "        Error\n",
      "            ProtocolError\n",
      "            ResponseError\n",
      "            Fault\n",
      "        _Error\n",
      "        UnableToResolveVariableException\n",
      "        InvalidTypeInArgsException\n",
      "    GeneratorExit\n",
      "    SystemExit\n",
      "    KeyboardInterrupt\n",
      "    CancelledError\n",
      "    BaseExceptionGroup\n",
      "        ExceptionGroup\n"
     ]
    }
   ],
   "source": [
    "# and so on as you can imagine a third iteration of tree we simply add another inner loop\n",
    "# O^n - eeek!\n",
    "def tree(cls):\n",
    "    yield cls.__name__, 0\n",
    "    yield from sub_tree(cls, 1)\n",
    "\n",
    "def sub_tree(cls, level):\n",
    "    for sub_cls in cls.__subclasses__():\n",
    "        yield sub_cls.__name__, level\n",
    "        yield from sub_tree(sub_cls, level+1) # replaced nested for loop with yield from\n",
    "\n",
    "def display(cls):\n",
    "    for cls_name, level in tree(cls):\n",
    "        indent = ' ' * 4 * level\n",
    "        print(f'{indent}{cls_name}')\n",
    "\n",
    "if __name__ == '__main__':\n",
    "    display(BaseException)"
   ]
  },
  {
   "cell_type": "code",
   "execution_count": 218,
   "id": "ad986145-825e-4971-95cc-217a544d2b2c",
   "metadata": {},
   "outputs": [
    {
     "name": "stdout",
     "output_type": "stream",
     "text": [
      "BaseException\n",
      "    Exception\n",
      "        TypeError\n",
      "            FloatOperation\n",
      "            MultipartConversionError\n",
      "        StopAsyncIteration\n",
      "        StopIteration\n",
      "        ImportError\n",
      "            ModuleNotFoundError\n",
      "                PackageNotFoundError\n",
      "            ZipImportError\n",
      "        OSError\n",
      "            ConnectionError\n",
      "                BrokenPipeError\n",
      "                ConnectionAbortedError\n",
      "                ConnectionRefusedError\n",
      "                ConnectionResetError\n",
      "                    RemoteDisconnected\n",
      "            BlockingIOError\n",
      "            ChildProcessError\n",
      "            FileExistsError\n",
      "            FileNotFoundError\n",
      "            IsADirectoryError\n",
      "            NotADirectoryError\n",
      "            InterruptedError\n",
      "                InterruptedSystemCall\n",
      "            PermissionError\n",
      "            ProcessLookupError\n",
      "            TimeoutError\n",
      "            UnsupportedOperation\n",
      "            itimer_error\n",
      "            herror\n",
      "            gaierror\n",
      "            SSLError\n",
      "                SSLCertVerificationError\n",
      "                SSLZeroReturnError\n",
      "                SSLWantWriteError\n",
      "                SSLWantReadError\n",
      "                SSLSyscallError\n",
      "                SSLEOFError\n",
      "            Error\n",
      "                SameFileError\n",
      "            SpecialFileError\n",
      "            ExecError\n",
      "            ReadError\n",
      "            URLError\n",
      "                HTTPError\n",
      "                ContentTooShortError\n",
      "            BadGzipFile\n",
      "        EOFError\n",
      "            IncompleteReadError\n",
      "        RuntimeError\n",
      "            RecursionError\n",
      "            NotImplementedError\n",
      "                ZMQVersionError\n",
      "                StdinNotImplementedError\n",
      "            _DeadlockError\n",
      "            BrokenBarrierError\n",
      "            BrokenExecutor\n",
      "                BrokenThreadPool\n",
      "            SendfileNotAvailableError\n",
      "            VariableError\n",
      "        NameError\n",
      "            UnboundLocalError\n",
      "        AttributeError\n",
      "            FrozenInstanceError\n",
      "        SyntaxError\n",
      "            IndentationError\n",
      "                TabError\n",
      "        LookupError\n",
      "            IndexError\n",
      "            KeyError\n",
      "                NoSuchKernel\n",
      "                UnknownBackend\n",
      "            CodecRegistryError\n",
      "        ValueError\n",
      "            UnicodeError\n",
      "                UnicodeEncodeError\n",
      "                UnicodeDecodeError\n",
      "                UnicodeTranslateError\n",
      "            UnsupportedOperation\n",
      "            JSONDecodeError\n",
      "            SSLCertVerificationError\n",
      "            Error\n",
      "            UnsupportedDigestmodError\n",
      "            IllegalMonthError\n",
      "            IllegalWeekdayError\n",
      "            ParserError\n",
      "            MessageDefect\n",
      "                NoBoundaryInMultipartDefect\n",
      "                StartBoundaryNotFoundDefect\n",
      "                CloseBoundaryNotFoundDefect\n",
      "                FirstHeaderLineIsContinuationDefect\n",
      "                MisplacedEnvelopeHeaderDefect\n",
      "                MissingHeaderBodySeparatorDefect\n",
      "                MultipartInvariantViolationDefect\n",
      "                InvalidMultipartContentTransferEncodingDefect\n",
      "                UndecodableBytesDefect\n",
      "                InvalidBase64PaddingDefect\n",
      "                InvalidBase64CharactersDefect\n",
      "                InvalidBase64LengthDefect\n",
      "                HeaderDefect\n",
      "                    InvalidHeaderDefect\n",
      "                    HeaderMissingRequiredValue\n",
      "                    NonPrintableDefect\n",
      "                    ObsoleteHeaderDefect\n",
      "                    NonASCIILocalPartDefect\n",
      "                    InvalidDateDefect\n",
      "            ClassNotFound\n",
      "            ClipboardEmpty\n",
      "            MacroToEdit\n",
      "            InvalidVersion\n",
      "            InvalidFileException\n",
      "        AssertionError\n",
      "        ArithmeticError\n",
      "            FloatingPointError\n",
      "            OverflowError\n",
      "            ZeroDivisionError\n",
      "                DivisionByZero\n",
      "                DivisionUndefined\n",
      "            DecimalException\n",
      "                Clamped\n",
      "                Rounded\n",
      "                    Underflow\n",
      "                    Overflow\n",
      "                Inexact\n",
      "                    Underflow\n",
      "                    Overflow\n",
      "                Subnormal\n",
      "                    Underflow\n",
      "                DivisionByZero\n",
      "                FloatOperation\n",
      "                InvalidOperation\n",
      "                    ConversionSyntax\n",
      "                    DivisionImpossible\n",
      "                    DivisionUndefined\n",
      "                    InvalidContext\n",
      "        SystemError\n",
      "            CodecRegistryError\n",
      "        ReferenceError\n",
      "        MemoryError\n",
      "        BufferError\n",
      "        Warning\n",
      "            UserWarning\n",
      "                GetPassWarning\n",
      "                FormatterWarning\n",
      "            EncodingWarning\n",
      "            DeprecationWarning\n",
      "                ProvisionalWarning\n",
      "            PendingDeprecationWarning\n",
      "            SyntaxWarning\n",
      "            RuntimeWarning\n",
      "                ProactorSelectorThreadWarning\n",
      "                UnknownTimezoneWarning\n",
      "            FutureWarning\n",
      "                ProvisionalCompleterWarning\n",
      "            ImportWarning\n",
      "            UnicodeWarning\n",
      "            BytesWarning\n",
      "            ResourceWarning\n",
      "            DeprecatedTzFormatWarning\n",
      "        _OptionError\n",
      "        _Error\n",
      "        error\n",
      "        Verbose\n",
      "        Error\n",
      "        SubprocessError\n",
      "            CalledProcessError\n",
      "            TimeoutExpired\n",
      "        ZMQBaseError\n",
      "            ZMQError\n",
      "                ContextTerminated\n",
      "                Again\n",
      "                InterruptedSystemCall\n",
      "            ZMQBindError\n",
      "            NotDone\n",
      "        error\n",
      "        PickleError\n",
      "            PicklingError\n",
      "            UnpicklingError\n",
      "        _Stop\n",
      "        TokenError\n",
      "        StopTokenizing\n",
      "        Error\n",
      "            CancelledError\n",
      "            TimeoutError\n",
      "            InvalidStateError\n",
      "        _GiveupOnSendfile\n",
      "        Incomplete\n",
      "        ClassFoundException\n",
      "        EndOfBlock\n",
      "        TimeoutError\n",
      "        InvalidStateError\n",
      "        LimitOverrunError\n",
      "        QueueEmpty\n",
      "        QueueFull\n",
      "        TraitError\n",
      "        Error\n",
      "        Empty\n",
      "        Full\n",
      "        error\n",
      "        error\n",
      "        ReturnValueIgnoredError\n",
      "        ArgumentError\n",
      "        ArgumentTypeError\n",
      "        ConfigError\n",
      "            ConfigLoaderError\n",
      "                ArgumentError\n",
      "            ConfigFileNotFound\n",
      "        ConfigurableError\n",
      "            MultipleInstanceError\n",
      "        ApplicationError\n",
      "        InvalidPortNumber\n",
      "        error\n",
      "        LZMAError\n",
      "        RegistryError\n",
      "        _GiveupOnFastCopy\n",
      "        NoIPAddresses\n",
      "        Error\n",
      "        BadZipFile\n",
      "        LargeZipFile\n",
      "        Error\n",
      "        MessageError\n",
      "            MessageParseError\n",
      "                HeaderParseError\n",
      "                BoundaryError\n",
      "            MultipartConversionError\n",
      "            CharsetError\n",
      "            HeaderWriteError\n",
      "        DuplicateKernelError\n",
      "        ErrorDuringImport\n",
      "        NotOneValueFound\n",
      "        CannotEval\n",
      "        OptionError\n",
      "        BdbQuit\n",
      "        Restart\n",
      "        FindCmdError\n",
      "        HomeDirError\n",
      "        ProfileDirError\n",
      "        IPythonCoreError\n",
      "            TryNext\n",
      "            UsageError\n",
      "            StdinNotImplementedError\n",
      "        InputRejected\n",
      "        GetoptError\n",
      "        ErrorToken\n",
      "        PrefilterError\n",
      "        AliasError\n",
      "            InvalidAliasError\n",
      "        Error\n",
      "            InterfaceError\n",
      "            DatabaseError\n",
      "                InternalError\n",
      "                OperationalError\n",
      "                ProgrammingError\n",
      "                IntegrityError\n",
      "                DataError\n",
      "                NotSupportedError\n",
      "        Warning\n",
      "        ExceptionGroup\n",
      "        SpaceInInput\n",
      "        DOMException\n",
      "            IndexSizeErr\n",
      "            DomstringSizeErr\n",
      "            HierarchyRequestErr\n",
      "            WrongDocumentErr\n",
      "            InvalidCharacterErr\n",
      "            NoDataAllowedErr\n",
      "            NoModificationAllowedErr\n",
      "            NotFoundErr\n",
      "            NotSupportedErr\n",
      "            InuseAttributeErr\n",
      "            InvalidStateErr\n",
      "            SyntaxErr\n",
      "            InvalidModificationErr\n",
      "            NamespaceErr\n",
      "            InvalidAccessErr\n",
      "            ValidationErr\n",
      "        ValidationError\n",
      "        EditReadOnlyBuffer\n",
      "        _Retry\n",
      "        InvalidLayoutError\n",
      "        HeightIsUnknownError\n",
      "        ExpatError\n",
      "        ParseEscape\n",
      "        GuardRejection\n",
      "        ParserSyntaxError\n",
      "        InternalParseError\n",
      "        _PositionUpdatingFinished\n",
      "        SimpleGetItemNotFound\n",
      "        UncaughtAttributeError\n",
      "        HasNoContext\n",
      "        ParamIssue\n",
      "        _JediError\n",
      "            InternalError\n",
      "            WrongVersion\n",
      "            RefactoringError\n",
      "        OnErrorLeaf\n",
      "        InvalidPythonEnvironment\n",
      "        HTTPException\n",
      "            NotConnected\n",
      "            InvalidURL\n",
      "            UnknownProtocol\n",
      "            UnknownTransferEncoding\n",
      "            UnimplementedFileMode\n",
      "            IncompleteRead\n",
      "            ImproperConnectionState\n",
      "                CannotSendRequest\n",
      "                CannotSendHeader\n",
      "                ResponseNotReady\n",
      "            BadStatusLine\n",
      "                RemoteDisconnected\n",
      "            LineTooLong\n",
      "        InteractivelyDefined\n",
      "        KillEmbedded\n",
      "        Error\n",
      "            NoSuchProcess\n",
      "                ZombieProcess\n",
      "            AccessDenied\n",
      "            TimeoutExpired\n",
      "        KeyReuseError\n",
      "        UnknownKeyError\n",
      "        LeakedCallbackError\n",
      "        BadYieldError\n",
      "        ReturnValueIgnoredError\n",
      "        Return\n",
      "        QueueEmpty\n",
      "        QueueFull\n",
      "        ArgumentError\n",
      "        DebuggerInitializationError\n",
      "        Error\n",
      "            ProtocolError\n",
      "            ResponseError\n",
      "            Fault\n",
      "        _Error\n",
      "        UnableToResolveVariableException\n",
      "        InvalidTypeInArgsException\n",
      "    GeneratorExit\n",
      "    SystemExit\n",
      "    KeyboardInterrupt\n",
      "    CancelledError\n",
      "    BaseExceptionGroup\n",
      "        ExceptionGroup\n"
     ]
    }
   ],
   "source": [
    "# single generator from above\n",
    "def tree(cls, level=0):\n",
    "    yield cls.__name__, level\n",
    "    for sub_cls in cls.__subclasses__():\n",
    "        yield from tree(sub_cls, level+1)\n",
    "\n",
    "def display(cls):\n",
    "    for cls_name, level in tree(cls):\n",
    "        indent = ' ' * 4 * level\n",
    "        print(f'{indent}{cls_name}')\n",
    "\n",
    "if __name__ == '__main__':\n",
    "    display(BaseException)"
   ]
  },
  {
   "cell_type": "code",
   "execution_count": 219,
   "id": "c34c95b3-d3a1-4609-ba7c-4e8c4f20208d",
   "metadata": {},
   "outputs": [
    {
     "data": {
      "text/plain": [
       "'\\nA coroutine is really a generator function,\\ncreated with the yield keyword in its body.\\n'"
      ]
     },
     "execution_count": 219,
     "metadata": {},
     "output_type": "execute_result"
    }
   ],
   "source": [
    "\"\"\"\n",
    "A coroutine is really a generator function,\n",
    "created with the yield keyword in its body.\n",
    "type hints:\n",
    "\n",
    "bounded to an iterator or generator object that yields float items\n",
    "readings: Iterator[float]\n",
    "\n",
    "bound to a coroutine, yields events, receives float, returns number of trips\n",
    "taxi: Generator[Event, float, int]\n",
    "^ describes a generator type but suppost to be used as a coroutine\n",
    "(Classic Coroutines)\n",
    "\n",
    "collections.abc.Coroutine\n",
    "Python >= 3.9\n",
    "\n",
    "Generators produce data for iteration\n",
    "Coroutines are consumers of data <- nothing to do with iteration (even though yield pops up)\n",
    "\"\"\"\n"
   ]
  },
  {
   "cell_type": "code",
   "execution_count": 220,
   "id": "d1e5ea51-5911-4965-982e-c442d7f1d74f",
   "metadata": {},
   "outputs": [],
   "source": [
    "from collections.abc import Generator\n",
    "\n",
    "def averager() -> Generator[float, float, None]:\n",
    "    total = 0.0\n",
    "    count = 0\n",
    "    average = 0.0\n",
    "    while True:\n",
    "        term = yield average\n",
    "        total += term\n",
    "        count += 1\n",
    "        average = total/count"
   ]
  },
  {
   "cell_type": "code",
   "execution_count": 228,
   "id": "3585844d-e14b-46bc-b6b8-43ed158339ad",
   "metadata": {},
   "outputs": [
    {
     "data": {
      "text/plain": [
       "0.0"
      ]
     },
     "execution_count": 228,
     "metadata": {},
     "output_type": "execute_result"
    }
   ],
   "source": [
    "coro_avg = averager()\n",
    "next(coro_avg) # advance to the yield: \"priming the coroutine\""
   ]
  },
  {
   "cell_type": "code",
   "execution_count": 229,
   "id": "1d804859-8c2c-4488-b2bd-3dc59002cbe4",
   "metadata": {},
   "outputs": [
    {
     "data": {
      "text/plain": [
       "10.0"
      ]
     },
     "execution_count": 229,
     "metadata": {},
     "output_type": "execute_result"
    }
   ],
   "source": [
    "coro_avg.send(10)"
   ]
  },
  {
   "cell_type": "code",
   "execution_count": 230,
   "id": "521232ce-adf1-46af-99e6-24feb09d8939",
   "metadata": {},
   "outputs": [
    {
     "data": {
      "text/plain": [
       "20.0"
      ]
     },
     "execution_count": 230,
     "metadata": {},
     "output_type": "execute_result"
    }
   ],
   "source": [
    "coro_avg.send(30)"
   ]
  },
  {
   "cell_type": "code",
   "execution_count": 231,
   "id": "65494e9e-ff47-4130-be41-2089a9c34578",
   "metadata": {},
   "outputs": [
    {
     "data": {
      "text/plain": [
       "15.0"
      ]
     },
     "execution_count": 231,
     "metadata": {},
     "output_type": "execute_result"
    }
   ],
   "source": [
    "coro_avg.send(5)"
   ]
  },
  {
   "cell_type": "code",
   "execution_count": 232,
   "id": "3c7d1b55-b60d-4355-b534-29a50ba388f7",
   "metadata": {},
   "outputs": [
    {
     "data": {
      "text/plain": [
       "16.25"
      ]
     },
     "execution_count": 232,
     "metadata": {},
     "output_type": "execute_result"
    }
   ],
   "source": [
    "# we don't need to terminate a generator it is garbage collected as soon as there are no more valid references to is\n",
    "# if we want to explicitly terminate it use the .close()\n",
    "coro_avg.send(20)"
   ]
  },
  {
   "cell_type": "code",
   "execution_count": 235,
   "id": "7272dd94-2615-43e4-8f1f-0892bddaca54",
   "metadata": {},
   "outputs": [
    {
     "ename": "StopIteration",
     "evalue": "",
     "output_type": "error",
     "traceback": [
      "\u001b[0;31m---------------------------------------------------------------------------\u001b[0m",
      "\u001b[0;31mStopIteration\u001b[0m                             Traceback (most recent call last)",
      "Cell \u001b[0;32mIn[235], line 3\u001b[0m\n\u001b[1;32m      1\u001b[0m coro_avg\u001b[38;5;241m.\u001b[39mclose()\n\u001b[1;32m      2\u001b[0m coro_avg\u001b[38;5;241m.\u001b[39mclose() \u001b[38;5;66;03m# no effect\u001b[39;00m\n\u001b[0;32m----> 3\u001b[0m \u001b[43mcoro_avg\u001b[49m\u001b[38;5;241;43m.\u001b[39;49m\u001b[43msend\u001b[49m\u001b[43m(\u001b[49m\u001b[38;5;241;43m5\u001b[39;49m\u001b[43m)\u001b[49m \u001b[38;5;66;03m# StopIteration error\u001b[39;00m\n",
      "\u001b[0;31mStopIteration\u001b[0m: "
     ]
    }
   ],
   "source": [
    "coro_avg.close()\n",
    "coro_avg.close() # no effect\n",
    "coro_avg.send(5) # StopIteration error"
   ]
  },
  {
   "cell_type": "code",
   "execution_count": 252,
   "id": "2c677f33-5267-4eb7-90e5-383e86cb0b79",
   "metadata": {},
   "outputs": [],
   "source": [
    "# returning a value from a coroutine\n",
    "from collections.abc import Generator\n",
    "from typing import Union, NamedTuple, TypeAlias\n",
    "\n",
    "class Result(NamedTuple):\n",
    "    count: int # type: ignore\n",
    "    average: float\n",
    "\n",
    "class Sentinel:\n",
    "    def __repr__(self):\n",
    "        return f'<Sentinel>'\n",
    "\n",
    "STOP = Sentinel()\n",
    "SendType: TypeAlias = float | Sentinel\n",
    "# SendType = Union[float, Sentinel] old way\n",
    "\n",
    "# None because it doesn't yield data\n",
    "def averager2(verbose: bool = False) -> Generator[None, SendType, Result]:\n",
    "    total = 0.0\n",
    "    count = 0\n",
    "    average = 0.0\n",
    "    while True:\n",
    "        term = yield\n",
    "        if verbose:\n",
    "            print('received:', term)\n",
    "        if isinstance(term, Sentinel):\n",
    "            break\n",
    "        total += term\n",
    "        count += 1\n",
    "        average = total/count\n",
    "    return Result(count, average)"
   ]
  },
  {
   "cell_type": "code",
   "execution_count": 253,
   "id": "bac2bbf9-206c-4108-9c7c-988e07f90fae",
   "metadata": {},
   "outputs": [],
   "source": [
    "coro_avg = averager2()"
   ]
  },
  {
   "cell_type": "code",
   "execution_count": 249,
   "id": "45895e46-52f1-4674-a518-4c0685b11f12",
   "metadata": {},
   "outputs": [],
   "source": [
    "next(coro_avg)"
   ]
  },
  {
   "cell_type": "code",
   "execution_count": 250,
   "id": "161d314f-0830-48a9-b544-4d024a0a75bb",
   "metadata": {},
   "outputs": [],
   "source": [
    "coro_avg.send(10)\n",
    "coro_avg.send(30)\n",
    "coro_avg.send(6.5)\n",
    "coro_avg.close() # does not return a result, just stops the generator"
   ]
  },
  {
   "cell_type": "code",
   "execution_count": 255,
   "id": "9c5e803f-23b8-4a5d-810f-76a72b009c52",
   "metadata": {},
   "outputs": [
    {
     "data": {
      "text/plain": [
       "Result(count=3, average=15.5)"
      ]
     },
     "execution_count": 255,
     "metadata": {},
     "output_type": "execute_result"
    }
   ],
   "source": [
    "coro_avg = averager2()\n",
    "next(coro_avg)\n",
    "coro_avg.send(10)\n",
    "coro_avg.send(30)\n",
    "coro_avg.send(6.5)\n",
    "try:\n",
    "    coro_avg.send(STOP)\n",
    "except StopIteration as exc:\n",
    "    result = exc.value\n",
    "result"
   ]
  },
  {
   "cell_type": "code",
   "execution_count": 257,
   "id": "3694fc3a-7eb4-4637-b418-e1a467d4f9e5",
   "metadata": {},
   "outputs": [
    {
     "name": "stdout",
     "output_type": "stream",
     "text": [
      "received: 10\n",
      "received: 20\n",
      "received: 30\n",
      "received: <Sentinel>\n",
      "computed: Result(count=3, average=20.0)\n"
     ]
    }
   ],
   "source": [
    "def compute():\n",
    "    res = yield from averager2(True)\n",
    "    print('computed:', res)\n",
    "    return res\n",
    "\n",
    "comp = compute()\n",
    "for v in [None, 10, 20, 30, STOP]: # first is none to \"prime the coroutine\"\n",
    "    try:\n",
    "        comp.send(v)\n",
    "    except StopIteration as exc:\n",
    "        result = exc.value"
   ]
  },
  {
   "cell_type": "code",
   "execution_count": 258,
   "id": "2c033669-ec0c-4376-94c0-b661050ea514",
   "metadata": {},
   "outputs": [
    {
     "data": {
      "text/plain": [
       "'\\nIf a formal type parameter defines a type for data that comes out of the object, it\\ncan be covariant.\\n\\nIf a formal type parameter defines a type for data that goes into the object after its\\ninitial construction, it can be contravariant.\\n'"
      ]
     },
     "execution_count": 258,
     "metadata": {},
     "output_type": "execute_result"
    }
   ],
   "source": [
    "\"\"\"\n",
    "If a formal type parameter defines a type for data that comes out of the object, it\n",
    "can be covariant.\n",
    "\n",
    "If a formal type parameter defines a type for data that goes into the object after its\n",
    "initial construction, it can be contravariant.\n",
    "\"\"\""
   ]
  },
  {
   "cell_type": "code",
   "execution_count": null,
   "id": "53fc4df2-40e2-4ceb-acf1-ef7ca7f747fe",
   "metadata": {},
   "outputs": [],
   "source": []
  }
 ],
 "metadata": {
  "kernelspec": {
   "display_name": "Python 3 (ipykernel)",
   "language": "python",
   "name": "python3"
  },
  "language_info": {
   "codemirror_mode": {
    "name": "ipython",
    "version": 3
   },
   "file_extension": ".py",
   "mimetype": "text/x-python",
   "name": "python",
   "nbconvert_exporter": "python",
   "pygments_lexer": "ipython3",
   "version": "3.10.15"
  }
 },
 "nbformat": 4,
 "nbformat_minor": 5
}
