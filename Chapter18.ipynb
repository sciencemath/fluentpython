{
 "cells": [
  {
   "cell_type": "code",
   "execution_count": 1,
   "id": "e45e4f56-f745-4274-9d81-82af20353190",
   "metadata": {},
   "outputs": [
    {
     "data": {
      "text/plain": [
       "4"
      ]
     },
     "execution_count": 1,
     "metadata": {},
     "output_type": "execute_result"
    }
   ],
   "source": [
    "# __enter__, __exit__\n",
    "with open('cafe.txt') as fp:\n",
    "    src = fp.read(30)\n",
    "\n",
    "len(src)"
   ]
  },
  {
   "cell_type": "code",
   "execution_count": 2,
   "id": "78b87c7b-650c-47ee-99f1-f565dddd054e",
   "metadata": {},
   "outputs": [
    {
     "data": {
      "text/plain": [
       "<_io.TextIOWrapper name='cafe.txt' mode='r' encoding='UTF-8'>"
      ]
     },
     "execution_count": 2,
     "metadata": {},
     "output_type": "execute_result"
    }
   ],
   "source": [
    "fp"
   ]
  },
  {
   "cell_type": "code",
   "execution_count": 3,
   "id": "8daa7964-05b3-4ce8-9ff8-ccfebbb1d1ff",
   "metadata": {},
   "outputs": [
    {
     "data": {
      "text/plain": [
       "(True, 'UTF-8')"
      ]
     },
     "execution_count": 3,
     "metadata": {},
     "output_type": "execute_result"
    }
   ],
   "source": [
    "fp.closed, fp.encoding"
   ]
  },
  {
   "cell_type": "code",
   "execution_count": 5,
   "id": "e3fe3575-bc6a-4c4d-a9d2-ec58d43f32f6",
   "metadata": {},
   "outputs": [
    {
     "ename": "ValueError",
     "evalue": "I/O operation on closed file.",
     "output_type": "error",
     "traceback": [
      "\u001b[0;31m---------------------------------------------------------------------------\u001b[0m",
      "\u001b[0;31mValueError\u001b[0m                                Traceback (most recent call last)",
      "Cell \u001b[0;32mIn[5], line 1\u001b[0m\n\u001b[0;32m----> 1\u001b[0m \u001b[43mfp\u001b[49m\u001b[38;5;241;43m.\u001b[39;49m\u001b[43mread\u001b[49m\u001b[43m(\u001b[49m\u001b[38;5;241;43m4\u001b[39;49m\u001b[43m)\u001b[49m \u001b[38;5;66;03m# I/O error __exit__ was called after the with block\u001b[39;00m\n",
      "\u001b[0;31mValueError\u001b[0m: I/O operation on closed file."
     ]
    }
   ],
   "source": [
    "fp.read(4) # I/O error __exit__ was called after the with block"
   ]
  },
  {
   "cell_type": "code",
   "execution_count": 10,
   "id": "1a3ab20c-379d-4067-a7eb-aba755e60f22",
   "metadata": {},
   "outputs": [
    {
     "name": "stdout",
     "output_type": "stream",
     "text": [
      "pordwoN dna ,ecilA ,saihtaM\n",
      "MAERCECI\n"
     ]
    }
   ],
   "source": [
    "import sys\n",
    "\n",
    "class LookingGlass:\n",
    "\n",
    "    def __enter__(self):\n",
    "        self.original_write = sys.stdout.write\n",
    "        sys.stdout.write = self.reverse_write\n",
    "        return 'ICECREAM'\n",
    "\n",
    "    def reverse_write(self, text):\n",
    "        self.original_write(text[::-1])\n",
    "\n",
    "    def __exit__(self, exc_type, exc_value, traceback):\n",
    "        sys.stdout.write = self.original_write\n",
    "        if exc_type is ZeroDivisionError:\n",
    "            print('Please DO NOT divide by zero!')\n",
    "            return True\n",
    "\n",
    "# usually this would be imported method:\n",
    "# from filename import LookingGlass\n",
    "with LookingGlass() as what:\n",
    "    print('Mathias, Alice, and Nowdrop')\n",
    "    print(what)"
   ]
  },
  {
   "cell_type": "code",
   "execution_count": 11,
   "id": "b13ccbe7-9656-42da-9435-a919551f676a",
   "metadata": {},
   "outputs": [
    {
     "data": {
      "text/plain": [
       "'ICECREAM'"
      ]
     },
     "execution_count": 11,
     "metadata": {},
     "output_type": "execute_result"
    }
   ],
   "source": [
    "what"
   ]
  },
  {
   "cell_type": "code",
   "execution_count": 12,
   "id": "4f3cd581-5ea6-4e2b-9b95-701abee206ee",
   "metadata": {},
   "outputs": [
    {
     "data": {
      "text/plain": [
       "<__main__.LookingGlass at 0x110382470>"
      ]
     },
     "execution_count": 12,
     "metadata": {},
     "output_type": "execute_result"
    }
   ],
   "source": [
    "manager = LookingGlass()\n",
    "manager"
   ]
  },
  {
   "cell_type": "code",
   "execution_count": 17,
   "id": "5924472d-5530-4c80-b0fc-f087d75e094c",
   "metadata": {},
   "outputs": [
    {
     "data": {
      "text/plain": [
       "True"
      ]
     },
     "execution_count": 17,
     "metadata": {},
     "output_type": "execute_result"
    }
   ],
   "source": [
    "monster = manager.__enter__()\n",
    "monster == 'ICECREAM'"
   ]
  },
  {
   "cell_type": "code",
   "execution_count": 18,
   "id": "308c9ed1-1064-4f8a-b59e-4537a27b1171",
   "metadata": {},
   "outputs": [
    {
     "data": {
      "text/plain": [
       "'ICECREAM'"
      ]
     },
     "execution_count": 18,
     "metadata": {},
     "output_type": "execute_result"
    }
   ],
   "source": [
    "monster"
   ]
  },
  {
   "cell_type": "code",
   "execution_count": 19,
   "id": "c0045a2c-ba34-42ee-b903-95118d099218",
   "metadata": {},
   "outputs": [
    {
     "data": {
      "text/plain": [
       "<__main__.LookingGlass at 0x110382470>"
      ]
     },
     "execution_count": 19,
     "metadata": {},
     "output_type": "execute_result"
    }
   ],
   "source": [
    "manager"
   ]
  },
  {
   "cell_type": "code",
   "execution_count": 20,
   "id": "2cd88641-fa5a-4fdd-8bb9-9d173e6ceea6",
   "metadata": {},
   "outputs": [
    {
     "data": {
      "text/plain": [
       "'ICECREAM'"
      ]
     },
     "execution_count": 20,
     "metadata": {},
     "output_type": "execute_result"
    }
   ],
   "source": [
    "manager.__exit__(None, None, None)\n",
    "monster"
   ]
  },
  {
   "cell_type": "code",
   "execution_count": 2,
   "id": "cb692b03-ce43-4fcc-9997-ce598cf557a9",
   "metadata": {},
   "outputs": [],
   "source": [
    "# using @contextmanager saves us from writting __enter__/__exit__\n",
    "# __enter__ runs before yield, and __exit__ after yield\n",
    "# yield will be bounded to as\n",
    "import contextlib\n",
    "import sys\n",
    "\n",
    "@contextlib.contextmanager\n",
    "def looking_glass():\n",
    "    original_write = sys.stdout.write\n",
    "\n",
    "    def reverse_write(text):\n",
    "        original_write(text[::-1])\n",
    "\n",
    "    sys.stdout.write = reverse_write\n",
    "    try:\n",
    "        yield 'ICECREAM'\n",
    "    finally:\n",
    "        sys.stdout.write = original_write"
   ]
  },
  {
   "cell_type": "code",
   "execution_count": 3,
   "id": "25aefab2-05cf-45d4-bbcb-6c2b4617da97",
   "metadata": {},
   "outputs": [
    {
     "name": "stdout",
     "output_type": "stream",
     "text": [
      "enocwonS dna allinaV ,saihtaM\n",
      "MAERCECI\n"
     ]
    }
   ],
   "source": [
    "with looking_glass() as what:\n",
    "    print('Mathias, Vanilla and Snowcone')\n",
    "    print(what)"
   ]
  },
  {
   "cell_type": "code",
   "execution_count": 4,
   "id": "4cd5a49e-7bcd-4c7a-a133-b7f6cb052fa1",
   "metadata": {},
   "outputs": [
    {
     "data": {
      "text/plain": [
       "'ICECREAM'"
      ]
     },
     "execution_count": 4,
     "metadata": {},
     "output_type": "execute_result"
    }
   ],
   "source": [
    "what"
   ]
  },
  {
   "cell_type": "code",
   "execution_count": 13,
   "id": "ca7bb2e2-7458-44a0-99aa-2caeeb8138ac",
   "metadata": {},
   "outputs": [],
   "source": [
    "import contextlib\n",
    "import sys\n",
    "\n",
    "@contextlib.contextmanager\n",
    "def looking_glass():\n",
    "    original_write = sys.stdout.write\n",
    "\n",
    "    def reverse_write(text):\n",
    "        original_write(text[::-1])\n",
    "\n",
    "    sys.stdout.write = reverse_write\n",
    "    msg = ''\n",
    "    try:\n",
    "        yield 'ICECREAM'\n",
    "    except ZeroDivisionError:\n",
    "        msg = 'Please DO NOT divide by zero!'\n",
    "    finally:\n",
    "        sys.stdout.write = original_write\n",
    "        if msg:\n",
    "            print(msg)"
   ]
  },
  {
   "cell_type": "code",
   "execution_count": 16,
   "id": "c6ac5625-50cb-450c-b6c1-7944ba100649",
   "metadata": {},
   "outputs": [
    {
     "name": "stdout",
     "output_type": "stream",
     "text": [
      "won si erutuf ehT\n"
     ]
    }
   ],
   "source": [
    "@looking_glass()\n",
    "def verse():\n",
    "    print('The future is now')\n",
    "\n",
    "verse()"
   ]
  },
  {
   "cell_type": "code",
   "execution_count": 22,
   "id": "d3e1b955-9eb9-4277-b20b-3e9294080384",
   "metadata": {},
   "outputs": [
    {
     "name": "stdout",
     "output_type": "stream",
     "text": [
      "9\n"
     ]
    }
   ],
   "source": [
    "def mod(m, n):\n",
    "    return m - (m // n * n)\n",
    "\n",
    "def gcd(m, n):\n",
    "    if n == 0:\n",
    "        return m\n",
    "    else:\n",
    "        return gcd(n, mod(m, n))\n",
    "\n",
    "print(gcd(18, 45))"
   ]
  },
  {
   "cell_type": "code",
   "execution_count": 25,
   "id": "785dd370-742f-4331-aca8-492cd4c449ca",
   "metadata": {},
   "outputs": [],
   "source": [
    "from collections import ChainMap\n",
    "from typing import Any, TypeAlias\n",
    "\n",
    "Symbol: TypeAlias = str\n",
    "\n",
    "class Environment(ChainMap[Symbol, Any]):\n",
    "    def change(self, key: Symbol, value: Any) -> None:\n",
    "        for map in self.maps:\n",
    "            if key in map:\n",
    "                map[key] = value\n",
    "                return\n",
    "        raise KeyError(key)"
   ]
  },
  {
   "cell_type": "code",
   "execution_count": 26,
   "id": "2f5ec640-5cff-4d34-812f-f87c05d2d815",
   "metadata": {},
   "outputs": [
    {
     "data": {
      "text/plain": [
       "2"
      ]
     },
     "execution_count": 26,
     "metadata": {},
     "output_type": "execute_result"
    }
   ],
   "source": [
    "inner_env = {'a': 2}\n",
    "outer_env = {'a': 0, 'b': 1}\n",
    "env = Environment(inner_env, outer_env)\n",
    "env['a']"
   ]
  },
  {
   "cell_type": "code",
   "execution_count": 27,
   "id": "3faf4ef9-1b0d-4a9d-a0fe-64fc67518248",
   "metadata": {},
   "outputs": [
    {
     "data": {
      "text/plain": [
       "Environment({'a': 111, 'c': 222}, {'a': 0, 'b': 1})"
      ]
     },
     "execution_count": 27,
     "metadata": {},
     "output_type": "execute_result"
    }
   ],
   "source": [
    "env['a'] = 111\n",
    "env['c'] = 222\n",
    "env"
   ]
  },
  {
   "cell_type": "code",
   "execution_count": 28,
   "id": "8da9089e-5a54-4f63-9c3b-6c877a5ad252",
   "metadata": {},
   "outputs": [
    {
     "data": {
      "text/plain": [
       "Environment({'a': 111, 'c': 222}, {'a': 0, 'b': 333})"
      ]
     },
     "execution_count": 28,
     "metadata": {},
     "output_type": "execute_result"
    }
   ],
   "source": [
    "env.change('b', 333)\n",
    "env"
   ]
  },
  {
   "cell_type": "code",
   "execution_count": 30,
   "id": "dc2431bd-d173-49c9-baf1-9ec93627a0bc",
   "metadata": {},
   "outputs": [],
   "source": [
    "import math\n",
    "\n",
    "def standard_env() -> Environment:\n",
    "    env = Environment()\n",
    "    env.update(vars(math)) # sin, cos, sqrt, etc"
   ]
  },
  {
   "cell_type": "code",
   "execution_count": 33,
   "id": "c14398ba-3dd3-4808-a224-8ce25632cda1",
   "metadata": {},
   "outputs": [],
   "source": [
    "# just used as an example to parse Scheme, and create an AST\n",
    "Atom: TypeAlias = float | int | Symbol\n",
    "Expression: TypeAlias = Atom | list\n",
    "\n",
    "KEYWORDS = ['quote', 'if', 'lambda', 'define', 'set!']\n",
    "\n",
    "def evaluate(exp: Expression, env: Environment) -> Any:\n",
    "    match exp:\n",
    "        case int(x) | float(x):\n",
    "            return x\n",
    "        case Symbol(var):\n",
    "            return env[var]\n",
    "        case ['quote', x]:\n",
    "            return x\n",
    "        case ['if', test, consequence, alternative]:\n",
    "            if evaluate(test, env):\n",
    "                return evaluate(consequence, env)\n",
    "            else:\n",
    "                return evaluate(alternative, env)\n",
    "        case ['lambda', [*parms], *body] if body:\n",
    "            return Procedure(parms, body, env)\n",
    "        case ['define', Symbol(name), value_exp]:\n",
    "            env[name] = evaluate(value_exp, env)\n",
    "        case ['define', [Symbol(name), *parms], *body] if body:\n",
    "            env[name] = Procedure(parms, body, env)\n",
    "        case ['set!', Symbol(name), value_exp]:\n",
    "            env.change(name, evaluate(value_exp, env))\n",
    "        case [func_exp, *args] if func_exp not in KEYWORDS:\n",
    "            proc = evaluate(func_exp, env)\n",
    "            values = [evaluate(arg, env) for arg in args]\n",
    "            return proc(*values)\n",
    "        case _:\n",
    "            raise SyntaxError(listpstr(exp))"
   ]
  },
  {
   "cell_type": "code",
   "execution_count": 35,
   "id": "2351f741-e736-49b0-9269-adfc5549fa8c",
   "metadata": {},
   "outputs": [],
   "source": [
    "# (if (< x 0) 0 x)\n",
    "# case ['if', test, consequence, alternative]"
   ]
  },
  {
   "cell_type": "code",
   "execution_count": 36,
   "id": "6fd893ef-0f30-4a7e-9285-ead10af90d39",
   "metadata": {},
   "outputs": [],
   "source": [
    "# (lambda (a b) (/ (+ a b) 2))\n",
    "# case ['lambda', [*parms], *body]"
   ]
  },
  {
   "cell_type": "code",
   "execution_count": 37,
   "id": "e8c27d2f-a377-4def-aa33-c394dd2ea36b",
   "metadata": {},
   "outputs": [],
   "source": [
    "# (quote (99 bottles of beer))\n",
    "# case ['quote', x]:"
   ]
  },
  {
   "cell_type": "code",
   "execution_count": 38,
   "id": "3e11d9b3-00cc-4c47-af9f-6a66434aaaee",
   "metadata": {},
   "outputs": [],
   "source": [
    "# (define half (/ 1 2))\n",
    "# case ['define', Symbol(name), value_exp]"
   ]
  },
  {
   "cell_type": "code",
   "execution_count": 39,
   "id": "eee82908-ef29-4ec6-bf64-2d99410e189e",
   "metadata": {},
   "outputs": [],
   "source": [
    "# (define (average a b) (/ (+ a b) 2))\n",
    "# case ['define', [Symbol(name), *parms], *body]"
   ]
  },
  {
   "cell_type": "code",
   "execution_count": 40,
   "id": "c79bb6de-9e8d-452c-b009-182b512e6b74",
   "metadata": {},
   "outputs": [],
   "source": [
    "# (set! n (+ n 1))\n",
    "# case ['set!', Symbol(name), value_exp]:"
   ]
  },
  {
   "cell_type": "code",
   "execution_count": 41,
   "id": "fea469fa-97c7-4dc6-a1f9-567eff5a20f3",
   "metadata": {},
   "outputs": [
    {
     "data": {
      "text/plain": [
       "'\\nOur averager function in Scheme:\\n(define (make-averager)\\n    (define count 0)\\n    (define total 0)\\n    (lambda (new-value)\\n        (set! count (+ count 1))\\n        (set! total (+ total new-value))\\n        (/ total count)\\n    )\\n)\\n\\n(define avg (make-averager))\\n(avg 10)\\n(avg 11)\\n(avg 15)\\n'"
      ]
     },
     "execution_count": 41,
     "metadata": {},
     "output_type": "execute_result"
    }
   ],
   "source": [
    "\"\"\"\n",
    "Our averager function in Scheme:\n",
    "(define (make-averager)\n",
    "    (define count 0)\n",
    "    (define total 0)\n",
    "    (lambda (new-value)\n",
    "        (set! count (+ count 1))\n",
    "        (set! total (+ total new-value))\n",
    "        (/ total count)\n",
    "    )\n",
    ")\n",
    "\n",
    "(define avg (make-averager))\n",
    "(avg 10)\n",
    "(avg 11)\n",
    "(avg 15)\n",
    "\"\"\""
   ]
  },
  {
   "cell_type": "code",
   "execution_count": 42,
   "id": "ef8a4ba9-6fcd-4503-91b9-550685c073ea",
   "metadata": {},
   "outputs": [],
   "source": [
    "# (gcd (* 2 105) 84)\n",
    "# case [func_exp, *args]"
   ]
  },
  {
   "cell_type": "code",
   "execution_count": 43,
   "id": "cbf5a0aa-a390-424a-873a-0352707b1175",
   "metadata": {},
   "outputs": [],
   "source": [
    "class Procedure:\n",
    "    def __init__(self, parms: list[Symbol], body: list[Expression], env: Environment):\n",
    "        self.parms = parns\n",
    "        self.body = body\n",
    "        self.env = env\n",
    "\n",
    "    def __call__(self, *args: Expression) -> Any:\n",
    "        local_env = dict(zip(parms, args))\n",
    "        env = Environment(local_env, self.env)\n",
    "        for exp in self.body:\n",
    "            result = evaluate(exp, env)\n",
    "        return result"
   ]
  },
  {
   "cell_type": "code",
   "execution_count": 44,
   "id": "479d770b-4e7e-477c-ac9f-c6c76246fb46",
   "metadata": {},
   "outputs": [],
   "source": [
    "# In a case clause the | operator has special meaning it does not trigger __or__\n",
    "# (λ (a b) (/ (+ a b) 2) )\n",
    "# case ['lambda' | 'λ', [*parms], *body]"
   ]
  },
  {
   "cell_type": "code",
   "execution_count": 64,
   "id": "aa37a120-9e07-4626-951b-78b18632f0a7",
   "metadata": {},
   "outputs": [
    {
     "ename": "ValueError",
     "evalue": "No banana flavor found!",
     "output_type": "error",
     "traceback": [
      "\u001b[0;31m---------------------------------------------------------------------------\u001b[0m",
      "\u001b[0;31mValueError\u001b[0m                                Traceback (most recent call last)",
      "Cell \u001b[0;32mIn[64], line 16\u001b[0m\n\u001b[1;32m     14\u001b[0m        \u001b[38;5;28;01mbreak\u001b[39;00m\n\u001b[1;32m     15\u001b[0m \u001b[38;5;28;01melse\u001b[39;00m:\n\u001b[0;32m---> 16\u001b[0m    \u001b[38;5;28;01mraise\u001b[39;00m \u001b[38;5;167;01mValueError\u001b[39;00m(\u001b[38;5;124m'\u001b[39m\u001b[38;5;124mNo banana flavor found!\u001b[39m\u001b[38;5;124m'\u001b[39m)\n",
      "\u001b[0;31mValueError\u001b[0m: No banana flavor found!"
     ]
    }
   ],
   "source": [
    "# else will run only if and when the for loop runs to completion (not if the for is aborted)\n",
    "class FlavorItem:\n",
    "    def __init__(self, flavor):\n",
    "        self.flavor = flavor\n",
    "        \n",
    "my_list = [\n",
    "    FlavorItem(\"chocolate\"),\n",
    "    FlavorItem(\"vanilla\"),\n",
    "    FlavorItem(\"strawberry\"),\n",
    "    FlavorItem(\"bananas\"),\n",
    "]\n",
    "for item in my_list:\n",
    "    if item.flavor == 'banana':\n",
    "       break\n",
    "else:\n",
    "   raise ValueError('No banana flavor found!')"
   ]
  },
  {
   "cell_type": "code",
   "execution_count": 65,
   "id": "ceb867ba-0f14-445a-b9ee-23ea60ba5bb8",
   "metadata": {},
   "outputs": [
    {
     "data": {
      "text/plain": [
       "\"\\nBAD!\\ntry:\\n    dangerous_call()\\n    after_call()\\nexcept OSError:\\n    log('OSError...')\\n\\nGOOD!\\ntry:\\n    dangerous_call()\\nexcept OSError:\\n    log('OSError...')\\nelse:\\n    after_call()\\n\""
      ]
     },
     "execution_count": 65,
     "metadata": {},
     "output_type": "execute_result"
    }
   ],
   "source": [
    "# try block should only have statements that may generate the expected exceptions\n",
    "\"\"\"\n",
    "BAD!\n",
    "try:\n",
    "    dangerous_call()\n",
    "    after_call()\n",
    "except OSError:\n",
    "    log('OSError...')\n",
    "\n",
    "GOOD!\n",
    "try:\n",
    "    dangerous_call()\n",
    "except OSError:\n",
    "    log('OSError...')\n",
    "else:\n",
    "    after_call()\n",
    "\"\"\""
   ]
  },
  {
   "cell_type": "code",
   "execution_count": 66,
   "id": "1824e056-4011-4b22-a2d6-290632216ad1",
   "metadata": {},
   "outputs": [
    {
     "data": {
      "text/plain": [
       "'\\nCoding styles\\n\\nEAFP:\\nEasier to ask for forgiveness than permission.\\n\\nLBYL:\\nLook before you leap.\\n'"
      ]
     },
     "execution_count": 66,
     "metadata": {},
     "output_type": "execute_result"
    }
   ],
   "source": [
    "\"\"\"\n",
    "Coding styles\n",
    "\n",
    "EAFP:\n",
    "Easier to ask for forgiveness than permission.\n",
    "\n",
    "LBYL:\n",
    "Look before you leap.\n",
    "\"\"\""
   ]
  },
  {
   "cell_type": "code",
   "execution_count": 67,
   "id": "f033cada-a045-4f71-856c-ff68415d4608",
   "metadata": {},
   "outputs": [
    {
     "data": {
      "text/plain": [
       "'\\nnon-tail factorial\\ndef factorial(n):\\n    if n < 2:\\n        return 1\\n    return n * factorial(n - 1)\\n\\ntail factorial\\ndef factorial_tc(n, product=1):\\n    if n < 1:\\n        return product\\n    return factorial_tc(n - 1, product * n)\\n'"
      ]
     },
     "execution_count": 67,
     "metadata": {},
     "output_type": "execute_result"
    }
   ],
   "source": [
    "\"\"\"\n",
    "non-tail factorial\n",
    "def factorial(n):\n",
    "    if n < 2:\n",
    "        return 1\n",
    "    return n * factorial(n - 1)\n",
    "\n",
    "tail factorial\n",
    "def factorial_tc(n, product=1):\n",
    "    if n < 1:\n",
    "        return product\n",
    "    return factorial_tc(n - 1, product * n)\n",
    "\"\"\""
   ]
  }
 ],
 "metadata": {
  "kernelspec": {
   "display_name": "Python 3 (ipykernel)",
   "language": "python",
   "name": "python3"
  },
  "language_info": {
   "codemirror_mode": {
    "name": "ipython",
    "version": 3
   },
   "file_extension": ".py",
   "mimetype": "text/x-python",
   "name": "python",
   "nbconvert_exporter": "python",
   "pygments_lexer": "ipython3",
   "version": "3.10.15"
  }
 },
 "nbformat": 4,
 "nbformat_minor": 5
}
