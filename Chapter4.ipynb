{
 "cells": [
  {
   "cell_type": "code",
   "execution_count": 2,
   "id": "30eba888-fb6c-4fe6-8773-303bbe845f21",
   "metadata": {},
   "outputs": [
    {
     "data": {
      "text/plain": [
       "4"
      ]
     },
     "execution_count": 2,
     "metadata": {},
     "output_type": "execute_result"
    }
   ],
   "source": [
    "s = 'café'\n",
    "len(s)"
   ]
  },
  {
   "cell_type": "code",
   "execution_count": 3,
   "id": "0ba33bac-d88a-4b09-b520-dcde3cc57e01",
   "metadata": {},
   "outputs": [
    {
     "data": {
      "text/plain": [
       "b'caf\\xc3\\xa9'"
      ]
     },
     "execution_count": 3,
     "metadata": {},
     "output_type": "execute_result"
    }
   ],
   "source": [
    "b = s.encode('utf8')\n",
    "b"
   ]
  },
  {
   "cell_type": "code",
   "execution_count": 4,
   "id": "45dcbb62-ba63-4548-b568-1ce80d26410b",
   "metadata": {},
   "outputs": [
    {
     "data": {
      "text/plain": [
       "5"
      ]
     },
     "execution_count": 4,
     "metadata": {},
     "output_type": "execute_result"
    }
   ],
   "source": [
    "len(b)"
   ]
  },
  {
   "cell_type": "code",
   "execution_count": 5,
   "id": "f2cb7235-8c7c-4a57-85ef-da55b15edda9",
   "metadata": {},
   "outputs": [
    {
     "data": {
      "text/plain": [
       "'café'"
      ]
     },
     "execution_count": 5,
     "metadata": {},
     "output_type": "execute_result"
    }
   ],
   "source": [
    "b.decode('utf8')"
   ]
  },
  {
   "cell_type": "code",
   "execution_count": 6,
   "id": "ce89b523-23ef-4950-a9bf-53b971f0fe70",
   "metadata": {},
   "outputs": [
    {
     "data": {
      "text/plain": [
       "b'caf\\xc3\\xa9'"
      ]
     },
     "execution_count": 6,
     "metadata": {},
     "output_type": "execute_result"
    }
   ],
   "source": [
    "cafe = bytes('café', encoding='utf_8')\n",
    "cafe"
   ]
  },
  {
   "cell_type": "code",
   "execution_count": 15,
   "id": "040acbf7-c598-41d0-a81e-7d84d97b8f82",
   "metadata": {},
   "outputs": [
    {
     "data": {
      "text/plain": [
       "99"
      ]
     },
     "execution_count": 15,
     "metadata": {},
     "output_type": "execute_result"
    }
   ],
   "source": [
    "cafe[0]"
   ]
  },
  {
   "cell_type": "code",
   "execution_count": 8,
   "id": "70698e0c-9079-493f-afa5-c296076c665d",
   "metadata": {},
   "outputs": [
    {
     "data": {
      "text/plain": [
       "b'c'"
      ]
     },
     "execution_count": 8,
     "metadata": {},
     "output_type": "execute_result"
    }
   ],
   "source": [
    "cafe[:1]"
   ]
  },
  {
   "cell_type": "code",
   "execution_count": 9,
   "id": "0bc08fc2-9150-4226-997f-b2b648576c93",
   "metadata": {},
   "outputs": [
    {
     "data": {
      "text/plain": [
       "bytearray(b'caf\\xc3\\xa9')"
      ]
     },
     "execution_count": 9,
     "metadata": {},
     "output_type": "execute_result"
    }
   ],
   "source": [
    "cafe_arr = bytearray(cafe)\n",
    "cafe_arr"
   ]
  },
  {
   "cell_type": "code",
   "execution_count": 10,
   "id": "92352c8c-2c79-48ec-a61a-3e967a731966",
   "metadata": {},
   "outputs": [
    {
     "data": {
      "text/plain": [
       "bytearray(b'\\xa9')"
      ]
     },
     "execution_count": 10,
     "metadata": {},
     "output_type": "execute_result"
    }
   ],
   "source": [
    "cafe_arr[-1:]"
   ]
  },
  {
   "cell_type": "code",
   "execution_count": 17,
   "id": "c94cbc2e-4544-45c9-9ff3-1242eeff6c56",
   "metadata": {},
   "outputs": [
    {
     "data": {
      "text/plain": [
       "b'\\xfe\\xff\\xff\\xff\\x00\\x00\\x01\\x00\\x02\\x00'"
      ]
     },
     "execution_count": 17,
     "metadata": {},
     "output_type": "execute_result"
    }
   ],
   "source": [
    "# https://docs.python.org/3/library/array.html\n",
    "import array\n",
    "numbers = array.array('h', [-2,-1,0,1,2]) # 'h' signed short\n",
    "octects = bytes(numbers)\n",
    "octects"
   ]
  },
  {
   "cell_type": "code",
   "execution_count": 18,
   "id": "9ce1b988-6283-4ab9-b568-04837ae28ac1",
   "metadata": {},
   "outputs": [
    {
     "name": "stdout",
     "output_type": "stream",
     "text": [
      "latin_1\tb'El Ni\\xf1o'\n",
      "utf_8\tb'El Ni\\xc3\\xb1o'\n",
      "utf_16\tb'\\xff\\xfeE\\x00l\\x00 \\x00N\\x00i\\x00\\xf1\\x00o\\x00'\n"
     ]
    }
   ],
   "source": [
    "for encoding in ['latin_1', 'utf_8', 'utf_16']:\n",
    "    print(encoding, 'El Niño'.encode(encoding), sep='\\t')"
   ]
  },
  {
   "cell_type": "code",
   "execution_count": 19,
   "id": "7982b271-aa1e-41b2-a6d4-4a3963d7a796",
   "metadata": {},
   "outputs": [
    {
     "data": {
      "text/plain": [
       "b'S\\xc3\\xa3o Paulo'"
      ]
     },
     "execution_count": 19,
     "metadata": {},
     "output_type": "execute_result"
    }
   ],
   "source": [
    "city = 'São Paulo'\n",
    "city.encode('utf_8')"
   ]
  },
  {
   "cell_type": "code",
   "execution_count": 20,
   "id": "05226256-61e4-4874-9fa6-b0f70f9d8de6",
   "metadata": {},
   "outputs": [
    {
     "data": {
      "text/plain": [
       "b'\\xff\\xfeS\\x00\\xe3\\x00o\\x00 \\x00P\\x00a\\x00u\\x00l\\x00o\\x00'"
      ]
     },
     "execution_count": 20,
     "metadata": {},
     "output_type": "execute_result"
    }
   ],
   "source": [
    "city.encode('utf_16')"
   ]
  },
  {
   "cell_type": "code",
   "execution_count": 21,
   "id": "aeabb1ca-0817-4798-9feb-f47af9e98857",
   "metadata": {},
   "outputs": [
    {
     "data": {
      "text/plain": [
       "b'S\\xe3o Paulo'"
      ]
     },
     "execution_count": 21,
     "metadata": {},
     "output_type": "execute_result"
    }
   ],
   "source": [
    "city.encode('iso8859_1')"
   ]
  },
  {
   "cell_type": "code",
   "execution_count": 22,
   "id": "2e17318c-7237-4709-80ff-bc4a8296478a",
   "metadata": {},
   "outputs": [
    {
     "ename": "UnicodeEncodeError",
     "evalue": "'charmap' codec can't encode character '\\xe3' in position 1: character maps to <undefined>",
     "output_type": "error",
     "traceback": [
      "\u001b[0;31m---------------------------------------------------------------------------\u001b[0m",
      "\u001b[0;31mUnicodeEncodeError\u001b[0m                        Traceback (most recent call last)",
      "Cell \u001b[0;32mIn[22], line 1\u001b[0m\n\u001b[0;32m----> 1\u001b[0m \u001b[43mcity\u001b[49m\u001b[38;5;241;43m.\u001b[39;49m\u001b[43mencode\u001b[49m\u001b[43m(\u001b[49m\u001b[38;5;124;43m'\u001b[39;49m\u001b[38;5;124;43mcp437\u001b[39;49m\u001b[38;5;124;43m'\u001b[39;49m\u001b[43m)\u001b[49m\n",
      "File \u001b[0;32m~/miniforge3/envs/myenv/lib/python3.10/encodings/cp437.py:12\u001b[0m, in \u001b[0;36mCodec.encode\u001b[0;34m(self, input, errors)\u001b[0m\n\u001b[1;32m     11\u001b[0m \u001b[38;5;28;01mdef\u001b[39;00m \u001b[38;5;21mencode\u001b[39m(\u001b[38;5;28mself\u001b[39m,\u001b[38;5;28minput\u001b[39m,errors\u001b[38;5;241m=\u001b[39m\u001b[38;5;124m'\u001b[39m\u001b[38;5;124mstrict\u001b[39m\u001b[38;5;124m'\u001b[39m):\n\u001b[0;32m---> 12\u001b[0m     \u001b[38;5;28;01mreturn\u001b[39;00m \u001b[43mcodecs\u001b[49m\u001b[38;5;241;43m.\u001b[39;49m\u001b[43mcharmap_encode\u001b[49m\u001b[43m(\u001b[49m\u001b[38;5;28;43minput\u001b[39;49m\u001b[43m,\u001b[49m\u001b[43merrors\u001b[49m\u001b[43m,\u001b[49m\u001b[43mencoding_map\u001b[49m\u001b[43m)\u001b[49m\n",
      "\u001b[0;31mUnicodeEncodeError\u001b[0m: 'charmap' codec can't encode character '\\xe3' in position 1: character maps to <undefined>"
     ]
    }
   ],
   "source": [
    "city.encode('cp437') # UnicodeEncodeError can't encode the ã"
   ]
  },
  {
   "cell_type": "code",
   "execution_count": 23,
   "id": "87ef74e2-f907-477e-ad91-54f57cd655de",
   "metadata": {},
   "outputs": [
    {
     "data": {
      "text/plain": [
       "b'So Paulo'"
      ]
     },
     "execution_count": 23,
     "metadata": {},
     "output_type": "execute_result"
    }
   ],
   "source": [
    "city.encode('cp437', errors='ignore') # bad idea since it leads to data lose"
   ]
  },
  {
   "cell_type": "code",
   "execution_count": 24,
   "id": "60468fb4-3f99-4703-95a8-b808ad13b064",
   "metadata": {},
   "outputs": [
    {
     "data": {
      "text/plain": [
       "b'S?o Paulo'"
      ]
     },
     "execution_count": 24,
     "metadata": {},
     "output_type": "execute_result"
    }
   ],
   "source": [
    "city.encode('cp437', errors='replace')"
   ]
  },
  {
   "cell_type": "code",
   "execution_count": 25,
   "id": "fe6d4d3c-97b2-4c19-be9e-79f54ec6580e",
   "metadata": {},
   "outputs": [
    {
     "data": {
      "text/plain": [
       "b'S&#227;o Paulo'"
      ]
     },
     "execution_count": 25,
     "metadata": {},
     "output_type": "execute_result"
    }
   ],
   "source": [
    "city.encode('cp437', errors='xmlcharrefreplace')"
   ]
  },
  {
   "cell_type": "code",
   "execution_count": 26,
   "id": "b12c15df-4867-4e9e-b62b-2c42cd1ac326",
   "metadata": {},
   "outputs": [
    {
     "data": {
      "text/plain": [
       "'Montréal'"
      ]
     },
     "execution_count": 26,
     "metadata": {},
     "output_type": "execute_result"
    }
   ],
   "source": [
    "octets = b'Montr\\xe9al'\n",
    "octets.decode('cp1252')"
   ]
  },
  {
   "cell_type": "code",
   "execution_count": 27,
   "id": "befe8980-dc17-4a01-96df-60aefde5a1bd",
   "metadata": {},
   "outputs": [
    {
     "data": {
      "text/plain": [
       "'Montrιal'"
      ]
     },
     "execution_count": 27,
     "metadata": {},
     "output_type": "execute_result"
    }
   ],
   "source": [
    "octets.decode('iso8859_7')"
   ]
  },
  {
   "cell_type": "code",
   "execution_count": 28,
   "id": "2dca269d-9a2d-4917-b9c5-51b83e2a51be",
   "metadata": {},
   "outputs": [
    {
     "data": {
      "text/plain": [
       "'MontrИal'"
      ]
     },
     "execution_count": 28,
     "metadata": {},
     "output_type": "execute_result"
    }
   ],
   "source": [
    "# Russian \\xe9 И\n",
    "octets.decode('koi8_r')"
   ]
  },
  {
   "cell_type": "code",
   "execution_count": 29,
   "id": "d2df7397-13e5-4863-944f-401e7b59576d",
   "metadata": {},
   "outputs": [
    {
     "ename": "UnicodeDecodeError",
     "evalue": "'utf-8' codec can't decode byte 0xe9 in position 5: invalid continuation byte",
     "output_type": "error",
     "traceback": [
      "\u001b[0;31m---------------------------------------------------------------------------\u001b[0m",
      "\u001b[0;31mUnicodeDecodeError\u001b[0m                        Traceback (most recent call last)",
      "Cell \u001b[0;32mIn[29], line 1\u001b[0m\n\u001b[0;32m----> 1\u001b[0m \u001b[43moctets\u001b[49m\u001b[38;5;241;43m.\u001b[39;49m\u001b[43mdecode\u001b[49m\u001b[43m(\u001b[49m\u001b[38;5;124;43m'\u001b[39;49m\u001b[38;5;124;43mutf_8\u001b[39;49m\u001b[38;5;124;43m'\u001b[39;49m\u001b[43m)\u001b[49m\n",
      "\u001b[0;31mUnicodeDecodeError\u001b[0m: 'utf-8' codec can't decode byte 0xe9 in position 5: invalid continuation byte"
     ]
    }
   ],
   "source": [
    "octets.decode('utf_8')"
   ]
  },
  {
   "cell_type": "code",
   "execution_count": 30,
   "id": "09097a22-958a-4253-8d08-4f5a5ca328aa",
   "metadata": {},
   "outputs": [
    {
     "data": {
      "text/plain": [
       "'Montr�al'"
      ]
     },
     "execution_count": 30,
     "metadata": {},
     "output_type": "execute_result"
    }
   ],
   "source": [
    "# � U+FFFD\n",
    "octets.decode('utf_8', errors='replace')"
   ]
  },
  {
   "cell_type": "code",
   "execution_count": 32,
   "id": "ca2153e8-a9a4-41fd-bc6e-78aaaf39fb31",
   "metadata": {},
   "outputs": [],
   "source": [
    "# if you load a .py file and get an error:\n",
    "# SyntaxError: Non-UTF-8 code starting with '\\xe1'\n",
    "# you can add a magic coding comment at the top of the file\n",
    "# coding: cp1252 <---- THIS!\n",
    "# but its better to convert everything to UTF-8!"
   ]
  },
  {
   "cell_type": "code",
   "execution_count": 33,
   "id": "aa877daf-e925-48a1-831c-fce44b53bab9",
   "metadata": {},
   "outputs": [
    {
     "data": {
      "text/plain": [
       "b'\\xff\\xfeE\\x00l\\x00 \\x00N\\x00i\\x00\\xf1\\x00o\\x00'"
      ]
     },
     "execution_count": 33,
     "metadata": {},
     "output_type": "execute_result"
    }
   ],
   "source": [
    "# BOM bytes are b'\\xff\\xfe'. That is a BOM—byte-order mark—denoting the “little-endian” \n",
    "u16 = 'El Niño'.encode('utf_16')\n",
    "u16\n",
    "# there is no U+FFFE character in Unicode, the byte sequence b'\\xff\\xfe' must mean the ZERO WIDTH NO-BREAK SPACE"
   ]
  },
  {
   "cell_type": "code",
   "execution_count": 34,
   "id": "d7bbcde9-0bde-465f-88e2-488b6525a1d5",
   "metadata": {},
   "outputs": [
    {
     "data": {
      "text/plain": [
       "'café'"
      ]
     },
     "execution_count": 34,
     "metadata": {},
     "output_type": "execute_result"
    }
   ],
   "source": [
    "open('cafe.txt', 'w', encoding='utf_8').write('café')\n",
    "open('cafe.txt').read() # this works perfectly because I am on a mac (default encoding is utf-8"
   ]
  },
  {
   "cell_type": "code",
   "execution_count": 36,
   "id": "21d30597-484a-481a-89d0-4144484f0f72",
   "metadata": {},
   "outputs": [
    {
     "data": {
      "text/plain": [
       "<_io.TextIOWrapper name='cafe.txt' mode='w' encoding='utf_8'>"
      ]
     },
     "execution_count": 36,
     "metadata": {},
     "output_type": "execute_result"
    }
   ],
   "source": [
    "fp = open('cafe.txt', 'w', encoding='utf_8')\n",
    "fp"
   ]
  },
  {
   "cell_type": "code",
   "execution_count": 37,
   "id": "cd83c6f5-c837-4539-aab5-4bc57313cada",
   "metadata": {},
   "outputs": [
    {
     "data": {
      "text/plain": [
       "4"
      ]
     },
     "execution_count": 37,
     "metadata": {},
     "output_type": "execute_result"
    }
   ],
   "source": [
    "fp.write('café')"
   ]
  },
  {
   "cell_type": "code",
   "execution_count": 38,
   "id": "a3a82fe7-a12f-4757-a6af-e91dbdbd6ce6",
   "metadata": {},
   "outputs": [],
   "source": [
    "fp.close()"
   ]
  },
  {
   "cell_type": "code",
   "execution_count": 39,
   "id": "4e810d55-74bf-4d9d-b8d5-b6babb9a1ec5",
   "metadata": {},
   "outputs": [
    {
     "data": {
      "text/plain": [
       "5"
      ]
     },
     "execution_count": 39,
     "metadata": {},
     "output_type": "execute_result"
    }
   ],
   "source": [
    "import os\n",
    "os.stat('cafe.txt').st_size # 5 bytes é is 2 bytes: 0xc3 and 0xa9"
   ]
  },
  {
   "cell_type": "code",
   "execution_count": 40,
   "id": "5998fb07-6c8f-4e9f-833f-666a90c6665c",
   "metadata": {},
   "outputs": [
    {
     "data": {
      "text/plain": [
       "<_io.TextIOWrapper name='cafe.txt' mode='r' encoding='UTF-8'>"
      ]
     },
     "execution_count": 40,
     "metadata": {},
     "output_type": "execute_result"
    }
   ],
   "source": [
    "fp2 = open('cafe.txt')\n",
    "fp2 # on my machine this is still utf-8 by default\n",
    "# We should never assume locale.getpreferredencoding() default encoding, always specify"
   ]
  },
  {
   "cell_type": "code",
   "execution_count": 41,
   "id": "8f41cfc0-05f5-44dc-840e-c20006fdc711",
   "metadata": {},
   "outputs": [
    {
     "data": {
      "text/plain": [
       "'UTF-8'"
      ]
     },
     "execution_count": 41,
     "metadata": {},
     "output_type": "execute_result"
    }
   ],
   "source": [
    "fp2.encoding"
   ]
  },
  {
   "cell_type": "code",
   "execution_count": 42,
   "id": "dd2c0241-4a88-4af7-b09b-c65d31de91fa",
   "metadata": {},
   "outputs": [
    {
     "data": {
      "text/plain": [
       "'café'"
      ]
     },
     "execution_count": 42,
     "metadata": {},
     "output_type": "execute_result"
    }
   ],
   "source": [
    "fp2.read()"
   ]
  },
  {
   "cell_type": "code",
   "execution_count": 44,
   "id": "44b18c86-8abf-4682-9fed-a353e2df1a4f",
   "metadata": {},
   "outputs": [
    {
     "data": {
      "text/plain": [
       "<_io.TextIOWrapper name='cafe.txt' mode='r' encoding='utf_8'>"
      ]
     },
     "execution_count": 44,
     "metadata": {},
     "output_type": "execute_result"
    }
   ],
   "source": [
    "fp3 = open('cafe.txt', encoding='utf_8')\n",
    "fp3"
   ]
  },
  {
   "cell_type": "code",
   "execution_count": 45,
   "id": "2f2a2869-f6a8-4755-870e-6658b1c27709",
   "metadata": {},
   "outputs": [
    {
     "data": {
      "text/plain": [
       "'café'"
      ]
     },
     "execution_count": 45,
     "metadata": {},
     "output_type": "execute_result"
    }
   ],
   "source": [
    "fp3.read()"
   ]
  },
  {
   "cell_type": "code",
   "execution_count": 47,
   "id": "dd03e148-e6a9-42d0-8ecf-ef164500057a",
   "metadata": {},
   "outputs": [
    {
     "data": {
      "text/plain": [
       "<_io.TextIOWrapper name='cafe.txt' mode='r' encoding='cp1252'>"
      ]
     },
     "execution_count": 47,
     "metadata": {},
     "output_type": "execute_result"
    }
   ],
   "source": [
    "fp4 = open('cafe.txt', encoding='cp1252')\n",
    "fp4"
   ]
  },
  {
   "cell_type": "code",
   "execution_count": 48,
   "id": "dae39d73-2715-499c-90df-37b6b1a94dbc",
   "metadata": {},
   "outputs": [
    {
     "data": {
      "text/plain": [
       "'cafÃ©'"
      ]
     },
     "execution_count": 48,
     "metadata": {},
     "output_type": "execute_result"
    }
   ],
   "source": [
    "fp4.read()"
   ]
  },
  {
   "cell_type": "code",
   "execution_count": 53,
   "id": "0baedc9b-82f1-4959-a379-ead58f95f97a",
   "metadata": {},
   "outputs": [
    {
     "name": "stdout",
     "output_type": "stream",
     "text": [
      "3.10.15 | packaged by conda-forge | (main, Oct 16 2024, 01:24:20) [Clang 17.0.6 ]\n",
      "\n",
      "sys.stdout.isatty(): False\n",
      "sys.stdout.encoding: UTF-8\n",
      "\n",
      "Trying to output HORIZONTAL ELLIPSIS:\n",
      "…\n",
      "Trying to output INFINITY:\n",
      "∞\n",
      "Trying to output CIRCLED NUMBER FORTY TWO:\n",
      "㊷\n"
     ]
    }
   ],
   "source": [
    "import sys\n",
    "import unicodedata\n",
    "print(sys.version)\n",
    "print()\n",
    "print('sys.stdout.isatty():', sys.stdout.isatty())\n",
    "print('sys.stdout.encoding:', sys.stdout.encoding)\n",
    "print()\n",
    "\n",
    "test_chars = [\n",
    "    '\\N{HORIZONTAL ELLIPSIS}',\n",
    "    '\\N{INFINITY}',\n",
    "    '\\N{CIRCLED NUMBER FORTY TWO}',\n",
    "]\n",
    "\n",
    "for char in test_chars:\n",
    "    print(f'Trying to output {unicodedata.name(char)}:')\n",
    "    print(char)"
   ]
  },
  {
   "cell_type": "code",
   "execution_count": 54,
   "id": "472334cd-6f8d-4071-83e2-25a01c082f0d",
   "metadata": {},
   "outputs": [
    {
     "data": {
      "text/plain": [
       "('café', 'café')"
      ]
     },
     "execution_count": 54,
     "metadata": {},
     "output_type": "execute_result"
    }
   ],
   "source": [
    "s1 = 'café'\n",
    "s2 = 'cafe\\N{COMBINING ACUTE ACCENT}'\n",
    "s1, s2"
   ]
  },
  {
   "cell_type": "code",
   "execution_count": 55,
   "id": "2d21b073-f3a2-44d1-9f3a-ce30efbd7849",
   "metadata": {},
   "outputs": [
    {
     "data": {
      "text/plain": [
       "(4, 5)"
      ]
     },
     "execution_count": 55,
     "metadata": {},
     "output_type": "execute_result"
    }
   ],
   "source": [
    "len(s1), len(s2)"
   ]
  },
  {
   "cell_type": "code",
   "execution_count": 56,
   "id": "46d4f766-b503-406d-9b49-2da9955c8bdd",
   "metadata": {},
   "outputs": [
    {
     "data": {
      "text/plain": [
       "False"
      ]
     },
     "execution_count": 56,
     "metadata": {},
     "output_type": "execute_result"
    }
   ],
   "source": [
    "s1 == s2"
   ]
  },
  {
   "cell_type": "code",
   "execution_count": 57,
   "id": "dddee420-d637-40c6-b567-64818d21bf65",
   "metadata": {},
   "outputs": [
    {
     "data": {
      "text/plain": [
       "(4, 5)"
      ]
     },
     "execution_count": 57,
     "metadata": {},
     "output_type": "execute_result"
    }
   ],
   "source": [
    "# Normalizing (recommended by the W3C)\n",
    "from unicodedata import normalize\n",
    "s1 = 'café'\n",
    "s2 = 'cafe\\N{COMBINING ACUTE ACCENT}'\n",
    "len(s1), len(s2)"
   ]
  },
  {
   "cell_type": "code",
   "execution_count": 58,
   "id": "6b634fa2-cc15-4f64-85c9-9365d1f95c2b",
   "metadata": {},
   "outputs": [
    {
     "data": {
      "text/plain": [
       "(4, 4)"
      ]
     },
     "execution_count": 58,
     "metadata": {},
     "output_type": "execute_result"
    }
   ],
   "source": [
    "len(normalize('NFC', s1)), len(normalize('NFC', s2))"
   ]
  },
  {
   "cell_type": "code",
   "execution_count": 59,
   "id": "d1415216-0134-4b9e-9980-83fe88b309b8",
   "metadata": {},
   "outputs": [
    {
     "data": {
      "text/plain": [
       "(5, 5)"
      ]
     },
     "execution_count": 59,
     "metadata": {},
     "output_type": "execute_result"
    }
   ],
   "source": [
    "len(normalize('NFD', s1)), len(normalize('NFD', s2))"
   ]
  },
  {
   "cell_type": "code",
   "execution_count": 60,
   "id": "d7a4c2e2-6b4a-41ca-81ec-0f7f8fefbb2c",
   "metadata": {},
   "outputs": [
    {
     "data": {
      "text/plain": [
       "True"
      ]
     },
     "execution_count": 60,
     "metadata": {},
     "output_type": "execute_result"
    }
   ],
   "source": [
    "normalize('NFC', s1) == normalize('NFC', s2)"
   ]
  },
  {
   "cell_type": "code",
   "execution_count": 61,
   "id": "6250ed4d-3c8e-4d20-9a04-c91006770da3",
   "metadata": {},
   "outputs": [
    {
     "data": {
      "text/plain": [
       "True"
      ]
     },
     "execution_count": 61,
     "metadata": {},
     "output_type": "execute_result"
    }
   ],
   "source": [
    "normalize('NFD', s1) == normalize('NFD', s2)"
   ]
  },
  {
   "cell_type": "code",
   "execution_count": 69,
   "id": "d39efa2e-250e-4e03-8cbb-da157f26f601",
   "metadata": {},
   "outputs": [
    {
     "data": {
      "text/plain": [
       "'OHM SIGN'"
      ]
     },
     "execution_count": 69,
     "metadata": {},
     "output_type": "execute_result"
    }
   ],
   "source": [
    "# Ω can have many meanings, always good to normalize to avoid surprises\n",
    "ohm = '\\u2126'\n",
    "unicodedata.name(ohm)"
   ]
  },
  {
   "cell_type": "code",
   "execution_count": 70,
   "id": "196ef2e3-eb56-4a8f-8093-d6dff43139a7",
   "metadata": {},
   "outputs": [
    {
     "data": {
      "text/plain": [
       "'GREEK CAPITAL LETTER OMEGA'"
      ]
     },
     "execution_count": 70,
     "metadata": {},
     "output_type": "execute_result"
    }
   ],
   "source": [
    "ohm_c = normalize('NFC', ohm)\n",
    "unicodedata.name(ohm_c)"
   ]
  },
  {
   "cell_type": "code",
   "execution_count": 71,
   "id": "bcf36358-26ce-4e7c-bb71-70759e6a12e1",
   "metadata": {},
   "outputs": [
    {
     "data": {
      "text/plain": [
       "False"
      ]
     },
     "execution_count": 71,
     "metadata": {},
     "output_type": "execute_result"
    }
   ],
   "source": [
    "ohm == ohm_c"
   ]
  },
  {
   "cell_type": "code",
   "execution_count": 72,
   "id": "dbe7e440-a6e0-4269-a3c7-7c70d706ef67",
   "metadata": {},
   "outputs": [
    {
     "data": {
      "text/plain": [
       "True"
      ]
     },
     "execution_count": 72,
     "metadata": {},
     "output_type": "execute_result"
    }
   ],
   "source": [
    "normalize('NFC', ohm) == normalize('NFC', ohm_c)"
   ]
  },
  {
   "cell_type": "code",
   "execution_count": 73,
   "id": "e4b24d1d-4ce8-4560-a1ef-b7f78e458344",
   "metadata": {},
   "outputs": [
    {
     "name": "stdout",
     "output_type": "stream",
     "text": [
      "½\n"
     ]
    }
   ],
   "source": [
    "# stronger forms of normailization affecting the capatibility characters\n",
    "# NFKC, and NFKD causes data loss should only be applied to special cases like search and indexing\n",
    "# not for storage of text.\n",
    "half = '\\N{VULGAR FRACTION ONE HALF}'\n",
    "print(half)"
   ]
  },
  {
   "cell_type": "code",
   "execution_count": 74,
   "id": "362b675c-7280-4349-b03e-fea1c798e74e",
   "metadata": {},
   "outputs": [
    {
     "data": {
      "text/plain": [
       "'1⁄2'"
      ]
     },
     "execution_count": 74,
     "metadata": {},
     "output_type": "execute_result"
    }
   ],
   "source": [
    "normalize('NFKC', half)"
   ]
  },
  {
   "cell_type": "code",
   "execution_count": 75,
   "id": "67962dc8-897b-4b8a-9fe2-022eb469f832",
   "metadata": {},
   "outputs": [
    {
     "name": "stdout",
     "output_type": "stream",
     "text": [
      "1\tDIGIT ONE\n",
      "⁄\tFRACTION SLASH\n",
      "2\tDIGIT TWO\n"
     ]
    }
   ],
   "source": [
    "for char in normalize('NFKC', half):\n",
    "    print(char, unicodedata.name(char), sep='\\t')"
   ]
  },
  {
   "cell_type": "code",
   "execution_count": 77,
   "id": "a9922d1c-c850-4cce-ba47-518229bacd4b",
   "metadata": {},
   "outputs": [
    {
     "data": {
      "text/plain": [
       "'42'"
      ]
     },
     "execution_count": 77,
     "metadata": {},
     "output_type": "execute_result"
    }
   ],
   "source": [
    "four_squared = '4²'\n",
    "normalize('NFKC', four_squared)"
   ]
  },
  {
   "cell_type": "code",
   "execution_count": 90,
   "id": "529bbbbd-4494-4286-899b-cbe54b0650ac",
   "metadata": {},
   "outputs": [
    {
     "data": {
      "text/plain": [
       "('µ', 'μ')"
      ]
     },
     "execution_count": 90,
     "metadata": {},
     "output_type": "execute_result"
    }
   ],
   "source": [
    "mu = 'µ'\n",
    "mu_kc = normalize('NFKC', mu)\n",
    "mu, mu_kc"
   ]
  },
  {
   "cell_type": "code",
   "execution_count": 91,
   "id": "217b9723-9eb3-44fd-8037-80684c8b9ca7",
   "metadata": {},
   "outputs": [
    {
     "data": {
      "text/plain": [
       "(181, 956)"
      ]
     },
     "execution_count": 91,
     "metadata": {},
     "output_type": "execute_result"
    }
   ],
   "source": [
    "ord(mu), ord(mu_kc)"
   ]
  },
  {
   "cell_type": "code",
   "execution_count": 92,
   "id": "e9ee7d41-57b9-4e70-8b93-ea1fb4159f2e",
   "metadata": {},
   "outputs": [
    {
     "data": {
      "text/plain": [
       "('MICRO SIGN', 'GREEK SMALL LETTER MU')"
      ]
     },
     "execution_count": 92,
     "metadata": {},
     "output_type": "execute_result"
    }
   ],
   "source": [
    "unicodedata.name(mu), unicodedata.name(mu_kc)"
   ]
  },
  {
   "cell_type": "code",
   "execution_count": 99,
   "id": "9658aec6-bb1d-4bd3-8619-9904d7317977",
   "metadata": {},
   "outputs": [
    {
     "data": {
      "text/plain": [
       "'MICRO SIGN'"
      ]
     },
     "execution_count": 99,
     "metadata": {},
     "output_type": "execute_result"
    }
   ],
   "source": [
    "micro = 'µ'\n",
    "unicodedata.name(micro)"
   ]
  },
  {
   "cell_type": "code",
   "execution_count": 100,
   "id": "cb2f7a2e-39dd-410c-ac17-edeb680baf5b",
   "metadata": {},
   "outputs": [
    {
     "data": {
      "text/plain": [
       "'GREEK SMALL LETTER MU'"
      ]
     },
     "execution_count": 100,
     "metadata": {},
     "output_type": "execute_result"
    }
   ],
   "source": [
    "micro_cf = micro.casefold()\n",
    "unicodedata.name(micro_cf)"
   ]
  },
  {
   "cell_type": "code",
   "execution_count": 101,
   "id": "cf4db537-d759-4f7d-b3d5-9bac8fb9e072",
   "metadata": {},
   "outputs": [
    {
     "data": {
      "text/plain": [
       "'LATIN SMALL LETTER SHARP S'"
      ]
     },
     "execution_count": 101,
     "metadata": {},
     "output_type": "execute_result"
    }
   ],
   "source": [
    "eszett = 'ß'\n",
    "unicodedata.name(eszett)"
   ]
  },
  {
   "cell_type": "code",
   "execution_count": 102,
   "id": "1512ddda-e9b5-4f46-8733-8e6fd817f5c6",
   "metadata": {},
   "outputs": [
    {
     "data": {
      "text/plain": [
       "('ß', 'ss')"
      ]
     },
     "execution_count": 102,
     "metadata": {},
     "output_type": "execute_result"
    }
   ],
   "source": [
    "eszett_cf = eszett.casefold()\n",
    "eszett, eszett_cf"
   ]
  },
  {
   "cell_type": "code",
   "execution_count": 103,
   "id": "b080a4c7-2255-4411-b6d0-b7660761bafc",
   "metadata": {},
   "outputs": [],
   "source": [
    "# utility functions\n",
    "def nfc_equal(str1, str2):\n",
    "    return normalize('NFC', str1) == normalize('NFC', str2)\n",
    "\n",
    "def fold_equal(str1, str2):\n",
    "    return (normalize('NFC', str1).casefold() == normalize('NFC', str2).casefold())"
   ]
  },
  {
   "cell_type": "code",
   "execution_count": 104,
   "id": "f2d233ca-665f-4d4e-89b1-25ceb0156a10",
   "metadata": {},
   "outputs": [],
   "source": [
    "# One of Google's search secrets is ignoring diacritics (accents, cedillas etc)\n",
    "# it is not a proper form of normalization, they come and go in languages and people\n",
    "# are just lazy it also makes URLs readbale:  São Paulo (https://en.wikipedia.org/wiki/S%C3%A3o_Paulo)\n",
    "import string\n",
    "\n",
    "def shave_marks(txt):\n",
    "    \"\"\"Remove all diacritic marks\"\"\"\n",
    "    norm_txt = unicodedata.normalize('NFD', txt)\n",
    "    shaved = ''.join(c for c in norm_txt\n",
    "                     if not unicodedata.combining(c))\n",
    "    return unicodedata.normalize('NFC', shaved)"
   ]
  },
  {
   "cell_type": "code",
   "execution_count": 105,
   "id": "e6de7bf4-b80c-4470-83cb-8ca8732710c9",
   "metadata": {},
   "outputs": [
    {
     "data": {
      "text/plain": [
       "'“Herr Voß: • ½ cup of Œtker™ caffe latte • bowl of acai.”'"
      ]
     },
     "execution_count": 105,
     "metadata": {},
     "output_type": "execute_result"
    }
   ],
   "source": [
    "order = '“Herr Voß: • ½ cup of Œtker™ caffè latte • bowl of açaí.”'\n",
    "shave_marks(order)"
   ]
  },
  {
   "cell_type": "code",
   "execution_count": 106,
   "id": "561770d2-07dd-4bd6-8a7c-3149f01c8286",
   "metadata": {},
   "outputs": [
    {
     "data": {
      "text/plain": [
       "'Ζεφυρος, Zefiro'"
      ]
     },
     "execution_count": 106,
     "metadata": {},
     "output_type": "execute_result"
    }
   ],
   "source": [
    "Greek = 'Ζέφυρος, Zéfiro'\n",
    "shave_marks(Greek)"
   ]
  },
  {
   "cell_type": "code",
   "execution_count": 113,
   "id": "628b79fb-f1d9-4fc9-ae8a-64fe7e4e87e0",
   "metadata": {},
   "outputs": [],
   "source": [
    "# `shave_marks` also changes non-Latin characters (greek) which never becomes ASCII just by losing their accents\n",
    "# we need to analyze each base character:\n",
    "def shave_marks_latin(txt):\n",
    "    \"\"\"Remove all diacritic marks from Latin base characters\"\"\"\n",
    "    norm_txt = unicodedata.normalize('NFD', txt)\n",
    "    latin_base = False\n",
    "    preserve = []\n",
    "    for c in norm_txt:\n",
    "        if unicodedata.combining(c) and latin_base:\n",
    "            continue # ignore diacritic on latin base char\n",
    "        preserve.append(c)\n",
    "        # not combining char, its a new base char\n",
    "        if not unicodedata.combining(c):\n",
    "            latin_base = c in string.ascii_letters\n",
    "    shaved = ''.join(preserve)\n",
    "    return unicodedata.normalize('NFC', shaved)"
   ]
  },
  {
   "cell_type": "code",
   "execution_count": 114,
   "id": "ee060ae4-d1ef-4e08-94e3-5b2c23523109",
   "metadata": {},
   "outputs": [],
   "source": [
    "# Western typographical symbols into ASCII\n",
    "# mapping table for char-to-char replacement\n",
    "single_map = str.maketrans(\"\"\"‚ƒ„ˆ‹‘’“”•–—˜›\"\"\", \"\"\"'f\"^<''\"\"---~>\"\"\")\n",
    "# mapping table for char-to-string replacement\n",
    "multi_map = str.maketrans({\n",
    "    '€': 'EUR',\n",
    "    '…': '...',\n",
    "    'Æ': 'AE',\n",
    "    'æ': 'ae',\n",
    "    'Œ': 'OE',\n",
    "    'œ': 'oe',\n",
    "    '™': '(TM)',\n",
    "    '‰': '<per mille>',\n",
    "    '†': '**',\n",
    "    '‡': '***',\n",
    "})\n",
    "# merge mapping tables\n",
    "multi_map.update(single_map)\n",
    "# `dewinize` does not affect ASCII or latin1 only microsoft additions\n",
    "def dewinize(txt):\n",
    "    \"\"\"Win1252 symbols with ASCII\"\"\"\n",
    "    return txt.translate(multi_map)\n",
    "\n",
    "def asciize(txt):\n",
    "    no_marks = shave_marks_latin(dewinize(txt))\n",
    "    no_marks = no_marks.replace('ß', 'ss')\n",
    "    return unicodedata.normalize('NFKC', no_marks)"
   ]
  },
  {
   "cell_type": "code",
   "execution_count": 115,
   "id": "43f6bb73-1383-434d-98b5-ddd568543ef8",
   "metadata": {},
   "outputs": [
    {
     "data": {
      "text/plain": [
       "'\"Herr Voß: - ½ cup of OEtker(TM) caffè latte - bowl of açaí.\"'"
      ]
     },
     "execution_count": 115,
     "metadata": {},
     "output_type": "execute_result"
    }
   ],
   "source": [
    "order = '“Herr Voß: • ½ cup of Œtker™ caffè latte • bowl of açaí.”'\n",
    "dewinize(order)"
   ]
  },
  {
   "cell_type": "code",
   "execution_count": 116,
   "id": "448eadf3-f317-4e6e-b503-57a43bc97b73",
   "metadata": {},
   "outputs": [
    {
     "data": {
      "text/plain": [
       "'\"Herr Voss: - 1⁄2 cup of OEtker(TM) caffe latte - bowl of acai.\"'"
      ]
     },
     "execution_count": 116,
     "metadata": {},
     "output_type": "execute_result"
    }
   ],
   "source": [
    "asciize(order)"
   ]
  },
  {
   "cell_type": "code",
   "execution_count": 117,
   "id": "3658a919-eb52-49e5-99bd-69b12fb06cd7",
   "metadata": {},
   "outputs": [],
   "source": [
    "# depending on the written language the rules may vary for removing diacritics"
   ]
  },
  {
   "cell_type": "code",
   "execution_count": 118,
   "id": "5a49a930-9ff3-4a66-8168-2f66a6be0c9e",
   "metadata": {},
   "outputs": [
    {
     "data": {
      "text/plain": [
       "['acerola', 'atemoia', 'açaí', 'caju', 'cajá']"
      ]
     },
     "execution_count": 118,
     "metadata": {},
     "output_type": "execute_result"
    }
   ],
   "source": [
    "fruits = ['caju', 'atemoia', 'cajá', 'açaí', 'acerola']\n",
    "sorted(fruits)"
   ]
  },
  {
   "cell_type": "code",
   "execution_count": 119,
   "id": "86e2dfcb-e4ee-41ab-9267-91278c17d227",
   "metadata": {},
   "outputs": [],
   "source": [
    "# sorting rules also vary for different locales, the word with a diacritic is sorted after the plain word.\n",
    "# in this case the list should be sorted as: ['açaí', 'acerola', 'atemoia', 'cajá', 'caju']"
   ]
  },
  {
   "cell_type": "code",
   "execution_count": 120,
   "id": "749d845a-b175-48c1-a972-4ab6a819e4ad",
   "metadata": {},
   "outputs": [
    {
     "name": "stdout",
     "output_type": "stream",
     "text": [
      "pt_BR.UTF-8\n"
     ]
    }
   ],
   "source": [
    "# all setlocale(LC_COLLATE, your_locale) before using locale.strxfrm as the key when sorting.\n",
    "# OS has to support it.\n",
    "import locale\n",
    "my_locale = locale.setlocale(locale.LC_COLLATE, 'pt_BR.UTF-8')\n",
    "print(my_locale)"
   ]
  },
  {
   "cell_type": "code",
   "execution_count": 121,
   "id": "608593df-6dbe-49ee-a72e-4233f68e3dea",
   "metadata": {},
   "outputs": [
    {
     "name": "stdout",
     "output_type": "stream",
     "text": [
      "['açaí', 'acerola', 'atemoia', 'cajá', 'caju']\n"
     ]
    }
   ],
   "source": [
    "fruits = ['caju', 'atemoia', 'cajá', 'açaí', 'acerola']\n",
    "sorted_fruits = sorted(fruits, key=locale.strxfrm)\n",
    "print(sorted_fruits) # works for me on macOS v15.1"
   ]
  },
  {
   "cell_type": "code",
   "execution_count": 123,
   "id": "c6e7f9e7-8eb6-45b8-b422-2297f9526c2f",
   "metadata": {},
   "outputs": [
    {
     "data": {
      "text/plain": [
       "['açaí', 'acerola', 'atemoia', 'cajá', 'caju']"
      ]
     },
     "execution_count": 123,
     "metadata": {},
     "output_type": "execute_result"
    }
   ],
   "source": [
    "# pyuca is just python, but may not respect some languages, might want to look into PyICU\n",
    "import pyuca\n",
    "coll = pyuca.Collator()\n",
    "fruits = ['caju', 'atemoia', 'cajá', 'açaí', 'acerola']\n",
    "sorted_fruits = sorted(fruits, key=coll.sort_key)\n",
    "sorted_fruits # in case the sorted didn't work above"
   ]
  },
  {
   "cell_type": "code",
   "execution_count": 125,
   "id": "41a3873e-7e2c-47bd-8a80-f73f15c6f3c7",
   "metadata": {},
   "outputs": [
    {
     "data": {
      "text/plain": [
       "'MOBILE PHONE'"
      ]
     },
     "execution_count": 125,
     "metadata": {},
     "output_type": "execute_result"
    }
   ],
   "source": [
    "# can be used in apps to search emojis\n",
    "unicodedata.name('📱')"
   ]
  },
  {
   "cell_type": "code",
   "execution_count": 126,
   "id": "d5892484-54fa-4736-b187-362a10abeb1a",
   "metadata": {},
   "outputs": [
    {
     "data": {
      "text/plain": [
       "'PERSONAL COMPUTER'"
      ]
     },
     "execution_count": 126,
     "metadata": {},
     "output_type": "execute_result"
    }
   ],
   "source": [
    "unicodedata.name('💻')"
   ]
  },
  {
   "cell_type": "code",
   "execution_count": 127,
   "id": "5febd2da-6487-4cec-9c1a-0ffad38adb32",
   "metadata": {},
   "outputs": [],
   "source": [
    "START, END = ord(' '), sys.maxunicode + 1\n",
    "\n",
    "def find(*query_words, start=START, end=END):\n",
    "    query = {w.upper() for w in query_words}\n",
    "    for code in range(start, end):\n",
    "        char = chr(code)\n",
    "        name = unicodedata.name(char, None)\n",
    "        if name and query.issubset(name.split()):\n",
    "            print(f'U+{code:04X}\\t{char}\\t{name}')\n",
    "\n",
    "def main(words):\n",
    "    if words:\n",
    "        find(*words)\n",
    "    else:\n",
    "        print('Please provide words to find')\n",
    "\n",
    "if __name__ == '__main__':\n",
    "    main(sys.argv[1:])"
   ]
  },
  {
   "cell_type": "code",
   "execution_count": 128,
   "id": "58d4deb2-305c-43e6-a9e5-6209c0720996",
   "metadata": {},
   "outputs": [
    {
     "name": "stdout",
     "output_type": "stream",
     "text": [
      "Text\n",
      " 'Ramanujan saw ௧௭௨௯ as 1729 = 1³ + 12³ = 9³ + 10³.'\n",
      "Numbers\n",
      "  str  : ['௧௭௨௯', '1729', '1', '12', '9', '10']\n",
      "  bytes: [b'1729', b'1', b'12', b'9', b'10']\n",
      "Words\n",
      "  str  : ['Ramanujan', 'saw', '௧௭௨௯', 'as', '1729', '1³', '12³', '9³', '10³']\n",
      "  bytes: [b'Ramanujan', b'saw', b'as', b'1729', b'1', b'12', b'9', b'10']\n"
     ]
    }
   ],
   "source": [
    "import re\n",
    "\n",
    "re_numbers_str = re.compile(r'\\d+')\n",
    "re_words_str = re.compile(r'\\w+')\n",
    "re_numbers_bytes = re.compile(rb'\\d+')\n",
    "re_words_bytes = re.compile(rb'\\w+')\n",
    "\n",
    "text_str = (\"Ramanujan saw \\u0be7\\u0bed\\u0be8\\u0bef\"\" as 1729 = 1³ + 12³ = 9³ + 10³.\")\n",
    "text_bytes = text_str.encode('utf_8')\n",
    "\n",
    "print(f'Text\\n {text_str!r}')\n",
    "print('Numbers')\n",
    "print('  str  :', re_numbers_str.findall(text_str))\n",
    "print('  bytes:', re_numbers_bytes.findall(text_bytes))\n",
    "print('Words')\n",
    "print('  str  :', re_words_str.findall(text_str))\n",
    "print('  bytes:', re_words_bytes.findall(text_bytes))"
   ]
  },
  {
   "cell_type": "code",
   "execution_count": 129,
   "id": "5fde5026-f4a3-4e5e-8226-20c54cbffd8f",
   "metadata": {},
   "outputs": [],
   "source": [
    "# (╯°□°)╯︵ ┻━┻ "
   ]
  },
  {
   "cell_type": "code",
   "execution_count": null,
   "id": "8a7cf7a0-707f-4c97-82e6-a526faed36b9",
   "metadata": {},
   "outputs": [],
   "source": []
  }
 ],
 "metadata": {
  "kernelspec": {
   "display_name": "Python 3 (ipykernel)",
   "language": "python",
   "name": "python3"
  },
  "language_info": {
   "codemirror_mode": {
    "name": "ipython",
    "version": 3
   },
   "file_extension": ".py",
   "mimetype": "text/x-python",
   "name": "python",
   "nbconvert_exporter": "python",
   "pygments_lexer": "ipython3",
   "version": "3.10.15"
  }
 },
 "nbformat": 4,
 "nbformat_minor": 5
}
